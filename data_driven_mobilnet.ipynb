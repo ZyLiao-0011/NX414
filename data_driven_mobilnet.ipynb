{
  "cells": [
    {
      "cell_type": "markdown",
      "metadata": {
        "id": "view-in-github",
        "colab_type": "text"
      },
      "source": [
        "<a href=\"https://colab.research.google.com/github/ZyLiao-0011/NX414/blob/main/data_driven_mobilnet.ipynb\" target=\"_parent\"><img src=\"https://colab.research.google.com/assets/colab-badge.svg\" alt=\"Open In Colab\"/></a>"
      ]
    },
    {
      "cell_type": "code",
      "execution_count": 2,
      "id": "f38899ec",
      "metadata": {
        "id": "f38899ec"
      },
      "outputs": [],
      "source": [
        "import torch\n",
        "import torch.nn as nn\n",
        "import torch.nn.functional as F\n",
        "from torch.nn import init\n",
        "from torch.nn import Parameter\n",
        "from torch.utils.data import DataLoader, Dataset\n",
        "from torch.optim import AdamW\n",
        "\n",
        "from tqdm import tqdm\n",
        "import numpy as np\n",
        "import pandas as pd\n",
        "import h5py\n",
        "import os\n",
        "device = torch.device(\"cuda\" if torch.cuda.is_available() else \"cpu\")"
      ]
    },
    {
      "cell_type": "code",
      "source": [
        "from google.colab import drive\n",
        "drive.mount('/content/drive')"
      ],
      "metadata": {
        "colab": {
          "base_uri": "https://localhost:8080/"
        },
        "id": "nK6EXYVg7zQ3",
        "outputId": "842873c0-99cd-41cf-a0f7-818487a8f55d"
      },
      "id": "nK6EXYVg7zQ3",
      "execution_count": 3,
      "outputs": [
        {
          "output_type": "stream",
          "name": "stdout",
          "text": [
            "Mounted at /content/drive\n"
          ]
        }
      ]
    },
    {
      "cell_type": "code",
      "execution_count": 5,
      "id": "f3421a7c",
      "metadata": {
        "id": "f3421a7c"
      },
      "outputs": [],
      "source": [
        "import sys\n",
        "sys.path.append('/content/drive/MyDrive/nx414')\n",
        "from utils import load_it_data, visualize_img"
      ]
    },
    {
      "cell_type": "code",
      "source": [
        "path_to_data = '/content/drive/MyDrive/nx414' ## Insert the folder where the data is, if you download in the same folder as this notebook then leave it blank\n",
        "\n",
        "stimulus_train, stimulus_val, stimulus_test, objects_train, objects_val, objects_test, spikes_train, spikes_val = load_it_data(path_to_data)"
      ],
      "metadata": {
        "id": "DtFyx_LX84i0"
      },
      "id": "DtFyx_LX84i0",
      "execution_count": 6,
      "outputs": []
    },
    {
      "cell_type": "code",
      "execution_count": 7,
      "id": "562024cc",
      "metadata": {
        "id": "562024cc"
      },
      "outputs": [],
      "source": [
        "class SpikeData(Dataset):\n",
        "    def __init__(self,stimulus,spike = None):\n",
        "        self.stimulus = torch.tensor(stimulus)\n",
        "\n",
        "        if spike is not None:\n",
        "          self.spike = torch.tensor(spike)\n",
        "          self.num_neuron = self.spike.shape[1]\n",
        "        else:\n",
        "          self.spike = None\n",
        "          self.num_neuron = None\n",
        "\n",
        "    def __len__(self):\n",
        "        return len(self.stimulus)\n",
        "\n",
        "    def __getitem__(self, idx):\n",
        "        if self.spike is not None:\n",
        "            return self.stimulus[idx], self.spike[idx]\n",
        "        else:\n",
        "            return self.stimulus[idx]"
      ]
    },
    {
      "cell_type": "code",
      "execution_count": 8,
      "id": "7befa986",
      "metadata": {
        "id": "7befa986"
      },
      "outputs": [],
      "source": [
        "ITdataloader_train = DataLoader(SpikeData(stimulus_train, spikes_train), batch_size=64, shuffle=True)\n",
        "ITdataloader_val = DataLoader(SpikeData(stimulus_val, spikes_val), batch_size=64, shuffle=False)\n",
        "ITdataloader_test = DataLoader(SpikeData(stimulus_test,spike = None), batch_size=64, shuffle=False)"
      ]
    },
    {
      "cell_type": "code",
      "source": [
        "class ShallowCNN(nn.Module):\n",
        "    def __init__(self,num_neuron):\n",
        "        super(ShallowCNN, self).__init__()\n",
        "\n",
        "        # Conv block 1\n",
        "        self.convblock1 = nn.Sequential(nn.Conv2d(3, 16, kernel_size=3, stride=1, padding=1),\n",
        "                                        nn.BatchNorm2d(16),\n",
        "                                        nn.ReLU6(),\n",
        "                                        nn.MaxPool2d(kernel_size=2))\n",
        "\n",
        "        # Conv block 2\n",
        "        self.convblock2 = nn.Sequential(nn.Conv2d(16, 32, kernel_size=3, stride=1, padding=1),\n",
        "                                        nn.BatchNorm2d(32),\n",
        "                                        nn.ReLU6(),\n",
        "                                        nn.MaxPool2d(kernel_size=2))\n",
        "\n",
        "        # Conv block 3\n",
        "        self.convblock3 = nn.Sequential(nn.Conv2d(32, 64, kernel_size=3, stride=1, padding=1),\n",
        "                                        nn.BatchNorm2d(64),\n",
        "                                        nn.ReLU6(),\n",
        "                                        nn.MaxPool2d(kernel_size=2))\n",
        "\n",
        "        # Adaptive flatten to work for 224x224 input images\n",
        "        self.flatten = nn.Flatten()\n",
        "\n",
        "        # Calculate the size of the feature map after conv blocks\n",
        "        # For 224x224 input -> 112 -> 56 -> 28 after 3 maxpools\n",
        "        conv_output_size = 64 * (224 // 8) * (224 // 8)  # 64 channels, 28x28 feature map\n",
        "\n",
        "        self.fc1 = nn.Linear(conv_output_size, 64)\n",
        "        self.dropout = nn.Dropout(0.5)\n",
        "        self.fc2 = nn.Linear(64, num_neuron)  # Output = num_neuron = 168\n",
        "\n",
        "\n",
        "    def forward(self, x):\n",
        "        x = self.convblock1(x)\n",
        "        x = self.convblock2(x)\n",
        "        x = self.convblock3(x)\n",
        "        x = self.flatten(x)\n",
        "        x = self.fc1(x)\n",
        "        x = self.dropout(x)\n",
        "        x = self.fc2(x)\n",
        "        return x\n",
        "\n",
        "    @staticmethod # defines that the following function does not take self as input\n",
        "    @torch.no_grad() # ensures that following function runs without tracking gradients\n",
        "    # making the initialisation faster and more memory-efficient. The parameters remain trainable.\n",
        "    def init_weights(module):\n",
        "        # YOUR CODE HERE\n",
        "        # raise NotImplementedError()\n",
        "\n",
        "        # He initialization\n",
        "        # Conv2d layers\n",
        "        if isinstance(module, nn.Conv2d):\n",
        "            nn.init.kaiming_normal_(module.weight, mode='fan_out', nonlinearity='relu')\n",
        "            if module.bias is not None:\n",
        "                nn.init.zeros_(module.bias)\n",
        "        # Linear layers\n",
        "        elif isinstance(module, nn.Linear):\n",
        "            nn.init.kaiming_normal_(module.weight, mode='fan_out', nonlinearity='relu')\n",
        "            nn.init.zeros_(module.bias)\n",
        "\n",
        "        # Initialize BatchNorm weights to 1 and bias to 0\n",
        "        elif isinstance(module, nn.BatchNorm2d):\n",
        "            nn.init.ones_(module.weight)\n",
        "            nn.init.zeros_(module.bias)"
      ],
      "metadata": {
        "id": "ECrruTjkiYPT"
      },
      "id": "ECrruTjkiYPT",
      "execution_count": null,
      "outputs": []
    },
    {
      "cell_type": "code",
      "source": [
        "class ShallowCNN2(nn.Module):\n",
        "    def __init__(self,num_neuron):\n",
        "        super(ShallowCNN2, self).__init__()\n",
        "\n",
        "        # Conv block 1\n",
        "        self.convblock1 = nn.Sequential(nn.Conv2d(3, 16, kernel_size=3, stride=1, padding=1),\n",
        "                                        nn.BatchNorm2d(16),\n",
        "                                        nn.ReLU6(),\n",
        "                                        nn.MaxPool2d(kernel_size=2))\n",
        "\n",
        "        # Conv block 2\n",
        "        self.convblock2 = nn.Sequential(nn.Conv2d(16, 32, kernel_size=3, stride=1, padding=1),\n",
        "                                        nn.BatchNorm2d(32),\n",
        "                                        nn.ReLU6(),\n",
        "                                        nn.MaxPool2d(kernel_size=2))\n",
        "\n",
        "        # Conv block 3\n",
        "        self.convblock3 = nn.Sequential(nn.Conv2d(32, 64, kernel_size=3, stride=1, padding=1),\n",
        "                                        nn.BatchNorm2d(64),\n",
        "                                        nn.ReLU6(),\n",
        "                                        nn.MaxPool2d(kernel_size=2))\n",
        "\n",
        "        self.convblock4 = nn.Sequential(nn.Conv2d(64, 128, kernel_size=3, stride=1, padding=1),\n",
        "                                        nn.BatchNorm2d(128),\n",
        "                                        nn.ReLU6(),\n",
        "                                        nn.MaxPool2d(kernel_size=2))\n",
        "\n",
        "        # Adaptive flatten to work for 224x224 input images\n",
        "        self.flatten = nn.Flatten()\n",
        "\n",
        "        # Calculate the size of the feature map after conv blocks\n",
        "        # For 224x224 input -> 112 -> 56 -> 28 after 3 maxpools\n",
        "        conv_output_size = 128 * (224 // 16) * (224 // 16)  # 64 channels, 28x28 feature map\n",
        "\n",
        "        self.fc1 = nn.Linear(conv_output_size, 128)\n",
        "        self.dropout = nn.Dropout(0.5)\n",
        "        self.fc2 = nn.Linear(128, num_neuron)  # Output = num_neuron = 168\n",
        "\n",
        "\n",
        "    def forward(self, x):\n",
        "        x = self.convblock1(x)\n",
        "        x = self.convblock2(x)\n",
        "        x = self.convblock3(x)\n",
        "        x = self.convblock4(x)\n",
        "        x = self.flatten(x)\n",
        "        x = self.fc1(x)\n",
        "        x = self.dropout(x)\n",
        "        x = self.fc2(x)\n",
        "        return x\n",
        "\n",
        "    @staticmethod # defines that the following function does not take self as input\n",
        "    @torch.no_grad() # ensures that following function runs without tracking gradients\n",
        "    # making the initialisation faster and more memory-efficient. The parameters remain trainable.\n",
        "    def init_weights(module):\n",
        "        # YOUR CODE HERE\n",
        "        # raise NotImplementedError()\n",
        "\n",
        "        # He initialization\n",
        "        # Conv2d layers\n",
        "        if isinstance(module, nn.Conv2d):\n",
        "            nn.init.kaiming_normal_(module.weight, mode='fan_out', nonlinearity='relu')\n",
        "            if module.bias is not None:\n",
        "                nn.init.zeros_(module.bias)\n",
        "        # Linear layers\n",
        "        elif isinstance(module, nn.Linear):\n",
        "            nn.init.kaiming_normal_(module.weight, mode='fan_out', nonlinearity='relu')\n",
        "            nn.init.zeros_(module.bias)\n",
        "\n",
        "        # Initialize BatchNorm weights to 1 and bias to 0\n",
        "        elif isinstance(module, nn.BatchNorm2d):\n",
        "            nn.init.ones_(module.weight)\n",
        "            nn.init.zeros_(module.bias)"
      ],
      "metadata": {
        "id": "NE6zTfh-9B0w"
      },
      "id": "NE6zTfh-9B0w",
      "execution_count": null,
      "outputs": []
    },
    {
      "cell_type": "code",
      "source": [
        "class MobilnetStudent(nn.Module):\n",
        "    def __init__(self, num_neuron):\n",
        "        super(MobilnetStudent, self).__init__()\n",
        "        self.model = nn.Sequential(\n",
        "            # Initial Convolutional Block 1\n",
        "            nn.Conv2d(3, 8, kernel_size=3, stride=2, padding=1, bias=False),  # Downsample early\n",
        "            nn.BatchNorm2d(8),\n",
        "            nn.ReLU6(inplace=True),\n",
        "\n",
        "            # Convolutional Block 2\n",
        "            nn.Conv2d(8, 16, kernel_size=3, stride=2, padding=1, bias=False),\n",
        "            nn.BatchNorm2d(16),\n",
        "            nn.ReLU6(inplace=True),\n",
        "\n",
        "            # Convolutional Block 3\n",
        "            nn.Conv2d(16, 24, kernel_size=1, stride=1, bias=False),\n",
        "            nn.BatchNorm2d(24),\n",
        "\n",
        "            # Inverted Residual Block (lightweight)\n",
        "            nn.Conv2d(24, 48, kernel_size=1, bias=False),\n",
        "            nn.BatchNorm2d(48),\n",
        "            nn.ReLU6(inplace=True),\n",
        "            nn.Conv2d(48, 48, kernel_size=3, stride=1, padding=1, groups=48, bias=False),\n",
        "            nn.BatchNorm2d(48),\n",
        "            nn.ReLU6(inplace=True),\n",
        "            nn.Conv2d(48, 24, kernel_size=1, bias=False),\n",
        "            nn.BatchNorm2d(24),\n",
        "\n",
        "            # Downsampling block\n",
        "            nn.Conv2d(24, 32, kernel_size=3, stride=2, padding=1, bias=False),\n",
        "            nn.BatchNorm2d(32),\n",
        "            nn.ReLU6(inplace=True),\n",
        "\n",
        "            # Final Block\n",
        "            nn.Conv2d(32, 32, kernel_size=1, bias=False),\n",
        "            nn.BatchNorm2d(32),\n",
        "            nn.ReLU6(inplace=True),\n",
        "\n",
        "            nn.AdaptiveAvgPool2d((1, 1)),\n",
        "            nn.Dropout(0.2),\n",
        "            nn.Flatten(),\n",
        "            nn.Linear(32 * 1 * 1, num_neuron)\n",
        "        )\n",
        "\n",
        "    def forward(self, x):\n",
        "        out = self.model(x)\n",
        "        return out\n",
        "\n",
        "    @staticmethod # defines that the following function does not take self as input\n",
        "    @torch.no_grad() # ensures that following function runs without tracking gradients\n",
        "    # making the initialisation faster and more memory-efficient. The parameters remain trainable.\n",
        "    def init_weights(module):\n",
        "        # YOUR CODE HERE\n",
        "        # raise NotImplementedError()\n",
        "\n",
        "        # He initialization\n",
        "        # Conv2d layers\n",
        "        if isinstance(module, nn.Conv2d):\n",
        "            nn.init.kaiming_normal_(module.weight, mode='fan_out', nonlinearity='relu')\n",
        "            if module.bias is not None:\n",
        "                nn.init.zeros_(module.bias)\n",
        "        # Linear layers\n",
        "        elif isinstance(module, nn.Linear):\n",
        "            nn.init.kaiming_normal_(module.weight, mode='fan_out', nonlinearity='relu')\n",
        "            nn.init.zeros_(module.bias)\n",
        "\n",
        "        # Initialize BatchNorm weights to 1 and bias to 0\n",
        "        elif isinstance(module, nn.BatchNorm2d):\n",
        "            nn.init.ones_(module.weight)\n",
        "            nn.init.zeros_(module.bias)"
      ],
      "metadata": {
        "id": "DQUrOvvoPU1Y"
      },
      "id": "DQUrOvvoPU1Y",
      "execution_count": 9,
      "outputs": []
    },
    {
      "cell_type": "code",
      "source": [
        "import copy\n",
        "\n",
        "def train_model(model, train_loader, val_loader, criterion, optimizer, num_epochs=2, scheduler=None):\n",
        "    best_model_wts = copy.deepcopy(model.state_dict())\n",
        "    best_val_loss = float(\"inf\")\n",
        "\n",
        "    for epoch in range(num_epochs):\n",
        "        model.train()\n",
        "        running_loss = 0.0\n",
        "\n",
        "        with tqdm(total=len(train_loader), desc=f\"Epoch {epoch+1}/{num_epochs}\") as pbar:\n",
        "            for stimulus, spikes in train_loader:\n",
        "                stimulus, spikes = stimulus.to(device), spikes.to(device)\n",
        "                optimizer.zero_grad()\n",
        "\n",
        "                outputs = model(stimulus)\n",
        "                loss = criterion(outputs, spikes)\n",
        "                loss.backward()\n",
        "                optimizer.step()\n",
        "\n",
        "                running_loss += loss.item()\n",
        "                pbar.set_postfix(loss=running_loss / (pbar.n + 1))\n",
        "                pbar.update(1)\n",
        "\n",
        "        print(f\"Epoch [{epoch+1}/{num_epochs}], Train Loss: {running_loss/len(train_loader):.4f}\")\n",
        "\n",
        "        # Validation\n",
        "        model.eval()\n",
        "        val_loss = 0.0\n",
        "        with torch.no_grad():\n",
        "            for stimulus, labels in val_loader:\n",
        "                stimulus, labels = stimulus.to(device), labels.to(device)\n",
        "                outputs = model(stimulus)\n",
        "                loss = criterion(outputs, labels)\n",
        "                val_loss += loss.item()\n",
        "\n",
        "        val_loss /= len(val_loader)\n",
        "        print(f\"Validation Loss: {val_loss:.4f}\")\n",
        "\n",
        "        if val_loss < best_val_loss:\n",
        "            best_val_loss = val_loss\n",
        "            best_model_wts = copy.deepcopy(model.state_dict())\n",
        "\n",
        "        if scheduler:\n",
        "            scheduler.step(val_loss)\n",
        "\n",
        "        torch.cuda.empty_cache()\n",
        "\n",
        "    model.load_state_dict(best_model_wts)\n",
        "\n",
        "    return model"
      ],
      "metadata": {
        "id": "Au7Ki_NIACFX"
      },
      "id": "Au7Ki_NIACFX",
      "execution_count": 11,
      "outputs": []
    },
    {
      "cell_type": "code",
      "execution_count": 20,
      "id": "63c0c5ad",
      "metadata": {
        "colab": {
          "base_uri": "https://localhost:8080/"
        },
        "id": "63c0c5ad",
        "outputId": "7bb5661d-4a38-47f2-e982-cb80c316765e"
      },
      "outputs": [
        {
          "output_type": "stream",
          "name": "stderr",
          "text": [
            "Epoch 1/200: 100%|██████████| 41/41 [00:01<00:00, 30.41it/s, loss=0.143]\n"
          ]
        },
        {
          "output_type": "stream",
          "name": "stdout",
          "text": [
            "Epoch [1/200], Train Loss: 0.1426\n",
            "Validation Loss: 0.1394\n"
          ]
        },
        {
          "output_type": "stream",
          "name": "stderr",
          "text": [
            "Epoch 2/200: 100%|██████████| 41/41 [00:01<00:00, 32.02it/s, loss=0.134]\n"
          ]
        },
        {
          "output_type": "stream",
          "name": "stdout",
          "text": [
            "Epoch [2/200], Train Loss: 0.1342\n",
            "Validation Loss: 0.1440\n"
          ]
        },
        {
          "output_type": "stream",
          "name": "stderr",
          "text": [
            "Epoch 3/200: 100%|██████████| 41/41 [00:01<00:00, 31.56it/s, loss=0.132]\n"
          ]
        },
        {
          "output_type": "stream",
          "name": "stdout",
          "text": [
            "Epoch [3/200], Train Loss: 0.1316\n",
            "Validation Loss: 0.1349\n"
          ]
        },
        {
          "output_type": "stream",
          "name": "stderr",
          "text": [
            "Epoch 4/200: 100%|██████████| 41/41 [00:01<00:00, 31.28it/s, loss=0.129]\n"
          ]
        },
        {
          "output_type": "stream",
          "name": "stdout",
          "text": [
            "Epoch [4/200], Train Loss: 0.1290\n",
            "Validation Loss: 0.2303\n"
          ]
        },
        {
          "output_type": "stream",
          "name": "stderr",
          "text": [
            "Epoch 5/200: 100%|██████████| 41/41 [00:01<00:00, 31.52it/s, loss=0.128]\n"
          ]
        },
        {
          "output_type": "stream",
          "name": "stdout",
          "text": [
            "Epoch [5/200], Train Loss: 0.1280\n",
            "Validation Loss: 0.1331\n"
          ]
        },
        {
          "output_type": "stream",
          "name": "stderr",
          "text": [
            "Epoch 6/200: 100%|██████████| 41/41 [00:01<00:00, 31.68it/s, loss=0.126]\n"
          ]
        },
        {
          "output_type": "stream",
          "name": "stdout",
          "text": [
            "Epoch [6/200], Train Loss: 0.1265\n",
            "Validation Loss: 0.1313\n"
          ]
        },
        {
          "output_type": "stream",
          "name": "stderr",
          "text": [
            "Epoch 7/200: 100%|██████████| 41/41 [00:01<00:00, 31.72it/s, loss=0.125]\n"
          ]
        },
        {
          "output_type": "stream",
          "name": "stdout",
          "text": [
            "Epoch [7/200], Train Loss: 0.1251\n",
            "Validation Loss: 0.1341\n"
          ]
        },
        {
          "output_type": "stream",
          "name": "stderr",
          "text": [
            "Epoch 8/200: 100%|██████████| 41/41 [00:01<00:00, 31.98it/s, loss=0.124]\n"
          ]
        },
        {
          "output_type": "stream",
          "name": "stdout",
          "text": [
            "Epoch [8/200], Train Loss: 0.1240\n",
            "Validation Loss: 0.1298\n"
          ]
        },
        {
          "output_type": "stream",
          "name": "stderr",
          "text": [
            "Epoch 9/200: 100%|██████████| 41/41 [00:01<00:00, 31.34it/s, loss=0.123]\n"
          ]
        },
        {
          "output_type": "stream",
          "name": "stdout",
          "text": [
            "Epoch [9/200], Train Loss: 0.1229\n",
            "Validation Loss: 0.1418\n"
          ]
        },
        {
          "output_type": "stream",
          "name": "stderr",
          "text": [
            "Epoch 10/200: 100%|██████████| 41/41 [00:01<00:00, 31.17it/s, loss=0.122]\n"
          ]
        },
        {
          "output_type": "stream",
          "name": "stdout",
          "text": [
            "Epoch [10/200], Train Loss: 0.1217\n",
            "Validation Loss: 0.1237\n"
          ]
        },
        {
          "output_type": "stream",
          "name": "stderr",
          "text": [
            "Epoch 11/200: 100%|██████████| 41/41 [00:01<00:00, 31.38it/s, loss=0.12]\n"
          ]
        },
        {
          "output_type": "stream",
          "name": "stdout",
          "text": [
            "Epoch [11/200], Train Loss: 0.1198\n",
            "Validation Loss: 0.1251\n"
          ]
        },
        {
          "output_type": "stream",
          "name": "stderr",
          "text": [
            "Epoch 12/200: 100%|██████████| 41/41 [00:01<00:00, 31.31it/s, loss=0.119]\n"
          ]
        },
        {
          "output_type": "stream",
          "name": "stdout",
          "text": [
            "Epoch [12/200], Train Loss: 0.1188\n",
            "Validation Loss: 0.1240\n"
          ]
        },
        {
          "output_type": "stream",
          "name": "stderr",
          "text": [
            "Epoch 13/200: 100%|██████████| 41/41 [00:01<00:00, 31.53it/s, loss=0.118]\n"
          ]
        },
        {
          "output_type": "stream",
          "name": "stdout",
          "text": [
            "Epoch [13/200], Train Loss: 0.1178\n",
            "Validation Loss: 0.1243\n"
          ]
        },
        {
          "output_type": "stream",
          "name": "stderr",
          "text": [
            "Epoch 14/200: 100%|██████████| 41/41 [00:01<00:00, 31.38it/s, loss=0.116]\n"
          ]
        },
        {
          "output_type": "stream",
          "name": "stdout",
          "text": [
            "Epoch [14/200], Train Loss: 0.1163\n",
            "Validation Loss: 0.1243\n"
          ]
        },
        {
          "output_type": "stream",
          "name": "stderr",
          "text": [
            "Epoch 15/200: 100%|██████████| 41/41 [00:01<00:00, 31.58it/s, loss=0.116]\n"
          ]
        },
        {
          "output_type": "stream",
          "name": "stdout",
          "text": [
            "Epoch [15/200], Train Loss: 0.1165\n",
            "Validation Loss: 0.1598\n"
          ]
        },
        {
          "output_type": "stream",
          "name": "stderr",
          "text": [
            "Epoch 16/200: 100%|██████████| 41/41 [00:01<00:00, 31.54it/s, loss=0.116]\n"
          ]
        },
        {
          "output_type": "stream",
          "name": "stdout",
          "text": [
            "Epoch [16/200], Train Loss: 0.1160\n",
            "Validation Loss: 0.1472\n"
          ]
        },
        {
          "output_type": "stream",
          "name": "stderr",
          "text": [
            "Epoch 17/200: 100%|██████████| 41/41 [00:01<00:00, 31.24it/s, loss=0.114]\n"
          ]
        },
        {
          "output_type": "stream",
          "name": "stdout",
          "text": [
            "Epoch [17/200], Train Loss: 0.1141\n",
            "Validation Loss: 0.1166\n"
          ]
        },
        {
          "output_type": "stream",
          "name": "stderr",
          "text": [
            "Epoch 18/200: 100%|██████████| 41/41 [00:01<00:00, 31.22it/s, loss=0.113]\n"
          ]
        },
        {
          "output_type": "stream",
          "name": "stdout",
          "text": [
            "Epoch [18/200], Train Loss: 0.1134\n",
            "Validation Loss: 0.1163\n"
          ]
        },
        {
          "output_type": "stream",
          "name": "stderr",
          "text": [
            "Epoch 19/200: 100%|██████████| 41/41 [00:01<00:00, 31.47it/s, loss=0.113]\n"
          ]
        },
        {
          "output_type": "stream",
          "name": "stdout",
          "text": [
            "Epoch [19/200], Train Loss: 0.1131\n",
            "Validation Loss: 0.1164\n"
          ]
        },
        {
          "output_type": "stream",
          "name": "stderr",
          "text": [
            "Epoch 20/200: 100%|██████████| 41/41 [00:01<00:00, 32.05it/s, loss=0.113]\n"
          ]
        },
        {
          "output_type": "stream",
          "name": "stdout",
          "text": [
            "Epoch [20/200], Train Loss: 0.1126\n",
            "Validation Loss: 0.1158\n"
          ]
        },
        {
          "output_type": "stream",
          "name": "stderr",
          "text": [
            "Epoch 21/200: 100%|██████████| 41/41 [00:01<00:00, 31.42it/s, loss=0.113]\n"
          ]
        },
        {
          "output_type": "stream",
          "name": "stdout",
          "text": [
            "Epoch [21/200], Train Loss: 0.1128\n",
            "Validation Loss: 0.1160\n"
          ]
        },
        {
          "output_type": "stream",
          "name": "stderr",
          "text": [
            "Epoch 22/200: 100%|██████████| 41/41 [00:01<00:00, 31.47it/s, loss=0.113]\n"
          ]
        },
        {
          "output_type": "stream",
          "name": "stdout",
          "text": [
            "Epoch [22/200], Train Loss: 0.1127\n",
            "Validation Loss: 0.1158\n"
          ]
        },
        {
          "output_type": "stream",
          "name": "stderr",
          "text": [
            "Epoch 23/200: 100%|██████████| 41/41 [00:01<00:00, 31.40it/s, loss=0.112]\n"
          ]
        },
        {
          "output_type": "stream",
          "name": "stdout",
          "text": [
            "Epoch [23/200], Train Loss: 0.1125\n",
            "Validation Loss: 0.1157\n"
          ]
        },
        {
          "output_type": "stream",
          "name": "stderr",
          "text": [
            "Epoch 24/200: 100%|██████████| 41/41 [00:01<00:00, 31.27it/s, loss=0.112]\n"
          ]
        },
        {
          "output_type": "stream",
          "name": "stdout",
          "text": [
            "Epoch [24/200], Train Loss: 0.1123\n",
            "Validation Loss: 0.1155\n"
          ]
        },
        {
          "output_type": "stream",
          "name": "stderr",
          "text": [
            "Epoch 25/200: 100%|██████████| 41/41 [00:01<00:00, 32.02it/s, loss=0.112]\n"
          ]
        },
        {
          "output_type": "stream",
          "name": "stdout",
          "text": [
            "Epoch [25/200], Train Loss: 0.1121\n",
            "Validation Loss: 0.1158\n"
          ]
        },
        {
          "output_type": "stream",
          "name": "stderr",
          "text": [
            "Epoch 26/200: 100%|██████████| 41/41 [00:01<00:00, 32.15it/s, loss=0.112]\n"
          ]
        },
        {
          "output_type": "stream",
          "name": "stdout",
          "text": [
            "Epoch [26/200], Train Loss: 0.1121\n",
            "Validation Loss: 0.1155\n"
          ]
        },
        {
          "output_type": "stream",
          "name": "stderr",
          "text": [
            "Epoch 27/200: 100%|██████████| 41/41 [00:01<00:00, 32.06it/s, loss=0.112]\n"
          ]
        },
        {
          "output_type": "stream",
          "name": "stdout",
          "text": [
            "Epoch [27/200], Train Loss: 0.1120\n",
            "Validation Loss: 0.1158\n"
          ]
        },
        {
          "output_type": "stream",
          "name": "stderr",
          "text": [
            "Epoch 28/200: 100%|██████████| 41/41 [00:01<00:00, 32.07it/s, loss=0.112]\n"
          ]
        },
        {
          "output_type": "stream",
          "name": "stdout",
          "text": [
            "Epoch [28/200], Train Loss: 0.1119\n",
            "Validation Loss: 0.1156\n"
          ]
        },
        {
          "output_type": "stream",
          "name": "stderr",
          "text": [
            "Epoch 29/200: 100%|██████████| 41/41 [00:01<00:00, 32.35it/s, loss=0.112]\n"
          ]
        },
        {
          "output_type": "stream",
          "name": "stdout",
          "text": [
            "Epoch [29/200], Train Loss: 0.1123\n",
            "Validation Loss: 0.1151\n"
          ]
        },
        {
          "output_type": "stream",
          "name": "stderr",
          "text": [
            "Epoch 30/200: 100%|██████████| 41/41 [00:01<00:00, 31.97it/s, loss=0.112]\n"
          ]
        },
        {
          "output_type": "stream",
          "name": "stdout",
          "text": [
            "Epoch [30/200], Train Loss: 0.1121\n",
            "Validation Loss: 0.1174\n"
          ]
        },
        {
          "output_type": "stream",
          "name": "stderr",
          "text": [
            "Epoch 31/200: 100%|██████████| 41/41 [00:01<00:00, 31.96it/s, loss=0.112]\n"
          ]
        },
        {
          "output_type": "stream",
          "name": "stdout",
          "text": [
            "Epoch [31/200], Train Loss: 0.1118\n",
            "Validation Loss: 0.1148\n"
          ]
        },
        {
          "output_type": "stream",
          "name": "stderr",
          "text": [
            "Epoch 32/200: 100%|██████████| 41/41 [00:01<00:00, 32.28it/s, loss=0.112]\n"
          ]
        },
        {
          "output_type": "stream",
          "name": "stdout",
          "text": [
            "Epoch [32/200], Train Loss: 0.1119\n",
            "Validation Loss: 0.1152\n"
          ]
        },
        {
          "output_type": "stream",
          "name": "stderr",
          "text": [
            "Epoch 33/200: 100%|██████████| 41/41 [00:01<00:00, 32.42it/s, loss=0.111]\n"
          ]
        },
        {
          "output_type": "stream",
          "name": "stdout",
          "text": [
            "Epoch [33/200], Train Loss: 0.1112\n",
            "Validation Loss: 0.1148\n"
          ]
        },
        {
          "output_type": "stream",
          "name": "stderr",
          "text": [
            "Epoch 34/200: 100%|██████████| 41/41 [00:01<00:00, 32.17it/s, loss=0.111]\n"
          ]
        },
        {
          "output_type": "stream",
          "name": "stdout",
          "text": [
            "Epoch [34/200], Train Loss: 0.1112\n",
            "Validation Loss: 0.1161\n"
          ]
        },
        {
          "output_type": "stream",
          "name": "stderr",
          "text": [
            "Epoch 35/200: 100%|██████████| 41/41 [00:01<00:00, 32.11it/s, loss=0.111]\n"
          ]
        },
        {
          "output_type": "stream",
          "name": "stdout",
          "text": [
            "Epoch [35/200], Train Loss: 0.1113\n",
            "Validation Loss: 0.1152\n"
          ]
        },
        {
          "output_type": "stream",
          "name": "stderr",
          "text": [
            "Epoch 36/200: 100%|██████████| 41/41 [00:01<00:00, 31.71it/s, loss=0.111]\n"
          ]
        },
        {
          "output_type": "stream",
          "name": "stdout",
          "text": [
            "Epoch [36/200], Train Loss: 0.1112\n",
            "Validation Loss: 0.1152\n"
          ]
        },
        {
          "output_type": "stream",
          "name": "stderr",
          "text": [
            "Epoch 37/200: 100%|██████████| 41/41 [00:01<00:00, 32.34it/s, loss=0.111]\n"
          ]
        },
        {
          "output_type": "stream",
          "name": "stdout",
          "text": [
            "Epoch [37/200], Train Loss: 0.1110\n",
            "Validation Loss: 0.1162\n"
          ]
        },
        {
          "output_type": "stream",
          "name": "stderr",
          "text": [
            "Epoch 38/200: 100%|██████████| 41/41 [00:01<00:00, 32.41it/s, loss=0.111]\n"
          ]
        },
        {
          "output_type": "stream",
          "name": "stdout",
          "text": [
            "Epoch [38/200], Train Loss: 0.1110\n",
            "Validation Loss: 0.1145\n"
          ]
        },
        {
          "output_type": "stream",
          "name": "stderr",
          "text": [
            "Epoch 39/200: 100%|██████████| 41/41 [00:01<00:00, 31.92it/s, loss=0.11]\n"
          ]
        },
        {
          "output_type": "stream",
          "name": "stdout",
          "text": [
            "Epoch [39/200], Train Loss: 0.1105\n",
            "Validation Loss: 0.1144\n"
          ]
        },
        {
          "output_type": "stream",
          "name": "stderr",
          "text": [
            "Epoch 40/200: 100%|██████████| 41/41 [00:01<00:00, 32.02it/s, loss=0.111]\n"
          ]
        },
        {
          "output_type": "stream",
          "name": "stdout",
          "text": [
            "Epoch [40/200], Train Loss: 0.1107\n",
            "Validation Loss: 0.1144\n"
          ]
        },
        {
          "output_type": "stream",
          "name": "stderr",
          "text": [
            "Epoch 41/200: 100%|██████████| 41/41 [00:01<00:00, 32.28it/s, loss=0.11]\n"
          ]
        },
        {
          "output_type": "stream",
          "name": "stdout",
          "text": [
            "Epoch [41/200], Train Loss: 0.1104\n",
            "Validation Loss: 0.1145\n"
          ]
        },
        {
          "output_type": "stream",
          "name": "stderr",
          "text": [
            "Epoch 42/200: 100%|██████████| 41/41 [00:01<00:00, 32.51it/s, loss=0.111]\n"
          ]
        },
        {
          "output_type": "stream",
          "name": "stdout",
          "text": [
            "Epoch [42/200], Train Loss: 0.1106\n",
            "Validation Loss: 0.1144\n"
          ]
        },
        {
          "output_type": "stream",
          "name": "stderr",
          "text": [
            "Epoch 43/200: 100%|██████████| 41/41 [00:01<00:00, 32.52it/s, loss=0.11]\n"
          ]
        },
        {
          "output_type": "stream",
          "name": "stdout",
          "text": [
            "Epoch [43/200], Train Loss: 0.1103\n",
            "Validation Loss: 0.1144\n"
          ]
        },
        {
          "output_type": "stream",
          "name": "stderr",
          "text": [
            "Epoch 44/200: 100%|██████████| 41/41 [00:01<00:00, 32.02it/s, loss=0.11]\n"
          ]
        },
        {
          "output_type": "stream",
          "name": "stdout",
          "text": [
            "Epoch [44/200], Train Loss: 0.1104\n",
            "Validation Loss: 0.1144\n"
          ]
        },
        {
          "output_type": "stream",
          "name": "stderr",
          "text": [
            "Epoch 45/200: 100%|██████████| 41/41 [00:01<00:00, 31.88it/s, loss=0.111]\n"
          ]
        },
        {
          "output_type": "stream",
          "name": "stdout",
          "text": [
            "Epoch [45/200], Train Loss: 0.1106\n",
            "Validation Loss: 0.1144\n"
          ]
        },
        {
          "output_type": "stream",
          "name": "stderr",
          "text": [
            "Epoch 46/200: 100%|██████████| 41/41 [00:01<00:00, 32.51it/s, loss=0.111]\n"
          ]
        },
        {
          "output_type": "stream",
          "name": "stdout",
          "text": [
            "Epoch [46/200], Train Loss: 0.1107\n",
            "Validation Loss: 0.1143\n"
          ]
        },
        {
          "output_type": "stream",
          "name": "stderr",
          "text": [
            "Epoch 47/200: 100%|██████████| 41/41 [00:01<00:00, 32.27it/s, loss=0.111]\n"
          ]
        },
        {
          "output_type": "stream",
          "name": "stdout",
          "text": [
            "Epoch [47/200], Train Loss: 0.1106\n",
            "Validation Loss: 0.1143\n"
          ]
        },
        {
          "output_type": "stream",
          "name": "stderr",
          "text": [
            "Epoch 48/200: 100%|██████████| 41/41 [00:01<00:00, 32.00it/s, loss=0.111]\n"
          ]
        },
        {
          "output_type": "stream",
          "name": "stdout",
          "text": [
            "Epoch [48/200], Train Loss: 0.1107\n",
            "Validation Loss: 0.1143\n"
          ]
        },
        {
          "output_type": "stream",
          "name": "stderr",
          "text": [
            "Epoch 49/200: 100%|██████████| 41/41 [00:01<00:00, 32.40it/s, loss=0.111]\n"
          ]
        },
        {
          "output_type": "stream",
          "name": "stdout",
          "text": [
            "Epoch [49/200], Train Loss: 0.1107\n",
            "Validation Loss: 0.1144\n"
          ]
        },
        {
          "output_type": "stream",
          "name": "stderr",
          "text": [
            "Epoch 50/200: 100%|██████████| 41/41 [00:01<00:00, 32.35it/s, loss=0.111]\n"
          ]
        },
        {
          "output_type": "stream",
          "name": "stdout",
          "text": [
            "Epoch [50/200], Train Loss: 0.1106\n",
            "Validation Loss: 0.1143\n"
          ]
        },
        {
          "output_type": "stream",
          "name": "stderr",
          "text": [
            "Epoch 51/200: 100%|██████████| 41/41 [00:01<00:00, 32.36it/s, loss=0.111]\n"
          ]
        },
        {
          "output_type": "stream",
          "name": "stdout",
          "text": [
            "Epoch [51/200], Train Loss: 0.1106\n",
            "Validation Loss: 0.1143\n"
          ]
        },
        {
          "output_type": "stream",
          "name": "stderr",
          "text": [
            "Epoch 52/200: 100%|██████████| 41/41 [00:01<00:00, 32.28it/s, loss=0.111]\n"
          ]
        },
        {
          "output_type": "stream",
          "name": "stdout",
          "text": [
            "Epoch [52/200], Train Loss: 0.1109\n",
            "Validation Loss: 0.1143\n"
          ]
        },
        {
          "output_type": "stream",
          "name": "stderr",
          "text": [
            "Epoch 53/200: 100%|██████████| 41/41 [00:01<00:00, 31.97it/s, loss=0.111]\n"
          ]
        },
        {
          "output_type": "stream",
          "name": "stdout",
          "text": [
            "Epoch [53/200], Train Loss: 0.1107\n",
            "Validation Loss: 0.1144\n"
          ]
        },
        {
          "output_type": "stream",
          "name": "stderr",
          "text": [
            "Epoch 54/200: 100%|██████████| 41/41 [00:01<00:00, 31.87it/s, loss=0.111]\n"
          ]
        },
        {
          "output_type": "stream",
          "name": "stdout",
          "text": [
            "Epoch [54/200], Train Loss: 0.1108\n",
            "Validation Loss: 0.1143\n"
          ]
        },
        {
          "output_type": "stream",
          "name": "stderr",
          "text": [
            "Epoch 55/200: 100%|██████████| 41/41 [00:01<00:00, 32.03it/s, loss=0.11]\n"
          ]
        },
        {
          "output_type": "stream",
          "name": "stdout",
          "text": [
            "Epoch [55/200], Train Loss: 0.1103\n",
            "Validation Loss: 0.1143\n"
          ]
        },
        {
          "output_type": "stream",
          "name": "stderr",
          "text": [
            "Epoch 56/200: 100%|██████████| 41/41 [00:01<00:00, 32.28it/s, loss=0.111]\n"
          ]
        },
        {
          "output_type": "stream",
          "name": "stdout",
          "text": [
            "Epoch [56/200], Train Loss: 0.1109\n",
            "Validation Loss: 0.1143\n"
          ]
        },
        {
          "output_type": "stream",
          "name": "stderr",
          "text": [
            "Epoch 57/200: 100%|██████████| 41/41 [00:01<00:00, 32.20it/s, loss=0.111]\n"
          ]
        },
        {
          "output_type": "stream",
          "name": "stdout",
          "text": [
            "Epoch [57/200], Train Loss: 0.1106\n",
            "Validation Loss: 0.1144\n"
          ]
        },
        {
          "output_type": "stream",
          "name": "stderr",
          "text": [
            "Epoch 58/200: 100%|██████████| 41/41 [00:01<00:00, 32.45it/s, loss=0.111]\n"
          ]
        },
        {
          "output_type": "stream",
          "name": "stdout",
          "text": [
            "Epoch [58/200], Train Loss: 0.1107\n",
            "Validation Loss: 0.1144\n"
          ]
        },
        {
          "output_type": "stream",
          "name": "stderr",
          "text": [
            "Epoch 59/200: 100%|██████████| 41/41 [00:01<00:00, 32.24it/s, loss=0.111]\n"
          ]
        },
        {
          "output_type": "stream",
          "name": "stdout",
          "text": [
            "Epoch [59/200], Train Loss: 0.1106\n",
            "Validation Loss: 0.1144\n"
          ]
        },
        {
          "output_type": "stream",
          "name": "stderr",
          "text": [
            "Epoch 60/200: 100%|██████████| 41/41 [00:01<00:00, 32.46it/s, loss=0.111]\n"
          ]
        },
        {
          "output_type": "stream",
          "name": "stdout",
          "text": [
            "Epoch [60/200], Train Loss: 0.1106\n",
            "Validation Loss: 0.1143\n"
          ]
        },
        {
          "output_type": "stream",
          "name": "stderr",
          "text": [
            "Epoch 61/200: 100%|██████████| 41/41 [00:01<00:00, 32.57it/s, loss=0.111]\n"
          ]
        },
        {
          "output_type": "stream",
          "name": "stdout",
          "text": [
            "Epoch [61/200], Train Loss: 0.1109\n",
            "Validation Loss: 0.1144\n"
          ]
        },
        {
          "output_type": "stream",
          "name": "stderr",
          "text": [
            "Epoch 62/200: 100%|██████████| 41/41 [00:01<00:00, 32.07it/s, loss=0.111]\n"
          ]
        },
        {
          "output_type": "stream",
          "name": "stdout",
          "text": [
            "Epoch [62/200], Train Loss: 0.1107\n",
            "Validation Loss: 0.1143\n"
          ]
        },
        {
          "output_type": "stream",
          "name": "stderr",
          "text": [
            "Epoch 63/200: 100%|██████████| 41/41 [00:01<00:00, 31.32it/s, loss=0.11]\n"
          ]
        },
        {
          "output_type": "stream",
          "name": "stdout",
          "text": [
            "Epoch [63/200], Train Loss: 0.1105\n",
            "Validation Loss: 0.1145\n"
          ]
        },
        {
          "output_type": "stream",
          "name": "stderr",
          "text": [
            "Epoch 64/200: 100%|██████████| 41/41 [00:01<00:00, 31.70it/s, loss=0.111]\n"
          ]
        },
        {
          "output_type": "stream",
          "name": "stdout",
          "text": [
            "Epoch [64/200], Train Loss: 0.1106\n",
            "Validation Loss: 0.1143\n"
          ]
        },
        {
          "output_type": "stream",
          "name": "stderr",
          "text": [
            "Epoch 65/200: 100%|██████████| 41/41 [00:01<00:00, 31.36it/s, loss=0.111]\n"
          ]
        },
        {
          "output_type": "stream",
          "name": "stdout",
          "text": [
            "Epoch [65/200], Train Loss: 0.1106\n",
            "Validation Loss: 0.1144\n"
          ]
        },
        {
          "output_type": "stream",
          "name": "stderr",
          "text": [
            "Epoch 66/200: 100%|██████████| 41/41 [00:01<00:00, 31.16it/s, loss=0.111]\n"
          ]
        },
        {
          "output_type": "stream",
          "name": "stdout",
          "text": [
            "Epoch [66/200], Train Loss: 0.1106\n",
            "Validation Loss: 0.1144\n"
          ]
        },
        {
          "output_type": "stream",
          "name": "stderr",
          "text": [
            "Epoch 67/200: 100%|██████████| 41/41 [00:01<00:00, 31.66it/s, loss=0.111]\n"
          ]
        },
        {
          "output_type": "stream",
          "name": "stdout",
          "text": [
            "Epoch [67/200], Train Loss: 0.1107\n",
            "Validation Loss: 0.1143\n"
          ]
        },
        {
          "output_type": "stream",
          "name": "stderr",
          "text": [
            "Epoch 68/200: 100%|██████████| 41/41 [00:01<00:00, 32.08it/s, loss=0.111]\n"
          ]
        },
        {
          "output_type": "stream",
          "name": "stdout",
          "text": [
            "Epoch [68/200], Train Loss: 0.1107\n",
            "Validation Loss: 0.1144\n"
          ]
        },
        {
          "output_type": "stream",
          "name": "stderr",
          "text": [
            "Epoch 69/200: 100%|██████████| 41/41 [00:01<00:00, 31.45it/s, loss=0.11]\n"
          ]
        },
        {
          "output_type": "stream",
          "name": "stdout",
          "text": [
            "Epoch [69/200], Train Loss: 0.1104\n",
            "Validation Loss: 0.1145\n"
          ]
        },
        {
          "output_type": "stream",
          "name": "stderr",
          "text": [
            "Epoch 70/200: 100%|██████████| 41/41 [00:01<00:00, 31.71it/s, loss=0.11]\n"
          ]
        },
        {
          "output_type": "stream",
          "name": "stdout",
          "text": [
            "Epoch [70/200], Train Loss: 0.1104\n",
            "Validation Loss: 0.1144\n"
          ]
        },
        {
          "output_type": "stream",
          "name": "stderr",
          "text": [
            "Epoch 71/200: 100%|██████████| 41/41 [00:01<00:00, 31.31it/s, loss=0.111]\n"
          ]
        },
        {
          "output_type": "stream",
          "name": "stdout",
          "text": [
            "Epoch [71/200], Train Loss: 0.1106\n",
            "Validation Loss: 0.1144\n"
          ]
        },
        {
          "output_type": "stream",
          "name": "stderr",
          "text": [
            "Epoch 72/200: 100%|██████████| 41/41 [00:01<00:00, 31.47it/s, loss=0.111]\n"
          ]
        },
        {
          "output_type": "stream",
          "name": "stdout",
          "text": [
            "Epoch [72/200], Train Loss: 0.1106\n",
            "Validation Loss: 0.1144\n"
          ]
        },
        {
          "output_type": "stream",
          "name": "stderr",
          "text": [
            "Epoch 73/200: 100%|██████████| 41/41 [00:01<00:00, 31.56it/s, loss=0.111]\n"
          ]
        },
        {
          "output_type": "stream",
          "name": "stdout",
          "text": [
            "Epoch [73/200], Train Loss: 0.1108\n",
            "Validation Loss: 0.1143\n"
          ]
        },
        {
          "output_type": "stream",
          "name": "stderr",
          "text": [
            "Epoch 74/200: 100%|██████████| 41/41 [00:01<00:00, 31.60it/s, loss=0.111]\n"
          ]
        },
        {
          "output_type": "stream",
          "name": "stdout",
          "text": [
            "Epoch [74/200], Train Loss: 0.1106\n",
            "Validation Loss: 0.1143\n"
          ]
        },
        {
          "output_type": "stream",
          "name": "stderr",
          "text": [
            "Epoch 75/200: 100%|██████████| 41/41 [00:01<00:00, 31.40it/s, loss=0.111]\n"
          ]
        },
        {
          "output_type": "stream",
          "name": "stdout",
          "text": [
            "Epoch [75/200], Train Loss: 0.1105\n",
            "Validation Loss: 0.1144\n"
          ]
        },
        {
          "output_type": "stream",
          "name": "stderr",
          "text": [
            "Epoch 76/200: 100%|██████████| 41/41 [00:01<00:00, 31.58it/s, loss=0.111]\n"
          ]
        },
        {
          "output_type": "stream",
          "name": "stdout",
          "text": [
            "Epoch [76/200], Train Loss: 0.1106\n",
            "Validation Loss: 0.1144\n"
          ]
        },
        {
          "output_type": "stream",
          "name": "stderr",
          "text": [
            "Epoch 77/200: 100%|██████████| 41/41 [00:01<00:00, 31.38it/s, loss=0.11]\n"
          ]
        },
        {
          "output_type": "stream",
          "name": "stdout",
          "text": [
            "Epoch [77/200], Train Loss: 0.1105\n",
            "Validation Loss: 0.1144\n"
          ]
        },
        {
          "output_type": "stream",
          "name": "stderr",
          "text": [
            "Epoch 78/200: 100%|██████████| 41/41 [00:01<00:00, 31.39it/s, loss=0.111]\n"
          ]
        },
        {
          "output_type": "stream",
          "name": "stdout",
          "text": [
            "Epoch [78/200], Train Loss: 0.1106\n",
            "Validation Loss: 0.1144\n"
          ]
        },
        {
          "output_type": "stream",
          "name": "stderr",
          "text": [
            "Epoch 79/200: 100%|██████████| 41/41 [00:01<00:00, 31.41it/s, loss=0.111]\n"
          ]
        },
        {
          "output_type": "stream",
          "name": "stdout",
          "text": [
            "Epoch [79/200], Train Loss: 0.1106\n",
            "Validation Loss: 0.1145\n"
          ]
        },
        {
          "output_type": "stream",
          "name": "stderr",
          "text": [
            "Epoch 80/200: 100%|██████████| 41/41 [00:01<00:00, 31.11it/s, loss=0.111]\n"
          ]
        },
        {
          "output_type": "stream",
          "name": "stdout",
          "text": [
            "Epoch [80/200], Train Loss: 0.1105\n",
            "Validation Loss: 0.1144\n"
          ]
        },
        {
          "output_type": "stream",
          "name": "stderr",
          "text": [
            "Epoch 81/200: 100%|██████████| 41/41 [00:01<00:00, 31.47it/s, loss=0.111]\n"
          ]
        },
        {
          "output_type": "stream",
          "name": "stdout",
          "text": [
            "Epoch [81/200], Train Loss: 0.1105\n",
            "Validation Loss: 0.1144\n"
          ]
        },
        {
          "output_type": "stream",
          "name": "stderr",
          "text": [
            "Epoch 82/200: 100%|██████████| 41/41 [00:01<00:00, 31.50it/s, loss=0.11]\n"
          ]
        },
        {
          "output_type": "stream",
          "name": "stdout",
          "text": [
            "Epoch [82/200], Train Loss: 0.1105\n",
            "Validation Loss: 0.1144\n"
          ]
        },
        {
          "output_type": "stream",
          "name": "stderr",
          "text": [
            "Epoch 83/200: 100%|██████████| 41/41 [00:01<00:00, 31.44it/s, loss=0.111]\n"
          ]
        },
        {
          "output_type": "stream",
          "name": "stdout",
          "text": [
            "Epoch [83/200], Train Loss: 0.1106\n",
            "Validation Loss: 0.1144\n"
          ]
        },
        {
          "output_type": "stream",
          "name": "stderr",
          "text": [
            "Epoch 84/200: 100%|██████████| 41/41 [00:01<00:00, 31.31it/s, loss=0.111]\n"
          ]
        },
        {
          "output_type": "stream",
          "name": "stdout",
          "text": [
            "Epoch [84/200], Train Loss: 0.1107\n",
            "Validation Loss: 0.1143\n"
          ]
        },
        {
          "output_type": "stream",
          "name": "stderr",
          "text": [
            "Epoch 85/200: 100%|██████████| 41/41 [00:01<00:00, 31.62it/s, loss=0.111]\n"
          ]
        },
        {
          "output_type": "stream",
          "name": "stdout",
          "text": [
            "Epoch [85/200], Train Loss: 0.1107\n",
            "Validation Loss: 0.1144\n"
          ]
        },
        {
          "output_type": "stream",
          "name": "stderr",
          "text": [
            "Epoch 86/200: 100%|██████████| 41/41 [00:01<00:00, 31.44it/s, loss=0.11]\n"
          ]
        },
        {
          "output_type": "stream",
          "name": "stdout",
          "text": [
            "Epoch [86/200], Train Loss: 0.1104\n",
            "Validation Loss: 0.1143\n"
          ]
        },
        {
          "output_type": "stream",
          "name": "stderr",
          "text": [
            "Epoch 87/200: 100%|██████████| 41/41 [00:01<00:00, 31.37it/s, loss=0.11]\n"
          ]
        },
        {
          "output_type": "stream",
          "name": "stdout",
          "text": [
            "Epoch [87/200], Train Loss: 0.1103\n",
            "Validation Loss: 0.1143\n"
          ]
        },
        {
          "output_type": "stream",
          "name": "stderr",
          "text": [
            "Epoch 88/200: 100%|██████████| 41/41 [00:01<00:00, 31.41it/s, loss=0.11]\n"
          ]
        },
        {
          "output_type": "stream",
          "name": "stdout",
          "text": [
            "Epoch [88/200], Train Loss: 0.1104\n",
            "Validation Loss: 0.1143\n"
          ]
        },
        {
          "output_type": "stream",
          "name": "stderr",
          "text": [
            "Epoch 89/200: 100%|██████████| 41/41 [00:01<00:00, 31.13it/s, loss=0.11]\n"
          ]
        },
        {
          "output_type": "stream",
          "name": "stdout",
          "text": [
            "Epoch [89/200], Train Loss: 0.1103\n",
            "Validation Loss: 0.1144\n"
          ]
        },
        {
          "output_type": "stream",
          "name": "stderr",
          "text": [
            "Epoch 90/200: 100%|██████████| 41/41 [00:01<00:00, 32.08it/s, loss=0.11]\n"
          ]
        },
        {
          "output_type": "stream",
          "name": "stdout",
          "text": [
            "Epoch [90/200], Train Loss: 0.1101\n",
            "Validation Loss: 0.1143\n"
          ]
        },
        {
          "output_type": "stream",
          "name": "stderr",
          "text": [
            "Epoch 91/200: 100%|██████████| 41/41 [00:01<00:00, 32.03it/s, loss=0.111]\n"
          ]
        },
        {
          "output_type": "stream",
          "name": "stdout",
          "text": [
            "Epoch [91/200], Train Loss: 0.1106\n",
            "Validation Loss: 0.1144\n"
          ]
        },
        {
          "output_type": "stream",
          "name": "stderr",
          "text": [
            "Epoch 92/200: 100%|██████████| 41/41 [00:01<00:00, 31.93it/s, loss=0.111]\n"
          ]
        },
        {
          "output_type": "stream",
          "name": "stdout",
          "text": [
            "Epoch [92/200], Train Loss: 0.1106\n",
            "Validation Loss: 0.1145\n"
          ]
        },
        {
          "output_type": "stream",
          "name": "stderr",
          "text": [
            "Epoch 93/200: 100%|██████████| 41/41 [00:01<00:00, 32.08it/s, loss=0.111]\n"
          ]
        },
        {
          "output_type": "stream",
          "name": "stdout",
          "text": [
            "Epoch [93/200], Train Loss: 0.1106\n",
            "Validation Loss: 0.1143\n"
          ]
        },
        {
          "output_type": "stream",
          "name": "stderr",
          "text": [
            "Epoch 94/200: 100%|██████████| 41/41 [00:01<00:00, 32.19it/s, loss=0.111]\n"
          ]
        },
        {
          "output_type": "stream",
          "name": "stdout",
          "text": [
            "Epoch [94/200], Train Loss: 0.1108\n",
            "Validation Loss: 0.1144\n"
          ]
        },
        {
          "output_type": "stream",
          "name": "stderr",
          "text": [
            "Epoch 95/200: 100%|██████████| 41/41 [00:01<00:00, 32.11it/s, loss=0.11]\n"
          ]
        },
        {
          "output_type": "stream",
          "name": "stdout",
          "text": [
            "Epoch [95/200], Train Loss: 0.1099\n",
            "Validation Loss: 0.1143\n"
          ]
        },
        {
          "output_type": "stream",
          "name": "stderr",
          "text": [
            "Epoch 96/200: 100%|██████████| 41/41 [00:01<00:00, 32.26it/s, loss=0.111]\n"
          ]
        },
        {
          "output_type": "stream",
          "name": "stdout",
          "text": [
            "Epoch [96/200], Train Loss: 0.1109\n",
            "Validation Loss: 0.1145\n"
          ]
        },
        {
          "output_type": "stream",
          "name": "stderr",
          "text": [
            "Epoch 97/200: 100%|██████████| 41/41 [00:01<00:00, 31.78it/s, loss=0.11]\n"
          ]
        },
        {
          "output_type": "stream",
          "name": "stdout",
          "text": [
            "Epoch [97/200], Train Loss: 0.1104\n",
            "Validation Loss: 0.1144\n"
          ]
        },
        {
          "output_type": "stream",
          "name": "stderr",
          "text": [
            "Epoch 98/200: 100%|██████████| 41/41 [00:01<00:00, 32.07it/s, loss=0.111]\n"
          ]
        },
        {
          "output_type": "stream",
          "name": "stdout",
          "text": [
            "Epoch [98/200], Train Loss: 0.1105\n",
            "Validation Loss: 0.1143\n"
          ]
        },
        {
          "output_type": "stream",
          "name": "stderr",
          "text": [
            "Epoch 99/200: 100%|██████████| 41/41 [00:01<00:00, 32.38it/s, loss=0.111]\n"
          ]
        },
        {
          "output_type": "stream",
          "name": "stdout",
          "text": [
            "Epoch [99/200], Train Loss: 0.1105\n",
            "Validation Loss: 0.1144\n"
          ]
        },
        {
          "output_type": "stream",
          "name": "stderr",
          "text": [
            "Epoch 100/200: 100%|██████████| 41/41 [00:01<00:00, 31.87it/s, loss=0.111]\n"
          ]
        },
        {
          "output_type": "stream",
          "name": "stdout",
          "text": [
            "Epoch [100/200], Train Loss: 0.1107\n",
            "Validation Loss: 0.1144\n"
          ]
        },
        {
          "output_type": "stream",
          "name": "stderr",
          "text": [
            "Epoch 101/200: 100%|██████████| 41/41 [00:01<00:00, 32.30it/s, loss=0.111]\n"
          ]
        },
        {
          "output_type": "stream",
          "name": "stdout",
          "text": [
            "Epoch [101/200], Train Loss: 0.1106\n",
            "Validation Loss: 0.1144\n"
          ]
        },
        {
          "output_type": "stream",
          "name": "stderr",
          "text": [
            "Epoch 102/200: 100%|██████████| 41/41 [00:01<00:00, 32.05it/s, loss=0.111]\n"
          ]
        },
        {
          "output_type": "stream",
          "name": "stdout",
          "text": [
            "Epoch [102/200], Train Loss: 0.1109\n",
            "Validation Loss: 0.1145\n"
          ]
        },
        {
          "output_type": "stream",
          "name": "stderr",
          "text": [
            "Epoch 103/200: 100%|██████████| 41/41 [00:01<00:00, 32.51it/s, loss=0.11]\n"
          ]
        },
        {
          "output_type": "stream",
          "name": "stdout",
          "text": [
            "Epoch [103/200], Train Loss: 0.1105\n",
            "Validation Loss: 0.1144\n"
          ]
        },
        {
          "output_type": "stream",
          "name": "stderr",
          "text": [
            "Epoch 104/200: 100%|██████████| 41/41 [00:01<00:00, 32.29it/s, loss=0.111]\n"
          ]
        },
        {
          "output_type": "stream",
          "name": "stdout",
          "text": [
            "Epoch [104/200], Train Loss: 0.1107\n",
            "Validation Loss: 0.1144\n"
          ]
        },
        {
          "output_type": "stream",
          "name": "stderr",
          "text": [
            "Epoch 105/200: 100%|██████████| 41/41 [00:01<00:00, 31.95it/s, loss=0.111]\n"
          ]
        },
        {
          "output_type": "stream",
          "name": "stdout",
          "text": [
            "Epoch [105/200], Train Loss: 0.1107\n",
            "Validation Loss: 0.1143\n"
          ]
        },
        {
          "output_type": "stream",
          "name": "stderr",
          "text": [
            "Epoch 106/200: 100%|██████████| 41/41 [00:01<00:00, 31.64it/s, loss=0.11]\n"
          ]
        },
        {
          "output_type": "stream",
          "name": "stdout",
          "text": [
            "Epoch [106/200], Train Loss: 0.1102\n",
            "Validation Loss: 0.1145\n"
          ]
        },
        {
          "output_type": "stream",
          "name": "stderr",
          "text": [
            "Epoch 107/200: 100%|██████████| 41/41 [00:01<00:00, 32.28it/s, loss=0.111]\n"
          ]
        },
        {
          "output_type": "stream",
          "name": "stdout",
          "text": [
            "Epoch [107/200], Train Loss: 0.1107\n",
            "Validation Loss: 0.1143\n"
          ]
        },
        {
          "output_type": "stream",
          "name": "stderr",
          "text": [
            "Epoch 108/200: 100%|██████████| 41/41 [00:01<00:00, 32.19it/s, loss=0.11]\n"
          ]
        },
        {
          "output_type": "stream",
          "name": "stdout",
          "text": [
            "Epoch [108/200], Train Loss: 0.1104\n",
            "Validation Loss: 0.1144\n"
          ]
        },
        {
          "output_type": "stream",
          "name": "stderr",
          "text": [
            "Epoch 109/200: 100%|██████████| 41/41 [00:01<00:00, 31.72it/s, loss=0.111]\n"
          ]
        },
        {
          "output_type": "stream",
          "name": "stdout",
          "text": [
            "Epoch [109/200], Train Loss: 0.1109\n",
            "Validation Loss: 0.1143\n"
          ]
        },
        {
          "output_type": "stream",
          "name": "stderr",
          "text": [
            "Epoch 110/200: 100%|██████████| 41/41 [00:01<00:00, 31.92it/s, loss=0.111]\n"
          ]
        },
        {
          "output_type": "stream",
          "name": "stdout",
          "text": [
            "Epoch [110/200], Train Loss: 0.1107\n",
            "Validation Loss: 0.1143\n"
          ]
        },
        {
          "output_type": "stream",
          "name": "stderr",
          "text": [
            "Epoch 111/200: 100%|██████████| 41/41 [00:01<00:00, 32.32it/s, loss=0.11]\n"
          ]
        },
        {
          "output_type": "stream",
          "name": "stdout",
          "text": [
            "Epoch [111/200], Train Loss: 0.1102\n",
            "Validation Loss: 0.1143\n"
          ]
        },
        {
          "output_type": "stream",
          "name": "stderr",
          "text": [
            "Epoch 112/200: 100%|██████████| 41/41 [00:01<00:00, 32.25it/s, loss=0.111]\n"
          ]
        },
        {
          "output_type": "stream",
          "name": "stdout",
          "text": [
            "Epoch [112/200], Train Loss: 0.1112\n",
            "Validation Loss: 0.1143\n"
          ]
        },
        {
          "output_type": "stream",
          "name": "stderr",
          "text": [
            "Epoch 113/200: 100%|██████████| 41/41 [00:01<00:00, 31.58it/s, loss=0.111]\n"
          ]
        },
        {
          "output_type": "stream",
          "name": "stdout",
          "text": [
            "Epoch [113/200], Train Loss: 0.1108\n",
            "Validation Loss: 0.1144\n"
          ]
        },
        {
          "output_type": "stream",
          "name": "stderr",
          "text": [
            "Epoch 114/200: 100%|██████████| 41/41 [00:01<00:00, 31.11it/s, loss=0.11]\n"
          ]
        },
        {
          "output_type": "stream",
          "name": "stdout",
          "text": [
            "Epoch [114/200], Train Loss: 0.1105\n",
            "Validation Loss: 0.1144\n"
          ]
        },
        {
          "output_type": "stream",
          "name": "stderr",
          "text": [
            "Epoch 115/200: 100%|██████████| 41/41 [00:01<00:00, 30.94it/s, loss=0.11]\n"
          ]
        },
        {
          "output_type": "stream",
          "name": "stdout",
          "text": [
            "Epoch [115/200], Train Loss: 0.1104\n",
            "Validation Loss: 0.1145\n"
          ]
        },
        {
          "output_type": "stream",
          "name": "stderr",
          "text": [
            "Epoch 116/200: 100%|██████████| 41/41 [00:01<00:00, 31.40it/s, loss=0.11]\n"
          ]
        },
        {
          "output_type": "stream",
          "name": "stdout",
          "text": [
            "Epoch [116/200], Train Loss: 0.1105\n",
            "Validation Loss: 0.1144\n"
          ]
        },
        {
          "output_type": "stream",
          "name": "stderr",
          "text": [
            "Epoch 117/200: 100%|██████████| 41/41 [00:01<00:00, 31.18it/s, loss=0.111]\n"
          ]
        },
        {
          "output_type": "stream",
          "name": "stdout",
          "text": [
            "Epoch [117/200], Train Loss: 0.1106\n",
            "Validation Loss: 0.1143\n"
          ]
        },
        {
          "output_type": "stream",
          "name": "stderr",
          "text": [
            "Epoch 118/200: 100%|██████████| 41/41 [00:01<00:00, 31.22it/s, loss=0.111]\n"
          ]
        },
        {
          "output_type": "stream",
          "name": "stdout",
          "text": [
            "Epoch [118/200], Train Loss: 0.1107\n",
            "Validation Loss: 0.1144\n"
          ]
        },
        {
          "output_type": "stream",
          "name": "stderr",
          "text": [
            "Epoch 119/200: 100%|██████████| 41/41 [00:01<00:00, 31.02it/s, loss=0.111]\n"
          ]
        },
        {
          "output_type": "stream",
          "name": "stdout",
          "text": [
            "Epoch [119/200], Train Loss: 0.1105\n",
            "Validation Loss: 0.1143\n"
          ]
        },
        {
          "output_type": "stream",
          "name": "stderr",
          "text": [
            "Epoch 120/200: 100%|██████████| 41/41 [00:01<00:00, 31.66it/s, loss=0.111]\n"
          ]
        },
        {
          "output_type": "stream",
          "name": "stdout",
          "text": [
            "Epoch [120/200], Train Loss: 0.1107\n",
            "Validation Loss: 0.1143\n"
          ]
        },
        {
          "output_type": "stream",
          "name": "stderr",
          "text": [
            "Epoch 121/200: 100%|██████████| 41/41 [00:01<00:00, 30.93it/s, loss=0.111]\n"
          ]
        },
        {
          "output_type": "stream",
          "name": "stdout",
          "text": [
            "Epoch [121/200], Train Loss: 0.1105\n",
            "Validation Loss: 0.1144\n"
          ]
        },
        {
          "output_type": "stream",
          "name": "stderr",
          "text": [
            "Epoch 122/200: 100%|██████████| 41/41 [00:01<00:00, 31.67it/s, loss=0.111]\n"
          ]
        },
        {
          "output_type": "stream",
          "name": "stdout",
          "text": [
            "Epoch [122/200], Train Loss: 0.1107\n",
            "Validation Loss: 0.1144\n"
          ]
        },
        {
          "output_type": "stream",
          "name": "stderr",
          "text": [
            "Epoch 123/200: 100%|██████████| 41/41 [00:01<00:00, 31.38it/s, loss=0.111]\n"
          ]
        },
        {
          "output_type": "stream",
          "name": "stdout",
          "text": [
            "Epoch [123/200], Train Loss: 0.1108\n",
            "Validation Loss: 0.1143\n"
          ]
        },
        {
          "output_type": "stream",
          "name": "stderr",
          "text": [
            "Epoch 124/200: 100%|██████████| 41/41 [00:01<00:00, 31.13it/s, loss=0.111]\n"
          ]
        },
        {
          "output_type": "stream",
          "name": "stdout",
          "text": [
            "Epoch [124/200], Train Loss: 0.1109\n",
            "Validation Loss: 0.1143\n"
          ]
        },
        {
          "output_type": "stream",
          "name": "stderr",
          "text": [
            "Epoch 125/200: 100%|██████████| 41/41 [00:01<00:00, 31.31it/s, loss=0.111]\n"
          ]
        },
        {
          "output_type": "stream",
          "name": "stdout",
          "text": [
            "Epoch [125/200], Train Loss: 0.1109\n",
            "Validation Loss: 0.1144\n"
          ]
        },
        {
          "output_type": "stream",
          "name": "stderr",
          "text": [
            "Epoch 126/200: 100%|██████████| 41/41 [00:01<00:00, 31.33it/s, loss=0.11]\n"
          ]
        },
        {
          "output_type": "stream",
          "name": "stdout",
          "text": [
            "Epoch [126/200], Train Loss: 0.1105\n",
            "Validation Loss: 0.1143\n"
          ]
        },
        {
          "output_type": "stream",
          "name": "stderr",
          "text": [
            "Epoch 127/200: 100%|██████████| 41/41 [00:01<00:00, 31.03it/s, loss=0.11]\n"
          ]
        },
        {
          "output_type": "stream",
          "name": "stdout",
          "text": [
            "Epoch [127/200], Train Loss: 0.1104\n",
            "Validation Loss: 0.1143\n"
          ]
        },
        {
          "output_type": "stream",
          "name": "stderr",
          "text": [
            "Epoch 128/200: 100%|██████████| 41/41 [00:01<00:00, 31.52it/s, loss=0.111]\n"
          ]
        },
        {
          "output_type": "stream",
          "name": "stdout",
          "text": [
            "Epoch [128/200], Train Loss: 0.1106\n",
            "Validation Loss: 0.1144\n"
          ]
        },
        {
          "output_type": "stream",
          "name": "stderr",
          "text": [
            "Epoch 129/200: 100%|██████████| 41/41 [00:01<00:00, 31.11it/s, loss=0.111]\n"
          ]
        },
        {
          "output_type": "stream",
          "name": "stdout",
          "text": [
            "Epoch [129/200], Train Loss: 0.1107\n",
            "Validation Loss: 0.1144\n"
          ]
        },
        {
          "output_type": "stream",
          "name": "stderr",
          "text": [
            "Epoch 130/200: 100%|██████████| 41/41 [00:01<00:00, 31.28it/s, loss=0.111]\n"
          ]
        },
        {
          "output_type": "stream",
          "name": "stdout",
          "text": [
            "Epoch [130/200], Train Loss: 0.1107\n",
            "Validation Loss: 0.1143\n"
          ]
        },
        {
          "output_type": "stream",
          "name": "stderr",
          "text": [
            "Epoch 131/200: 100%|██████████| 41/41 [00:01<00:00, 31.36it/s, loss=0.111]\n"
          ]
        },
        {
          "output_type": "stream",
          "name": "stdout",
          "text": [
            "Epoch [131/200], Train Loss: 0.1108\n",
            "Validation Loss: 0.1144\n"
          ]
        },
        {
          "output_type": "stream",
          "name": "stderr",
          "text": [
            "Epoch 132/200: 100%|██████████| 41/41 [00:01<00:00, 30.96it/s, loss=0.111]\n"
          ]
        },
        {
          "output_type": "stream",
          "name": "stdout",
          "text": [
            "Epoch [132/200], Train Loss: 0.1108\n",
            "Validation Loss: 0.1144\n"
          ]
        },
        {
          "output_type": "stream",
          "name": "stderr",
          "text": [
            "Epoch 133/200: 100%|██████████| 41/41 [00:01<00:00, 31.28it/s, loss=0.111]\n"
          ]
        },
        {
          "output_type": "stream",
          "name": "stdout",
          "text": [
            "Epoch [133/200], Train Loss: 0.1108\n",
            "Validation Loss: 0.1144\n"
          ]
        },
        {
          "output_type": "stream",
          "name": "stderr",
          "text": [
            "Epoch 134/200: 100%|██████████| 41/41 [00:01<00:00, 31.84it/s, loss=0.111]\n"
          ]
        },
        {
          "output_type": "stream",
          "name": "stdout",
          "text": [
            "Epoch [134/200], Train Loss: 0.1105\n",
            "Validation Loss: 0.1144\n"
          ]
        },
        {
          "output_type": "stream",
          "name": "stderr",
          "text": [
            "Epoch 135/200: 100%|██████████| 41/41 [00:01<00:00, 31.43it/s, loss=0.111]\n"
          ]
        },
        {
          "output_type": "stream",
          "name": "stdout",
          "text": [
            "Epoch [135/200], Train Loss: 0.1108\n",
            "Validation Loss: 0.1143\n"
          ]
        },
        {
          "output_type": "stream",
          "name": "stderr",
          "text": [
            "Epoch 136/200: 100%|██████████| 41/41 [00:01<00:00, 31.99it/s, loss=0.11]\n"
          ]
        },
        {
          "output_type": "stream",
          "name": "stdout",
          "text": [
            "Epoch [136/200], Train Loss: 0.1104\n",
            "Validation Loss: 0.1144\n"
          ]
        },
        {
          "output_type": "stream",
          "name": "stderr",
          "text": [
            "Epoch 137/200: 100%|██████████| 41/41 [00:01<00:00, 32.32it/s, loss=0.11]\n"
          ]
        },
        {
          "output_type": "stream",
          "name": "stdout",
          "text": [
            "Epoch [137/200], Train Loss: 0.1103\n",
            "Validation Loss: 0.1144\n"
          ]
        },
        {
          "output_type": "stream",
          "name": "stderr",
          "text": [
            "Epoch 138/200: 100%|██████████| 41/41 [00:01<00:00, 32.22it/s, loss=0.111]\n"
          ]
        },
        {
          "output_type": "stream",
          "name": "stdout",
          "text": [
            "Epoch [138/200], Train Loss: 0.1105\n",
            "Validation Loss: 0.1143\n"
          ]
        },
        {
          "output_type": "stream",
          "name": "stderr",
          "text": [
            "Epoch 139/200: 100%|██████████| 41/41 [00:01<00:00, 32.18it/s, loss=0.11]\n"
          ]
        },
        {
          "output_type": "stream",
          "name": "stdout",
          "text": [
            "Epoch [139/200], Train Loss: 0.1105\n",
            "Validation Loss: 0.1143\n"
          ]
        },
        {
          "output_type": "stream",
          "name": "stderr",
          "text": [
            "Epoch 140/200: 100%|██████████| 41/41 [00:01<00:00, 31.95it/s, loss=0.111]\n"
          ]
        },
        {
          "output_type": "stream",
          "name": "stdout",
          "text": [
            "Epoch [140/200], Train Loss: 0.1107\n",
            "Validation Loss: 0.1144\n"
          ]
        },
        {
          "output_type": "stream",
          "name": "stderr",
          "text": [
            "Epoch 141/200: 100%|██████████| 41/41 [00:01<00:00, 31.45it/s, loss=0.11]\n"
          ]
        },
        {
          "output_type": "stream",
          "name": "stdout",
          "text": [
            "Epoch [141/200], Train Loss: 0.1102\n",
            "Validation Loss: 0.1144\n"
          ]
        },
        {
          "output_type": "stream",
          "name": "stderr",
          "text": [
            "Epoch 142/200: 100%|██████████| 41/41 [00:01<00:00, 32.01it/s, loss=0.111]\n"
          ]
        },
        {
          "output_type": "stream",
          "name": "stdout",
          "text": [
            "Epoch [142/200], Train Loss: 0.1108\n",
            "Validation Loss: 0.1144\n"
          ]
        },
        {
          "output_type": "stream",
          "name": "stderr",
          "text": [
            "Epoch 143/200: 100%|██████████| 41/41 [00:01<00:00, 31.97it/s, loss=0.111]\n"
          ]
        },
        {
          "output_type": "stream",
          "name": "stdout",
          "text": [
            "Epoch [143/200], Train Loss: 0.1107\n",
            "Validation Loss: 0.1144\n"
          ]
        },
        {
          "output_type": "stream",
          "name": "stderr",
          "text": [
            "Epoch 144/200: 100%|██████████| 41/41 [00:01<00:00, 31.75it/s, loss=0.111]\n"
          ]
        },
        {
          "output_type": "stream",
          "name": "stdout",
          "text": [
            "Epoch [144/200], Train Loss: 0.1106\n",
            "Validation Loss: 0.1144\n"
          ]
        },
        {
          "output_type": "stream",
          "name": "stderr",
          "text": [
            "Epoch 145/200: 100%|██████████| 41/41 [00:01<00:00, 31.79it/s, loss=0.111]\n"
          ]
        },
        {
          "output_type": "stream",
          "name": "stdout",
          "text": [
            "Epoch [145/200], Train Loss: 0.1109\n",
            "Validation Loss: 0.1144\n"
          ]
        },
        {
          "output_type": "stream",
          "name": "stderr",
          "text": [
            "Epoch 146/200: 100%|██████████| 41/41 [00:01<00:00, 31.84it/s, loss=0.111]\n"
          ]
        },
        {
          "output_type": "stream",
          "name": "stdout",
          "text": [
            "Epoch [146/200], Train Loss: 0.1108\n",
            "Validation Loss: 0.1143\n"
          ]
        },
        {
          "output_type": "stream",
          "name": "stderr",
          "text": [
            "Epoch 147/200: 100%|██████████| 41/41 [00:01<00:00, 32.05it/s, loss=0.11]\n"
          ]
        },
        {
          "output_type": "stream",
          "name": "stdout",
          "text": [
            "Epoch [147/200], Train Loss: 0.1103\n",
            "Validation Loss: 0.1143\n"
          ]
        },
        {
          "output_type": "stream",
          "name": "stderr",
          "text": [
            "Epoch 148/200: 100%|██████████| 41/41 [00:01<00:00, 32.17it/s, loss=0.11]\n"
          ]
        },
        {
          "output_type": "stream",
          "name": "stdout",
          "text": [
            "Epoch [148/200], Train Loss: 0.1103\n",
            "Validation Loss: 0.1144\n"
          ]
        },
        {
          "output_type": "stream",
          "name": "stderr",
          "text": [
            "Epoch 149/200: 100%|██████████| 41/41 [00:01<00:00, 32.06it/s, loss=0.11]\n"
          ]
        },
        {
          "output_type": "stream",
          "name": "stdout",
          "text": [
            "Epoch [149/200], Train Loss: 0.1104\n",
            "Validation Loss: 0.1144\n"
          ]
        },
        {
          "output_type": "stream",
          "name": "stderr",
          "text": [
            "Epoch 150/200: 100%|██████████| 41/41 [00:01<00:00, 31.62it/s, loss=0.111]\n"
          ]
        },
        {
          "output_type": "stream",
          "name": "stdout",
          "text": [
            "Epoch [150/200], Train Loss: 0.1106\n",
            "Validation Loss: 0.1144\n"
          ]
        },
        {
          "output_type": "stream",
          "name": "stderr",
          "text": [
            "Epoch 151/200: 100%|██████████| 41/41 [00:01<00:00, 32.11it/s, loss=0.111]\n"
          ]
        },
        {
          "output_type": "stream",
          "name": "stdout",
          "text": [
            "Epoch [151/200], Train Loss: 0.1106\n",
            "Validation Loss: 0.1143\n"
          ]
        },
        {
          "output_type": "stream",
          "name": "stderr",
          "text": [
            "Epoch 152/200: 100%|██████████| 41/41 [00:01<00:00, 31.67it/s, loss=0.11]\n"
          ]
        },
        {
          "output_type": "stream",
          "name": "stdout",
          "text": [
            "Epoch [152/200], Train Loss: 0.1104\n",
            "Validation Loss: 0.1144\n"
          ]
        },
        {
          "output_type": "stream",
          "name": "stderr",
          "text": [
            "Epoch 153/200: 100%|██████████| 41/41 [00:01<00:00, 31.87it/s, loss=0.111]\n"
          ]
        },
        {
          "output_type": "stream",
          "name": "stdout",
          "text": [
            "Epoch [153/200], Train Loss: 0.1110\n",
            "Validation Loss: 0.1144\n"
          ]
        },
        {
          "output_type": "stream",
          "name": "stderr",
          "text": [
            "Epoch 154/200: 100%|██████████| 41/41 [00:01<00:00, 32.12it/s, loss=0.111]\n"
          ]
        },
        {
          "output_type": "stream",
          "name": "stdout",
          "text": [
            "Epoch [154/200], Train Loss: 0.1105\n",
            "Validation Loss: 0.1144\n"
          ]
        },
        {
          "output_type": "stream",
          "name": "stderr",
          "text": [
            "Epoch 155/200: 100%|██████████| 41/41 [00:01<00:00, 32.12it/s, loss=0.111]\n"
          ]
        },
        {
          "output_type": "stream",
          "name": "stdout",
          "text": [
            "Epoch [155/200], Train Loss: 0.1109\n",
            "Validation Loss: 0.1143\n"
          ]
        },
        {
          "output_type": "stream",
          "name": "stderr",
          "text": [
            "Epoch 156/200: 100%|██████████| 41/41 [00:01<00:00, 31.93it/s, loss=0.111]\n"
          ]
        },
        {
          "output_type": "stream",
          "name": "stdout",
          "text": [
            "Epoch [156/200], Train Loss: 0.1106\n",
            "Validation Loss: 0.1143\n"
          ]
        },
        {
          "output_type": "stream",
          "name": "stderr",
          "text": [
            "Epoch 157/200: 100%|██████████| 41/41 [00:01<00:00, 32.35it/s, loss=0.11]\n"
          ]
        },
        {
          "output_type": "stream",
          "name": "stdout",
          "text": [
            "Epoch [157/200], Train Loss: 0.1104\n",
            "Validation Loss: 0.1144\n"
          ]
        },
        {
          "output_type": "stream",
          "name": "stderr",
          "text": [
            "Epoch 158/200: 100%|██████████| 41/41 [00:01<00:00, 31.84it/s, loss=0.11]\n"
          ]
        },
        {
          "output_type": "stream",
          "name": "stdout",
          "text": [
            "Epoch [158/200], Train Loss: 0.1103\n",
            "Validation Loss: 0.1144\n"
          ]
        },
        {
          "output_type": "stream",
          "name": "stderr",
          "text": [
            "Epoch 159/200: 100%|██████████| 41/41 [00:01<00:00, 31.98it/s, loss=0.11]\n"
          ]
        },
        {
          "output_type": "stream",
          "name": "stdout",
          "text": [
            "Epoch [159/200], Train Loss: 0.1104\n",
            "Validation Loss: 0.1144\n"
          ]
        },
        {
          "output_type": "stream",
          "name": "stderr",
          "text": [
            "Epoch 160/200: 100%|██████████| 41/41 [00:01<00:00, 32.23it/s, loss=0.111]\n"
          ]
        },
        {
          "output_type": "stream",
          "name": "stdout",
          "text": [
            "Epoch [160/200], Train Loss: 0.1107\n",
            "Validation Loss: 0.1144\n"
          ]
        },
        {
          "output_type": "stream",
          "name": "stderr",
          "text": [
            "Epoch 161/200: 100%|██████████| 41/41 [00:01<00:00, 32.34it/s, loss=0.111]\n"
          ]
        },
        {
          "output_type": "stream",
          "name": "stdout",
          "text": [
            "Epoch [161/200], Train Loss: 0.1106\n",
            "Validation Loss: 0.1144\n"
          ]
        },
        {
          "output_type": "stream",
          "name": "stderr",
          "text": [
            "Epoch 162/200: 100%|██████████| 41/41 [00:01<00:00, 32.09it/s, loss=0.111]\n"
          ]
        },
        {
          "output_type": "stream",
          "name": "stdout",
          "text": [
            "Epoch [162/200], Train Loss: 0.1106\n",
            "Validation Loss: 0.1144\n"
          ]
        },
        {
          "output_type": "stream",
          "name": "stderr",
          "text": [
            "Epoch 163/200: 100%|██████████| 41/41 [00:01<00:00, 32.16it/s, loss=0.11]\n"
          ]
        },
        {
          "output_type": "stream",
          "name": "stdout",
          "text": [
            "Epoch [163/200], Train Loss: 0.1104\n",
            "Validation Loss: 0.1144\n"
          ]
        },
        {
          "output_type": "stream",
          "name": "stderr",
          "text": [
            "Epoch 164/200: 100%|██████████| 41/41 [00:01<00:00, 31.99it/s, loss=0.11]\n"
          ]
        },
        {
          "output_type": "stream",
          "name": "stdout",
          "text": [
            "Epoch [164/200], Train Loss: 0.1103\n",
            "Validation Loss: 0.1144\n"
          ]
        },
        {
          "output_type": "stream",
          "name": "stderr",
          "text": [
            "Epoch 165/200: 100%|██████████| 41/41 [00:01<00:00, 31.99it/s, loss=0.111]\n"
          ]
        },
        {
          "output_type": "stream",
          "name": "stdout",
          "text": [
            "Epoch [165/200], Train Loss: 0.1109\n",
            "Validation Loss: 0.1143\n"
          ]
        },
        {
          "output_type": "stream",
          "name": "stderr",
          "text": [
            "Epoch 166/200: 100%|██████████| 41/41 [00:01<00:00, 31.54it/s, loss=0.11]\n"
          ]
        },
        {
          "output_type": "stream",
          "name": "stdout",
          "text": [
            "Epoch [166/200], Train Loss: 0.1103\n",
            "Validation Loss: 0.1143\n"
          ]
        },
        {
          "output_type": "stream",
          "name": "stderr",
          "text": [
            "Epoch 167/200: 100%|██████████| 41/41 [00:01<00:00, 31.16it/s, loss=0.111]\n"
          ]
        },
        {
          "output_type": "stream",
          "name": "stdout",
          "text": [
            "Epoch [167/200], Train Loss: 0.1109\n",
            "Validation Loss: 0.1144\n"
          ]
        },
        {
          "output_type": "stream",
          "name": "stderr",
          "text": [
            "Epoch 168/200: 100%|██████████| 41/41 [00:01<00:00, 31.35it/s, loss=0.111]\n"
          ]
        },
        {
          "output_type": "stream",
          "name": "stdout",
          "text": [
            "Epoch [168/200], Train Loss: 0.1110\n",
            "Validation Loss: 0.1143\n"
          ]
        },
        {
          "output_type": "stream",
          "name": "stderr",
          "text": [
            "Epoch 169/200: 100%|██████████| 41/41 [00:01<00:00, 31.36it/s, loss=0.11]\n"
          ]
        },
        {
          "output_type": "stream",
          "name": "stdout",
          "text": [
            "Epoch [169/200], Train Loss: 0.1104\n",
            "Validation Loss: 0.1143\n"
          ]
        },
        {
          "output_type": "stream",
          "name": "stderr",
          "text": [
            "Epoch 170/200: 100%|██████████| 41/41 [00:01<00:00, 31.07it/s, loss=0.11]\n"
          ]
        },
        {
          "output_type": "stream",
          "name": "stdout",
          "text": [
            "Epoch [170/200], Train Loss: 0.1104\n",
            "Validation Loss: 0.1144\n"
          ]
        },
        {
          "output_type": "stream",
          "name": "stderr",
          "text": [
            "Epoch 171/200: 100%|██████████| 41/41 [00:01<00:00, 31.55it/s, loss=0.11]\n"
          ]
        },
        {
          "output_type": "stream",
          "name": "stdout",
          "text": [
            "Epoch [171/200], Train Loss: 0.1103\n",
            "Validation Loss: 0.1143\n"
          ]
        },
        {
          "output_type": "stream",
          "name": "stderr",
          "text": [
            "Epoch 172/200: 100%|██████████| 41/41 [00:01<00:00, 31.47it/s, loss=0.11]\n"
          ]
        },
        {
          "output_type": "stream",
          "name": "stdout",
          "text": [
            "Epoch [172/200], Train Loss: 0.1104\n",
            "Validation Loss: 0.1143\n"
          ]
        },
        {
          "output_type": "stream",
          "name": "stderr",
          "text": [
            "Epoch 173/200: 100%|██████████| 41/41 [00:01<00:00, 31.79it/s, loss=0.111]\n"
          ]
        },
        {
          "output_type": "stream",
          "name": "stdout",
          "text": [
            "Epoch [173/200], Train Loss: 0.1105\n",
            "Validation Loss: 0.1143\n"
          ]
        },
        {
          "output_type": "stream",
          "name": "stderr",
          "text": [
            "Epoch 174/200: 100%|██████████| 41/41 [00:01<00:00, 31.34it/s, loss=0.11]\n"
          ]
        },
        {
          "output_type": "stream",
          "name": "stdout",
          "text": [
            "Epoch [174/200], Train Loss: 0.1104\n",
            "Validation Loss: 0.1144\n"
          ]
        },
        {
          "output_type": "stream",
          "name": "stderr",
          "text": [
            "Epoch 175/200: 100%|██████████| 41/41 [00:01<00:00, 31.43it/s, loss=0.11]\n"
          ]
        },
        {
          "output_type": "stream",
          "name": "stdout",
          "text": [
            "Epoch [175/200], Train Loss: 0.1102\n",
            "Validation Loss: 0.1143\n"
          ]
        },
        {
          "output_type": "stream",
          "name": "stderr",
          "text": [
            "Epoch 176/200: 100%|██████████| 41/41 [00:01<00:00, 31.12it/s, loss=0.11]\n"
          ]
        },
        {
          "output_type": "stream",
          "name": "stdout",
          "text": [
            "Epoch [176/200], Train Loss: 0.1104\n",
            "Validation Loss: 0.1144\n"
          ]
        },
        {
          "output_type": "stream",
          "name": "stderr",
          "text": [
            "Epoch 177/200: 100%|██████████| 41/41 [00:01<00:00, 31.67it/s, loss=0.111]\n"
          ]
        },
        {
          "output_type": "stream",
          "name": "stdout",
          "text": [
            "Epoch [177/200], Train Loss: 0.1106\n",
            "Validation Loss: 0.1144\n"
          ]
        },
        {
          "output_type": "stream",
          "name": "stderr",
          "text": [
            "Epoch 178/200: 100%|██████████| 41/41 [00:01<00:00, 31.56it/s, loss=0.111]\n"
          ]
        },
        {
          "output_type": "stream",
          "name": "stdout",
          "text": [
            "Epoch [178/200], Train Loss: 0.1107\n",
            "Validation Loss: 0.1143\n"
          ]
        },
        {
          "output_type": "stream",
          "name": "stderr",
          "text": [
            "Epoch 179/200: 100%|██████████| 41/41 [00:01<00:00, 31.49it/s, loss=0.111]\n"
          ]
        },
        {
          "output_type": "stream",
          "name": "stdout",
          "text": [
            "Epoch [179/200], Train Loss: 0.1107\n",
            "Validation Loss: 0.1144\n"
          ]
        },
        {
          "output_type": "stream",
          "name": "stderr",
          "text": [
            "Epoch 180/200: 100%|██████████| 41/41 [00:01<00:00, 31.48it/s, loss=0.111]\n"
          ]
        },
        {
          "output_type": "stream",
          "name": "stdout",
          "text": [
            "Epoch [180/200], Train Loss: 0.1109\n",
            "Validation Loss: 0.1143\n"
          ]
        },
        {
          "output_type": "stream",
          "name": "stderr",
          "text": [
            "Epoch 181/200: 100%|██████████| 41/41 [00:01<00:00, 31.36it/s, loss=0.111]\n"
          ]
        },
        {
          "output_type": "stream",
          "name": "stdout",
          "text": [
            "Epoch [181/200], Train Loss: 0.1109\n",
            "Validation Loss: 0.1145\n"
          ]
        },
        {
          "output_type": "stream",
          "name": "stderr",
          "text": [
            "Epoch 182/200: 100%|██████████| 41/41 [00:01<00:00, 31.51it/s, loss=0.111]\n"
          ]
        },
        {
          "output_type": "stream",
          "name": "stdout",
          "text": [
            "Epoch [182/200], Train Loss: 0.1107\n",
            "Validation Loss: 0.1144\n"
          ]
        },
        {
          "output_type": "stream",
          "name": "stderr",
          "text": [
            "Epoch 183/200: 100%|██████████| 41/41 [00:01<00:00, 31.49it/s, loss=0.11]\n"
          ]
        },
        {
          "output_type": "stream",
          "name": "stdout",
          "text": [
            "Epoch [183/200], Train Loss: 0.1104\n",
            "Validation Loss: 0.1144\n"
          ]
        },
        {
          "output_type": "stream",
          "name": "stderr",
          "text": [
            "Epoch 184/200: 100%|██████████| 41/41 [00:01<00:00, 31.22it/s, loss=0.111]\n"
          ]
        },
        {
          "output_type": "stream",
          "name": "stdout",
          "text": [
            "Epoch [184/200], Train Loss: 0.1109\n",
            "Validation Loss: 0.1144\n"
          ]
        },
        {
          "output_type": "stream",
          "name": "stderr",
          "text": [
            "Epoch 185/200: 100%|██████████| 41/41 [00:01<00:00, 31.03it/s, loss=0.111]\n"
          ]
        },
        {
          "output_type": "stream",
          "name": "stdout",
          "text": [
            "Epoch [185/200], Train Loss: 0.1107\n",
            "Validation Loss: 0.1144\n"
          ]
        },
        {
          "output_type": "stream",
          "name": "stderr",
          "text": [
            "Epoch 186/200: 100%|██████████| 41/41 [00:01<00:00, 31.40it/s, loss=0.111]\n"
          ]
        },
        {
          "output_type": "stream",
          "name": "stdout",
          "text": [
            "Epoch [186/200], Train Loss: 0.1106\n",
            "Validation Loss: 0.1143\n"
          ]
        },
        {
          "output_type": "stream",
          "name": "stderr",
          "text": [
            "Epoch 187/200: 100%|██████████| 41/41 [00:01<00:00, 31.44it/s, loss=0.11]\n"
          ]
        },
        {
          "output_type": "stream",
          "name": "stdout",
          "text": [
            "Epoch [187/200], Train Loss: 0.1104\n",
            "Validation Loss: 0.1144\n"
          ]
        },
        {
          "output_type": "stream",
          "name": "stderr",
          "text": [
            "Epoch 188/200: 100%|██████████| 41/41 [00:01<00:00, 31.20it/s, loss=0.11]\n"
          ]
        },
        {
          "output_type": "stream",
          "name": "stdout",
          "text": [
            "Epoch [188/200], Train Loss: 0.1104\n",
            "Validation Loss: 0.1144\n"
          ]
        },
        {
          "output_type": "stream",
          "name": "stderr",
          "text": [
            "Epoch 189/200: 100%|██████████| 41/41 [00:01<00:00, 31.48it/s, loss=0.11]\n"
          ]
        },
        {
          "output_type": "stream",
          "name": "stdout",
          "text": [
            "Epoch [189/200], Train Loss: 0.1104\n",
            "Validation Loss: 0.1143\n"
          ]
        },
        {
          "output_type": "stream",
          "name": "stderr",
          "text": [
            "Epoch 190/200: 100%|██████████| 41/41 [00:01<00:00, 31.21it/s, loss=0.11]\n"
          ]
        },
        {
          "output_type": "stream",
          "name": "stdout",
          "text": [
            "Epoch [190/200], Train Loss: 0.1102\n",
            "Validation Loss: 0.1144\n"
          ]
        },
        {
          "output_type": "stream",
          "name": "stderr",
          "text": [
            "Epoch 191/200: 100%|██████████| 41/41 [00:01<00:00, 31.27it/s, loss=0.11]\n"
          ]
        },
        {
          "output_type": "stream",
          "name": "stdout",
          "text": [
            "Epoch [191/200], Train Loss: 0.1103\n",
            "Validation Loss: 0.1144\n"
          ]
        },
        {
          "output_type": "stream",
          "name": "stderr",
          "text": [
            "Epoch 192/200: 100%|██████████| 41/41 [00:01<00:00, 31.21it/s, loss=0.111]\n"
          ]
        },
        {
          "output_type": "stream",
          "name": "stdout",
          "text": [
            "Epoch [192/200], Train Loss: 0.1106\n",
            "Validation Loss: 0.1143\n"
          ]
        },
        {
          "output_type": "stream",
          "name": "stderr",
          "text": [
            "Epoch 193/200: 100%|██████████| 41/41 [00:01<00:00, 31.25it/s, loss=0.111]\n"
          ]
        },
        {
          "output_type": "stream",
          "name": "stdout",
          "text": [
            "Epoch [193/200], Train Loss: 0.1107\n",
            "Validation Loss: 0.1143\n"
          ]
        },
        {
          "output_type": "stream",
          "name": "stderr",
          "text": [
            "Epoch 194/200: 100%|██████████| 41/41 [00:01<00:00, 31.34it/s, loss=0.111]\n"
          ]
        },
        {
          "output_type": "stream",
          "name": "stdout",
          "text": [
            "Epoch [194/200], Train Loss: 0.1108\n",
            "Validation Loss: 0.1143\n"
          ]
        },
        {
          "output_type": "stream",
          "name": "stderr",
          "text": [
            "Epoch 195/200: 100%|██████████| 41/41 [00:01<00:00, 32.10it/s, loss=0.11]\n"
          ]
        },
        {
          "output_type": "stream",
          "name": "stdout",
          "text": [
            "Epoch [195/200], Train Loss: 0.1103\n",
            "Validation Loss: 0.1143\n"
          ]
        },
        {
          "output_type": "stream",
          "name": "stderr",
          "text": [
            "Epoch 196/200: 100%|██████████| 41/41 [00:01<00:00, 31.84it/s, loss=0.11]\n"
          ]
        },
        {
          "output_type": "stream",
          "name": "stdout",
          "text": [
            "Epoch [196/200], Train Loss: 0.1101\n",
            "Validation Loss: 0.1144\n"
          ]
        },
        {
          "output_type": "stream",
          "name": "stderr",
          "text": [
            "Epoch 197/200: 100%|██████████| 41/41 [00:01<00:00, 31.02it/s, loss=0.11]\n"
          ]
        },
        {
          "output_type": "stream",
          "name": "stdout",
          "text": [
            "Epoch [197/200], Train Loss: 0.1102\n",
            "Validation Loss: 0.1144\n"
          ]
        },
        {
          "output_type": "stream",
          "name": "stderr",
          "text": [
            "Epoch 198/200: 100%|██████████| 41/41 [00:01<00:00, 32.28it/s, loss=0.111]\n"
          ]
        },
        {
          "output_type": "stream",
          "name": "stdout",
          "text": [
            "Epoch [198/200], Train Loss: 0.1105\n",
            "Validation Loss: 0.1145\n"
          ]
        },
        {
          "output_type": "stream",
          "name": "stderr",
          "text": [
            "Epoch 199/200: 100%|██████████| 41/41 [00:01<00:00, 32.27it/s, loss=0.111]\n"
          ]
        },
        {
          "output_type": "stream",
          "name": "stdout",
          "text": [
            "Epoch [199/200], Train Loss: 0.1108\n",
            "Validation Loss: 0.1145\n"
          ]
        },
        {
          "output_type": "stream",
          "name": "stderr",
          "text": [
            "Epoch 200/200: 100%|██████████| 41/41 [00:01<00:00, 31.59it/s, loss=0.111]\n"
          ]
        },
        {
          "output_type": "stream",
          "name": "stdout",
          "text": [
            "Epoch [200/200], Train Loss: 0.1106\n",
            "Validation Loss: 0.1143\n"
          ]
        }
      ],
      "source": [
        "from torch.optim.lr_scheduler import ReduceLROnPlateau\n",
        "loss_fn = nn.MSELoss()\n",
        "#model = ShallowCNN2(num_neuron=168)\n",
        "#model.apply(ShallowCNN2.init_weights)\n",
        "model = MobilnetStudent(num_neuron=168)\n",
        "model.apply(MobilnetStudent.init_weights)\n",
        "model.to(device)\n",
        "\n",
        "optimizer = AdamW(model.parameters(), lr=0.005, weight_decay=1e-5)\n",
        "scheduler = ReduceLROnPlateau(optimizer=optimizer, mode='min', factor=0.1, patience=5)\n",
        "train_model(model, ITdataloader_train, ITdataloader_val, loss_fn, optimizer, num_epochs=200, scheduler=scheduler)\n",
        "\n",
        "save_path = '/content/drive/MyDrive/nx414/MobilnetStudent.pth'\n",
        "torch.save(model.state_dict(), save_path)"
      ]
    },
    {
      "cell_type": "code",
      "source": [
        "load_path = '/content/drive/MyDrive/nx414/shallow_cnn2.pth'\n",
        "model = ShallowCNN2(num_neuron=168)\n",
        "model.to(device)\n",
        "model.load_state_dict(torch.load(load_path))"
      ],
      "metadata": {
        "colab": {
          "base_uri": "https://localhost:8080/"
        },
        "id": "98xyevTkTNPu",
        "outputId": "b72d47fc-ac4d-4a1f-ba9f-4f58651ea533"
      },
      "id": "98xyevTkTNPu",
      "execution_count": null,
      "outputs": [
        {
          "output_type": "execute_result",
          "data": {
            "text/plain": [
              "<All keys matched successfully>"
            ]
          },
          "metadata": {},
          "execution_count": 29
        }
      ]
    },
    {
      "cell_type": "code",
      "source": [
        "model.eval()\n",
        "\n",
        "prediction_train = []\n",
        "\n",
        "ITdataloader_train2 = DataLoader(SpikeData(stimulus_train, spikes_train), batch_size=64, shuffle=False)\n",
        "\n",
        "with torch.no_grad():\n",
        "    for stimulus, _ in ITdataloader_train2:\n",
        "        inputs = stimulus.to(device)\n",
        "        outputs = model(inputs)\n",
        "        prediction_train.append(outputs.cpu())\n",
        "\n",
        "prediction_train = torch.cat(prediction_train, dim=0)\n",
        "prediction_train.shape"
      ],
      "metadata": {
        "colab": {
          "base_uri": "https://localhost:8080/"
        },
        "id": "aA3MWg8u5rJo",
        "outputId": "4ecccde7-12f8-438d-f5f9-f2c1cdd1b8c1"
      },
      "id": "aA3MWg8u5rJo",
      "execution_count": 21,
      "outputs": [
        {
          "output_type": "execute_result",
          "data": {
            "text/plain": [
              "torch.Size([2592, 168])"
            ]
          },
          "metadata": {},
          "execution_count": 21
        }
      ]
    },
    {
      "cell_type": "code",
      "source": [
        "model.eval()\n",
        "\n",
        "prediction_val = []\n",
        "\n",
        "with torch.no_grad():\n",
        "    for stimulus, _ in ITdataloader_val:\n",
        "        inputs = stimulus.to(device)\n",
        "        outputs = model(inputs)\n",
        "        prediction_val.append(outputs.cpu())\n",
        "\n",
        "prediction_val = torch.cat(prediction_val, dim=0)\n",
        "prediction_val.shape"
      ],
      "metadata": {
        "colab": {
          "base_uri": "https://localhost:8080/"
        },
        "id": "DWpjZaEJ6i7N",
        "outputId": "302858f6-7dc3-4c09-afb8-00418b890962"
      },
      "id": "DWpjZaEJ6i7N",
      "execution_count": 22,
      "outputs": [
        {
          "output_type": "execute_result",
          "data": {
            "text/plain": [
              "torch.Size([288, 168])"
            ]
          },
          "metadata": {},
          "execution_count": 22
        }
      ]
    },
    {
      "cell_type": "code",
      "source": [
        "import matplotlib.pyplot as plt\n",
        "\n",
        "n_neurons = spikes_train.shape[1]\n",
        "\n",
        "pearson_corr_shallowcnn = np.zeros((n_neurons,2))\n",
        "for i in range(n_neurons):\n",
        "    pearson_corr_shallowcnn[i,0] = np.corrcoef(spikes_train[:, i],prediction_train[:, i])[0, 1]\n",
        "    pearson_corr_shallowcnn[i,1] = np.corrcoef(spikes_val[:, i],prediction_val[:, i])[0, 1]\n",
        "plt.figure()\n",
        "plt.title('Pearson correlation coefficients')\n",
        "plt.plot(pearson_corr_shallowcnn[:,1], label='validation')\n",
        "plt.plot(pearson_corr_shallowcnn[:,0], label='training')\n",
        "plt.legend()\n",
        "plt.show()\n",
        "plt.figure()\n",
        "\n",
        "print(f\"Pearson correlation on training set: {np.mean(pearson_corr_shallowcnn[:,0])}\")\n",
        "print(f\"Pearson correlation on validation set: {np.mean(pearson_corr_shallowcnn[:,1])}\")"
      ],
      "metadata": {
        "colab": {
          "base_uri": "https://localhost:8080/",
          "height": 506
        },
        "id": "u7XWAhmg7g3I",
        "outputId": "5d355bbe-70e7-4f95-b79d-070429732d57"
      },
      "id": "u7XWAhmg7g3I",
      "execution_count": 23,
      "outputs": [
        {
          "output_type": "display_data",
          "data": {
            "text/plain": [
              "<Figure size 640x480 with 1 Axes>"
            ],
            "image/png": "[encoded data removed]"
          },
          "metadata": {}
        },
        {
          "output_type": "stream",
          "name": "stdout",
          "text": [
            "Pearson correlation on training set: 0.4226278358396013\n",
            "Pearson correlation on validation set: 0.4036178407021704\n"
          ]
        },
        {
          "output_type": "display_data",
          "data": {
            "text/plain": [
              "<Figure size 640x480 with 0 Axes>"
            ]
          },
          "metadata": {}
        }
      ]
    },
    {
      "cell_type": "code",
      "source": [
        "from sklearn.metrics import r2_score\n",
        "\n",
        "r2_train = [r2_score(spikes_train[:, i], prediction_train[:, i]) for i in range(spikes_train.shape[1])]\n",
        "r2_val = [r2_score(spikes_val[:, i], prediction_val[:, i]) for i in range(spikes_val.shape[1])]\n",
        "\n",
        "plt.figure(figsize=(12, 5))\n",
        "plt.bar(range(len(r2_train)), r2_train)\n",
        "plt.bar(range(len(r2_val)), r2_val)\n",
        "plt.xlabel('Neuron Index')\n",
        "plt.ylabel('R² Score')\n",
        "plt.title('R² Score per Neuron')\n",
        "plt.grid(True)\n",
        "plt.show()"
      ],
      "metadata": {
        "colab": {
          "base_uri": "https://localhost:8080/",
          "height": 448
        },
        "id": "D1a5IjvBkEP_",
        "outputId": "ba8d28ca-a95c-4503-cb34-15033e741cf0"
      },
      "id": "D1a5IjvBkEP_",
      "execution_count": 24,
      "outputs": [
        {
          "output_type": "display_data",
          "data": {
            "text/plain": [
              "<Figure size 1200x500 with 1 Axes>"
            ],
            "image/png": "[encoded data removed]"
          },
          "metadata": {}
        }
      ]
    },
    {
      "cell_type": "code",
      "source": [
        "example_id = 4\n",
        "\n",
        "plt.figure(figsize= (10,8))\n",
        "plt.title(f'Neural activity prediction of neuron {example_id} in validation set')\n",
        "plt.plot(spikes_val[:,example_id], label = \"True\")\n",
        "plt.plot(prediction_val[:,example_id], label = \"Prediction\")\n",
        "plt.legend()\n",
        "plt.show()\n",
        "plt.figure()"
      ],
      "metadata": {
        "colab": {
          "base_uri": "https://localhost:8080/",
          "height": 735
        },
        "id": "sZPXOFJX8yXO",
        "outputId": "0107ec67-d024-4dda-bfba-7cdf2c78a0ab"
      },
      "id": "sZPXOFJX8yXO",
      "execution_count": 25,
      "outputs": [
        {
          "output_type": "display_data",
          "data": {
            "text/plain": [
              "<Figure size 1000x800 with 1 Axes>"
            ],
            "image/png": "[encoded data removed]"
          },
          "metadata": {}
        },
        {
          "output_type": "execute_result",
          "data": {
            "text/plain": [
              "<Figure size 640x480 with 0 Axes>"
            ]
          },
          "metadata": {},
          "execution_count": 25
        },
        {
          "output_type": "display_data",
          "data": {
            "text/plain": [
              "<Figure size 640x480 with 0 Axes>"
            ]
          },
          "metadata": {}
        }
      ]
    },
    {
      "cell_type": "code",
      "source": [
        "model.eval()\n",
        "\n",
        "prediction_test = []\n",
        "\n",
        "with torch.no_grad():\n",
        "    for stimulus in ITdataloader_test:\n",
        "        inputs = stimulus.to(device)\n",
        "        outputs = model(inputs)\n",
        "        prediction_test.append(outputs.cpu())\n",
        "\n",
        "prediction_test = torch.cat(prediction_test, dim=0)\n",
        "prediction_test.shape"
      ],
      "metadata": {
        "colab": {
          "base_uri": "https://localhost:8080/"
        },
        "id": "SoAkfooRsVuS",
        "outputId": "0563f308-cc87-41ab-9213-bf47f131b91c"
      },
      "id": "SoAkfooRsVuS",
      "execution_count": 26,
      "outputs": [
        {
          "output_type": "execute_result",
          "data": {
            "text/plain": [
              "torch.Size([320, 168])"
            ]
          },
          "metadata": {},
          "execution_count": 26
        }
      ]
    },
    {
      "cell_type": "code",
      "source": [
        "example_id = 4\n",
        "\n",
        "plt.figure(figsize= (10,8))\n",
        "plt.title(f'Neural activity prediction of neuron {example_id} in test set')\n",
        "plt.plot(prediction_test[:,example_id], label = \"Prediction\")\n",
        "plt.legend()\n",
        "plt.show()\n",
        "plt.figure()"
      ],
      "metadata": {
        "colab": {
          "base_uri": "https://localhost:8080/",
          "height": 735
        },
        "id": "DtvBmPJntKYy",
        "outputId": "f48a0294-3c2d-4c94-d1ef-7d6da679680e"
      },
      "id": "DtvBmPJntKYy",
      "execution_count": 27,
      "outputs": [
        {
          "output_type": "display_data",
          "data": {
            "text/plain": [
              "<Figure size 1000x800 with 1 Axes>"
            ],
            "image/png": "[encoded data removed]"
          },
          "metadata": {}
        },
        {
          "output_type": "execute_result",
          "data": {
            "text/plain": [
              "<Figure size 640x480 with 0 Axes>"
            ]
          },
          "metadata": {},
          "execution_count": 27
        },
        {
          "output_type": "display_data",
          "data": {
            "text/plain": [
              "<Figure size 640x480 with 0 Axes>"
            ]
          },
          "metadata": {}
        }
      ]
    }
  ],
  "metadata": {
    "kernelspec": {
      "display_name": "Python 3",
      "name": "python3"
    },
    "language_info": {
      "codemirror_mode": {
        "name": "ipython",
        "version": 3
      },
      "file_extension": ".py",
      "mimetype": "text/x-python",
      "name": "python",
      "nbconvert_exporter": "python",
      "pygments_lexer": "ipython3",
      "version": "3.11.6"
    },
    "colab": {
      "provenance": [],
      "gpuType": "L4",
      "include_colab_link": true
    },
    "accelerator": "GPU"
  },
  "nbformat": 4,
  "nbformat_minor": 5
}