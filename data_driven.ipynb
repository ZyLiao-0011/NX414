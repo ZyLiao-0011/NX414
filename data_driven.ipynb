{
  "cells": [
    {
      "cell_type": "markdown",
      "metadata": {
        "id": "view-in-github",
        "colab_type": "text"
      },
      "source": [
        "<a href=\"https://colab.research.google.com/github/ZyLiao-0011/NX414/blob/main/data_driven.ipynb\" target=\"_parent\"><img src=\"https://colab.research.google.com/assets/colab-badge.svg\" alt=\"Open In Colab\"/></a>"
      ]
    },
    {
      "cell_type": "code",
      "execution_count": 1,
      "id": "f38899ec",
      "metadata": {
        "id": "f38899ec"
      },
      "outputs": [],
      "source": [
        "import torch\n",
        "import torch.nn as nn\n",
        "import torch.nn.functional as F\n",
        "from torch.nn import init\n",
        "from torch.nn import Parameter\n",
        "from torch.utils.data import DataLoader, Dataset\n",
        "from torch.optim import AdamW\n",
        "\n",
        "from tqdm import tqdm\n",
        "import numpy as np\n",
        "import pandas as pd\n",
        "import h5py\n",
        "import os\n",
        "device = torch.device(\"cuda\" if torch.cuda.is_available() else \"cpu\")"
      ]
    },
    {
      "cell_type": "code",
      "source": [
        "from google.colab import drive\n",
        "drive.mount('/content/drive')"
      ],
      "metadata": {
        "colab": {
          "base_uri": "https://localhost:8080/"
        },
        "id": "nK6EXYVg7zQ3",
        "outputId": "a120f7e0-0d62-4809-aae4-10910b20f240"
      },
      "id": "nK6EXYVg7zQ3",
      "execution_count": 2,
      "outputs": [
        {
          "output_type": "stream",
          "name": "stdout",
          "text": [
            "Drive already mounted at /content/drive; to attempt to forcibly remount, call drive.mount(\"/content/drive\", force_remount=True).\n"
          ]
        }
      ]
    },
    {
      "cell_type": "code",
      "execution_count": 3,
      "id": "f3421a7c",
      "metadata": {
        "id": "f3421a7c"
      },
      "outputs": [],
      "source": [
        "import sys\n",
        "sys.path.append('/content/drive/MyDrive/nx414')\n",
        "from utils import load_it_data, visualize_img"
      ]
    },
    {
      "cell_type": "code",
      "source": [
        "path_to_data = '/content/drive/MyDrive/nx414' ## Insert the folder where the data is, if you download in the same folder as this notebook then leave it blank\n",
        "\n",
        "stimulus_train, stimulus_val, stimulus_test, objects_train, objects_val, objects_test, spikes_train, spikes_val = load_it_data(path_to_data)"
      ],
      "metadata": {
        "id": "DtFyx_LX84i0"
      },
      "id": "DtFyx_LX84i0",
      "execution_count": 4,
      "outputs": []
    },
    {
      "cell_type": "code",
      "execution_count": 5,
      "id": "02ca3c94",
      "metadata": {
        "id": "02ca3c94"
      },
      "outputs": [],
      "source": [
        "from sklearn.preprocessing import LabelEncoder\n",
        "\n",
        "label_encoder = LabelEncoder()\n",
        "objects_train_encoded = label_encoder.fit_transform(objects_train)"
      ]
    },
    {
      "cell_type": "code",
      "execution_count": 6,
      "id": "562024cc",
      "metadata": {
        "id": "562024cc"
      },
      "outputs": [],
      "source": [
        "class SpikeData(Dataset):\n",
        "    def __init__(self,stimulus,objects,label_encoder = None):\n",
        "        self.stimulus = torch.tensor(stimulus)\n",
        "        #self.objects = objects\n",
        "        #self.labels = label_encoder.transform(objects)\n",
        "        self.labels = torch.tensor(label_encoder.transform(objects))\n",
        "        #self.spikes = spikes if spikes is not None else np.zeros((stimulus.shape[0], stimulus.shape[1], 1))\n",
        "\n",
        "        self.number_of_class = np.unique(objects).shape[0]\n",
        "    def __len__(self):\n",
        "        return len(self.stimulus)\n",
        "\n",
        "    def __getitem__(self, idx):\n",
        "        return self.stimulus[idx], self.labels[idx]"
      ]
    },
    {
      "cell_type": "code",
      "execution_count": 7,
      "id": "7befa986",
      "metadata": {
        "id": "7befa986"
      },
      "outputs": [],
      "source": [
        "IT5dataloader_train = DataLoader(SpikeData(stimulus_train, objects_train, label_encoder=label_encoder), batch_size=64, shuffle=True)\n",
        "IT5dataloader_val = DataLoader(SpikeData(stimulus_val,  objects_val, label_encoder=label_encoder), batch_size=64, shuffle=False)\n",
        "IT5dataloader_test = DataLoader(SpikeData(stimulus_test, objects_test,label_encoder=label_encoder), batch_size=64, shuffle=False)"
      ]
    },
    {
      "cell_type": "code",
      "execution_count": 8,
      "id": "8afe6d76",
      "metadata": {
        "id": "8afe6d76"
      },
      "outputs": [],
      "source": [
        "class ShallowCNN(nn.Module):\n",
        "    def __init__(self, num_classes):\n",
        "        super(ShallowCNN, self).__init__()\n",
        "\n",
        "        # Conv block 1\n",
        "        self.conv1 = nn.Conv2d(3, 16, kernel_size=3, stride=1, padding=1)   # (3, 224, 224) → (32, 224, 224)\n",
        "        self.bn1 = nn.BatchNorm2d(16)\n",
        "\n",
        "        # Conv block 2\n",
        "        self.conv2 = nn.Conv2d(16, 32, kernel_size=3, stride=1, padding=1)  # (64, 112, 112)\n",
        "        self.bn2 = nn.BatchNorm2d(32)\n",
        "\n",
        "        # Conv block 3\n",
        "        self.conv3 = nn.Conv2d(32, 64, kernel_size=3, stride=1, padding=1) # (128, 56, 56)\n",
        "        self.bn3 = nn.BatchNorm2d(64)\n",
        "\n",
        "        # Compute flattened size dynamically\n",
        "        with torch.no_grad():\n",
        "            dummy_input = torch.zeros(1, 3, 224, 224)\n",
        "            x = self._forward_features(dummy_input)\n",
        "            self.flattened_size = x.view(1, -1).shape[1]\n",
        "\n",
        "        # FC layers\n",
        "        self.fc1 = nn.Linear(self.flattened_size, 64)\n",
        "        self.dropout = nn.Dropout(0.5)\n",
        "        self.fc2 = nn.Linear(64, num_classes)\n",
        "\n",
        "    def _forward_features(self, x):\n",
        "        x = F.relu(self.bn1(self.conv1(x)))\n",
        "        x = F.max_pool2d(x, 2)   # (32, 112, 112)\n",
        "\n",
        "        x = F.relu(self.bn2(self.conv2(x)))\n",
        "        x = F.max_pool2d(x, 2)   # (64, 56, 56)\n",
        "\n",
        "        x = F.relu(self.bn3(self.conv3(x)))\n",
        "        x = F.max_pool2d(x, 2)   # (128, 28, 28)\n",
        "\n",
        "        return x\n",
        "\n",
        "    def forward(self, x):\n",
        "        x = self._forward_features(x)\n",
        "        x = torch.flatten(x, start_dim=1)\n",
        "        x = F.relu(self.fc1(x))\n",
        "        x = self.dropout(x)\n",
        "        x = self.fc2(x)\n",
        "        return x\n",
        "\n",
        "    @staticmethod # defines that the following function does not take self as input\n",
        "    @torch.no_grad() # ensures that following function runs without tracking gradients\n",
        "    # making the initialisation faster and more memory-efficient. The parameters remain trainable.\n",
        "    def init_weights(module):\n",
        "        # YOUR CODE HERE\n",
        "        # raise NotImplementedError()\n",
        "\n",
        "        # He initialization\n",
        "        # Conv2d layers\n",
        "        if isinstance(module, nn.Conv2d):\n",
        "            nn.init.kaiming_normal_(module.weight, mode='fan_out', nonlinearity='relu')\n",
        "            if module.bias is not None:\n",
        "                nn.init.zeros_(module.bias)\n",
        "        # Linear layers\n",
        "        elif isinstance(module, nn.Linear):\n",
        "            nn.init.kaiming_normal_(module.weight, mode='fan_out', nonlinearity='relu')\n",
        "            nn.init.zeros_(module.bias)\n",
        "\n",
        "        # Initialize BatchNorm weights to 1 and bias to 0\n",
        "        elif isinstance(module, nn.BatchNorm2d):\n",
        "            nn.init.ones_(module.weight)\n",
        "            nn.init.zeros_(module.bias)"
      ]
    },
    {
      "cell_type": "code",
      "execution_count": 9,
      "id": "c7d64f84",
      "metadata": {
        "id": "c7d64f84"
      },
      "outputs": [],
      "source": [
        "def train_model(model, train_loader, val_loader, criterion, optimizer, num_epochs=2):\n",
        "    for epoch in range(num_epochs):\n",
        "        model.train()\n",
        "        running_loss = 0.0\n",
        "\n",
        "        with tqdm(total=len(train_loader), desc=f\"Epoch {epoch+1}/{num_epochs}\") as pbar:\n",
        "            for stimulus, labels in train_loader:\n",
        "                stimulus, labels = stimulus.to(device), labels.to(device)\n",
        "                optimizer.zero_grad()\n",
        "                outputs = model(stimulus)\n",
        "                loss = criterion(outputs, labels)\n",
        "                running_loss += loss.item()\n",
        "                loss.backward()\n",
        "                optimizer.step()\n",
        "                optimizer.zero_grad()\n",
        "                pbar.set_postfix(loss=running_loss/len(train_loader))\n",
        "                pbar.update(1)\n",
        "        print(f\"Epoch [{epoch+1}/{num_epochs}], Loss: {running_loss/len(train_loader):.4f}\")\n",
        "        # Validation\n",
        "        model.eval()\n",
        "        val_loss = 0.0\n",
        "        with torch.no_grad():\n",
        "            for stimulus, labels in val_loader:\n",
        "                stimulus, labels = stimulus.to(device), labels.to(device)\n",
        "                outputs = model(stimulus)\n",
        "                loss = criterion(outputs, labels)\n",
        "                val_loss += loss.item()\n",
        "        print(f\"Validation Loss: {val_loss/len(val_loader):.4f}\")\n",
        "\n",
        ""
      ]
    },
    {
      "cell_type": "code",
      "execution_count": 13,
      "id": "63c0c5ad",
      "metadata": {
        "colab": {
          "base_uri": "https://localhost:8080/"
        },
        "id": "63c0c5ad",
        "outputId": "8ed752a0-1556-43b0-891c-a738896cd1b9"
      },
      "outputs": [
        {
          "output_type": "stream",
          "name": "stderr",
          "text": [
            "Epoch 1/10: 100%|██████████| 41/41 [00:03<00:00, 10.86it/s, loss=10.4]\n"
          ]
        },
        {
          "output_type": "stream",
          "name": "stdout",
          "text": [
            "Epoch [1/10], Loss: 10.3657\n",
            "Validation Loss: 4.1590\n"
          ]
        },
        {
          "output_type": "stream",
          "name": "stderr",
          "text": [
            "Epoch 2/10: 100%|██████████| 41/41 [00:02<00:00, 16.26it/s, loss=4.16]\n"
          ]
        },
        {
          "output_type": "stream",
          "name": "stdout",
          "text": [
            "Epoch [2/10], Loss: 4.1596\n",
            "Validation Loss: 4.1591\n"
          ]
        },
        {
          "output_type": "stream",
          "name": "stderr",
          "text": [
            "Epoch 3/10: 100%|██████████| 41/41 [00:02<00:00, 16.26it/s, loss=4.16]\n"
          ]
        },
        {
          "output_type": "stream",
          "name": "stdout",
          "text": [
            "Epoch [3/10], Loss: 4.1592\n",
            "Validation Loss: 4.1591\n"
          ]
        },
        {
          "output_type": "stream",
          "name": "stderr",
          "text": [
            "Epoch 4/10: 100%|██████████| 41/41 [00:02<00:00, 16.35it/s, loss=4.16]\n"
          ]
        },
        {
          "output_type": "stream",
          "name": "stdout",
          "text": [
            "Epoch [4/10], Loss: 4.1592\n",
            "Validation Loss: 4.1591\n"
          ]
        },
        {
          "output_type": "stream",
          "name": "stderr",
          "text": [
            "Epoch 5/10: 100%|██████████| 41/41 [00:02<00:00, 16.23it/s, loss=4.16]\n"
          ]
        },
        {
          "output_type": "stream",
          "name": "stdout",
          "text": [
            "Epoch [5/10], Loss: 4.1592\n",
            "Validation Loss: 4.1593\n"
          ]
        },
        {
          "output_type": "stream",
          "name": "stderr",
          "text": [
            "Epoch 6/10: 100%|██████████| 41/41 [00:02<00:00, 16.17it/s, loss=4.16]\n"
          ]
        },
        {
          "output_type": "stream",
          "name": "stdout",
          "text": [
            "Epoch [6/10], Loss: 4.1592\n",
            "Validation Loss: 4.1592\n"
          ]
        },
        {
          "output_type": "stream",
          "name": "stderr",
          "text": [
            "Epoch 7/10: 100%|██████████| 41/41 [00:02<00:00, 16.24it/s, loss=4.16]\n"
          ]
        },
        {
          "output_type": "stream",
          "name": "stdout",
          "text": [
            "Epoch [7/10], Loss: 4.1592\n",
            "Validation Loss: 4.1593\n"
          ]
        },
        {
          "output_type": "stream",
          "name": "stderr",
          "text": [
            "Epoch 8/10: 100%|██████████| 41/41 [00:02<00:00, 16.29it/s, loss=4.16]\n"
          ]
        },
        {
          "output_type": "stream",
          "name": "stdout",
          "text": [
            "Epoch [8/10], Loss: 4.1591\n",
            "Validation Loss: 4.1593\n"
          ]
        },
        {
          "output_type": "stream",
          "name": "stderr",
          "text": [
            "Epoch 9/10: 100%|██████████| 41/41 [00:02<00:00, 16.27it/s, loss=4.16]\n"
          ]
        },
        {
          "output_type": "stream",
          "name": "stdout",
          "text": [
            "Epoch [9/10], Loss: 4.1592\n",
            "Validation Loss: 4.1594\n"
          ]
        },
        {
          "output_type": "stream",
          "name": "stderr",
          "text": [
            "Epoch 10/10: 100%|██████████| 41/41 [00:02<00:00, 16.30it/s, loss=4.16]\n"
          ]
        },
        {
          "output_type": "stream",
          "name": "stdout",
          "text": [
            "Epoch [10/10], Loss: 4.1592\n",
            "Validation Loss: 4.1594\n"
          ]
        }
      ],
      "source": [
        "loss_fn = nn.CrossEntropyLoss()\n",
        "model = ShallowCNN(num_classes=64)\n",
        "model.apply(ShallowCNN.init_weights)\n",
        "model.to(device)\n",
        "\n",
        "optimizer = AdamW(model.parameters(), lr=0.001, weight_decay=1e-5)\n",
        "train_model(model, IT5dataloader_train, IT5dataloader_val, loss_fn, optimizer, num_epochs=10)\n",
        "\n",
        "save_path = '/content/drive/MyDrive/nx414/shallow_cnn.pth'\n",
        "torch.save(model.state_dict(), save_path)"
      ]
    },
    {
      "cell_type": "code",
      "source": [
        "load_path = '/content/drive/MyDrive/nx414/shallow_cnn.pth'\n",
        "model = ShallowCNN(num_classes=64)\n",
        "model.to(device)\n",
        "model.load_state_dict(torch.load(load_path))"
      ],
      "metadata": {
        "colab": {
          "base_uri": "https://localhost:8080/"
        },
        "id": "98xyevTkTNPu",
        "outputId": "20dcedb1-ca08-4aa0-bb23-29079fb26f06"
      },
      "id": "98xyevTkTNPu",
      "execution_count": 10,
      "outputs": [
        {
          "output_type": "execute_result",
          "data": {
            "text/plain": [
              "<All keys matched successfully>"
            ]
          },
          "metadata": {},
          "execution_count": 10
        }
      ]
    },
    {
      "cell_type": "code",
      "source": [
        "import os\n",
        "import torch\n",
        "from collections import defaultdict\n",
        "from pathlib import Path\n",
        "\n",
        "# Setup\n",
        "model.eval()\n",
        "\n",
        "# Create directory to save outputs\n",
        "Path(\"/content/drive/MyDrive/nx414/activations\").mkdir(exist_ok=True)\n",
        "\n",
        "# Function to create hook\n",
        "def save_output(layer_name, batch_idx):\n",
        "    def hook(module, input, output):\n",
        "        # Save activations per batch to disk\n",
        "        flat_output = output.detach().cpu().view(output.size(0), -1)\n",
        "        torch.save(flat_output, f'/content/drive/MyDrive/nx414/activations/{layer_name}_batch{batch_idx}.pt')\n",
        "    return hook\n",
        "\n",
        "# Register hooks once\n",
        "hooks = []\n",
        "for name in ['conv1', 'conv2', 'conv3', 'fc1']:\n",
        "    layer = getattr(model, name)\n",
        "    hooks.append(layer.register_forward_hook(save_output(name, batch_idx=0)))  # Temporary index\n",
        "\n",
        "# Iterate through data and update hook batch index\n",
        "for batch_idx, (images, labels) in enumerate(IT5dataloader_train):\n",
        "    images = images.to(device)\n",
        "\n",
        "    # Update each hook with correct batch index dynamically\n",
        "    for h in hooks:\n",
        "        h.remove()\n",
        "    hooks = []\n",
        "    for name in ['conv1', 'conv2', 'conv3', 'fc1']:\n",
        "        layer = getattr(model, name)\n",
        "        hooks.append(layer.register_forward_hook(save_output(name, batch_idx)))\n",
        "\n",
        "    with torch.no_grad():\n",
        "        _ = model(images)\n",
        "\n",
        "    torch.save(labels.cpu(), f'/content/drive/MyDrive/nx414/activations/labels_batch{batch_idx}.pt')"
      ],
      "metadata": {
        "id": "Rh4Hf8h9aKM8"
      },
      "id": "Rh4Hf8h9aKM8",
      "execution_count": 11,
      "outputs": []
    },
    {
      "cell_type": "code",
      "source": [
        "import glob\n",
        "\n",
        "# Get all .pt files for the conv1 layer (sorted by batch index)\n",
        "file_paths = sorted(glob.glob('activations/conv3_batch*.pt'))\n",
        "\n",
        "# Load each file and flatten it: [batch_size, ...] -> [batch_size, n_neurons]\n",
        "activations_list = []\n",
        "\n",
        "for file_path in file_paths:\n",
        "    batch = torch.load(file_path)               # shape: [batch_size, C, H, W] or [batch_size, D]\n",
        "    batch_flat = batch.view(batch.size(0), -1)  # flatten to [batch_size, n_neurons]\n",
        "    activations_list.append(batch_flat)\n",
        "\n",
        "# Concatenate all batches -> [n_trials, n_neurons]\n",
        "all_activations = torch.cat(activations_list, dim=0)\n",
        "print(all_activations.shape)"
      ],
      "metadata": {
        "colab": {
          "base_uri": "https://localhost:8080/"
        },
        "id": "NE5tEK8dd3WD",
        "outputId": "5222f797-de7a-4330-d979-60230fd1d078"
      },
      "id": "NE5tEK8dd3WD",
      "execution_count": 13,
      "outputs": [
        {
          "output_type": "stream",
          "name": "stdout",
          "text": [
            "torch.Size([2592, 200704])\n"
          ]
        }
      ]
    },
    {
      "cell_type": "code",
      "execution_count": 14,
      "id": "903767f6",
      "metadata": {
        "colab": {
          "base_uri": "https://localhost:8080/"
        },
        "id": "903767f6",
        "outputId": "d51eb247-45c9-4ed1-b245-f34e9c11330b"
      },
      "outputs": [
        {
          "output_type": "execute_result",
          "data": {
            "text/plain": [
              "(2592, 200704)"
            ]
          },
          "metadata": {},
          "execution_count": 14
        }
      ],
      "source": [
        "from sklearn.decomposition import PCA\n",
        "from sklearn.preprocessing import StandardScaler\n",
        "from sklearn.linear_model import LinearRegression, Ridge\n",
        "from sklearn.feature_selection import r_regression\n",
        "from sklearn.metrics import explained_variance_score\n",
        "from sklearn.model_selection import cross_validate,KFold\n",
        "\n",
        "scaler = StandardScaler()\n",
        "pca = PCA(n_components=1000)\n",
        "\n",
        "X_train = scaler.fit_transform(all_activations)\n",
        "X_train.shape\n",
        "#X_train = pca.fit_transform(X_train)\n"
      ]
    },
    {
      "cell_type": "code",
      "source": [
        "X_train = pca.fit_transform(X_train)"
      ],
      "metadata": {
        "id": "grTb5WGcjpX0"
      },
      "id": "grTb5WGcjpX0",
      "execution_count": 15,
      "outputs": []
    },
    {
      "cell_type": "code",
      "source": [
        "from sklearn.decomposition import IncrementalPCA\n",
        "\n",
        "ipca = IncrementalPCA(n_components=1000, batch_size=64)\n",
        "X_train_pca = ipca.fit_transform(X_train)"
      ],
      "metadata": {
        "id": "H06BjalOe8ag"
      },
      "id": "H06BjalOe8ag",
      "execution_count": null,
      "outputs": []
    },
    {
      "cell_type": "code",
      "execution_count": 16,
      "id": "c60a3ba0",
      "metadata": {
        "id": "c60a3ba0"
      },
      "outputs": [],
      "source": [
        "from sklearn.metrics import make_scorer\n",
        "#from scipy.stats import pearsonr\n",
        "# Define a scoring function compatible with make_scorer\n",
        "def pearson_score(y_true, y_pred):\n",
        "    scores = []\n",
        "    for i in range(y_true.shape[1]):\n",
        "        r = np.corrcoef(y_true[:, i], y_pred[:, i])[0, 1]\n",
        "        if np.isnan(r):\n",
        "            r = 0\n",
        "        if np.isinf(r):\n",
        "            r = 0\n",
        "        scores.append(r)\n",
        "    return np.mean(scores)\n",
        "\n",
        "# Wrap it as a scorer (greater_is_better=True is default)\n",
        "pearson_scorer = make_scorer(pearson_score, greater_is_better=True)"
      ]
    },
    {
      "cell_type": "code",
      "execution_count": 18,
      "id": "43085825",
      "metadata": {
        "colab": {
          "base_uri": "https://localhost:8080/"
        },
        "id": "43085825",
        "outputId": "c61ac513-390f-480e-a1bc-f5b51c235596"
      },
      "outputs": [
        {
          "output_type": "stream",
          "name": "stdout",
          "text": [
            "Best alpha: 10000.0\n",
            "Best pearson correlation: -0.003694257467578923\n"
          ]
        }
      ],
      "source": [
        "from sklearn.linear_model import Ridge\n",
        "from sklearn.model_selection import GridSearchCV, GroupKFold\n",
        "\n",
        "# Ridge model\n",
        "ridge = Ridge(max_iter=10000, tol=1e-5)\n",
        "\n",
        "# Grid of alpha values\n",
        "param_grid = {'alpha': np.logspace(-2, 4, 10)}\n",
        "\n",
        "# GroupKFold ensures the same label distribution in each fold\n",
        "cv = GroupKFold(n_splits=5)\n",
        "\n",
        "# Wrap with GridSearchCV, pass groups\n",
        "grid = GridSearchCV(ridge, param_grid, cv=cv, scoring=pearson_scorer, n_jobs=-1)\n",
        "\n",
        "# Fit with groups controlling label distribution\n",
        "grid.fit(X_train, spikes_train, groups=objects_train_encoded)\n",
        "\n",
        "# Results\n",
        "print(\"Best alpha:\", grid.best_params_['alpha'])\n",
        "print(\"Best pearson correlation:\", grid.best_score_)"
      ]
    },
    {
      "cell_type": "code",
      "source": [
        "grid.best_estimator_.fit(X_train, spikes_train)\n",
        "predictions_train_ridge = grid.best_estimator_.predict(X_train)"
      ],
      "metadata": {
        "id": "tHdZcgofkTjr"
      },
      "id": "tHdZcgofkTjr",
      "execution_count": 21,
      "outputs": []
    },
    {
      "cell_type": "code",
      "source": [
        "import matplotlib.pyplot as plt\n",
        "\n",
        "n_neurons = spikes_train.shape[1]\n",
        "\n",
        "pearson_corr_ridge = np.zeros((n_neurons,1))\n",
        "for i in range(n_neurons):\n",
        "    pearson_corr_ridge[i,0] = np.corrcoef(predictions_train_ridge[:, i], spikes_train[:, i])[0, 1]\n",
        "    #pearson_corr_ridge[i,1] = np.corrcoef(predictions_val_ridge[:, i], spikes_val[:, i])[0, 1]\n",
        "plt.figure()\n",
        "plt.title('Pearson correlation coefficients')\n",
        "#plt.plot(pearson_corr_ridge[:,1], label='Ridge regression: validation')\n",
        "plt.plot(pearson_corr_ridge[:,0], label='Ridge regression: training')\n",
        "plt.legend()\n",
        "plt.show()\n",
        "plt.figure()\n",
        "\n",
        "print(f\"Pearson correlation on training set: {np.mean(pearson_corr_ridge[:,0])}\")\n",
        "#print(f\"Pearson correlation on validation set: {np.mean(pearson_corr_ridge[:,1])}\")"
      ],
      "metadata": {
        "colab": {
          "base_uri": "https://localhost:8080/",
          "height": 488
        },
        "id": "2zai51--nad3",
        "outputId": "f8af02b2-d67d-4f72-b770-ef0a8653c1fd"
      },
      "id": "2zai51--nad3",
      "execution_count": 24,
      "outputs": [
        {
          "output_type": "display_data",
          "data": {
            "text/plain": [
              "<Figure size 640x480 with 1 Axes>"
            ],
            "image/png": "[encoded data removed]"
          },
          "metadata": {}
        },
        {
          "output_type": "stream",
          "name": "stdout",
          "text": [
            "Pearson correlation on training set: 0.6206696852246076\n"
          ]
        },
        {
          "output_type": "display_data",
          "data": {
            "text/plain": [
              "<Figure size 640x480 with 0 Axes>"
            ]
          },
          "metadata": {}
        }
      ]
    },
    {
      "cell_type": "code",
      "source": [
        "!rm -r activations/"
      ],
      "metadata": {
        "id": "os9imEl0oidq"
      },
      "id": "os9imEl0oidq",
      "execution_count": 25,
      "outputs": []
    }
  ],
  "metadata": {
    "kernelspec": {
      "display_name": "Python 3",
      "name": "python3"
    },
    "language_info": {
      "codemirror_mode": {
        "name": "ipython",
        "version": 3
      },
      "file_extension": ".py",
      "mimetype": "text/x-python",
      "name": "python",
      "nbconvert_exporter": "python",
      "pygments_lexer": "ipython3",
      "version": "3.11.6"
    },
    "colab": {
      "provenance": [],
      "gpuType": "A100",
      "include_colab_link": true
    },
    "accelerator": "GPU"
  },
  "nbformat": 4,
  "nbformat_minor": 5
}
