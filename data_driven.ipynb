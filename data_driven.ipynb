{
  "cells": [
    {
      "cell_type": "markdown",
      "metadata": {
        "id": "view-in-github",
        "colab_type": "text"
      },
      "source": [
        "<a href=\"https://colab.research.google.com/github/ZyLiao-0011/NX414/blob/main/data_driven.ipynb\" target=\"_parent\"><img src=\"https://colab.research.google.com/assets/colab-badge.svg\" alt=\"Open In Colab\"/></a>"
      ]
    },
    {
      "cell_type": "code",
      "execution_count": 1,
      "id": "f38899ec",
      "metadata": {
        "id": "f38899ec"
      },
      "outputs": [],
      "source": [
        "import torch\n",
        "import torch.nn as nn\n",
        "import torch.nn.functional as F\n",
        "from torch.nn import init\n",
        "from torch.nn import Parameter\n",
        "from torch.utils.data import DataLoader, Dataset\n",
        "from torch.optim import AdamW\n",
        "\n",
        "from tqdm import tqdm\n",
        "import numpy as np\n",
        "import pandas as pd\n",
        "import h5py\n",
        "import os\n",
        "device = torch.device(\"cuda\" if torch.cuda.is_available() else \"cpu\")"
      ]
    },
    {
      "cell_type": "code",
      "source": [
        "from google.colab import drive\n",
        "drive.mount('/content/drive')"
      ],
      "metadata": {
        "colab": {
          "base_uri": "https://localhost:8080/"
        },
        "id": "nK6EXYVg7zQ3",
        "outputId": "d166b474-473f-4ff9-c137-9a707157133e"
      },
      "id": "nK6EXYVg7zQ3",
      "execution_count": 2,
      "outputs": [
        {
          "output_type": "stream",
          "name": "stdout",
          "text": [
            "Mounted at /content/drive\n"
          ]
        }
      ]
    },
    {
      "cell_type": "code",
      "execution_count": 3,
      "id": "f3421a7c",
      "metadata": {
        "id": "f3421a7c"
      },
      "outputs": [],
      "source": [
        "import sys\n",
        "sys.path.append('/content/drive/MyDrive/nx414')\n",
        "from utils import load_it_data, visualize_img"
      ]
    },
    {
      "cell_type": "code",
      "source": [
        "path_to_data = '/content/drive/MyDrive/nx414' ## Insert the folder where the data is, if you download in the same folder as this notebook then leave it blank\n",
        "\n",
        "stimulus_train, stimulus_val, stimulus_test, objects_train, objects_val, objects_test, spikes_train, spikes_val = load_it_data(path_to_data)"
      ],
      "metadata": {
        "id": "DtFyx_LX84i0"
      },
      "id": "DtFyx_LX84i0",
      "execution_count": 4,
      "outputs": []
    },
    {
      "cell_type": "code",
      "execution_count": 5,
      "id": "562024cc",
      "metadata": {
        "id": "562024cc"
      },
      "outputs": [],
      "source": [
        "class SpikeData(Dataset):\n",
        "    def __init__(self,stimulus,spike = None):\n",
        "        self.stimulus = torch.tensor(stimulus)\n",
        "\n",
        "        if spike is not None:\n",
        "          self.spike = torch.tensor(spike)\n",
        "          self.num_neuron = self.spike.shape[1]\n",
        "        else:\n",
        "          self.spike = None\n",
        "          self.num_neuron = None\n",
        "\n",
        "    def __len__(self):\n",
        "        return len(self.stimulus)\n",
        "\n",
        "    def __getitem__(self, idx):\n",
        "        return self.stimulus[idx], self.spike[idx]"
      ]
    },
    {
      "cell_type": "code",
      "execution_count": 6,
      "id": "7befa986",
      "metadata": {
        "id": "7befa986"
      },
      "outputs": [],
      "source": [
        "ITdataloader_train = DataLoader(SpikeData(stimulus_train, spikes_train), batch_size=32, shuffle=True)\n",
        "ITdataloader_val = DataLoader(SpikeData(stimulus_val, spikes_val), batch_size=32, shuffle=False)\n",
        "ITdataloader_test = DataLoader(SpikeData(stimulus_test,spike = None), batch_size=32, shuffle=False)"
      ]
    },
    {
      "cell_type": "code",
      "source": [
        "class ShallowCNN(nn.Module):\n",
        "    def __init__(self,num_neuron):\n",
        "        super(ShallowCNN, self).__init__()\n",
        "\n",
        "        # Conv block 1\n",
        "        self.convblock1 = nn.Sequential(nn.Conv2d(3, 16, kernel_size=3, stride=1, padding=1),\n",
        "                                        nn.BatchNorm2d(16),\n",
        "                                        nn.ReLU6(),\n",
        "                                        nn.MaxPool2d(kernel_size=2))\n",
        "\n",
        "        # Conv block 2\n",
        "        self.convblock2 = nn.Sequential(nn.Conv2d(16, 32, kernel_size=3, stride=1, padding=1),\n",
        "                                        nn.BatchNorm2d(32),\n",
        "                                        nn.ReLU6(),\n",
        "                                        nn.MaxPool2d(kernel_size=2))\n",
        "\n",
        "        # Conv block 3\n",
        "        self.convblock3 = nn.Sequential(nn.Conv2d(32, 64, kernel_size=3, stride=1, padding=1),\n",
        "                                        nn.BatchNorm2d(64),\n",
        "                                        nn.ReLU6(),\n",
        "                                        nn.MaxPool2d(kernel_size=2))\n",
        "\n",
        "        # Adaptive flatten to work for 224x224 input images\n",
        "        self.flatten = nn.Flatten()\n",
        "\n",
        "        # Calculate the size of the feature map after conv blocks\n",
        "        # For 224x224 input -> 112 -> 56 -> 28 after 3 maxpools\n",
        "        conv_output_size = 64 * (224 // 8) * (224 // 8)  # 64 channels, 28x28 feature map\n",
        "\n",
        "        self.fc1 = nn.Linear(conv_output_size, 64)\n",
        "        self.dropout = nn.Dropout(0.5)\n",
        "        self.fc2 = nn.Linear(64, num_neuron)  # Output = num_neuron = 168\n",
        "\n",
        "\n",
        "    def forward(self, x):\n",
        "        x = self.convblock1(x)\n",
        "        x = self.convblock2(x)\n",
        "        x = self.convblock3(x)\n",
        "        x = self.flatten(x)\n",
        "        x = self.fc1(x)\n",
        "        x = self.dropout(x)\n",
        "        x = self.fc2(x)\n",
        "        return x\n",
        "\n",
        "    @staticmethod # defines that the following function does not take self as input\n",
        "    @torch.no_grad() # ensures that following function runs without tracking gradients\n",
        "    # making the initialisation faster and more memory-efficient. The parameters remain trainable.\n",
        "    def init_weights(module):\n",
        "        # YOUR CODE HERE\n",
        "        # raise NotImplementedError()\n",
        "\n",
        "        # He initialization\n",
        "        # Conv2d layers\n",
        "        if isinstance(module, nn.Conv2d):\n",
        "            nn.init.kaiming_normal_(module.weight, mode='fan_out', nonlinearity='relu')\n",
        "            if module.bias is not None:\n",
        "                nn.init.zeros_(module.bias)\n",
        "        # Linear layers\n",
        "        elif isinstance(module, nn.Linear):\n",
        "            nn.init.kaiming_normal_(module.weight, mode='fan_out', nonlinearity='relu')\n",
        "            nn.init.zeros_(module.bias)\n",
        "\n",
        "        # Initialize BatchNorm weights to 1 and bias to 0\n",
        "        elif isinstance(module, nn.BatchNorm2d):\n",
        "            nn.init.ones_(module.weight)\n",
        "            nn.init.zeros_(module.bias)"
      ],
      "metadata": {
        "id": "ECrruTjkiYPT"
      },
      "id": "ECrruTjkiYPT",
      "execution_count": 7,
      "outputs": []
    },
    {
      "cell_type": "code",
      "execution_count": 8,
      "id": "c7d64f84",
      "metadata": {
        "id": "c7d64f84"
      },
      "outputs": [],
      "source": [
        "def train_model(model, train_loader, val_loader, criterion, optimizer, num_epochs=2):\n",
        "    for epoch in range(num_epochs):\n",
        "        model.train()\n",
        "        running_loss = 0.0\n",
        "\n",
        "        with tqdm(total=len(train_loader), desc=f\"Epoch {epoch+1}/{num_epochs}\") as pbar:\n",
        "            for stimulus, spikes in train_loader:\n",
        "                stimulus, spikes = stimulus.to(device), spikes.to(device)\n",
        "                outputs = model(stimulus)\n",
        "\n",
        "                optimizer.zero_grad()\n",
        "                loss = criterion(outputs, spikes)\n",
        "                running_loss += loss.item()\n",
        "                loss.backward()\n",
        "                optimizer.step()\n",
        "\n",
        "                pbar.set_postfix(loss=running_loss/len(train_loader))\n",
        "                pbar.update(1)\n",
        "        print(f\"Epoch [{epoch+1}/{num_epochs}], Loss: {running_loss/len(train_loader):.4f}\")\n",
        "        # Validation\n",
        "        model.eval()\n",
        "        val_loss = 0.0\n",
        "        with torch.no_grad():\n",
        "            for stimulus, labels in val_loader:\n",
        "                stimulus, labels = stimulus.to(device), labels.to(device)\n",
        "                outputs = model(stimulus)\n",
        "                loss = criterion(outputs, labels)\n",
        "                val_loss += loss.item()\n",
        "        print(f\"Validation Loss: {val_loss/len(val_loader):.4f}\")\n",
        "\n"
      ]
    },
    {
      "cell_type": "code",
      "source": [
        "import copy\n",
        "\n",
        "def train_model(model, train_loader, val_loader, criterion, optimizer, num_epochs=2, scheduler=None):\n",
        "    best_model_wts = copy.deepcopy(model.state_dict())\n",
        "    best_val_loss = float(\"inf\")\n",
        "\n",
        "    for epoch in range(num_epochs):\n",
        "        model.train()\n",
        "        running_loss = 0.0\n",
        "\n",
        "        with tqdm(total=len(train_loader), desc=f\"Epoch {epoch+1}/{num_epochs}\") as pbar:\n",
        "            for stimulus, spikes in train_loader:\n",
        "                stimulus, spikes = stimulus.to(device), spikes.to(device)\n",
        "                optimizer.zero_grad()\n",
        "\n",
        "                outputs = model(stimulus)\n",
        "                loss = criterion(outputs, spikes)\n",
        "                loss.backward()\n",
        "                optimizer.step()\n",
        "\n",
        "                running_loss += loss.item()\n",
        "                pbar.set_postfix(loss=running_loss / (pbar.n + 1))\n",
        "                pbar.update(1)\n",
        "\n",
        "        print(f\"Epoch [{epoch+1}/{num_epochs}], Train Loss: {running_loss/len(train_loader):.4f}\")\n",
        "\n",
        "        # Validation\n",
        "        model.eval()\n",
        "        val_loss = 0.0\n",
        "        with torch.no_grad():\n",
        "            for stimulus, labels in val_loader:\n",
        "                stimulus, labels = stimulus.to(device), labels.to(device)\n",
        "                outputs = model(stimulus)\n",
        "                loss = criterion(outputs, labels)\n",
        "                val_loss += loss.item()\n",
        "\n",
        "        val_loss /= len(val_loader)\n",
        "        print(f\"Validation Loss: {val_loss:.4f}\")\n",
        "\n",
        "        if val_loss < best_val_loss:\n",
        "            best_val_loss = val_loss\n",
        "            best_model_wts = copy.deepcopy(model.state_dict())\n",
        "\n",
        "        if scheduler:\n",
        "            scheduler.step()\n",
        "\n",
        "    model.load_state_dict(best_model_wts)\n",
        "    return model"
      ],
      "metadata": {
        "id": "Au7Ki_NIACFX"
      },
      "id": "Au7Ki_NIACFX",
      "execution_count": 9,
      "outputs": []
    },
    {
      "cell_type": "code",
      "execution_count": 19,
      "id": "63c0c5ad",
      "metadata": {
        "colab": {
          "base_uri": "https://localhost:8080/"
        },
        "id": "63c0c5ad",
        "outputId": "1247dfe8-8d47-4d77-cc58-f74b17f164fb"
      },
      "outputs": [
        {
          "output_type": "stream",
          "name": "stderr",
          "text": [
            "Epoch 1/500: 100%|██████████| 81/81 [00:02<00:00, 36.93it/s, loss=734]\n"
          ]
        },
        {
          "output_type": "stream",
          "name": "stdout",
          "text": [
            "Epoch [1/500], Train Loss: 734.1971\n",
            "Validation Loss: 22.6792\n"
          ]
        },
        {
          "output_type": "stream",
          "name": "stderr",
          "text": [
            "Epoch 2/500: 100%|██████████| 81/81 [00:02<00:00, 36.98it/s, loss=34.2]\n"
          ]
        },
        {
          "output_type": "stream",
          "name": "stdout",
          "text": [
            "Epoch [2/500], Train Loss: 34.2427\n",
            "Validation Loss: 11.0156\n"
          ]
        },
        {
          "output_type": "stream",
          "name": "stderr",
          "text": [
            "Epoch 3/500: 100%|██████████| 81/81 [00:02<00:00, 36.49it/s, loss=19.7]\n"
          ]
        },
        {
          "output_type": "stream",
          "name": "stdout",
          "text": [
            "Epoch [3/500], Train Loss: 19.7129\n",
            "Validation Loss: 7.0713\n"
          ]
        },
        {
          "output_type": "stream",
          "name": "stderr",
          "text": [
            "Epoch 4/500: 100%|██████████| 81/81 [00:02<00:00, 36.90it/s, loss=13.1]\n"
          ]
        },
        {
          "output_type": "stream",
          "name": "stdout",
          "text": [
            "Epoch [4/500], Train Loss: 13.0556\n",
            "Validation Loss: 5.4363\n"
          ]
        },
        {
          "output_type": "stream",
          "name": "stderr",
          "text": [
            "Epoch 5/500: 100%|██████████| 81/81 [00:02<00:00, 37.07it/s, loss=9.93]\n"
          ]
        },
        {
          "output_type": "stream",
          "name": "stdout",
          "text": [
            "Epoch [5/500], Train Loss: 9.9276\n",
            "Validation Loss: 4.0215\n"
          ]
        },
        {
          "output_type": "stream",
          "name": "stderr",
          "text": [
            "Epoch 6/500: 100%|██████████| 81/81 [00:02<00:00, 37.02it/s, loss=7.2]\n"
          ]
        },
        {
          "output_type": "stream",
          "name": "stdout",
          "text": [
            "Epoch [6/500], Train Loss: 7.1977\n",
            "Validation Loss: 3.3357\n"
          ]
        },
        {
          "output_type": "stream",
          "name": "stderr",
          "text": [
            "Epoch 7/500: 100%|██████████| 81/81 [00:02<00:00, 36.85it/s, loss=5.98]\n"
          ]
        },
        {
          "output_type": "stream",
          "name": "stdout",
          "text": [
            "Epoch [7/500], Train Loss: 5.9795\n",
            "Validation Loss: 2.5880\n"
          ]
        },
        {
          "output_type": "stream",
          "name": "stderr",
          "text": [
            "Epoch 8/500: 100%|██████████| 81/81 [00:02<00:00, 36.53it/s, loss=5.07]\n"
          ]
        },
        {
          "output_type": "stream",
          "name": "stdout",
          "text": [
            "Epoch [8/500], Train Loss: 5.0736\n",
            "Validation Loss: 2.5913\n"
          ]
        },
        {
          "output_type": "stream",
          "name": "stderr",
          "text": [
            "Epoch 9/500: 100%|██████████| 81/81 [00:02<00:00, 36.64it/s, loss=4.48]\n"
          ]
        },
        {
          "output_type": "stream",
          "name": "stdout",
          "text": [
            "Epoch [9/500], Train Loss: 4.4776\n",
            "Validation Loss: 2.1927\n"
          ]
        },
        {
          "output_type": "stream",
          "name": "stderr",
          "text": [
            "Epoch 10/500: 100%|██████████| 81/81 [00:02<00:00, 36.88it/s, loss=3.81]\n"
          ]
        },
        {
          "output_type": "stream",
          "name": "stdout",
          "text": [
            "Epoch [10/500], Train Loss: 3.8100\n",
            "Validation Loss: 2.0584\n"
          ]
        },
        {
          "output_type": "stream",
          "name": "stderr",
          "text": [
            "Epoch 11/500: 100%|██████████| 81/81 [00:02<00:00, 36.90it/s, loss=3.36]\n"
          ]
        },
        {
          "output_type": "stream",
          "name": "stdout",
          "text": [
            "Epoch [11/500], Train Loss: 3.3639\n",
            "Validation Loss: 1.7740\n"
          ]
        },
        {
          "output_type": "stream",
          "name": "stderr",
          "text": [
            "Epoch 12/500: 100%|██████████| 81/81 [00:02<00:00, 36.98it/s, loss=3.12]\n"
          ]
        },
        {
          "output_type": "stream",
          "name": "stdout",
          "text": [
            "Epoch [12/500], Train Loss: 3.1235\n",
            "Validation Loss: 1.5933\n"
          ]
        },
        {
          "output_type": "stream",
          "name": "stderr",
          "text": [
            "Epoch 13/500: 100%|██████████| 81/81 [00:02<00:00, 36.66it/s, loss=2.73]\n"
          ]
        },
        {
          "output_type": "stream",
          "name": "stdout",
          "text": [
            "Epoch [13/500], Train Loss: 2.7271\n",
            "Validation Loss: 1.3288\n"
          ]
        },
        {
          "output_type": "stream",
          "name": "stderr",
          "text": [
            "Epoch 14/500: 100%|██████████| 81/81 [00:02<00:00, 36.49it/s, loss=2.38]\n"
          ]
        },
        {
          "output_type": "stream",
          "name": "stdout",
          "text": [
            "Epoch [14/500], Train Loss: 2.3770\n",
            "Validation Loss: 1.3120\n"
          ]
        },
        {
          "output_type": "stream",
          "name": "stderr",
          "text": [
            "Epoch 15/500: 100%|██████████| 81/81 [00:02<00:00, 36.68it/s, loss=2.28]\n"
          ]
        },
        {
          "output_type": "stream",
          "name": "stdout",
          "text": [
            "Epoch [15/500], Train Loss: 2.2822\n",
            "Validation Loss: 1.2879\n"
          ]
        },
        {
          "output_type": "stream",
          "name": "stderr",
          "text": [
            "Epoch 16/500: 100%|██████████| 81/81 [00:02<00:00, 36.67it/s, loss=2.01]\n"
          ]
        },
        {
          "output_type": "stream",
          "name": "stdout",
          "text": [
            "Epoch [16/500], Train Loss: 2.0142\n",
            "Validation Loss: 1.2670\n"
          ]
        },
        {
          "output_type": "stream",
          "name": "stderr",
          "text": [
            "Epoch 17/500: 100%|██████████| 81/81 [00:02<00:00, 36.51it/s, loss=1.9]\n"
          ]
        },
        {
          "output_type": "stream",
          "name": "stdout",
          "text": [
            "Epoch [17/500], Train Loss: 1.8991\n",
            "Validation Loss: 1.0250\n"
          ]
        },
        {
          "output_type": "stream",
          "name": "stderr",
          "text": [
            "Epoch 18/500: 100%|██████████| 81/81 [00:02<00:00, 36.54it/s, loss=1.79]\n"
          ]
        },
        {
          "output_type": "stream",
          "name": "stdout",
          "text": [
            "Epoch [18/500], Train Loss: 1.7930\n",
            "Validation Loss: 1.1447\n"
          ]
        },
        {
          "output_type": "stream",
          "name": "stderr",
          "text": [
            "Epoch 19/500: 100%|██████████| 81/81 [00:02<00:00, 36.19it/s, loss=1.6]\n"
          ]
        },
        {
          "output_type": "stream",
          "name": "stdout",
          "text": [
            "Epoch [19/500], Train Loss: 1.5954\n",
            "Validation Loss: 0.9720\n"
          ]
        },
        {
          "output_type": "stream",
          "name": "stderr",
          "text": [
            "Epoch 20/500: 100%|██████████| 81/81 [00:02<00:00, 36.26it/s, loss=1.64]\n"
          ]
        },
        {
          "output_type": "stream",
          "name": "stdout",
          "text": [
            "Epoch [20/500], Train Loss: 1.6384\n",
            "Validation Loss: 1.0975\n"
          ]
        },
        {
          "output_type": "stream",
          "name": "stderr",
          "text": [
            "Epoch 21/500: 100%|██████████| 81/81 [00:02<00:00, 36.59it/s, loss=1.44]\n"
          ]
        },
        {
          "output_type": "stream",
          "name": "stdout",
          "text": [
            "Epoch [21/500], Train Loss: 1.4384\n",
            "Validation Loss: 0.8383\n"
          ]
        },
        {
          "output_type": "stream",
          "name": "stderr",
          "text": [
            "Epoch 22/500: 100%|██████████| 81/81 [00:02<00:00, 36.36it/s, loss=1.26]\n"
          ]
        },
        {
          "output_type": "stream",
          "name": "stdout",
          "text": [
            "Epoch [22/500], Train Loss: 1.2599\n",
            "Validation Loss: 0.7322\n"
          ]
        },
        {
          "output_type": "stream",
          "name": "stderr",
          "text": [
            "Epoch 23/500: 100%|██████████| 81/81 [00:02<00:00, 36.45it/s, loss=1.19]\n"
          ]
        },
        {
          "output_type": "stream",
          "name": "stdout",
          "text": [
            "Epoch [23/500], Train Loss: 1.1911\n",
            "Validation Loss: 0.7117\n"
          ]
        },
        {
          "output_type": "stream",
          "name": "stderr",
          "text": [
            "Epoch 24/500: 100%|██████████| 81/81 [00:02<00:00, 36.43it/s, loss=1.13]\n"
          ]
        },
        {
          "output_type": "stream",
          "name": "stdout",
          "text": [
            "Epoch [24/500], Train Loss: 1.1254\n",
            "Validation Loss: 0.7241\n"
          ]
        },
        {
          "output_type": "stream",
          "name": "stderr",
          "text": [
            "Epoch 25/500: 100%|██████████| 81/81 [00:02<00:00, 36.52it/s, loss=1.04]\n"
          ]
        },
        {
          "output_type": "stream",
          "name": "stdout",
          "text": [
            "Epoch [25/500], Train Loss: 1.0406\n",
            "Validation Loss: 0.5671\n"
          ]
        },
        {
          "output_type": "stream",
          "name": "stderr",
          "text": [
            "Epoch 26/500: 100%|██████████| 81/81 [00:02<00:00, 36.85it/s, loss=0.993]\n"
          ]
        },
        {
          "output_type": "stream",
          "name": "stdout",
          "text": [
            "Epoch [26/500], Train Loss: 0.9932\n",
            "Validation Loss: 0.6447\n"
          ]
        },
        {
          "output_type": "stream",
          "name": "stderr",
          "text": [
            "Epoch 27/500: 100%|██████████| 81/81 [00:02<00:00, 36.70it/s, loss=0.939]\n"
          ]
        },
        {
          "output_type": "stream",
          "name": "stdout",
          "text": [
            "Epoch [27/500], Train Loss: 0.9388\n",
            "Validation Loss: 0.5673\n"
          ]
        },
        {
          "output_type": "stream",
          "name": "stderr",
          "text": [
            "Epoch 28/500: 100%|██████████| 81/81 [00:02<00:00, 36.78it/s, loss=0.853]\n"
          ]
        },
        {
          "output_type": "stream",
          "name": "stdout",
          "text": [
            "Epoch [28/500], Train Loss: 0.8530\n",
            "Validation Loss: 0.5180\n"
          ]
        },
        {
          "output_type": "stream",
          "name": "stderr",
          "text": [
            "Epoch 29/500: 100%|██████████| 81/81 [00:02<00:00, 36.61it/s, loss=0.849]\n"
          ]
        },
        {
          "output_type": "stream",
          "name": "stdout",
          "text": [
            "Epoch [29/500], Train Loss: 0.8492\n",
            "Validation Loss: 0.5118\n"
          ]
        },
        {
          "output_type": "stream",
          "name": "stderr",
          "text": [
            "Epoch 30/500: 100%|██████████| 81/81 [00:02<00:00, 36.42it/s, loss=0.792]\n"
          ]
        },
        {
          "output_type": "stream",
          "name": "stdout",
          "text": [
            "Epoch [30/500], Train Loss: 0.7923\n",
            "Validation Loss: 0.4840\n"
          ]
        },
        {
          "output_type": "stream",
          "name": "stderr",
          "text": [
            "Epoch 31/500: 100%|██████████| 81/81 [00:02<00:00, 36.64it/s, loss=0.782]\n"
          ]
        },
        {
          "output_type": "stream",
          "name": "stdout",
          "text": [
            "Epoch [31/500], Train Loss: 0.7816\n",
            "Validation Loss: 0.4899\n"
          ]
        },
        {
          "output_type": "stream",
          "name": "stderr",
          "text": [
            "Epoch 32/500: 100%|██████████| 81/81 [00:02<00:00, 36.50it/s, loss=0.703]\n"
          ]
        },
        {
          "output_type": "stream",
          "name": "stdout",
          "text": [
            "Epoch [32/500], Train Loss: 0.7032\n",
            "Validation Loss: 0.4513\n"
          ]
        },
        {
          "output_type": "stream",
          "name": "stderr",
          "text": [
            "Epoch 33/500: 100%|██████████| 81/81 [00:02<00:00, 36.83it/s, loss=0.635]\n"
          ]
        },
        {
          "output_type": "stream",
          "name": "stdout",
          "text": [
            "Epoch [33/500], Train Loss: 0.6350\n",
            "Validation Loss: 0.4021\n"
          ]
        },
        {
          "output_type": "stream",
          "name": "stderr",
          "text": [
            "Epoch 34/500: 100%|██████████| 81/81 [00:02<00:00, 36.60it/s, loss=0.625]\n"
          ]
        },
        {
          "output_type": "stream",
          "name": "stdout",
          "text": [
            "Epoch [34/500], Train Loss: 0.6247\n",
            "Validation Loss: 0.4584\n"
          ]
        },
        {
          "output_type": "stream",
          "name": "stderr",
          "text": [
            "Epoch 35/500: 100%|██████████| 81/81 [00:02<00:00, 36.49it/s, loss=0.612]\n"
          ]
        },
        {
          "output_type": "stream",
          "name": "stdout",
          "text": [
            "Epoch [35/500], Train Loss: 0.6120\n",
            "Validation Loss: 0.4041\n"
          ]
        },
        {
          "output_type": "stream",
          "name": "stderr",
          "text": [
            "Epoch 36/500: 100%|██████████| 81/81 [00:02<00:00, 36.64it/s, loss=0.584]\n"
          ]
        },
        {
          "output_type": "stream",
          "name": "stdout",
          "text": [
            "Epoch [36/500], Train Loss: 0.5841\n",
            "Validation Loss: 0.3751\n"
          ]
        },
        {
          "output_type": "stream",
          "name": "stderr",
          "text": [
            "Epoch 37/500: 100%|██████████| 81/81 [00:02<00:00, 36.68it/s, loss=0.539]\n"
          ]
        },
        {
          "output_type": "stream",
          "name": "stdout",
          "text": [
            "Epoch [37/500], Train Loss: 0.5386\n",
            "Validation Loss: 0.3697\n"
          ]
        },
        {
          "output_type": "stream",
          "name": "stderr",
          "text": [
            "Epoch 38/500: 100%|██████████| 81/81 [00:02<00:00, 36.86it/s, loss=0.506]\n"
          ]
        },
        {
          "output_type": "stream",
          "name": "stdout",
          "text": [
            "Epoch [38/500], Train Loss: 0.5055\n",
            "Validation Loss: 0.3375\n"
          ]
        },
        {
          "output_type": "stream",
          "name": "stderr",
          "text": [
            "Epoch 39/500: 100%|██████████| 81/81 [00:02<00:00, 36.77it/s, loss=0.508]\n"
          ]
        },
        {
          "output_type": "stream",
          "name": "stdout",
          "text": [
            "Epoch [39/500], Train Loss: 0.5077\n",
            "Validation Loss: 0.3306\n"
          ]
        },
        {
          "output_type": "stream",
          "name": "stderr",
          "text": [
            "Epoch 40/500: 100%|██████████| 81/81 [00:02<00:00, 36.47it/s, loss=0.491]\n"
          ]
        },
        {
          "output_type": "stream",
          "name": "stdout",
          "text": [
            "Epoch [40/500], Train Loss: 0.4906\n",
            "Validation Loss: 0.3294\n"
          ]
        },
        {
          "output_type": "stream",
          "name": "stderr",
          "text": [
            "Epoch 41/500: 100%|██████████| 81/81 [00:02<00:00, 36.53it/s, loss=0.444]\n"
          ]
        },
        {
          "output_type": "stream",
          "name": "stdout",
          "text": [
            "Epoch [41/500], Train Loss: 0.4442\n",
            "Validation Loss: 0.3267\n"
          ]
        },
        {
          "output_type": "stream",
          "name": "stderr",
          "text": [
            "Epoch 42/500: 100%|██████████| 81/81 [00:02<00:00, 36.78it/s, loss=0.433]\n"
          ]
        },
        {
          "output_type": "stream",
          "name": "stdout",
          "text": [
            "Epoch [42/500], Train Loss: 0.4335\n",
            "Validation Loss: 0.3304\n"
          ]
        },
        {
          "output_type": "stream",
          "name": "stderr",
          "text": [
            "Epoch 43/500: 100%|██████████| 81/81 [00:02<00:00, 36.76it/s, loss=0.434]\n"
          ]
        },
        {
          "output_type": "stream",
          "name": "stdout",
          "text": [
            "Epoch [43/500], Train Loss: 0.4342\n",
            "Validation Loss: 0.3314\n"
          ]
        },
        {
          "output_type": "stream",
          "name": "stderr",
          "text": [
            "Epoch 44/500: 100%|██████████| 81/81 [00:02<00:00, 36.63it/s, loss=0.404]\n"
          ]
        },
        {
          "output_type": "stream",
          "name": "stdout",
          "text": [
            "Epoch [44/500], Train Loss: 0.4036\n",
            "Validation Loss: 0.3136\n"
          ]
        },
        {
          "output_type": "stream",
          "name": "stderr",
          "text": [
            "Epoch 45/500: 100%|██████████| 81/81 [00:02<00:00, 36.49it/s, loss=0.384]\n"
          ]
        },
        {
          "output_type": "stream",
          "name": "stdout",
          "text": [
            "Epoch [45/500], Train Loss: 0.3844\n",
            "Validation Loss: 0.2769\n"
          ]
        },
        {
          "output_type": "stream",
          "name": "stderr",
          "text": [
            "Epoch 46/500: 100%|██████████| 81/81 [00:02<00:00, 36.32it/s, loss=0.364]\n"
          ]
        },
        {
          "output_type": "stream",
          "name": "stdout",
          "text": [
            "Epoch [46/500], Train Loss: 0.3641\n",
            "Validation Loss: 0.2975\n"
          ]
        },
        {
          "output_type": "stream",
          "name": "stderr",
          "text": [
            "Epoch 47/500: 100%|██████████| 81/81 [00:02<00:00, 36.55it/s, loss=0.35]\n"
          ]
        },
        {
          "output_type": "stream",
          "name": "stdout",
          "text": [
            "Epoch [47/500], Train Loss: 0.3502\n",
            "Validation Loss: 0.2623\n"
          ]
        },
        {
          "output_type": "stream",
          "name": "stderr",
          "text": [
            "Epoch 48/500: 100%|██████████| 81/81 [00:02<00:00, 36.15it/s, loss=0.347]\n"
          ]
        },
        {
          "output_type": "stream",
          "name": "stdout",
          "text": [
            "Epoch [48/500], Train Loss: 0.3466\n",
            "Validation Loss: 0.2780\n"
          ]
        },
        {
          "output_type": "stream",
          "name": "stderr",
          "text": [
            "Epoch 49/500: 100%|██████████| 81/81 [00:02<00:00, 36.41it/s, loss=0.335]\n"
          ]
        },
        {
          "output_type": "stream",
          "name": "stdout",
          "text": [
            "Epoch [49/500], Train Loss: 0.3346\n",
            "Validation Loss: 0.2914\n"
          ]
        },
        {
          "output_type": "stream",
          "name": "stderr",
          "text": [
            "Epoch 50/500: 100%|██████████| 81/81 [00:02<00:00, 36.40it/s, loss=0.317]\n"
          ]
        },
        {
          "output_type": "stream",
          "name": "stdout",
          "text": [
            "Epoch [50/500], Train Loss: 0.3173\n",
            "Validation Loss: 0.2632\n"
          ]
        },
        {
          "output_type": "stream",
          "name": "stderr",
          "text": [
            "Epoch 51/500: 100%|██████████| 81/81 [00:02<00:00, 36.20it/s, loss=0.339]\n"
          ]
        },
        {
          "output_type": "stream",
          "name": "stdout",
          "text": [
            "Epoch [51/500], Train Loss: 0.3389\n",
            "Validation Loss: 0.2379\n"
          ]
        },
        {
          "output_type": "stream",
          "name": "stderr",
          "text": [
            "Epoch 52/500: 100%|██████████| 81/81 [00:02<00:00, 36.31it/s, loss=0.306]\n"
          ]
        },
        {
          "output_type": "stream",
          "name": "stdout",
          "text": [
            "Epoch [52/500], Train Loss: 0.3063\n",
            "Validation Loss: 0.2305\n"
          ]
        },
        {
          "output_type": "stream",
          "name": "stderr",
          "text": [
            "Epoch 53/500: 100%|██████████| 81/81 [00:02<00:00, 36.56it/s, loss=0.288]\n"
          ]
        },
        {
          "output_type": "stream",
          "name": "stdout",
          "text": [
            "Epoch [53/500], Train Loss: 0.2878\n",
            "Validation Loss: 0.2320\n"
          ]
        },
        {
          "output_type": "stream",
          "name": "stderr",
          "text": [
            "Epoch 54/500: 100%|██████████| 81/81 [00:02<00:00, 36.39it/s, loss=0.29]\n"
          ]
        },
        {
          "output_type": "stream",
          "name": "stdout",
          "text": [
            "Epoch [54/500], Train Loss: 0.2899\n",
            "Validation Loss: 0.2337\n"
          ]
        },
        {
          "output_type": "stream",
          "name": "stderr",
          "text": [
            "Epoch 55/500: 100%|██████████| 81/81 [00:02<00:00, 36.23it/s, loss=0.281]\n"
          ]
        },
        {
          "output_type": "stream",
          "name": "stdout",
          "text": [
            "Epoch [55/500], Train Loss: 0.2813\n",
            "Validation Loss: 0.2153\n"
          ]
        },
        {
          "output_type": "stream",
          "name": "stderr",
          "text": [
            "Epoch 56/500: 100%|██████████| 81/81 [00:02<00:00, 36.06it/s, loss=0.266]\n"
          ]
        },
        {
          "output_type": "stream",
          "name": "stdout",
          "text": [
            "Epoch [56/500], Train Loss: 0.2658\n",
            "Validation Loss: 0.2138\n"
          ]
        },
        {
          "output_type": "stream",
          "name": "stderr",
          "text": [
            "Epoch 57/500: 100%|██████████| 81/81 [00:02<00:00, 35.95it/s, loss=0.258]\n"
          ]
        },
        {
          "output_type": "stream",
          "name": "stdout",
          "text": [
            "Epoch [57/500], Train Loss: 0.2585\n",
            "Validation Loss: 0.2159\n"
          ]
        },
        {
          "output_type": "stream",
          "name": "stderr",
          "text": [
            "Epoch 58/500: 100%|██████████| 81/81 [00:02<00:00, 36.49it/s, loss=0.263]\n"
          ]
        },
        {
          "output_type": "stream",
          "name": "stdout",
          "text": [
            "Epoch [58/500], Train Loss: 0.2629\n",
            "Validation Loss: 0.2109\n"
          ]
        },
        {
          "output_type": "stream",
          "name": "stderr",
          "text": [
            "Epoch 59/500: 100%|██████████| 81/81 [00:02<00:00, 36.29it/s, loss=0.252]\n"
          ]
        },
        {
          "output_type": "stream",
          "name": "stdout",
          "text": [
            "Epoch [59/500], Train Loss: 0.2522\n",
            "Validation Loss: 0.2366\n"
          ]
        },
        {
          "output_type": "stream",
          "name": "stderr",
          "text": [
            "Epoch 60/500: 100%|██████████| 81/81 [00:02<00:00, 36.39it/s, loss=0.251]\n"
          ]
        },
        {
          "output_type": "stream",
          "name": "stdout",
          "text": [
            "Epoch [60/500], Train Loss: 0.2513\n",
            "Validation Loss: 0.1937\n"
          ]
        },
        {
          "output_type": "stream",
          "name": "stderr",
          "text": [
            "Epoch 61/500: 100%|██████████| 81/81 [00:02<00:00, 36.22it/s, loss=0.238]\n"
          ]
        },
        {
          "output_type": "stream",
          "name": "stdout",
          "text": [
            "Epoch [61/500], Train Loss: 0.2382\n",
            "Validation Loss: 0.2056\n"
          ]
        },
        {
          "output_type": "stream",
          "name": "stderr",
          "text": [
            "Epoch 62/500: 100%|██████████| 81/81 [00:02<00:00, 36.23it/s, loss=0.225]\n"
          ]
        },
        {
          "output_type": "stream",
          "name": "stdout",
          "text": [
            "Epoch [62/500], Train Loss: 0.2252\n",
            "Validation Loss: 0.1829\n"
          ]
        },
        {
          "output_type": "stream",
          "name": "stderr",
          "text": [
            "Epoch 63/500: 100%|██████████| 81/81 [00:02<00:00, 36.49it/s, loss=0.221]\n"
          ]
        },
        {
          "output_type": "stream",
          "name": "stdout",
          "text": [
            "Epoch [63/500], Train Loss: 0.2205\n",
            "Validation Loss: 0.1838\n"
          ]
        },
        {
          "output_type": "stream",
          "name": "stderr",
          "text": [
            "Epoch 64/500: 100%|██████████| 81/81 [00:02<00:00, 36.39it/s, loss=0.218]\n"
          ]
        },
        {
          "output_type": "stream",
          "name": "stdout",
          "text": [
            "Epoch [64/500], Train Loss: 0.2181\n",
            "Validation Loss: 0.1859\n"
          ]
        },
        {
          "output_type": "stream",
          "name": "stderr",
          "text": [
            "Epoch 65/500: 100%|██████████| 81/81 [00:02<00:00, 36.50it/s, loss=0.202]\n"
          ]
        },
        {
          "output_type": "stream",
          "name": "stdout",
          "text": [
            "Epoch [65/500], Train Loss: 0.2024\n",
            "Validation Loss: 0.1790\n"
          ]
        },
        {
          "output_type": "stream",
          "name": "stderr",
          "text": [
            "Epoch 66/500: 100%|██████████| 81/81 [00:02<00:00, 36.41it/s, loss=0.207]\n"
          ]
        },
        {
          "output_type": "stream",
          "name": "stdout",
          "text": [
            "Epoch [66/500], Train Loss: 0.2067\n",
            "Validation Loss: 0.1838\n"
          ]
        },
        {
          "output_type": "stream",
          "name": "stderr",
          "text": [
            "Epoch 67/500: 100%|██████████| 81/81 [00:02<00:00, 36.57it/s, loss=0.211]\n"
          ]
        },
        {
          "output_type": "stream",
          "name": "stdout",
          "text": [
            "Epoch [67/500], Train Loss: 0.2112\n",
            "Validation Loss: 0.1813\n"
          ]
        },
        {
          "output_type": "stream",
          "name": "stderr",
          "text": [
            "Epoch 68/500: 100%|██████████| 81/81 [00:02<00:00, 36.54it/s, loss=0.197]\n"
          ]
        },
        {
          "output_type": "stream",
          "name": "stdout",
          "text": [
            "Epoch [68/500], Train Loss: 0.1969\n",
            "Validation Loss: 0.1753\n"
          ]
        },
        {
          "output_type": "stream",
          "name": "stderr",
          "text": [
            "Epoch 69/500: 100%|██████████| 81/81 [00:02<00:00, 36.74it/s, loss=0.199]\n"
          ]
        },
        {
          "output_type": "stream",
          "name": "stdout",
          "text": [
            "Epoch [69/500], Train Loss: 0.1987\n",
            "Validation Loss: 0.1648\n"
          ]
        },
        {
          "output_type": "stream",
          "name": "stderr",
          "text": [
            "Epoch 70/500: 100%|██████████| 81/81 [00:02<00:00, 36.39it/s, loss=0.186]\n"
          ]
        },
        {
          "output_type": "stream",
          "name": "stdout",
          "text": [
            "Epoch [70/500], Train Loss: 0.1856\n",
            "Validation Loss: 0.1717\n"
          ]
        },
        {
          "output_type": "stream",
          "name": "stderr",
          "text": [
            "Epoch 71/500: 100%|██████████| 81/81 [00:02<00:00, 36.40it/s, loss=0.189]\n"
          ]
        },
        {
          "output_type": "stream",
          "name": "stdout",
          "text": [
            "Epoch [71/500], Train Loss: 0.1891\n",
            "Validation Loss: 0.1724\n"
          ]
        },
        {
          "output_type": "stream",
          "name": "stderr",
          "text": [
            "Epoch 72/500: 100%|██████████| 81/81 [00:02<00:00, 36.66it/s, loss=0.187]\n"
          ]
        },
        {
          "output_type": "stream",
          "name": "stdout",
          "text": [
            "Epoch [72/500], Train Loss: 0.1871\n",
            "Validation Loss: 0.1644\n"
          ]
        },
        {
          "output_type": "stream",
          "name": "stderr",
          "text": [
            "Epoch 73/500: 100%|██████████| 81/81 [00:02<00:00, 36.51it/s, loss=0.18]\n"
          ]
        },
        {
          "output_type": "stream",
          "name": "stdout",
          "text": [
            "Epoch [73/500], Train Loss: 0.1800\n",
            "Validation Loss: 0.1606\n"
          ]
        },
        {
          "output_type": "stream",
          "name": "stderr",
          "text": [
            "Epoch 74/500: 100%|██████████| 81/81 [00:02<00:00, 36.71it/s, loss=0.186]\n"
          ]
        },
        {
          "output_type": "stream",
          "name": "stdout",
          "text": [
            "Epoch [74/500], Train Loss: 0.1861\n",
            "Validation Loss: 0.1585\n"
          ]
        },
        {
          "output_type": "stream",
          "name": "stderr",
          "text": [
            "Epoch 75/500: 100%|██████████| 81/81 [00:02<00:00, 36.72it/s, loss=0.178]\n"
          ]
        },
        {
          "output_type": "stream",
          "name": "stdout",
          "text": [
            "Epoch [75/500], Train Loss: 0.1784\n",
            "Validation Loss: 0.1565\n"
          ]
        },
        {
          "output_type": "stream",
          "name": "stderr",
          "text": [
            "Epoch 76/500: 100%|██████████| 81/81 [00:02<00:00, 36.55it/s, loss=0.172]\n"
          ]
        },
        {
          "output_type": "stream",
          "name": "stdout",
          "text": [
            "Epoch [76/500], Train Loss: 0.1716\n",
            "Validation Loss: 0.1560\n"
          ]
        },
        {
          "output_type": "stream",
          "name": "stderr",
          "text": [
            "Epoch 77/500: 100%|██████████| 81/81 [00:02<00:00, 36.71it/s, loss=0.168]\n"
          ]
        },
        {
          "output_type": "stream",
          "name": "stdout",
          "text": [
            "Epoch [77/500], Train Loss: 0.1676\n",
            "Validation Loss: 0.1554\n"
          ]
        },
        {
          "output_type": "stream",
          "name": "stderr",
          "text": [
            "Epoch 78/500: 100%|██████████| 81/81 [00:02<00:00, 36.53it/s, loss=0.169]\n"
          ]
        },
        {
          "output_type": "stream",
          "name": "stdout",
          "text": [
            "Epoch [78/500], Train Loss: 0.1685\n",
            "Validation Loss: 0.1526\n"
          ]
        },
        {
          "output_type": "stream",
          "name": "stderr",
          "text": [
            "Epoch 79/500: 100%|██████████| 81/81 [00:02<00:00, 36.58it/s, loss=0.162]\n"
          ]
        },
        {
          "output_type": "stream",
          "name": "stdout",
          "text": [
            "Epoch [79/500], Train Loss: 0.1616\n",
            "Validation Loss: 0.1501\n"
          ]
        },
        {
          "output_type": "stream",
          "name": "stderr",
          "text": [
            "Epoch 80/500: 100%|██████████| 81/81 [00:02<00:00, 36.62it/s, loss=0.16]\n"
          ]
        },
        {
          "output_type": "stream",
          "name": "stdout",
          "text": [
            "Epoch [80/500], Train Loss: 0.1596\n",
            "Validation Loss: 0.1523\n"
          ]
        },
        {
          "output_type": "stream",
          "name": "stderr",
          "text": [
            "Epoch 81/500: 100%|██████████| 81/81 [00:02<00:00, 36.52it/s, loss=0.162]\n"
          ]
        },
        {
          "output_type": "stream",
          "name": "stdout",
          "text": [
            "Epoch [81/500], Train Loss: 0.1620\n",
            "Validation Loss: 0.1500\n"
          ]
        },
        {
          "output_type": "stream",
          "name": "stderr",
          "text": [
            "Epoch 82/500: 100%|██████████| 81/81 [00:02<00:00, 36.62it/s, loss=0.157]\n"
          ]
        },
        {
          "output_type": "stream",
          "name": "stdout",
          "text": [
            "Epoch [82/500], Train Loss: 0.1569\n",
            "Validation Loss: 0.1505\n"
          ]
        },
        {
          "output_type": "stream",
          "name": "stderr",
          "text": [
            "Epoch 83/500: 100%|██████████| 81/81 [00:02<00:00, 36.65it/s, loss=0.158]\n"
          ]
        },
        {
          "output_type": "stream",
          "name": "stdout",
          "text": [
            "Epoch [83/500], Train Loss: 0.1584\n",
            "Validation Loss: 0.1569\n"
          ]
        },
        {
          "output_type": "stream",
          "name": "stderr",
          "text": [
            "Epoch 84/500: 100%|██████████| 81/81 [00:02<00:00, 36.49it/s, loss=0.153]\n"
          ]
        },
        {
          "output_type": "stream",
          "name": "stdout",
          "text": [
            "Epoch [84/500], Train Loss: 0.1526\n",
            "Validation Loss: 0.1441\n"
          ]
        },
        {
          "output_type": "stream",
          "name": "stderr",
          "text": [
            "Epoch 85/500: 100%|██████████| 81/81 [00:02<00:00, 36.50it/s, loss=0.15]\n"
          ]
        },
        {
          "output_type": "stream",
          "name": "stdout",
          "text": [
            "Epoch [85/500], Train Loss: 0.1495\n",
            "Validation Loss: 0.1468\n"
          ]
        },
        {
          "output_type": "stream",
          "name": "stderr",
          "text": [
            "Epoch 86/500: 100%|██████████| 81/81 [00:02<00:00, 36.61it/s, loss=0.151]\n"
          ]
        },
        {
          "output_type": "stream",
          "name": "stdout",
          "text": [
            "Epoch [86/500], Train Loss: 0.1508\n",
            "Validation Loss: 0.1515\n"
          ]
        },
        {
          "output_type": "stream",
          "name": "stderr",
          "text": [
            "Epoch 87/500: 100%|██████████| 81/81 [00:02<00:00, 36.64it/s, loss=0.148]\n"
          ]
        },
        {
          "output_type": "stream",
          "name": "stdout",
          "text": [
            "Epoch [87/500], Train Loss: 0.1479\n",
            "Validation Loss: 0.1415\n"
          ]
        },
        {
          "output_type": "stream",
          "name": "stderr",
          "text": [
            "Epoch 88/500: 100%|██████████| 81/81 [00:02<00:00, 36.67it/s, loss=0.148]\n"
          ]
        },
        {
          "output_type": "stream",
          "name": "stdout",
          "text": [
            "Epoch [88/500], Train Loss: 0.1476\n",
            "Validation Loss: 0.1417\n"
          ]
        },
        {
          "output_type": "stream",
          "name": "stderr",
          "text": [
            "Epoch 89/500: 100%|██████████| 81/81 [00:02<00:00, 36.59it/s, loss=0.144]\n"
          ]
        },
        {
          "output_type": "stream",
          "name": "stdout",
          "text": [
            "Epoch [89/500], Train Loss: 0.1445\n",
            "Validation Loss: 0.1418\n"
          ]
        },
        {
          "output_type": "stream",
          "name": "stderr",
          "text": [
            "Epoch 90/500: 100%|██████████| 81/81 [00:02<00:00, 36.48it/s, loss=0.146]\n"
          ]
        },
        {
          "output_type": "stream",
          "name": "stdout",
          "text": [
            "Epoch [90/500], Train Loss: 0.1455\n",
            "Validation Loss: 0.1381\n"
          ]
        },
        {
          "output_type": "stream",
          "name": "stderr",
          "text": [
            "Epoch 91/500: 100%|██████████| 81/81 [00:02<00:00, 36.70it/s, loss=0.141]\n"
          ]
        },
        {
          "output_type": "stream",
          "name": "stdout",
          "text": [
            "Epoch [91/500], Train Loss: 0.1414\n",
            "Validation Loss: 0.1452\n"
          ]
        },
        {
          "output_type": "stream",
          "name": "stderr",
          "text": [
            "Epoch 92/500: 100%|██████████| 81/81 [00:02<00:00, 36.48it/s, loss=0.139]\n"
          ]
        },
        {
          "output_type": "stream",
          "name": "stdout",
          "text": [
            "Epoch [92/500], Train Loss: 0.1390\n",
            "Validation Loss: 0.1369\n"
          ]
        },
        {
          "output_type": "stream",
          "name": "stderr",
          "text": [
            "Epoch 93/500: 100%|██████████| 81/81 [00:02<00:00, 36.72it/s, loss=0.141]\n"
          ]
        },
        {
          "output_type": "stream",
          "name": "stdout",
          "text": [
            "Epoch [93/500], Train Loss: 0.1406\n",
            "Validation Loss: 0.1427\n"
          ]
        },
        {
          "output_type": "stream",
          "name": "stderr",
          "text": [
            "Epoch 94/500: 100%|██████████| 81/81 [00:02<00:00, 36.48it/s, loss=0.138]\n"
          ]
        },
        {
          "output_type": "stream",
          "name": "stdout",
          "text": [
            "Epoch [94/500], Train Loss: 0.1377\n",
            "Validation Loss: 0.1414\n"
          ]
        },
        {
          "output_type": "stream",
          "name": "stderr",
          "text": [
            "Epoch 95/500: 100%|██████████| 81/81 [00:02<00:00, 36.39it/s, loss=0.137]\n"
          ]
        },
        {
          "output_type": "stream",
          "name": "stdout",
          "text": [
            "Epoch [95/500], Train Loss: 0.1373\n",
            "Validation Loss: 0.1423\n"
          ]
        },
        {
          "output_type": "stream",
          "name": "stderr",
          "text": [
            "Epoch 96/500: 100%|██████████| 81/81 [00:02<00:00, 36.69it/s, loss=0.138]\n"
          ]
        },
        {
          "output_type": "stream",
          "name": "stdout",
          "text": [
            "Epoch [96/500], Train Loss: 0.1376\n",
            "Validation Loss: 0.1400\n"
          ]
        },
        {
          "output_type": "stream",
          "name": "stderr",
          "text": [
            "Epoch 97/500: 100%|██████████| 81/81 [00:02<00:00, 36.55it/s, loss=0.134]\n"
          ]
        },
        {
          "output_type": "stream",
          "name": "stdout",
          "text": [
            "Epoch [97/500], Train Loss: 0.1337\n",
            "Validation Loss: 0.1373\n"
          ]
        },
        {
          "output_type": "stream",
          "name": "stderr",
          "text": [
            "Epoch 98/500: 100%|██████████| 81/81 [00:02<00:00, 36.69it/s, loss=0.136]\n"
          ]
        },
        {
          "output_type": "stream",
          "name": "stdout",
          "text": [
            "Epoch [98/500], Train Loss: 0.1358\n",
            "Validation Loss: 0.1347\n"
          ]
        },
        {
          "output_type": "stream",
          "name": "stderr",
          "text": [
            "Epoch 99/500: 100%|██████████| 81/81 [00:02<00:00, 36.64it/s, loss=0.132]\n"
          ]
        },
        {
          "output_type": "stream",
          "name": "stdout",
          "text": [
            "Epoch [99/500], Train Loss: 0.1324\n",
            "Validation Loss: 0.1327\n"
          ]
        },
        {
          "output_type": "stream",
          "name": "stderr",
          "text": [
            "Epoch 100/500: 100%|██████████| 81/81 [00:02<00:00, 36.52it/s, loss=0.133]\n"
          ]
        },
        {
          "output_type": "stream",
          "name": "stdout",
          "text": [
            "Epoch [100/500], Train Loss: 0.1329\n",
            "Validation Loss: 0.1486\n"
          ]
        },
        {
          "output_type": "stream",
          "name": "stderr",
          "text": [
            "Epoch 101/500: 100%|██████████| 81/81 [00:02<00:00, 36.63it/s, loss=0.131]\n"
          ]
        },
        {
          "output_type": "stream",
          "name": "stdout",
          "text": [
            "Epoch [101/500], Train Loss: 0.1307\n",
            "Validation Loss: 0.1346\n"
          ]
        },
        {
          "output_type": "stream",
          "name": "stderr",
          "text": [
            "Epoch 102/500: 100%|██████████| 81/81 [00:02<00:00, 36.45it/s, loss=0.131]\n"
          ]
        },
        {
          "output_type": "stream",
          "name": "stdout",
          "text": [
            "Epoch [102/500], Train Loss: 0.1311\n",
            "Validation Loss: 0.1298\n"
          ]
        },
        {
          "output_type": "stream",
          "name": "stderr",
          "text": [
            "Epoch 103/500: 100%|██████████| 81/81 [00:02<00:00, 36.57it/s, loss=0.13]\n"
          ]
        },
        {
          "output_type": "stream",
          "name": "stdout",
          "text": [
            "Epoch [103/500], Train Loss: 0.1298\n",
            "Validation Loss: 0.1364\n"
          ]
        },
        {
          "output_type": "stream",
          "name": "stderr",
          "text": [
            "Epoch 104/500: 100%|██████████| 81/81 [00:02<00:00, 36.62it/s, loss=0.13]\n"
          ]
        },
        {
          "output_type": "stream",
          "name": "stdout",
          "text": [
            "Epoch [104/500], Train Loss: 0.1299\n",
            "Validation Loss: 0.1332\n"
          ]
        },
        {
          "output_type": "stream",
          "name": "stderr",
          "text": [
            "Epoch 105/500: 100%|██████████| 81/81 [00:02<00:00, 36.41it/s, loss=0.127]\n"
          ]
        },
        {
          "output_type": "stream",
          "name": "stdout",
          "text": [
            "Epoch [105/500], Train Loss: 0.1268\n",
            "Validation Loss: 0.1283\n"
          ]
        },
        {
          "output_type": "stream",
          "name": "stderr",
          "text": [
            "Epoch 106/500: 100%|██████████| 81/81 [00:02<00:00, 36.60it/s, loss=0.125]\n"
          ]
        },
        {
          "output_type": "stream",
          "name": "stdout",
          "text": [
            "Epoch [106/500], Train Loss: 0.1252\n",
            "Validation Loss: 0.1296\n"
          ]
        },
        {
          "output_type": "stream",
          "name": "stderr",
          "text": [
            "Epoch 107/500: 100%|██████████| 81/81 [00:02<00:00, 36.48it/s, loss=0.127]\n"
          ]
        },
        {
          "output_type": "stream",
          "name": "stdout",
          "text": [
            "Epoch [107/500], Train Loss: 0.1274\n",
            "Validation Loss: 0.1318\n"
          ]
        },
        {
          "output_type": "stream",
          "name": "stderr",
          "text": [
            "Epoch 108/500: 100%|██████████| 81/81 [00:02<00:00, 36.36it/s, loss=0.126]\n"
          ]
        },
        {
          "output_type": "stream",
          "name": "stdout",
          "text": [
            "Epoch [108/500], Train Loss: 0.1259\n",
            "Validation Loss: 0.1284\n"
          ]
        },
        {
          "output_type": "stream",
          "name": "stderr",
          "text": [
            "Epoch 109/500: 100%|██████████| 81/81 [00:02<00:00, 36.32it/s, loss=0.125]\n"
          ]
        },
        {
          "output_type": "stream",
          "name": "stdout",
          "text": [
            "Epoch [109/500], Train Loss: 0.1249\n",
            "Validation Loss: 0.1318\n"
          ]
        },
        {
          "output_type": "stream",
          "name": "stderr",
          "text": [
            "Epoch 110/500: 100%|██████████| 81/81 [00:02<00:00, 36.30it/s, loss=0.123]\n"
          ]
        },
        {
          "output_type": "stream",
          "name": "stdout",
          "text": [
            "Epoch [110/500], Train Loss: 0.1231\n",
            "Validation Loss: 0.1289\n"
          ]
        },
        {
          "output_type": "stream",
          "name": "stderr",
          "text": [
            "Epoch 111/500: 100%|██████████| 81/81 [00:02<00:00, 36.29it/s, loss=0.124]\n"
          ]
        },
        {
          "output_type": "stream",
          "name": "stdout",
          "text": [
            "Epoch [111/500], Train Loss: 0.1242\n",
            "Validation Loss: 0.1306\n"
          ]
        },
        {
          "output_type": "stream",
          "name": "stderr",
          "text": [
            "Epoch 112/500: 100%|██████████| 81/81 [00:02<00:00, 36.31it/s, loss=0.124]\n"
          ]
        },
        {
          "output_type": "stream",
          "name": "stdout",
          "text": [
            "Epoch [112/500], Train Loss: 0.1242\n",
            "Validation Loss: 0.1278\n"
          ]
        },
        {
          "output_type": "stream",
          "name": "stderr",
          "text": [
            "Epoch 113/500: 100%|██████████| 81/81 [00:02<00:00, 36.27it/s, loss=0.122]\n"
          ]
        },
        {
          "output_type": "stream",
          "name": "stdout",
          "text": [
            "Epoch [113/500], Train Loss: 0.1224\n",
            "Validation Loss: 0.1326\n"
          ]
        },
        {
          "output_type": "stream",
          "name": "stderr",
          "text": [
            "Epoch 114/500: 100%|██████████| 81/81 [00:02<00:00, 36.39it/s, loss=0.121]\n"
          ]
        },
        {
          "output_type": "stream",
          "name": "stdout",
          "text": [
            "Epoch [114/500], Train Loss: 0.1213\n",
            "Validation Loss: 0.1296\n"
          ]
        },
        {
          "output_type": "stream",
          "name": "stderr",
          "text": [
            "Epoch 115/500: 100%|██████████| 81/81 [00:02<00:00, 36.36it/s, loss=0.123]\n"
          ]
        },
        {
          "output_type": "stream",
          "name": "stdout",
          "text": [
            "Epoch [115/500], Train Loss: 0.1227\n",
            "Validation Loss: 0.1256\n"
          ]
        },
        {
          "output_type": "stream",
          "name": "stderr",
          "text": [
            "Epoch 116/500: 100%|██████████| 81/81 [00:02<00:00, 36.31it/s, loss=0.122]\n"
          ]
        },
        {
          "output_type": "stream",
          "name": "stdout",
          "text": [
            "Epoch [116/500], Train Loss: 0.1216\n",
            "Validation Loss: 0.1243\n"
          ]
        },
        {
          "output_type": "stream",
          "name": "stderr",
          "text": [
            "Epoch 117/500: 100%|██████████| 81/81 [00:02<00:00, 36.27it/s, loss=0.12]\n"
          ]
        },
        {
          "output_type": "stream",
          "name": "stdout",
          "text": [
            "Epoch [117/500], Train Loss: 0.1201\n",
            "Validation Loss: 0.1233\n"
          ]
        },
        {
          "output_type": "stream",
          "name": "stderr",
          "text": [
            "Epoch 118/500: 100%|██████████| 81/81 [00:02<00:00, 36.41it/s, loss=0.118]\n"
          ]
        },
        {
          "output_type": "stream",
          "name": "stdout",
          "text": [
            "Epoch [118/500], Train Loss: 0.1183\n",
            "Validation Loss: 0.1239\n"
          ]
        },
        {
          "output_type": "stream",
          "name": "stderr",
          "text": [
            "Epoch 119/500: 100%|██████████| 81/81 [00:02<00:00, 36.49it/s, loss=0.118]\n"
          ]
        },
        {
          "output_type": "stream",
          "name": "stdout",
          "text": [
            "Epoch [119/500], Train Loss: 0.1183\n",
            "Validation Loss: 0.1288\n"
          ]
        },
        {
          "output_type": "stream",
          "name": "stderr",
          "text": [
            "Epoch 120/500: 100%|██████████| 81/81 [00:02<00:00, 36.53it/s, loss=0.118]\n"
          ]
        },
        {
          "output_type": "stream",
          "name": "stdout",
          "text": [
            "Epoch [120/500], Train Loss: 0.1183\n",
            "Validation Loss: 0.1395\n"
          ]
        },
        {
          "output_type": "stream",
          "name": "stderr",
          "text": [
            "Epoch 121/500: 100%|██████████| 81/81 [00:02<00:00, 36.51it/s, loss=0.116]\n"
          ]
        },
        {
          "output_type": "stream",
          "name": "stdout",
          "text": [
            "Epoch [121/500], Train Loss: 0.1157\n",
            "Validation Loss: 0.1255\n"
          ]
        },
        {
          "output_type": "stream",
          "name": "stderr",
          "text": [
            "Epoch 122/500: 100%|██████████| 81/81 [00:02<00:00, 36.51it/s, loss=0.116]\n"
          ]
        },
        {
          "output_type": "stream",
          "name": "stdout",
          "text": [
            "Epoch [122/500], Train Loss: 0.1163\n",
            "Validation Loss: 0.1236\n"
          ]
        },
        {
          "output_type": "stream",
          "name": "stderr",
          "text": [
            "Epoch 123/500: 100%|██████████| 81/81 [00:02<00:00, 36.35it/s, loss=0.116]\n"
          ]
        },
        {
          "output_type": "stream",
          "name": "stdout",
          "text": [
            "Epoch [123/500], Train Loss: 0.1158\n",
            "Validation Loss: 0.1191\n"
          ]
        },
        {
          "output_type": "stream",
          "name": "stderr",
          "text": [
            "Epoch 124/500: 100%|██████████| 81/81 [00:02<00:00, 36.59it/s, loss=0.116]\n"
          ]
        },
        {
          "output_type": "stream",
          "name": "stdout",
          "text": [
            "Epoch [124/500], Train Loss: 0.1155\n",
            "Validation Loss: 0.1216\n"
          ]
        },
        {
          "output_type": "stream",
          "name": "stderr",
          "text": [
            "Epoch 125/500: 100%|██████████| 81/81 [00:02<00:00, 36.67it/s, loss=0.115]\n"
          ]
        },
        {
          "output_type": "stream",
          "name": "stdout",
          "text": [
            "Epoch [125/500], Train Loss: 0.1155\n",
            "Validation Loss: 0.1206\n"
          ]
        },
        {
          "output_type": "stream",
          "name": "stderr",
          "text": [
            "Epoch 126/500: 100%|██████████| 81/81 [00:02<00:00, 36.56it/s, loss=0.113]\n"
          ]
        },
        {
          "output_type": "stream",
          "name": "stdout",
          "text": [
            "Epoch [126/500], Train Loss: 0.1127\n",
            "Validation Loss: 0.1240\n"
          ]
        },
        {
          "output_type": "stream",
          "name": "stderr",
          "text": [
            "Epoch 127/500: 100%|██████████| 81/81 [00:02<00:00, 36.39it/s, loss=0.114]\n"
          ]
        },
        {
          "output_type": "stream",
          "name": "stdout",
          "text": [
            "Epoch [127/500], Train Loss: 0.1138\n",
            "Validation Loss: 0.1262\n"
          ]
        },
        {
          "output_type": "stream",
          "name": "stderr",
          "text": [
            "Epoch 128/500: 100%|██████████| 81/81 [00:02<00:00, 36.28it/s, loss=0.113]\n"
          ]
        },
        {
          "output_type": "stream",
          "name": "stdout",
          "text": [
            "Epoch [128/500], Train Loss: 0.1133\n",
            "Validation Loss: 0.1191\n"
          ]
        },
        {
          "output_type": "stream",
          "name": "stderr",
          "text": [
            "Epoch 129/500: 100%|██████████| 81/81 [00:02<00:00, 36.46it/s, loss=0.113]\n"
          ]
        },
        {
          "output_type": "stream",
          "name": "stdout",
          "text": [
            "Epoch [129/500], Train Loss: 0.1128\n",
            "Validation Loss: 0.1204\n"
          ]
        },
        {
          "output_type": "stream",
          "name": "stderr",
          "text": [
            "Epoch 130/500: 100%|██████████| 81/81 [00:02<00:00, 36.56it/s, loss=0.112]\n"
          ]
        },
        {
          "output_type": "stream",
          "name": "stdout",
          "text": [
            "Epoch [130/500], Train Loss: 0.1117\n",
            "Validation Loss: 0.1207\n"
          ]
        },
        {
          "output_type": "stream",
          "name": "stderr",
          "text": [
            "Epoch 131/500: 100%|██████████| 81/81 [00:02<00:00, 36.46it/s, loss=0.111]\n"
          ]
        },
        {
          "output_type": "stream",
          "name": "stdout",
          "text": [
            "Epoch [131/500], Train Loss: 0.1112\n",
            "Validation Loss: 0.1270\n"
          ]
        },
        {
          "output_type": "stream",
          "name": "stderr",
          "text": [
            "Epoch 132/500: 100%|██████████| 81/81 [00:02<00:00, 36.43it/s, loss=0.111]\n"
          ]
        },
        {
          "output_type": "stream",
          "name": "stdout",
          "text": [
            "Epoch [132/500], Train Loss: 0.1111\n",
            "Validation Loss: 0.1327\n"
          ]
        },
        {
          "output_type": "stream",
          "name": "stderr",
          "text": [
            "Epoch 133/500: 100%|██████████| 81/81 [00:02<00:00, 36.37it/s, loss=0.111]\n"
          ]
        },
        {
          "output_type": "stream",
          "name": "stdout",
          "text": [
            "Epoch [133/500], Train Loss: 0.1107\n",
            "Validation Loss: 0.1172\n"
          ]
        },
        {
          "output_type": "stream",
          "name": "stderr",
          "text": [
            "Epoch 134/500: 100%|██████████| 81/81 [00:02<00:00, 36.55it/s, loss=0.109]\n"
          ]
        },
        {
          "output_type": "stream",
          "name": "stdout",
          "text": [
            "Epoch [134/500], Train Loss: 0.1093\n",
            "Validation Loss: 0.1165\n"
          ]
        },
        {
          "output_type": "stream",
          "name": "stderr",
          "text": [
            "Epoch 135/500: 100%|██████████| 81/81 [00:02<00:00, 36.55it/s, loss=0.11]\n"
          ]
        },
        {
          "output_type": "stream",
          "name": "stdout",
          "text": [
            "Epoch [135/500], Train Loss: 0.1097\n",
            "Validation Loss: 0.1421\n"
          ]
        },
        {
          "output_type": "stream",
          "name": "stderr",
          "text": [
            "Epoch 136/500: 100%|██████████| 81/81 [00:02<00:00, 36.54it/s, loss=0.11]\n"
          ]
        },
        {
          "output_type": "stream",
          "name": "stdout",
          "text": [
            "Epoch [136/500], Train Loss: 0.1103\n",
            "Validation Loss: 0.1167\n"
          ]
        },
        {
          "output_type": "stream",
          "name": "stderr",
          "text": [
            "Epoch 137/500: 100%|██████████| 81/81 [00:02<00:00, 36.63it/s, loss=0.109]\n"
          ]
        },
        {
          "output_type": "stream",
          "name": "stdout",
          "text": [
            "Epoch [137/500], Train Loss: 0.1093\n",
            "Validation Loss: 0.1162\n"
          ]
        },
        {
          "output_type": "stream",
          "name": "stderr",
          "text": [
            "Epoch 138/500: 100%|██████████| 81/81 [00:02<00:00, 36.21it/s, loss=0.108]\n"
          ]
        },
        {
          "output_type": "stream",
          "name": "stdout",
          "text": [
            "Epoch [138/500], Train Loss: 0.1079\n",
            "Validation Loss: 0.1160\n"
          ]
        },
        {
          "output_type": "stream",
          "name": "stderr",
          "text": [
            "Epoch 139/500: 100%|██████████| 81/81 [00:02<00:00, 36.33it/s, loss=0.109]\n"
          ]
        },
        {
          "output_type": "stream",
          "name": "stdout",
          "text": [
            "Epoch [139/500], Train Loss: 0.1085\n",
            "Validation Loss: 0.1280\n"
          ]
        },
        {
          "output_type": "stream",
          "name": "stderr",
          "text": [
            "Epoch 140/500: 100%|██████████| 81/81 [00:02<00:00, 36.25it/s, loss=0.107]\n"
          ]
        },
        {
          "output_type": "stream",
          "name": "stdout",
          "text": [
            "Epoch [140/500], Train Loss: 0.1073\n",
            "Validation Loss: 0.1149\n"
          ]
        },
        {
          "output_type": "stream",
          "name": "stderr",
          "text": [
            "Epoch 141/500: 100%|██████████| 81/81 [00:02<00:00, 36.45it/s, loss=0.106]\n"
          ]
        },
        {
          "output_type": "stream",
          "name": "stdout",
          "text": [
            "Epoch [141/500], Train Loss: 0.1064\n",
            "Validation Loss: 0.1148\n"
          ]
        },
        {
          "output_type": "stream",
          "name": "stderr",
          "text": [
            "Epoch 142/500: 100%|██████████| 81/81 [00:02<00:00, 36.51it/s, loss=0.106]\n"
          ]
        },
        {
          "output_type": "stream",
          "name": "stdout",
          "text": [
            "Epoch [142/500], Train Loss: 0.1058\n",
            "Validation Loss: 0.1129\n"
          ]
        },
        {
          "output_type": "stream",
          "name": "stderr",
          "text": [
            "Epoch 143/500: 100%|██████████| 81/81 [00:02<00:00, 36.09it/s, loss=0.107]\n"
          ]
        },
        {
          "output_type": "stream",
          "name": "stdout",
          "text": [
            "Epoch [143/500], Train Loss: 0.1065\n",
            "Validation Loss: 0.1201\n"
          ]
        },
        {
          "output_type": "stream",
          "name": "stderr",
          "text": [
            "Epoch 144/500: 100%|██████████| 81/81 [00:02<00:00, 36.47it/s, loss=0.106]\n"
          ]
        },
        {
          "output_type": "stream",
          "name": "stdout",
          "text": [
            "Epoch [144/500], Train Loss: 0.1055\n",
            "Validation Loss: 0.1246\n"
          ]
        },
        {
          "output_type": "stream",
          "name": "stderr",
          "text": [
            "Epoch 145/500: 100%|██████████| 81/81 [00:02<00:00, 36.65it/s, loss=0.105]\n"
          ]
        },
        {
          "output_type": "stream",
          "name": "stdout",
          "text": [
            "Epoch [145/500], Train Loss: 0.1053\n",
            "Validation Loss: 0.1152\n"
          ]
        },
        {
          "output_type": "stream",
          "name": "stderr",
          "text": [
            "Epoch 146/500: 100%|██████████| 81/81 [00:02<00:00, 36.51it/s, loss=0.104]\n"
          ]
        },
        {
          "output_type": "stream",
          "name": "stdout",
          "text": [
            "Epoch [146/500], Train Loss: 0.1045\n",
            "Validation Loss: 0.1146\n"
          ]
        },
        {
          "output_type": "stream",
          "name": "stderr",
          "text": [
            "Epoch 147/500: 100%|██████████| 81/81 [00:02<00:00, 36.58it/s, loss=0.104]\n"
          ]
        },
        {
          "output_type": "stream",
          "name": "stdout",
          "text": [
            "Epoch [147/500], Train Loss: 0.1044\n",
            "Validation Loss: 0.1131\n"
          ]
        },
        {
          "output_type": "stream",
          "name": "stderr",
          "text": [
            "Epoch 148/500: 100%|██████████| 81/81 [00:02<00:00, 36.35it/s, loss=0.104]\n"
          ]
        },
        {
          "output_type": "stream",
          "name": "stdout",
          "text": [
            "Epoch [148/500], Train Loss: 0.1042\n",
            "Validation Loss: 0.1119\n"
          ]
        },
        {
          "output_type": "stream",
          "name": "stderr",
          "text": [
            "Epoch 149/500: 100%|██████████| 81/81 [00:02<00:00, 36.47it/s, loss=0.104]\n"
          ]
        },
        {
          "output_type": "stream",
          "name": "stdout",
          "text": [
            "Epoch [149/500], Train Loss: 0.1038\n",
            "Validation Loss: 0.1176\n"
          ]
        },
        {
          "output_type": "stream",
          "name": "stderr",
          "text": [
            "Epoch 150/500: 100%|██████████| 81/81 [00:02<00:00, 36.60it/s, loss=0.102]\n"
          ]
        },
        {
          "output_type": "stream",
          "name": "stdout",
          "text": [
            "Epoch [150/500], Train Loss: 0.1020\n",
            "Validation Loss: 0.1687\n"
          ]
        },
        {
          "output_type": "stream",
          "name": "stderr",
          "text": [
            "Epoch 151/500: 100%|██████████| 81/81 [00:02<00:00, 36.64it/s, loss=0.102]\n"
          ]
        },
        {
          "output_type": "stream",
          "name": "stdout",
          "text": [
            "Epoch [151/500], Train Loss: 0.1023\n",
            "Validation Loss: 0.1108\n"
          ]
        },
        {
          "output_type": "stream",
          "name": "stderr",
          "text": [
            "Epoch 152/500: 100%|██████████| 81/81 [00:02<00:00, 36.51it/s, loss=0.101]\n"
          ]
        },
        {
          "output_type": "stream",
          "name": "stdout",
          "text": [
            "Epoch [152/500], Train Loss: 0.1012\n",
            "Validation Loss: 0.1109\n"
          ]
        },
        {
          "output_type": "stream",
          "name": "stderr",
          "text": [
            "Epoch 153/500: 100%|██████████| 81/81 [00:02<00:00, 36.34it/s, loss=0.102]\n"
          ]
        },
        {
          "output_type": "stream",
          "name": "stdout",
          "text": [
            "Epoch [153/500], Train Loss: 0.1021\n",
            "Validation Loss: 0.1111\n"
          ]
        },
        {
          "output_type": "stream",
          "name": "stderr",
          "text": [
            "Epoch 154/500: 100%|██████████| 81/81 [00:02<00:00, 36.24it/s, loss=0.101]\n"
          ]
        },
        {
          "output_type": "stream",
          "name": "stdout",
          "text": [
            "Epoch [154/500], Train Loss: 0.1013\n",
            "Validation Loss: 0.1129\n"
          ]
        },
        {
          "output_type": "stream",
          "name": "stderr",
          "text": [
            "Epoch 155/500: 100%|██████████| 81/81 [00:02<00:00, 36.55it/s, loss=0.0999]\n"
          ]
        },
        {
          "output_type": "stream",
          "name": "stdout",
          "text": [
            "Epoch [155/500], Train Loss: 0.0999\n",
            "Validation Loss: 0.1246\n"
          ]
        },
        {
          "output_type": "stream",
          "name": "stderr",
          "text": [
            "Epoch 156/500: 100%|██████████| 81/81 [00:02<00:00, 36.45it/s, loss=0.101]\n"
          ]
        },
        {
          "output_type": "stream",
          "name": "stdout",
          "text": [
            "Epoch [156/500], Train Loss: 0.1006\n",
            "Validation Loss: 0.1151\n"
          ]
        },
        {
          "output_type": "stream",
          "name": "stderr",
          "text": [
            "Epoch 157/500: 100%|██████████| 81/81 [00:02<00:00, 36.64it/s, loss=0.1]\n"
          ]
        },
        {
          "output_type": "stream",
          "name": "stdout",
          "text": [
            "Epoch [157/500], Train Loss: 0.1003\n",
            "Validation Loss: 0.1125\n"
          ]
        },
        {
          "output_type": "stream",
          "name": "stderr",
          "text": [
            "Epoch 158/500: 100%|██████████| 81/81 [00:02<00:00, 36.49it/s, loss=0.0982]\n"
          ]
        },
        {
          "output_type": "stream",
          "name": "stdout",
          "text": [
            "Epoch [158/500], Train Loss: 0.0982\n",
            "Validation Loss: 0.1142\n"
          ]
        },
        {
          "output_type": "stream",
          "name": "stderr",
          "text": [
            "Epoch 159/500: 100%|██████████| 81/81 [00:02<00:00, 36.20it/s, loss=0.0974]\n"
          ]
        },
        {
          "output_type": "stream",
          "name": "stdout",
          "text": [
            "Epoch [159/500], Train Loss: 0.0974\n",
            "Validation Loss: 0.1086\n"
          ]
        },
        {
          "output_type": "stream",
          "name": "stderr",
          "text": [
            "Epoch 160/500: 100%|██████████| 81/81 [00:02<00:00, 36.45it/s, loss=0.0966]\n"
          ]
        },
        {
          "output_type": "stream",
          "name": "stdout",
          "text": [
            "Epoch [160/500], Train Loss: 0.0966\n",
            "Validation Loss: 0.1144\n"
          ]
        },
        {
          "output_type": "stream",
          "name": "stderr",
          "text": [
            "Epoch 161/500: 100%|██████████| 81/81 [00:02<00:00, 36.69it/s, loss=0.0967]\n"
          ]
        },
        {
          "output_type": "stream",
          "name": "stdout",
          "text": [
            "Epoch [161/500], Train Loss: 0.0967\n",
            "Validation Loss: 0.1143\n"
          ]
        },
        {
          "output_type": "stream",
          "name": "stderr",
          "text": [
            "Epoch 162/500: 100%|██████████| 81/81 [00:02<00:00, 36.58it/s, loss=0.0956]\n"
          ]
        },
        {
          "output_type": "stream",
          "name": "stdout",
          "text": [
            "Epoch [162/500], Train Loss: 0.0956\n",
            "Validation Loss: 0.1114\n"
          ]
        },
        {
          "output_type": "stream",
          "name": "stderr",
          "text": [
            "Epoch 163/500: 100%|██████████| 81/81 [00:02<00:00, 36.55it/s, loss=0.0944]\n"
          ]
        },
        {
          "output_type": "stream",
          "name": "stdout",
          "text": [
            "Epoch [163/500], Train Loss: 0.0944\n",
            "Validation Loss: 0.1122\n"
          ]
        },
        {
          "output_type": "stream",
          "name": "stderr",
          "text": [
            "Epoch 164/500: 100%|██████████| 81/81 [00:02<00:00, 36.42it/s, loss=0.0956]\n"
          ]
        },
        {
          "output_type": "stream",
          "name": "stdout",
          "text": [
            "Epoch [164/500], Train Loss: 0.0956\n",
            "Validation Loss: 0.1111\n"
          ]
        },
        {
          "output_type": "stream",
          "name": "stderr",
          "text": [
            "Epoch 165/500: 100%|██████████| 81/81 [00:02<00:00, 36.42it/s, loss=0.095]\n"
          ]
        },
        {
          "output_type": "stream",
          "name": "stdout",
          "text": [
            "Epoch [165/500], Train Loss: 0.0950\n",
            "Validation Loss: 0.1174\n"
          ]
        },
        {
          "output_type": "stream",
          "name": "stderr",
          "text": [
            "Epoch 166/500: 100%|██████████| 81/81 [00:02<00:00, 36.60it/s, loss=0.0928]\n"
          ]
        },
        {
          "output_type": "stream",
          "name": "stdout",
          "text": [
            "Epoch [166/500], Train Loss: 0.0928\n",
            "Validation Loss: 0.1085\n"
          ]
        },
        {
          "output_type": "stream",
          "name": "stderr",
          "text": [
            "Epoch 167/500: 100%|██████████| 81/81 [00:02<00:00, 36.52it/s, loss=0.0952]\n"
          ]
        },
        {
          "output_type": "stream",
          "name": "stdout",
          "text": [
            "Epoch [167/500], Train Loss: 0.0952\n",
            "Validation Loss: 0.1112\n"
          ]
        },
        {
          "output_type": "stream",
          "name": "stderr",
          "text": [
            "Epoch 168/500: 100%|██████████| 81/81 [00:02<00:00, 36.67it/s, loss=0.092]\n"
          ]
        },
        {
          "output_type": "stream",
          "name": "stdout",
          "text": [
            "Epoch [168/500], Train Loss: 0.0920\n",
            "Validation Loss: 0.1116\n"
          ]
        },
        {
          "output_type": "stream",
          "name": "stderr",
          "text": [
            "Epoch 169/500: 100%|██████████| 81/81 [00:02<00:00, 36.52it/s, loss=0.0925]\n"
          ]
        },
        {
          "output_type": "stream",
          "name": "stdout",
          "text": [
            "Epoch [169/500], Train Loss: 0.0925\n",
            "Validation Loss: 0.1090\n"
          ]
        },
        {
          "output_type": "stream",
          "name": "stderr",
          "text": [
            "Epoch 170/500: 100%|██████████| 81/81 [00:02<00:00, 36.33it/s, loss=0.0906]\n"
          ]
        },
        {
          "output_type": "stream",
          "name": "stdout",
          "text": [
            "Epoch [170/500], Train Loss: 0.0906\n",
            "Validation Loss: 0.1100\n"
          ]
        },
        {
          "output_type": "stream",
          "name": "stderr",
          "text": [
            "Epoch 171/500: 100%|██████████| 81/81 [00:02<00:00, 36.58it/s, loss=0.0912]\n"
          ]
        },
        {
          "output_type": "stream",
          "name": "stdout",
          "text": [
            "Epoch [171/500], Train Loss: 0.0912\n",
            "Validation Loss: 0.1108\n"
          ]
        },
        {
          "output_type": "stream",
          "name": "stderr",
          "text": [
            "Epoch 172/500: 100%|██████████| 81/81 [00:02<00:00, 36.49it/s, loss=0.0909]\n"
          ]
        },
        {
          "output_type": "stream",
          "name": "stdout",
          "text": [
            "Epoch [172/500], Train Loss: 0.0909\n",
            "Validation Loss: 0.1100\n"
          ]
        },
        {
          "output_type": "stream",
          "name": "stderr",
          "text": [
            "Epoch 173/500: 100%|██████████| 81/81 [00:02<00:00, 36.55it/s, loss=0.0907]\n"
          ]
        },
        {
          "output_type": "stream",
          "name": "stdout",
          "text": [
            "Epoch [173/500], Train Loss: 0.0907\n",
            "Validation Loss: 0.1103\n"
          ]
        },
        {
          "output_type": "stream",
          "name": "stderr",
          "text": [
            "Epoch 174/500: 100%|██████████| 81/81 [00:02<00:00, 36.61it/s, loss=0.0896]\n"
          ]
        },
        {
          "output_type": "stream",
          "name": "stdout",
          "text": [
            "Epoch [174/500], Train Loss: 0.0896\n",
            "Validation Loss: 0.1083\n"
          ]
        },
        {
          "output_type": "stream",
          "name": "stderr",
          "text": [
            "Epoch 175/500: 100%|██████████| 81/81 [00:02<00:00, 36.21it/s, loss=0.0884]\n"
          ]
        },
        {
          "output_type": "stream",
          "name": "stdout",
          "text": [
            "Epoch [175/500], Train Loss: 0.0884\n",
            "Validation Loss: 0.1126\n"
          ]
        },
        {
          "output_type": "stream",
          "name": "stderr",
          "text": [
            "Epoch 176/500: 100%|██████████| 81/81 [00:02<00:00, 36.50it/s, loss=0.0878]\n"
          ]
        },
        {
          "output_type": "stream",
          "name": "stdout",
          "text": [
            "Epoch [176/500], Train Loss: 0.0878\n",
            "Validation Loss: 0.1121\n"
          ]
        },
        {
          "output_type": "stream",
          "name": "stderr",
          "text": [
            "Epoch 177/500: 100%|██████████| 81/81 [00:02<00:00, 36.51it/s, loss=0.0875]\n"
          ]
        },
        {
          "output_type": "stream",
          "name": "stdout",
          "text": [
            "Epoch [177/500], Train Loss: 0.0875\n",
            "Validation Loss: 0.1117\n"
          ]
        },
        {
          "output_type": "stream",
          "name": "stderr",
          "text": [
            "Epoch 178/500: 100%|██████████| 81/81 [00:02<00:00, 36.62it/s, loss=0.0872]\n"
          ]
        },
        {
          "output_type": "stream",
          "name": "stdout",
          "text": [
            "Epoch [178/500], Train Loss: 0.0872\n",
            "Validation Loss: 0.1114\n"
          ]
        },
        {
          "output_type": "stream",
          "name": "stderr",
          "text": [
            "Epoch 179/500: 100%|██████████| 81/81 [00:02<00:00, 36.59it/s, loss=0.0866]\n"
          ]
        },
        {
          "output_type": "stream",
          "name": "stdout",
          "text": [
            "Epoch [179/500], Train Loss: 0.0866\n",
            "Validation Loss: 0.1126\n"
          ]
        },
        {
          "output_type": "stream",
          "name": "stderr",
          "text": [
            "Epoch 180/500: 100%|██████████| 81/81 [00:02<00:00, 36.37it/s, loss=0.0882]\n"
          ]
        },
        {
          "output_type": "stream",
          "name": "stdout",
          "text": [
            "Epoch [180/500], Train Loss: 0.0882\n",
            "Validation Loss: 0.1084\n"
          ]
        },
        {
          "output_type": "stream",
          "name": "stderr",
          "text": [
            "Epoch 181/500: 100%|██████████| 81/81 [00:02<00:00, 36.32it/s, loss=0.0865]\n"
          ]
        },
        {
          "output_type": "stream",
          "name": "stdout",
          "text": [
            "Epoch [181/500], Train Loss: 0.0865\n",
            "Validation Loss: 0.1118\n"
          ]
        },
        {
          "output_type": "stream",
          "name": "stderr",
          "text": [
            "Epoch 182/500: 100%|██████████| 81/81 [00:02<00:00, 36.57it/s, loss=0.0872]\n"
          ]
        },
        {
          "output_type": "stream",
          "name": "stdout",
          "text": [
            "Epoch [182/500], Train Loss: 0.0872\n",
            "Validation Loss: 0.1110\n"
          ]
        },
        {
          "output_type": "stream",
          "name": "stderr",
          "text": [
            "Epoch 183/500: 100%|██████████| 81/81 [00:02<00:00, 36.67it/s, loss=0.0854]\n"
          ]
        },
        {
          "output_type": "stream",
          "name": "stdout",
          "text": [
            "Epoch [183/500], Train Loss: 0.0854\n",
            "Validation Loss: 0.1117\n"
          ]
        },
        {
          "output_type": "stream",
          "name": "stderr",
          "text": [
            "Epoch 184/500: 100%|██████████| 81/81 [00:02<00:00, 36.54it/s, loss=0.0861]\n"
          ]
        },
        {
          "output_type": "stream",
          "name": "stdout",
          "text": [
            "Epoch [184/500], Train Loss: 0.0861\n",
            "Validation Loss: 0.1125\n"
          ]
        },
        {
          "output_type": "stream",
          "name": "stderr",
          "text": [
            "Epoch 185/500: 100%|██████████| 81/81 [00:02<00:00, 36.36it/s, loss=0.0857]\n"
          ]
        },
        {
          "output_type": "stream",
          "name": "stdout",
          "text": [
            "Epoch [185/500], Train Loss: 0.0857\n",
            "Validation Loss: 0.1086\n"
          ]
        },
        {
          "output_type": "stream",
          "name": "stderr",
          "text": [
            "Epoch 186/500: 100%|██████████| 81/81 [00:02<00:00, 36.26it/s, loss=0.0854]\n"
          ]
        },
        {
          "output_type": "stream",
          "name": "stdout",
          "text": [
            "Epoch [186/500], Train Loss: 0.0854\n",
            "Validation Loss: 0.1083\n"
          ]
        },
        {
          "output_type": "stream",
          "name": "stderr",
          "text": [
            "Epoch 187/500: 100%|██████████| 81/81 [00:02<00:00, 36.49it/s, loss=0.084]\n"
          ]
        },
        {
          "output_type": "stream",
          "name": "stdout",
          "text": [
            "Epoch [187/500], Train Loss: 0.0840\n",
            "Validation Loss: 0.1093\n"
          ]
        },
        {
          "output_type": "stream",
          "name": "stderr",
          "text": [
            "Epoch 188/500: 100%|██████████| 81/81 [00:02<00:00, 36.67it/s, loss=0.0842]\n"
          ]
        },
        {
          "output_type": "stream",
          "name": "stdout",
          "text": [
            "Epoch [188/500], Train Loss: 0.0842\n",
            "Validation Loss: 0.1099\n"
          ]
        },
        {
          "output_type": "stream",
          "name": "stderr",
          "text": [
            "Epoch 189/500: 100%|██████████| 81/81 [00:02<00:00, 36.47it/s, loss=0.0826]\n"
          ]
        },
        {
          "output_type": "stream",
          "name": "stdout",
          "text": [
            "Epoch [189/500], Train Loss: 0.0826\n",
            "Validation Loss: 0.1107\n"
          ]
        },
        {
          "output_type": "stream",
          "name": "stderr",
          "text": [
            "Epoch 190/500: 100%|██████████| 81/81 [00:02<00:00, 36.53it/s, loss=0.0829]\n"
          ]
        },
        {
          "output_type": "stream",
          "name": "stdout",
          "text": [
            "Epoch [190/500], Train Loss: 0.0829\n",
            "Validation Loss: 0.1159\n"
          ]
        },
        {
          "output_type": "stream",
          "name": "stderr",
          "text": [
            "Epoch 191/500: 100%|██████████| 81/81 [00:02<00:00, 36.34it/s, loss=0.0825]\n"
          ]
        },
        {
          "output_type": "stream",
          "name": "stdout",
          "text": [
            "Epoch [191/500], Train Loss: 0.0825\n",
            "Validation Loss: 0.1114\n"
          ]
        },
        {
          "output_type": "stream",
          "name": "stderr",
          "text": [
            "Epoch 192/500: 100%|██████████| 81/81 [00:02<00:00, 36.46it/s, loss=0.0811]\n"
          ]
        },
        {
          "output_type": "stream",
          "name": "stdout",
          "text": [
            "Epoch [192/500], Train Loss: 0.0811\n",
            "Validation Loss: 0.1146\n"
          ]
        },
        {
          "output_type": "stream",
          "name": "stderr",
          "text": [
            "Epoch 193/500: 100%|██████████| 81/81 [00:02<00:00, 36.62it/s, loss=0.0817]\n"
          ]
        },
        {
          "output_type": "stream",
          "name": "stdout",
          "text": [
            "Epoch [193/500], Train Loss: 0.0817\n",
            "Validation Loss: 0.1137\n"
          ]
        },
        {
          "output_type": "stream",
          "name": "stderr",
          "text": [
            "Epoch 194/500: 100%|██████████| 81/81 [00:02<00:00, 36.62it/s, loss=0.0818]\n"
          ]
        },
        {
          "output_type": "stream",
          "name": "stdout",
          "text": [
            "Epoch [194/500], Train Loss: 0.0818\n",
            "Validation Loss: 0.1116\n"
          ]
        },
        {
          "output_type": "stream",
          "name": "stderr",
          "text": [
            "Epoch 195/500: 100%|██████████| 81/81 [00:02<00:00, 36.40it/s, loss=0.0817]\n"
          ]
        },
        {
          "output_type": "stream",
          "name": "stdout",
          "text": [
            "Epoch [195/500], Train Loss: 0.0817\n",
            "Validation Loss: 0.1112\n"
          ]
        },
        {
          "output_type": "stream",
          "name": "stderr",
          "text": [
            "Epoch 196/500: 100%|██████████| 81/81 [00:02<00:00, 36.32it/s, loss=0.0818]\n"
          ]
        },
        {
          "output_type": "stream",
          "name": "stdout",
          "text": [
            "Epoch [196/500], Train Loss: 0.0818\n",
            "Validation Loss: 0.1108\n"
          ]
        },
        {
          "output_type": "stream",
          "name": "stderr",
          "text": [
            "Epoch 197/500: 100%|██████████| 81/81 [00:02<00:00, 36.52it/s, loss=0.0803]\n"
          ]
        },
        {
          "output_type": "stream",
          "name": "stdout",
          "text": [
            "Epoch [197/500], Train Loss: 0.0803\n",
            "Validation Loss: 0.1101\n"
          ]
        },
        {
          "output_type": "stream",
          "name": "stderr",
          "text": [
            "Epoch 198/500: 100%|██████████| 81/81 [00:02<00:00, 36.51it/s, loss=0.0812]\n"
          ]
        },
        {
          "output_type": "stream",
          "name": "stdout",
          "text": [
            "Epoch [198/500], Train Loss: 0.0812\n",
            "Validation Loss: 0.1246\n"
          ]
        },
        {
          "output_type": "stream",
          "name": "stderr",
          "text": [
            "Epoch 199/500: 100%|██████████| 81/81 [00:02<00:00, 36.65it/s, loss=0.0808]\n"
          ]
        },
        {
          "output_type": "stream",
          "name": "stdout",
          "text": [
            "Epoch [199/500], Train Loss: 0.0808\n",
            "Validation Loss: 0.1140\n"
          ]
        },
        {
          "output_type": "stream",
          "name": "stderr",
          "text": [
            "Epoch 200/500: 100%|██████████| 81/81 [00:02<00:00, 36.51it/s, loss=0.0796]\n"
          ]
        },
        {
          "output_type": "stream",
          "name": "stdout",
          "text": [
            "Epoch [200/500], Train Loss: 0.0796\n",
            "Validation Loss: 0.1087\n"
          ]
        },
        {
          "output_type": "stream",
          "name": "stderr",
          "text": [
            "Epoch 201/500: 100%|██████████| 81/81 [00:02<00:00, 36.30it/s, loss=0.0793]\n"
          ]
        },
        {
          "output_type": "stream",
          "name": "stdout",
          "text": [
            "Epoch [201/500], Train Loss: 0.0793\n",
            "Validation Loss: 0.1100\n"
          ]
        },
        {
          "output_type": "stream",
          "name": "stderr",
          "text": [
            "Epoch 202/500: 100%|██████████| 81/81 [00:02<00:00, 36.38it/s, loss=0.0777]\n"
          ]
        },
        {
          "output_type": "stream",
          "name": "stdout",
          "text": [
            "Epoch [202/500], Train Loss: 0.0777\n",
            "Validation Loss: 0.1102\n"
          ]
        },
        {
          "output_type": "stream",
          "name": "stderr",
          "text": [
            "Epoch 203/500: 100%|██████████| 81/81 [00:02<00:00, 36.49it/s, loss=0.0785]\n"
          ]
        },
        {
          "output_type": "stream",
          "name": "stdout",
          "text": [
            "Epoch [203/500], Train Loss: 0.0785\n",
            "Validation Loss: 0.1135\n"
          ]
        },
        {
          "output_type": "stream",
          "name": "stderr",
          "text": [
            "Epoch 204/500: 100%|██████████| 81/81 [00:02<00:00, 36.54it/s, loss=0.0786]\n"
          ]
        },
        {
          "output_type": "stream",
          "name": "stdout",
          "text": [
            "Epoch [204/500], Train Loss: 0.0786\n",
            "Validation Loss: 0.1117\n"
          ]
        },
        {
          "output_type": "stream",
          "name": "stderr",
          "text": [
            "Epoch 205/500: 100%|██████████| 81/81 [00:02<00:00, 36.51it/s, loss=0.0775]\n"
          ]
        },
        {
          "output_type": "stream",
          "name": "stdout",
          "text": [
            "Epoch [205/500], Train Loss: 0.0775\n",
            "Validation Loss: 0.1113\n"
          ]
        },
        {
          "output_type": "stream",
          "name": "stderr",
          "text": [
            "Epoch 206/500: 100%|██████████| 81/81 [00:02<00:00, 36.41it/s, loss=0.0771]\n"
          ]
        },
        {
          "output_type": "stream",
          "name": "stdout",
          "text": [
            "Epoch [206/500], Train Loss: 0.0771\n",
            "Validation Loss: 0.1132\n"
          ]
        },
        {
          "output_type": "stream",
          "name": "stderr",
          "text": [
            "Epoch 207/500: 100%|██████████| 81/81 [00:02<00:00, 36.62it/s, loss=0.0771]\n"
          ]
        },
        {
          "output_type": "stream",
          "name": "stdout",
          "text": [
            "Epoch [207/500], Train Loss: 0.0771\n",
            "Validation Loss: 0.1136\n"
          ]
        },
        {
          "output_type": "stream",
          "name": "stderr",
          "text": [
            "Epoch 208/500: 100%|██████████| 81/81 [00:02<00:00, 36.50it/s, loss=0.076]\n"
          ]
        },
        {
          "output_type": "stream",
          "name": "stdout",
          "text": [
            "Epoch [208/500], Train Loss: 0.0760\n",
            "Validation Loss: 0.1117\n"
          ]
        },
        {
          "output_type": "stream",
          "name": "stderr",
          "text": [
            "Epoch 209/500: 100%|██████████| 81/81 [00:02<00:00, 36.62it/s, loss=0.0774]\n"
          ]
        },
        {
          "output_type": "stream",
          "name": "stdout",
          "text": [
            "Epoch [209/500], Train Loss: 0.0774\n",
            "Validation Loss: 0.1105\n"
          ]
        },
        {
          "output_type": "stream",
          "name": "stderr",
          "text": [
            "Epoch 210/500: 100%|██████████| 81/81 [00:02<00:00, 36.68it/s, loss=0.0796]\n"
          ]
        },
        {
          "output_type": "stream",
          "name": "stdout",
          "text": [
            "Epoch [210/500], Train Loss: 0.0796\n",
            "Validation Loss: 0.1122\n"
          ]
        },
        {
          "output_type": "stream",
          "name": "stderr",
          "text": [
            "Epoch 211/500: 100%|██████████| 81/81 [00:02<00:00, 36.35it/s, loss=0.0778]\n"
          ]
        },
        {
          "output_type": "stream",
          "name": "stdout",
          "text": [
            "Epoch [211/500], Train Loss: 0.0778\n",
            "Validation Loss: 0.1108\n"
          ]
        },
        {
          "output_type": "stream",
          "name": "stderr",
          "text": [
            "Epoch 212/500: 100%|██████████| 81/81 [00:02<00:00, 36.68it/s, loss=0.0759]\n"
          ]
        },
        {
          "output_type": "stream",
          "name": "stdout",
          "text": [
            "Epoch [212/500], Train Loss: 0.0759\n",
            "Validation Loss: 0.1134\n"
          ]
        },
        {
          "output_type": "stream",
          "name": "stderr",
          "text": [
            "Epoch 213/500: 100%|██████████| 81/81 [00:02<00:00, 36.44it/s, loss=0.0758]\n"
          ]
        },
        {
          "output_type": "stream",
          "name": "stdout",
          "text": [
            "Epoch [213/500], Train Loss: 0.0758\n",
            "Validation Loss: 0.1158\n"
          ]
        },
        {
          "output_type": "stream",
          "name": "stderr",
          "text": [
            "Epoch 214/500: 100%|██████████| 81/81 [00:02<00:00, 36.58it/s, loss=0.0751]\n"
          ]
        },
        {
          "output_type": "stream",
          "name": "stdout",
          "text": [
            "Epoch [214/500], Train Loss: 0.0751\n",
            "Validation Loss: 0.1180\n"
          ]
        },
        {
          "output_type": "stream",
          "name": "stderr",
          "text": [
            "Epoch 215/500: 100%|██████████| 81/81 [00:02<00:00, 36.58it/s, loss=0.0773]\n"
          ]
        },
        {
          "output_type": "stream",
          "name": "stdout",
          "text": [
            "Epoch [215/500], Train Loss: 0.0773\n",
            "Validation Loss: 0.1156\n"
          ]
        },
        {
          "output_type": "stream",
          "name": "stderr",
          "text": [
            "Epoch 216/500: 100%|██████████| 81/81 [00:02<00:00, 36.46it/s, loss=0.0763]\n"
          ]
        },
        {
          "output_type": "stream",
          "name": "stdout",
          "text": [
            "Epoch [216/500], Train Loss: 0.0763\n",
            "Validation Loss: 0.1145\n"
          ]
        },
        {
          "output_type": "stream",
          "name": "stderr",
          "text": [
            "Epoch 217/500: 100%|██████████| 81/81 [00:02<00:00, 36.51it/s, loss=0.0759]\n"
          ]
        },
        {
          "output_type": "stream",
          "name": "stdout",
          "text": [
            "Epoch [217/500], Train Loss: 0.0759\n",
            "Validation Loss: 0.1116\n"
          ]
        },
        {
          "output_type": "stream",
          "name": "stderr",
          "text": [
            "Epoch 218/500: 100%|██████████| 81/81 [00:02<00:00, 36.45it/s, loss=0.0762]\n"
          ]
        },
        {
          "output_type": "stream",
          "name": "stdout",
          "text": [
            "Epoch [218/500], Train Loss: 0.0762\n",
            "Validation Loss: 0.1137\n"
          ]
        },
        {
          "output_type": "stream",
          "name": "stderr",
          "text": [
            "Epoch 219/500: 100%|██████████| 81/81 [00:02<00:00, 36.29it/s, loss=0.0748]\n"
          ]
        },
        {
          "output_type": "stream",
          "name": "stdout",
          "text": [
            "Epoch [219/500], Train Loss: 0.0748\n",
            "Validation Loss: 0.1123\n"
          ]
        },
        {
          "output_type": "stream",
          "name": "stderr",
          "text": [
            "Epoch 220/500: 100%|██████████| 81/81 [00:02<00:00, 36.41it/s, loss=0.0741]\n"
          ]
        },
        {
          "output_type": "stream",
          "name": "stdout",
          "text": [
            "Epoch [220/500], Train Loss: 0.0741\n",
            "Validation Loss: 0.1136\n"
          ]
        },
        {
          "output_type": "stream",
          "name": "stderr",
          "text": [
            "Epoch 221/500: 100%|██████████| 81/81 [00:02<00:00, 36.48it/s, loss=0.0744]\n"
          ]
        },
        {
          "output_type": "stream",
          "name": "stdout",
          "text": [
            "Epoch [221/500], Train Loss: 0.0744\n",
            "Validation Loss: 0.1149\n"
          ]
        },
        {
          "output_type": "stream",
          "name": "stderr",
          "text": [
            "Epoch 222/500: 100%|██████████| 81/81 [00:02<00:00, 36.48it/s, loss=0.0761]\n"
          ]
        },
        {
          "output_type": "stream",
          "name": "stdout",
          "text": [
            "Epoch [222/500], Train Loss: 0.0761\n",
            "Validation Loss: 0.1138\n"
          ]
        },
        {
          "output_type": "stream",
          "name": "stderr",
          "text": [
            "Epoch 223/500: 100%|██████████| 81/81 [00:02<00:00, 36.65it/s, loss=0.0747]\n"
          ]
        },
        {
          "output_type": "stream",
          "name": "stdout",
          "text": [
            "Epoch [223/500], Train Loss: 0.0747\n",
            "Validation Loss: 0.1137\n"
          ]
        },
        {
          "output_type": "stream",
          "name": "stderr",
          "text": [
            "Epoch 224/500: 100%|██████████| 81/81 [00:02<00:00, 36.55it/s, loss=0.0732]\n"
          ]
        },
        {
          "output_type": "stream",
          "name": "stdout",
          "text": [
            "Epoch [224/500], Train Loss: 0.0732\n",
            "Validation Loss: 0.1136\n"
          ]
        },
        {
          "output_type": "stream",
          "name": "stderr",
          "text": [
            "Epoch 225/500: 100%|██████████| 81/81 [00:02<00:00, 36.49it/s, loss=0.0737]\n"
          ]
        },
        {
          "output_type": "stream",
          "name": "stdout",
          "text": [
            "Epoch [225/500], Train Loss: 0.0737\n",
            "Validation Loss: 0.1152\n"
          ]
        },
        {
          "output_type": "stream",
          "name": "stderr",
          "text": [
            "Epoch 226/500: 100%|██████████| 81/81 [00:02<00:00, 36.52it/s, loss=0.0737]\n"
          ]
        },
        {
          "output_type": "stream",
          "name": "stdout",
          "text": [
            "Epoch [226/500], Train Loss: 0.0737\n",
            "Validation Loss: 0.1129\n"
          ]
        },
        {
          "output_type": "stream",
          "name": "stderr",
          "text": [
            "Epoch 227/500: 100%|██████████| 81/81 [00:02<00:00, 36.39it/s, loss=0.0742]\n"
          ]
        },
        {
          "output_type": "stream",
          "name": "stdout",
          "text": [
            "Epoch [227/500], Train Loss: 0.0742\n",
            "Validation Loss: 0.1138\n"
          ]
        },
        {
          "output_type": "stream",
          "name": "stderr",
          "text": [
            "Epoch 228/500: 100%|██████████| 81/81 [00:02<00:00, 36.41it/s, loss=0.0743]\n"
          ]
        },
        {
          "output_type": "stream",
          "name": "stdout",
          "text": [
            "Epoch [228/500], Train Loss: 0.0743\n",
            "Validation Loss: 0.1144\n"
          ]
        },
        {
          "output_type": "stream",
          "name": "stderr",
          "text": [
            "Epoch 229/500: 100%|██████████| 81/81 [00:02<00:00, 36.40it/s, loss=0.0745]\n"
          ]
        },
        {
          "output_type": "stream",
          "name": "stdout",
          "text": [
            "Epoch [229/500], Train Loss: 0.0745\n",
            "Validation Loss: 0.1109\n"
          ]
        },
        {
          "output_type": "stream",
          "name": "stderr",
          "text": [
            "Epoch 230/500: 100%|██████████| 81/81 [00:02<00:00, 36.39it/s, loss=0.075]\n"
          ]
        },
        {
          "output_type": "stream",
          "name": "stdout",
          "text": [
            "Epoch [230/500], Train Loss: 0.0750\n",
            "Validation Loss: 0.1170\n"
          ]
        },
        {
          "output_type": "stream",
          "name": "stderr",
          "text": [
            "Epoch 231/500: 100%|██████████| 81/81 [00:02<00:00, 36.42it/s, loss=0.0731]\n"
          ]
        },
        {
          "output_type": "stream",
          "name": "stdout",
          "text": [
            "Epoch [231/500], Train Loss: 0.0731\n",
            "Validation Loss: 0.1121\n"
          ]
        },
        {
          "output_type": "stream",
          "name": "stderr",
          "text": [
            "Epoch 232/500: 100%|██████████| 81/81 [00:02<00:00, 36.46it/s, loss=0.0729]\n"
          ]
        },
        {
          "output_type": "stream",
          "name": "stdout",
          "text": [
            "Epoch [232/500], Train Loss: 0.0729\n",
            "Validation Loss: 0.1145\n"
          ]
        },
        {
          "output_type": "stream",
          "name": "stderr",
          "text": [
            "Epoch 233/500: 100%|██████████| 81/81 [00:02<00:00, 36.69it/s, loss=0.0724]\n"
          ]
        },
        {
          "output_type": "stream",
          "name": "stdout",
          "text": [
            "Epoch [233/500], Train Loss: 0.0724\n",
            "Validation Loss: 0.1139\n"
          ]
        },
        {
          "output_type": "stream",
          "name": "stderr",
          "text": [
            "Epoch 234/500: 100%|██████████| 81/81 [00:02<00:00, 36.66it/s, loss=0.0741]\n"
          ]
        },
        {
          "output_type": "stream",
          "name": "stdout",
          "text": [
            "Epoch [234/500], Train Loss: 0.0741\n",
            "Validation Loss: 0.1140\n"
          ]
        },
        {
          "output_type": "stream",
          "name": "stderr",
          "text": [
            "Epoch 235/500: 100%|██████████| 81/81 [00:02<00:00, 36.62it/s, loss=0.0735]\n"
          ]
        },
        {
          "output_type": "stream",
          "name": "stdout",
          "text": [
            "Epoch [235/500], Train Loss: 0.0735\n",
            "Validation Loss: 0.1142\n"
          ]
        },
        {
          "output_type": "stream",
          "name": "stderr",
          "text": [
            "Epoch 236/500: 100%|██████████| 81/81 [00:02<00:00, 36.66it/s, loss=0.0747]\n"
          ]
        },
        {
          "output_type": "stream",
          "name": "stdout",
          "text": [
            "Epoch [236/500], Train Loss: 0.0747\n",
            "Validation Loss: 0.1137\n"
          ]
        },
        {
          "output_type": "stream",
          "name": "stderr",
          "text": [
            "Epoch 237/500: 100%|██████████| 81/81 [00:02<00:00, 36.45it/s, loss=0.0751]\n"
          ]
        },
        {
          "output_type": "stream",
          "name": "stdout",
          "text": [
            "Epoch [237/500], Train Loss: 0.0751\n",
            "Validation Loss: 0.1156\n"
          ]
        },
        {
          "output_type": "stream",
          "name": "stderr",
          "text": [
            "Epoch 238/500: 100%|██████████| 81/81 [00:02<00:00, 36.64it/s, loss=0.0727]\n"
          ]
        },
        {
          "output_type": "stream",
          "name": "stdout",
          "text": [
            "Epoch [238/500], Train Loss: 0.0727\n",
            "Validation Loss: 0.1135\n"
          ]
        },
        {
          "output_type": "stream",
          "name": "stderr",
          "text": [
            "Epoch 239/500: 100%|██████████| 81/81 [00:02<00:00, 36.49it/s, loss=0.0738]\n"
          ]
        },
        {
          "output_type": "stream",
          "name": "stdout",
          "text": [
            "Epoch [239/500], Train Loss: 0.0738\n",
            "Validation Loss: 0.1125\n"
          ]
        },
        {
          "output_type": "stream",
          "name": "stderr",
          "text": [
            "Epoch 240/500: 100%|██████████| 81/81 [00:02<00:00, 36.59it/s, loss=0.0743]\n"
          ]
        },
        {
          "output_type": "stream",
          "name": "stdout",
          "text": [
            "Epoch [240/500], Train Loss: 0.0743\n",
            "Validation Loss: 0.1147\n"
          ]
        },
        {
          "output_type": "stream",
          "name": "stderr",
          "text": [
            "Epoch 241/500: 100%|██████████| 81/81 [00:02<00:00, 36.51it/s, loss=0.0738]\n"
          ]
        },
        {
          "output_type": "stream",
          "name": "stdout",
          "text": [
            "Epoch [241/500], Train Loss: 0.0738\n",
            "Validation Loss: 0.1137\n"
          ]
        },
        {
          "output_type": "stream",
          "name": "stderr",
          "text": [
            "Epoch 242/500: 100%|██████████| 81/81 [00:02<00:00, 36.17it/s, loss=0.0736]\n"
          ]
        },
        {
          "output_type": "stream",
          "name": "stdout",
          "text": [
            "Epoch [242/500], Train Loss: 0.0736\n",
            "Validation Loss: 0.1127\n"
          ]
        },
        {
          "output_type": "stream",
          "name": "stderr",
          "text": [
            "Epoch 243/500: 100%|██████████| 81/81 [00:02<00:00, 36.18it/s, loss=0.0716]\n"
          ]
        },
        {
          "output_type": "stream",
          "name": "stdout",
          "text": [
            "Epoch [243/500], Train Loss: 0.0716\n",
            "Validation Loss: 0.1138\n"
          ]
        },
        {
          "output_type": "stream",
          "name": "stderr",
          "text": [
            "Epoch 244/500: 100%|██████████| 81/81 [00:02<00:00, 36.19it/s, loss=0.072]\n"
          ]
        },
        {
          "output_type": "stream",
          "name": "stdout",
          "text": [
            "Epoch [244/500], Train Loss: 0.0720\n",
            "Validation Loss: 0.1152\n"
          ]
        },
        {
          "output_type": "stream",
          "name": "stderr",
          "text": [
            "Epoch 245/500: 100%|██████████| 81/81 [00:02<00:00, 36.31it/s, loss=0.0717]\n"
          ]
        },
        {
          "output_type": "stream",
          "name": "stdout",
          "text": [
            "Epoch [245/500], Train Loss: 0.0717\n",
            "Validation Loss: 0.1114\n"
          ]
        },
        {
          "output_type": "stream",
          "name": "stderr",
          "text": [
            "Epoch 246/500: 100%|██████████| 81/81 [00:02<00:00, 36.19it/s, loss=0.0722]\n"
          ]
        },
        {
          "output_type": "stream",
          "name": "stdout",
          "text": [
            "Epoch [246/500], Train Loss: 0.0722\n",
            "Validation Loss: 0.1146\n"
          ]
        },
        {
          "output_type": "stream",
          "name": "stderr",
          "text": [
            "Epoch 247/500: 100%|██████████| 81/81 [00:02<00:00, 36.36it/s, loss=0.0738]\n"
          ]
        },
        {
          "output_type": "stream",
          "name": "stdout",
          "text": [
            "Epoch [247/500], Train Loss: 0.0738\n",
            "Validation Loss: 0.1117\n"
          ]
        },
        {
          "output_type": "stream",
          "name": "stderr",
          "text": [
            "Epoch 248/500: 100%|██████████| 81/81 [00:02<00:00, 36.38it/s, loss=0.0728]\n"
          ]
        },
        {
          "output_type": "stream",
          "name": "stdout",
          "text": [
            "Epoch [248/500], Train Loss: 0.0728\n",
            "Validation Loss: 0.1119\n"
          ]
        },
        {
          "output_type": "stream",
          "name": "stderr",
          "text": [
            "Epoch 249/500: 100%|██████████| 81/81 [00:02<00:00, 36.46it/s, loss=0.0719]\n"
          ]
        },
        {
          "output_type": "stream",
          "name": "stdout",
          "text": [
            "Epoch [249/500], Train Loss: 0.0719\n",
            "Validation Loss: 0.1123\n"
          ]
        },
        {
          "output_type": "stream",
          "name": "stderr",
          "text": [
            "Epoch 250/500: 100%|██████████| 81/81 [00:02<00:00, 36.40it/s, loss=0.0719]\n"
          ]
        },
        {
          "output_type": "stream",
          "name": "stdout",
          "text": [
            "Epoch [250/500], Train Loss: 0.0719\n",
            "Validation Loss: 0.1135\n"
          ]
        },
        {
          "output_type": "stream",
          "name": "stderr",
          "text": [
            "Epoch 251/500: 100%|██████████| 81/81 [00:02<00:00, 36.43it/s, loss=0.0727]\n"
          ]
        },
        {
          "output_type": "stream",
          "name": "stdout",
          "text": [
            "Epoch [251/500], Train Loss: 0.0727\n",
            "Validation Loss: 0.1155\n"
          ]
        },
        {
          "output_type": "stream",
          "name": "stderr",
          "text": [
            "Epoch 252/500: 100%|██████████| 81/81 [00:02<00:00, 36.35it/s, loss=0.0721]\n"
          ]
        },
        {
          "output_type": "stream",
          "name": "stdout",
          "text": [
            "Epoch [252/500], Train Loss: 0.0721\n",
            "Validation Loss: 0.1123\n"
          ]
        },
        {
          "output_type": "stream",
          "name": "stderr",
          "text": [
            "Epoch 253/500: 100%|██████████| 81/81 [00:02<00:00, 36.22it/s, loss=0.0718]\n"
          ]
        },
        {
          "output_type": "stream",
          "name": "stdout",
          "text": [
            "Epoch [253/500], Train Loss: 0.0718\n",
            "Validation Loss: 0.1137\n"
          ]
        },
        {
          "output_type": "stream",
          "name": "stderr",
          "text": [
            "Epoch 254/500: 100%|██████████| 81/81 [00:02<00:00, 36.44it/s, loss=0.0723]\n"
          ]
        },
        {
          "output_type": "stream",
          "name": "stdout",
          "text": [
            "Epoch [254/500], Train Loss: 0.0723\n",
            "Validation Loss: 0.1160\n"
          ]
        },
        {
          "output_type": "stream",
          "name": "stderr",
          "text": [
            "Epoch 255/500: 100%|██████████| 81/81 [00:02<00:00, 36.24it/s, loss=0.0738]\n"
          ]
        },
        {
          "output_type": "stream",
          "name": "stdout",
          "text": [
            "Epoch [255/500], Train Loss: 0.0738\n",
            "Validation Loss: 0.1164\n"
          ]
        },
        {
          "output_type": "stream",
          "name": "stderr",
          "text": [
            "Epoch 256/500: 100%|██████████| 81/81 [00:02<00:00, 36.11it/s, loss=0.0724]\n"
          ]
        },
        {
          "output_type": "stream",
          "name": "stdout",
          "text": [
            "Epoch [256/500], Train Loss: 0.0724\n",
            "Validation Loss: 0.1162\n"
          ]
        },
        {
          "output_type": "stream",
          "name": "stderr",
          "text": [
            "Epoch 257/500: 100%|██████████| 81/81 [00:02<00:00, 36.26it/s, loss=0.0717]\n"
          ]
        },
        {
          "output_type": "stream",
          "name": "stdout",
          "text": [
            "Epoch [257/500], Train Loss: 0.0717\n",
            "Validation Loss: 0.1159\n"
          ]
        },
        {
          "output_type": "stream",
          "name": "stderr",
          "text": [
            "Epoch 258/500: 100%|██████████| 81/81 [00:02<00:00, 36.12it/s, loss=0.0708]\n"
          ]
        },
        {
          "output_type": "stream",
          "name": "stdout",
          "text": [
            "Epoch [258/500], Train Loss: 0.0708\n",
            "Validation Loss: 0.1145\n"
          ]
        },
        {
          "output_type": "stream",
          "name": "stderr",
          "text": [
            "Epoch 259/500: 100%|██████████| 81/81 [00:02<00:00, 36.23it/s, loss=0.0708]\n"
          ]
        },
        {
          "output_type": "stream",
          "name": "stdout",
          "text": [
            "Epoch [259/500], Train Loss: 0.0708\n",
            "Validation Loss: 0.1180\n"
          ]
        },
        {
          "output_type": "stream",
          "name": "stderr",
          "text": [
            "Epoch 260/500: 100%|██████████| 81/81 [00:02<00:00, 36.42it/s, loss=0.0717]\n"
          ]
        },
        {
          "output_type": "stream",
          "name": "stdout",
          "text": [
            "Epoch [260/500], Train Loss: 0.0717\n",
            "Validation Loss: 0.1162\n"
          ]
        },
        {
          "output_type": "stream",
          "name": "stderr",
          "text": [
            "Epoch 261/500: 100%|██████████| 81/81 [00:02<00:00, 36.57it/s, loss=0.071]\n"
          ]
        },
        {
          "output_type": "stream",
          "name": "stdout",
          "text": [
            "Epoch [261/500], Train Loss: 0.0710\n",
            "Validation Loss: 0.1180\n"
          ]
        },
        {
          "output_type": "stream",
          "name": "stderr",
          "text": [
            "Epoch 262/500: 100%|██████████| 81/81 [00:02<00:00, 36.55it/s, loss=0.072]\n"
          ]
        },
        {
          "output_type": "stream",
          "name": "stdout",
          "text": [
            "Epoch [262/500], Train Loss: 0.0720\n",
            "Validation Loss: 0.1159\n"
          ]
        },
        {
          "output_type": "stream",
          "name": "stderr",
          "text": [
            "Epoch 263/500: 100%|██████████| 81/81 [00:02<00:00, 36.24it/s, loss=0.0719]\n"
          ]
        },
        {
          "output_type": "stream",
          "name": "stdout",
          "text": [
            "Epoch [263/500], Train Loss: 0.0719\n",
            "Validation Loss: 0.1150\n"
          ]
        },
        {
          "output_type": "stream",
          "name": "stderr",
          "text": [
            "Epoch 264/500: 100%|██████████| 81/81 [00:02<00:00, 36.56it/s, loss=0.0716]\n"
          ]
        },
        {
          "output_type": "stream",
          "name": "stdout",
          "text": [
            "Epoch [264/500], Train Loss: 0.0716\n",
            "Validation Loss: 0.1168\n"
          ]
        },
        {
          "output_type": "stream",
          "name": "stderr",
          "text": [
            "Epoch 265/500: 100%|██████████| 81/81 [00:02<00:00, 36.43it/s, loss=0.0704]\n"
          ]
        },
        {
          "output_type": "stream",
          "name": "stdout",
          "text": [
            "Epoch [265/500], Train Loss: 0.0704\n",
            "Validation Loss: 0.1172\n"
          ]
        },
        {
          "output_type": "stream",
          "name": "stderr",
          "text": [
            "Epoch 266/500: 100%|██████████| 81/81 [00:02<00:00, 36.44it/s, loss=0.0701]\n"
          ]
        },
        {
          "output_type": "stream",
          "name": "stdout",
          "text": [
            "Epoch [266/500], Train Loss: 0.0701\n",
            "Validation Loss: 0.1157\n"
          ]
        },
        {
          "output_type": "stream",
          "name": "stderr",
          "text": [
            "Epoch 267/500: 100%|██████████| 81/81 [00:02<00:00, 36.63it/s, loss=0.0696]\n"
          ]
        },
        {
          "output_type": "stream",
          "name": "stdout",
          "text": [
            "Epoch [267/500], Train Loss: 0.0696\n",
            "Validation Loss: 0.1152\n"
          ]
        },
        {
          "output_type": "stream",
          "name": "stderr",
          "text": [
            "Epoch 268/500: 100%|██████████| 81/81 [00:02<00:00, 36.40it/s, loss=0.0711]\n"
          ]
        },
        {
          "output_type": "stream",
          "name": "stdout",
          "text": [
            "Epoch [268/500], Train Loss: 0.0711\n",
            "Validation Loss: 0.1143\n"
          ]
        },
        {
          "output_type": "stream",
          "name": "stderr",
          "text": [
            "Epoch 269/500: 100%|██████████| 81/81 [00:02<00:00, 36.69it/s, loss=0.0708]\n"
          ]
        },
        {
          "output_type": "stream",
          "name": "stdout",
          "text": [
            "Epoch [269/500], Train Loss: 0.0708\n",
            "Validation Loss: 0.1150\n"
          ]
        },
        {
          "output_type": "stream",
          "name": "stderr",
          "text": [
            "Epoch 270/500: 100%|██████████| 81/81 [00:02<00:00, 36.60it/s, loss=0.0706]\n"
          ]
        },
        {
          "output_type": "stream",
          "name": "stdout",
          "text": [
            "Epoch [270/500], Train Loss: 0.0706\n",
            "Validation Loss: 0.1158\n"
          ]
        },
        {
          "output_type": "stream",
          "name": "stderr",
          "text": [
            "Epoch 271/500: 100%|██████████| 81/81 [00:02<00:00, 36.49it/s, loss=0.0693]\n"
          ]
        },
        {
          "output_type": "stream",
          "name": "stdout",
          "text": [
            "Epoch [271/500], Train Loss: 0.0693\n",
            "Validation Loss: 0.1160\n"
          ]
        },
        {
          "output_type": "stream",
          "name": "stderr",
          "text": [
            "Epoch 272/500: 100%|██████████| 81/81 [00:02<00:00, 36.65it/s, loss=0.0701]\n"
          ]
        },
        {
          "output_type": "stream",
          "name": "stdout",
          "text": [
            "Epoch [272/500], Train Loss: 0.0701\n",
            "Validation Loss: 0.1162\n"
          ]
        },
        {
          "output_type": "stream",
          "name": "stderr",
          "text": [
            "Epoch 273/500: 100%|██████████| 81/81 [00:02<00:00, 36.42it/s, loss=0.071]\n"
          ]
        },
        {
          "output_type": "stream",
          "name": "stdout",
          "text": [
            "Epoch [273/500], Train Loss: 0.0710\n",
            "Validation Loss: 0.1170\n"
          ]
        },
        {
          "output_type": "stream",
          "name": "stderr",
          "text": [
            "Epoch 274/500: 100%|██████████| 81/81 [00:02<00:00, 36.76it/s, loss=0.0707]\n"
          ]
        },
        {
          "output_type": "stream",
          "name": "stdout",
          "text": [
            "Epoch [274/500], Train Loss: 0.0707\n",
            "Validation Loss: 0.1138\n"
          ]
        },
        {
          "output_type": "stream",
          "name": "stderr",
          "text": [
            "Epoch 275/500: 100%|██████████| 81/81 [00:02<00:00, 36.62it/s, loss=0.0717]\n"
          ]
        },
        {
          "output_type": "stream",
          "name": "stdout",
          "text": [
            "Epoch [275/500], Train Loss: 0.0717\n",
            "Validation Loss: 0.1147\n"
          ]
        },
        {
          "output_type": "stream",
          "name": "stderr",
          "text": [
            "Epoch 276/500: 100%|██████████| 81/81 [00:02<00:00, 36.66it/s, loss=0.0708]\n"
          ]
        },
        {
          "output_type": "stream",
          "name": "stdout",
          "text": [
            "Epoch [276/500], Train Loss: 0.0708\n",
            "Validation Loss: 0.1164\n"
          ]
        },
        {
          "output_type": "stream",
          "name": "stderr",
          "text": [
            "Epoch 277/500: 100%|██████████| 81/81 [00:02<00:00, 36.62it/s, loss=0.0702]\n"
          ]
        },
        {
          "output_type": "stream",
          "name": "stdout",
          "text": [
            "Epoch [277/500], Train Loss: 0.0702\n",
            "Validation Loss: 0.1172\n"
          ]
        },
        {
          "output_type": "stream",
          "name": "stderr",
          "text": [
            "Epoch 278/500: 100%|██████████| 81/81 [00:02<00:00, 36.58it/s, loss=0.0717]\n"
          ]
        },
        {
          "output_type": "stream",
          "name": "stdout",
          "text": [
            "Epoch [278/500], Train Loss: 0.0717\n",
            "Validation Loss: 0.1161\n"
          ]
        },
        {
          "output_type": "stream",
          "name": "stderr",
          "text": [
            "Epoch 279/500: 100%|██████████| 81/81 [00:02<00:00, 36.60it/s, loss=0.0702]\n"
          ]
        },
        {
          "output_type": "stream",
          "name": "stdout",
          "text": [
            "Epoch [279/500], Train Loss: 0.0702\n",
            "Validation Loss: 0.1175\n"
          ]
        },
        {
          "output_type": "stream",
          "name": "stderr",
          "text": [
            "Epoch 280/500: 100%|██████████| 81/81 [00:02<00:00, 36.66it/s, loss=0.0694]\n"
          ]
        },
        {
          "output_type": "stream",
          "name": "stdout",
          "text": [
            "Epoch [280/500], Train Loss: 0.0694\n",
            "Validation Loss: 0.1165\n"
          ]
        },
        {
          "output_type": "stream",
          "name": "stderr",
          "text": [
            "Epoch 281/500: 100%|██████████| 81/81 [00:02<00:00, 36.59it/s, loss=0.0698]\n"
          ]
        },
        {
          "output_type": "stream",
          "name": "stdout",
          "text": [
            "Epoch [281/500], Train Loss: 0.0698\n",
            "Validation Loss: 0.1175\n"
          ]
        },
        {
          "output_type": "stream",
          "name": "stderr",
          "text": [
            "Epoch 282/500: 100%|██████████| 81/81 [00:02<00:00, 36.76it/s, loss=0.0688]\n"
          ]
        },
        {
          "output_type": "stream",
          "name": "stdout",
          "text": [
            "Epoch [282/500], Train Loss: 0.0688\n",
            "Validation Loss: 0.1168\n"
          ]
        },
        {
          "output_type": "stream",
          "name": "stderr",
          "text": [
            "Epoch 283/500: 100%|██████████| 81/81 [00:02<00:00, 36.68it/s, loss=0.0685]\n"
          ]
        },
        {
          "output_type": "stream",
          "name": "stdout",
          "text": [
            "Epoch [283/500], Train Loss: 0.0685\n",
            "Validation Loss: 0.1201\n"
          ]
        },
        {
          "output_type": "stream",
          "name": "stderr",
          "text": [
            "Epoch 284/500: 100%|██████████| 81/81 [00:02<00:00, 36.60it/s, loss=0.0688]\n"
          ]
        },
        {
          "output_type": "stream",
          "name": "stdout",
          "text": [
            "Epoch [284/500], Train Loss: 0.0688\n",
            "Validation Loss: 0.1190\n"
          ]
        },
        {
          "output_type": "stream",
          "name": "stderr",
          "text": [
            "Epoch 285/500: 100%|██████████| 81/81 [00:02<00:00, 36.76it/s, loss=0.0686]\n"
          ]
        },
        {
          "output_type": "stream",
          "name": "stdout",
          "text": [
            "Epoch [285/500], Train Loss: 0.0686\n",
            "Validation Loss: 0.1174\n"
          ]
        },
        {
          "output_type": "stream",
          "name": "stderr",
          "text": [
            "Epoch 286/500: 100%|██████████| 81/81 [00:02<00:00, 36.56it/s, loss=0.0695]\n"
          ]
        },
        {
          "output_type": "stream",
          "name": "stdout",
          "text": [
            "Epoch [286/500], Train Loss: 0.0695\n",
            "Validation Loss: 0.1164\n"
          ]
        },
        {
          "output_type": "stream",
          "name": "stderr",
          "text": [
            "Epoch 287/500: 100%|██████████| 81/81 [00:02<00:00, 36.52it/s, loss=0.0699]\n"
          ]
        },
        {
          "output_type": "stream",
          "name": "stdout",
          "text": [
            "Epoch [287/500], Train Loss: 0.0699\n",
            "Validation Loss: 0.1165\n"
          ]
        },
        {
          "output_type": "stream",
          "name": "stderr",
          "text": [
            "Epoch 288/500: 100%|██████████| 81/81 [00:02<00:00, 36.72it/s, loss=0.07]\n"
          ]
        },
        {
          "output_type": "stream",
          "name": "stdout",
          "text": [
            "Epoch [288/500], Train Loss: 0.0700\n",
            "Validation Loss: 0.1171\n"
          ]
        },
        {
          "output_type": "stream",
          "name": "stderr",
          "text": [
            "Epoch 289/500: 100%|██████████| 81/81 [00:02<00:00, 36.60it/s, loss=0.0695]\n"
          ]
        },
        {
          "output_type": "stream",
          "name": "stdout",
          "text": [
            "Epoch [289/500], Train Loss: 0.0695\n",
            "Validation Loss: 0.1164\n"
          ]
        },
        {
          "output_type": "stream",
          "name": "stderr",
          "text": [
            "Epoch 290/500: 100%|██████████| 81/81 [00:02<00:00, 36.72it/s, loss=0.0699]\n"
          ]
        },
        {
          "output_type": "stream",
          "name": "stdout",
          "text": [
            "Epoch [290/500], Train Loss: 0.0699\n",
            "Validation Loss: 0.1171\n"
          ]
        },
        {
          "output_type": "stream",
          "name": "stderr",
          "text": [
            "Epoch 291/500: 100%|██████████| 81/81 [00:02<00:00, 36.70it/s, loss=0.069]\n"
          ]
        },
        {
          "output_type": "stream",
          "name": "stdout",
          "text": [
            "Epoch [291/500], Train Loss: 0.0690\n",
            "Validation Loss: 0.1166\n"
          ]
        },
        {
          "output_type": "stream",
          "name": "stderr",
          "text": [
            "Epoch 292/500: 100%|██████████| 81/81 [00:02<00:00, 36.58it/s, loss=0.0697]\n"
          ]
        },
        {
          "output_type": "stream",
          "name": "stdout",
          "text": [
            "Epoch [292/500], Train Loss: 0.0697\n",
            "Validation Loss: 0.1174\n"
          ]
        },
        {
          "output_type": "stream",
          "name": "stderr",
          "text": [
            "Epoch 293/500: 100%|██████████| 81/81 [00:02<00:00, 36.71it/s, loss=0.0685]\n"
          ]
        },
        {
          "output_type": "stream",
          "name": "stdout",
          "text": [
            "Epoch [293/500], Train Loss: 0.0685\n",
            "Validation Loss: 0.1181\n"
          ]
        },
        {
          "output_type": "stream",
          "name": "stderr",
          "text": [
            "Epoch 294/500: 100%|██████████| 81/81 [00:02<00:00, 36.48it/s, loss=0.0688]\n"
          ]
        },
        {
          "output_type": "stream",
          "name": "stdout",
          "text": [
            "Epoch [294/500], Train Loss: 0.0688\n",
            "Validation Loss: 0.1192\n"
          ]
        },
        {
          "output_type": "stream",
          "name": "stderr",
          "text": [
            "Epoch 295/500: 100%|██████████| 81/81 [00:02<00:00, 36.61it/s, loss=0.0691]\n"
          ]
        },
        {
          "output_type": "stream",
          "name": "stdout",
          "text": [
            "Epoch [295/500], Train Loss: 0.0691\n",
            "Validation Loss: 0.1186\n"
          ]
        },
        {
          "output_type": "stream",
          "name": "stderr",
          "text": [
            "Epoch 296/500: 100%|██████████| 81/81 [00:02<00:00, 36.64it/s, loss=0.0682]\n"
          ]
        },
        {
          "output_type": "stream",
          "name": "stdout",
          "text": [
            "Epoch [296/500], Train Loss: 0.0682\n",
            "Validation Loss: 0.1158\n"
          ]
        },
        {
          "output_type": "stream",
          "name": "stderr",
          "text": [
            "Epoch 297/500: 100%|██████████| 81/81 [00:02<00:00, 36.47it/s, loss=0.0684]\n"
          ]
        },
        {
          "output_type": "stream",
          "name": "stdout",
          "text": [
            "Epoch [297/500], Train Loss: 0.0684\n",
            "Validation Loss: 0.1179\n"
          ]
        },
        {
          "output_type": "stream",
          "name": "stderr",
          "text": [
            "Epoch 298/500: 100%|██████████| 81/81 [00:02<00:00, 36.79it/s, loss=0.0681]\n"
          ]
        },
        {
          "output_type": "stream",
          "name": "stdout",
          "text": [
            "Epoch [298/500], Train Loss: 0.0681\n",
            "Validation Loss: 0.1198\n"
          ]
        },
        {
          "output_type": "stream",
          "name": "stderr",
          "text": [
            "Epoch 299/500: 100%|██████████| 81/81 [00:02<00:00, 36.63it/s, loss=0.0676]\n"
          ]
        },
        {
          "output_type": "stream",
          "name": "stdout",
          "text": [
            "Epoch [299/500], Train Loss: 0.0676\n",
            "Validation Loss: 0.1176\n"
          ]
        },
        {
          "output_type": "stream",
          "name": "stderr",
          "text": [
            "Epoch 300/500: 100%|██████████| 81/81 [00:02<00:00, 36.54it/s, loss=0.0683]\n"
          ]
        },
        {
          "output_type": "stream",
          "name": "stdout",
          "text": [
            "Epoch [300/500], Train Loss: 0.0683\n",
            "Validation Loss: 0.1182\n"
          ]
        },
        {
          "output_type": "stream",
          "name": "stderr",
          "text": [
            "Epoch 301/500: 100%|██████████| 81/81 [00:02<00:00, 36.63it/s, loss=0.068]\n"
          ]
        },
        {
          "output_type": "stream",
          "name": "stdout",
          "text": [
            "Epoch [301/500], Train Loss: 0.0680\n",
            "Validation Loss: 0.1181\n"
          ]
        },
        {
          "output_type": "stream",
          "name": "stderr",
          "text": [
            "Epoch 302/500: 100%|██████████| 81/81 [00:02<00:00, 36.56it/s, loss=0.0672]\n"
          ]
        },
        {
          "output_type": "stream",
          "name": "stdout",
          "text": [
            "Epoch [302/500], Train Loss: 0.0672\n",
            "Validation Loss: 0.1160\n"
          ]
        },
        {
          "output_type": "stream",
          "name": "stderr",
          "text": [
            "Epoch 303/500: 100%|██████████| 81/81 [00:02<00:00, 36.66it/s, loss=0.0679]\n"
          ]
        },
        {
          "output_type": "stream",
          "name": "stdout",
          "text": [
            "Epoch [303/500], Train Loss: 0.0679\n",
            "Validation Loss: 0.1193\n"
          ]
        },
        {
          "output_type": "stream",
          "name": "stderr",
          "text": [
            "Epoch 304/500: 100%|██████████| 81/81 [00:02<00:00, 36.70it/s, loss=0.0682]\n"
          ]
        },
        {
          "output_type": "stream",
          "name": "stdout",
          "text": [
            "Epoch [304/500], Train Loss: 0.0682\n",
            "Validation Loss: 0.1182\n"
          ]
        },
        {
          "output_type": "stream",
          "name": "stderr",
          "text": [
            "Epoch 305/500: 100%|██████████| 81/81 [00:02<00:00, 36.27it/s, loss=0.0683]\n"
          ]
        },
        {
          "output_type": "stream",
          "name": "stdout",
          "text": [
            "Epoch [305/500], Train Loss: 0.0683\n",
            "Validation Loss: 0.1196\n"
          ]
        },
        {
          "output_type": "stream",
          "name": "stderr",
          "text": [
            "Epoch 306/500: 100%|██████████| 81/81 [00:02<00:00, 36.80it/s, loss=0.0682]\n"
          ]
        },
        {
          "output_type": "stream",
          "name": "stdout",
          "text": [
            "Epoch [306/500], Train Loss: 0.0682\n",
            "Validation Loss: 0.1174\n"
          ]
        },
        {
          "output_type": "stream",
          "name": "stderr",
          "text": [
            "Epoch 307/500: 100%|██████████| 81/81 [00:02<00:00, 36.73it/s, loss=0.0672]\n"
          ]
        },
        {
          "output_type": "stream",
          "name": "stdout",
          "text": [
            "Epoch [307/500], Train Loss: 0.0672\n",
            "Validation Loss: 0.1184\n"
          ]
        },
        {
          "output_type": "stream",
          "name": "stderr",
          "text": [
            "Epoch 308/500: 100%|██████████| 81/81 [00:02<00:00, 36.61it/s, loss=0.0678]\n"
          ]
        },
        {
          "output_type": "stream",
          "name": "stdout",
          "text": [
            "Epoch [308/500], Train Loss: 0.0678\n",
            "Validation Loss: 0.1182\n"
          ]
        },
        {
          "output_type": "stream",
          "name": "stderr",
          "text": [
            "Epoch 309/500: 100%|██████████| 81/81 [00:02<00:00, 36.77it/s, loss=0.07]\n"
          ]
        },
        {
          "output_type": "stream",
          "name": "stdout",
          "text": [
            "Epoch [309/500], Train Loss: 0.0700\n",
            "Validation Loss: 0.1178\n"
          ]
        },
        {
          "output_type": "stream",
          "name": "stderr",
          "text": [
            "Epoch 310/500: 100%|██████████| 81/81 [00:02<00:00, 36.52it/s, loss=0.0685]\n"
          ]
        },
        {
          "output_type": "stream",
          "name": "stdout",
          "text": [
            "Epoch [310/500], Train Loss: 0.0685\n",
            "Validation Loss: 0.1172\n"
          ]
        },
        {
          "output_type": "stream",
          "name": "stderr",
          "text": [
            "Epoch 311/500: 100%|██████████| 81/81 [00:02<00:00, 36.77it/s, loss=0.069]\n"
          ]
        },
        {
          "output_type": "stream",
          "name": "stdout",
          "text": [
            "Epoch [311/500], Train Loss: 0.0690\n",
            "Validation Loss: 0.1196\n"
          ]
        },
        {
          "output_type": "stream",
          "name": "stderr",
          "text": [
            "Epoch 312/500: 100%|██████████| 81/81 [00:02<00:00, 36.66it/s, loss=0.0679]\n"
          ]
        },
        {
          "output_type": "stream",
          "name": "stdout",
          "text": [
            "Epoch [312/500], Train Loss: 0.0679\n",
            "Validation Loss: 0.1187\n"
          ]
        },
        {
          "output_type": "stream",
          "name": "stderr",
          "text": [
            "Epoch 313/500: 100%|██████████| 81/81 [00:02<00:00, 36.52it/s, loss=0.0674]\n"
          ]
        },
        {
          "output_type": "stream",
          "name": "stdout",
          "text": [
            "Epoch [313/500], Train Loss: 0.0674\n",
            "Validation Loss: 0.1198\n"
          ]
        },
        {
          "output_type": "stream",
          "name": "stderr",
          "text": [
            "Epoch 314/500: 100%|██████████| 81/81 [00:02<00:00, 36.84it/s, loss=0.0676]\n"
          ]
        },
        {
          "output_type": "stream",
          "name": "stdout",
          "text": [
            "Epoch [314/500], Train Loss: 0.0676\n",
            "Validation Loss: 0.1187\n"
          ]
        },
        {
          "output_type": "stream",
          "name": "stderr",
          "text": [
            "Epoch 315/500: 100%|██████████| 81/81 [00:02<00:00, 36.53it/s, loss=0.0668]\n"
          ]
        },
        {
          "output_type": "stream",
          "name": "stdout",
          "text": [
            "Epoch [315/500], Train Loss: 0.0668\n",
            "Validation Loss: 0.1192\n"
          ]
        },
        {
          "output_type": "stream",
          "name": "stderr",
          "text": [
            "Epoch 316/500: 100%|██████████| 81/81 [00:02<00:00, 36.80it/s, loss=0.0665]\n"
          ]
        },
        {
          "output_type": "stream",
          "name": "stdout",
          "text": [
            "Epoch [316/500], Train Loss: 0.0665\n",
            "Validation Loss: 0.1177\n"
          ]
        },
        {
          "output_type": "stream",
          "name": "stderr",
          "text": [
            "Epoch 317/500: 100%|██████████| 81/81 [00:02<00:00, 36.67it/s, loss=0.0684]\n"
          ]
        },
        {
          "output_type": "stream",
          "name": "stdout",
          "text": [
            "Epoch [317/500], Train Loss: 0.0684\n",
            "Validation Loss: 0.1191\n"
          ]
        },
        {
          "output_type": "stream",
          "name": "stderr",
          "text": [
            "Epoch 318/500: 100%|██████████| 81/81 [00:02<00:00, 36.42it/s, loss=0.0672]\n"
          ]
        },
        {
          "output_type": "stream",
          "name": "stdout",
          "text": [
            "Epoch [318/500], Train Loss: 0.0672\n",
            "Validation Loss: 0.1185\n"
          ]
        },
        {
          "output_type": "stream",
          "name": "stderr",
          "text": [
            "Epoch 319/500: 100%|██████████| 81/81 [00:02<00:00, 36.24it/s, loss=0.0665]\n"
          ]
        },
        {
          "output_type": "stream",
          "name": "stdout",
          "text": [
            "Epoch [319/500], Train Loss: 0.0665\n",
            "Validation Loss: 0.1182\n"
          ]
        },
        {
          "output_type": "stream",
          "name": "stderr",
          "text": [
            "Epoch 320/500: 100%|██████████| 81/81 [00:02<00:00, 35.95it/s, loss=0.0664]\n"
          ]
        },
        {
          "output_type": "stream",
          "name": "stdout",
          "text": [
            "Epoch [320/500], Train Loss: 0.0664\n",
            "Validation Loss: 0.1184\n"
          ]
        },
        {
          "output_type": "stream",
          "name": "stderr",
          "text": [
            "Epoch 321/500: 100%|██████████| 81/81 [00:02<00:00, 36.42it/s, loss=0.0666]\n"
          ]
        },
        {
          "output_type": "stream",
          "name": "stdout",
          "text": [
            "Epoch [321/500], Train Loss: 0.0666\n",
            "Validation Loss: 0.1178\n"
          ]
        },
        {
          "output_type": "stream",
          "name": "stderr",
          "text": [
            "Epoch 322/500: 100%|██████████| 81/81 [00:02<00:00, 36.58it/s, loss=0.0671]\n"
          ]
        },
        {
          "output_type": "stream",
          "name": "stdout",
          "text": [
            "Epoch [322/500], Train Loss: 0.0671\n",
            "Validation Loss: 0.1183\n"
          ]
        },
        {
          "output_type": "stream",
          "name": "stderr",
          "text": [
            "Epoch 323/500: 100%|██████████| 81/81 [00:02<00:00, 36.65it/s, loss=0.0674]\n"
          ]
        },
        {
          "output_type": "stream",
          "name": "stdout",
          "text": [
            "Epoch [323/500], Train Loss: 0.0674\n",
            "Validation Loss: 0.1196\n"
          ]
        },
        {
          "output_type": "stream",
          "name": "stderr",
          "text": [
            "Epoch 324/500: 100%|██████████| 81/81 [00:02<00:00, 36.57it/s, loss=0.0662]\n"
          ]
        },
        {
          "output_type": "stream",
          "name": "stdout",
          "text": [
            "Epoch [324/500], Train Loss: 0.0662\n",
            "Validation Loss: 0.1190\n"
          ]
        },
        {
          "output_type": "stream",
          "name": "stderr",
          "text": [
            "Epoch 325/500: 100%|██████████| 81/81 [00:02<00:00, 36.61it/s, loss=0.0664]\n"
          ]
        },
        {
          "output_type": "stream",
          "name": "stdout",
          "text": [
            "Epoch [325/500], Train Loss: 0.0664\n",
            "Validation Loss: 0.1196\n"
          ]
        },
        {
          "output_type": "stream",
          "name": "stderr",
          "text": [
            "Epoch 326/500: 100%|██████████| 81/81 [00:02<00:00, 36.54it/s, loss=0.0668]\n"
          ]
        },
        {
          "output_type": "stream",
          "name": "stdout",
          "text": [
            "Epoch [326/500], Train Loss: 0.0668\n",
            "Validation Loss: 0.1193\n"
          ]
        },
        {
          "output_type": "stream",
          "name": "stderr",
          "text": [
            "Epoch 327/500: 100%|██████████| 81/81 [00:02<00:00, 36.72it/s, loss=0.0667]\n"
          ]
        },
        {
          "output_type": "stream",
          "name": "stdout",
          "text": [
            "Epoch [327/500], Train Loss: 0.0667\n",
            "Validation Loss: 0.1181\n"
          ]
        },
        {
          "output_type": "stream",
          "name": "stderr",
          "text": [
            "Epoch 328/500: 100%|██████████| 81/81 [00:02<00:00, 36.59it/s, loss=0.0673]\n"
          ]
        },
        {
          "output_type": "stream",
          "name": "stdout",
          "text": [
            "Epoch [328/500], Train Loss: 0.0673\n",
            "Validation Loss: 0.1191\n"
          ]
        },
        {
          "output_type": "stream",
          "name": "stderr",
          "text": [
            "Epoch 329/500: 100%|██████████| 81/81 [00:02<00:00, 36.59it/s, loss=0.0658]\n"
          ]
        },
        {
          "output_type": "stream",
          "name": "stdout",
          "text": [
            "Epoch [329/500], Train Loss: 0.0658\n",
            "Validation Loss: 0.1198\n"
          ]
        },
        {
          "output_type": "stream",
          "name": "stderr",
          "text": [
            "Epoch 330/500: 100%|██████████| 81/81 [00:02<00:00, 36.60it/s, loss=0.0667]\n"
          ]
        },
        {
          "output_type": "stream",
          "name": "stdout",
          "text": [
            "Epoch [330/500], Train Loss: 0.0667\n",
            "Validation Loss: 0.1193\n"
          ]
        },
        {
          "output_type": "stream",
          "name": "stderr",
          "text": [
            "Epoch 331/500: 100%|██████████| 81/81 [00:02<00:00, 36.19it/s, loss=0.0663]\n"
          ]
        },
        {
          "output_type": "stream",
          "name": "stdout",
          "text": [
            "Epoch [331/500], Train Loss: 0.0663\n",
            "Validation Loss: 0.1193\n"
          ]
        },
        {
          "output_type": "stream",
          "name": "stderr",
          "text": [
            "Epoch 332/500: 100%|██████████| 81/81 [00:02<00:00, 36.33it/s, loss=0.0667]\n"
          ]
        },
        {
          "output_type": "stream",
          "name": "stdout",
          "text": [
            "Epoch [332/500], Train Loss: 0.0667\n",
            "Validation Loss: 0.1196\n"
          ]
        },
        {
          "output_type": "stream",
          "name": "stderr",
          "text": [
            "Epoch 333/500: 100%|██████████| 81/81 [00:02<00:00, 36.39it/s, loss=0.0675]\n"
          ]
        },
        {
          "output_type": "stream",
          "name": "stdout",
          "text": [
            "Epoch [333/500], Train Loss: 0.0675\n",
            "Validation Loss: 0.1202\n"
          ]
        },
        {
          "output_type": "stream",
          "name": "stderr",
          "text": [
            "Epoch 334/500: 100%|██████████| 81/81 [00:02<00:00, 36.23it/s, loss=0.0668]\n"
          ]
        },
        {
          "output_type": "stream",
          "name": "stdout",
          "text": [
            "Epoch [334/500], Train Loss: 0.0668\n",
            "Validation Loss: 0.1183\n"
          ]
        },
        {
          "output_type": "stream",
          "name": "stderr",
          "text": [
            "Epoch 335/500: 100%|██████████| 81/81 [00:02<00:00, 36.44it/s, loss=0.0666]\n"
          ]
        },
        {
          "output_type": "stream",
          "name": "stdout",
          "text": [
            "Epoch [335/500], Train Loss: 0.0666\n",
            "Validation Loss: 0.1188\n"
          ]
        },
        {
          "output_type": "stream",
          "name": "stderr",
          "text": [
            "Epoch 336/500: 100%|██████████| 81/81 [00:02<00:00, 36.08it/s, loss=0.0662]\n"
          ]
        },
        {
          "output_type": "stream",
          "name": "stdout",
          "text": [
            "Epoch [336/500], Train Loss: 0.0662\n",
            "Validation Loss: 0.1197\n"
          ]
        },
        {
          "output_type": "stream",
          "name": "stderr",
          "text": [
            "Epoch 337/500: 100%|██████████| 81/81 [00:02<00:00, 36.36it/s, loss=0.066]\n"
          ]
        },
        {
          "output_type": "stream",
          "name": "stdout",
          "text": [
            "Epoch [337/500], Train Loss: 0.0660\n",
            "Validation Loss: 0.1200\n"
          ]
        },
        {
          "output_type": "stream",
          "name": "stderr",
          "text": [
            "Epoch 338/500: 100%|██████████| 81/81 [00:02<00:00, 36.40it/s, loss=0.066]\n"
          ]
        },
        {
          "output_type": "stream",
          "name": "stdout",
          "text": [
            "Epoch [338/500], Train Loss: 0.0660\n",
            "Validation Loss: 0.1194\n"
          ]
        },
        {
          "output_type": "stream",
          "name": "stderr",
          "text": [
            "Epoch 339/500: 100%|██████████| 81/81 [00:02<00:00, 36.38it/s, loss=0.0662]\n"
          ]
        },
        {
          "output_type": "stream",
          "name": "stdout",
          "text": [
            "Epoch [339/500], Train Loss: 0.0662\n",
            "Validation Loss: 0.1198\n"
          ]
        },
        {
          "output_type": "stream",
          "name": "stderr",
          "text": [
            "Epoch 340/500: 100%|██████████| 81/81 [00:02<00:00, 36.58it/s, loss=0.0659]\n"
          ]
        },
        {
          "output_type": "stream",
          "name": "stdout",
          "text": [
            "Epoch [340/500], Train Loss: 0.0659\n",
            "Validation Loss: 0.1183\n"
          ]
        },
        {
          "output_type": "stream",
          "name": "stderr",
          "text": [
            "Epoch 341/500: 100%|██████████| 81/81 [00:02<00:00, 36.57it/s, loss=0.0665]\n"
          ]
        },
        {
          "output_type": "stream",
          "name": "stdout",
          "text": [
            "Epoch [341/500], Train Loss: 0.0665\n",
            "Validation Loss: 0.1194\n"
          ]
        },
        {
          "output_type": "stream",
          "name": "stderr",
          "text": [
            "Epoch 342/500: 100%|██████████| 81/81 [00:02<00:00, 36.73it/s, loss=0.0658]\n"
          ]
        },
        {
          "output_type": "stream",
          "name": "stdout",
          "text": [
            "Epoch [342/500], Train Loss: 0.0658\n",
            "Validation Loss: 0.1213\n"
          ]
        },
        {
          "output_type": "stream",
          "name": "stderr",
          "text": [
            "Epoch 343/500: 100%|██████████| 81/81 [00:02<00:00, 36.38it/s, loss=0.0669]\n"
          ]
        },
        {
          "output_type": "stream",
          "name": "stdout",
          "text": [
            "Epoch [343/500], Train Loss: 0.0669\n",
            "Validation Loss: 0.1199\n"
          ]
        },
        {
          "output_type": "stream",
          "name": "stderr",
          "text": [
            "Epoch 344/500: 100%|██████████| 81/81 [00:02<00:00, 36.59it/s, loss=0.0662]\n"
          ]
        },
        {
          "output_type": "stream",
          "name": "stdout",
          "text": [
            "Epoch [344/500], Train Loss: 0.0662\n",
            "Validation Loss: 0.1188\n"
          ]
        },
        {
          "output_type": "stream",
          "name": "stderr",
          "text": [
            "Epoch 345/500: 100%|██████████| 81/81 [00:02<00:00, 36.38it/s, loss=0.0655]\n"
          ]
        },
        {
          "output_type": "stream",
          "name": "stdout",
          "text": [
            "Epoch [345/500], Train Loss: 0.0655\n",
            "Validation Loss: 0.1189\n"
          ]
        },
        {
          "output_type": "stream",
          "name": "stderr",
          "text": [
            "Epoch 346/500: 100%|██████████| 81/81 [00:02<00:00, 36.16it/s, loss=0.067]\n"
          ]
        },
        {
          "output_type": "stream",
          "name": "stdout",
          "text": [
            "Epoch [346/500], Train Loss: 0.0670\n",
            "Validation Loss: 0.1199\n"
          ]
        },
        {
          "output_type": "stream",
          "name": "stderr",
          "text": [
            "Epoch 347/500: 100%|██████████| 81/81 [00:02<00:00, 36.44it/s, loss=0.0658]\n"
          ]
        },
        {
          "output_type": "stream",
          "name": "stdout",
          "text": [
            "Epoch [347/500], Train Loss: 0.0658\n",
            "Validation Loss: 0.1191\n"
          ]
        },
        {
          "output_type": "stream",
          "name": "stderr",
          "text": [
            "Epoch 348/500: 100%|██████████| 81/81 [00:02<00:00, 36.45it/s, loss=0.066]\n"
          ]
        },
        {
          "output_type": "stream",
          "name": "stdout",
          "text": [
            "Epoch [348/500], Train Loss: 0.0660\n",
            "Validation Loss: 0.1204\n"
          ]
        },
        {
          "output_type": "stream",
          "name": "stderr",
          "text": [
            "Epoch 349/500: 100%|██████████| 81/81 [00:02<00:00, 36.44it/s, loss=0.0665]\n"
          ]
        },
        {
          "output_type": "stream",
          "name": "stdout",
          "text": [
            "Epoch [349/500], Train Loss: 0.0665\n",
            "Validation Loss: 0.1192\n"
          ]
        },
        {
          "output_type": "stream",
          "name": "stderr",
          "text": [
            "Epoch 350/500: 100%|██████████| 81/81 [00:02<00:00, 36.50it/s, loss=0.0668]\n"
          ]
        },
        {
          "output_type": "stream",
          "name": "stdout",
          "text": [
            "Epoch [350/500], Train Loss: 0.0668\n",
            "Validation Loss: 0.1200\n"
          ]
        },
        {
          "output_type": "stream",
          "name": "stderr",
          "text": [
            "Epoch 351/500: 100%|██████████| 81/81 [00:02<00:00, 36.49it/s, loss=0.0657]\n"
          ]
        },
        {
          "output_type": "stream",
          "name": "stdout",
          "text": [
            "Epoch [351/500], Train Loss: 0.0657\n",
            "Validation Loss: 0.1184\n"
          ]
        },
        {
          "output_type": "stream",
          "name": "stderr",
          "text": [
            "Epoch 352/500: 100%|██████████| 81/81 [00:02<00:00, 36.61it/s, loss=0.0666]\n"
          ]
        },
        {
          "output_type": "stream",
          "name": "stdout",
          "text": [
            "Epoch [352/500], Train Loss: 0.0666\n",
            "Validation Loss: 0.1204\n"
          ]
        },
        {
          "output_type": "stream",
          "name": "stderr",
          "text": [
            "Epoch 353/500: 100%|██████████| 81/81 [00:02<00:00, 36.64it/s, loss=0.0671]\n"
          ]
        },
        {
          "output_type": "stream",
          "name": "stdout",
          "text": [
            "Epoch [353/500], Train Loss: 0.0671\n",
            "Validation Loss: 0.1198\n"
          ]
        },
        {
          "output_type": "stream",
          "name": "stderr",
          "text": [
            "Epoch 354/500: 100%|██████████| 81/81 [00:02<00:00, 36.57it/s, loss=0.0665]\n"
          ]
        },
        {
          "output_type": "stream",
          "name": "stdout",
          "text": [
            "Epoch [354/500], Train Loss: 0.0665\n",
            "Validation Loss: 0.1215\n"
          ]
        },
        {
          "output_type": "stream",
          "name": "stderr",
          "text": [
            "Epoch 355/500: 100%|██████████| 81/81 [00:02<00:00, 36.51it/s, loss=0.0657]\n"
          ]
        },
        {
          "output_type": "stream",
          "name": "stdout",
          "text": [
            "Epoch [355/500], Train Loss: 0.0657\n",
            "Validation Loss: 0.1207\n"
          ]
        },
        {
          "output_type": "stream",
          "name": "stderr",
          "text": [
            "Epoch 356/500: 100%|██████████| 81/81 [00:02<00:00, 36.59it/s, loss=0.0658]\n"
          ]
        },
        {
          "output_type": "stream",
          "name": "stdout",
          "text": [
            "Epoch [356/500], Train Loss: 0.0658\n",
            "Validation Loss: 0.1199\n"
          ]
        },
        {
          "output_type": "stream",
          "name": "stderr",
          "text": [
            "Epoch 357/500: 100%|██████████| 81/81 [00:02<00:00, 36.51it/s, loss=0.0662]\n"
          ]
        },
        {
          "output_type": "stream",
          "name": "stdout",
          "text": [
            "Epoch [357/500], Train Loss: 0.0662\n",
            "Validation Loss: 0.1190\n"
          ]
        },
        {
          "output_type": "stream",
          "name": "stderr",
          "text": [
            "Epoch 358/500: 100%|██████████| 81/81 [00:02<00:00, 36.56it/s, loss=0.0657]\n"
          ]
        },
        {
          "output_type": "stream",
          "name": "stdout",
          "text": [
            "Epoch [358/500], Train Loss: 0.0657\n",
            "Validation Loss: 0.1215\n"
          ]
        },
        {
          "output_type": "stream",
          "name": "stderr",
          "text": [
            "Epoch 359/500: 100%|██████████| 81/81 [00:02<00:00, 36.76it/s, loss=0.0658]\n"
          ]
        },
        {
          "output_type": "stream",
          "name": "stdout",
          "text": [
            "Epoch [359/500], Train Loss: 0.0658\n",
            "Validation Loss: 0.1189\n"
          ]
        },
        {
          "output_type": "stream",
          "name": "stderr",
          "text": [
            "Epoch 360/500: 100%|██████████| 81/81 [00:02<00:00, 36.49it/s, loss=0.0665]\n"
          ]
        },
        {
          "output_type": "stream",
          "name": "stdout",
          "text": [
            "Epoch [360/500], Train Loss: 0.0665\n",
            "Validation Loss: 0.1201\n"
          ]
        },
        {
          "output_type": "stream",
          "name": "stderr",
          "text": [
            "Epoch 361/500: 100%|██████████| 81/81 [00:02<00:00, 36.67it/s, loss=0.0664]\n"
          ]
        },
        {
          "output_type": "stream",
          "name": "stdout",
          "text": [
            "Epoch [361/500], Train Loss: 0.0664\n",
            "Validation Loss: 0.1200\n"
          ]
        },
        {
          "output_type": "stream",
          "name": "stderr",
          "text": [
            "Epoch 362/500: 100%|██████████| 81/81 [00:02<00:00, 36.54it/s, loss=0.066]\n"
          ]
        },
        {
          "output_type": "stream",
          "name": "stdout",
          "text": [
            "Epoch [362/500], Train Loss: 0.0660\n",
            "Validation Loss: 0.1206\n"
          ]
        },
        {
          "output_type": "stream",
          "name": "stderr",
          "text": [
            "Epoch 363/500: 100%|██████████| 81/81 [00:02<00:00, 36.68it/s, loss=0.0654]\n"
          ]
        },
        {
          "output_type": "stream",
          "name": "stdout",
          "text": [
            "Epoch [363/500], Train Loss: 0.0654\n",
            "Validation Loss: 0.1196\n"
          ]
        },
        {
          "output_type": "stream",
          "name": "stderr",
          "text": [
            "Epoch 364/500: 100%|██████████| 81/81 [00:02<00:00, 36.71it/s, loss=0.068]\n"
          ]
        },
        {
          "output_type": "stream",
          "name": "stdout",
          "text": [
            "Epoch [364/500], Train Loss: 0.0680\n",
            "Validation Loss: 0.1232\n"
          ]
        },
        {
          "output_type": "stream",
          "name": "stderr",
          "text": [
            "Epoch 365/500: 100%|██████████| 81/81 [00:02<00:00, 36.49it/s, loss=0.0675]\n"
          ]
        },
        {
          "output_type": "stream",
          "name": "stdout",
          "text": [
            "Epoch [365/500], Train Loss: 0.0675\n",
            "Validation Loss: 0.1217\n"
          ]
        },
        {
          "output_type": "stream",
          "name": "stderr",
          "text": [
            "Epoch 366/500: 100%|██████████| 81/81 [00:02<00:00, 36.62it/s, loss=0.0669]\n"
          ]
        },
        {
          "output_type": "stream",
          "name": "stdout",
          "text": [
            "Epoch [366/500], Train Loss: 0.0669\n",
            "Validation Loss: 0.1237\n"
          ]
        },
        {
          "output_type": "stream",
          "name": "stderr",
          "text": [
            "Epoch 367/500: 100%|██████████| 81/81 [00:02<00:00, 36.64it/s, loss=0.0675]\n"
          ]
        },
        {
          "output_type": "stream",
          "name": "stdout",
          "text": [
            "Epoch [367/500], Train Loss: 0.0675\n",
            "Validation Loss: 0.1205\n"
          ]
        },
        {
          "output_type": "stream",
          "name": "stderr",
          "text": [
            "Epoch 368/500: 100%|██████████| 81/81 [00:02<00:00, 36.74it/s, loss=0.0662]\n"
          ]
        },
        {
          "output_type": "stream",
          "name": "stdout",
          "text": [
            "Epoch [368/500], Train Loss: 0.0662\n",
            "Validation Loss: 0.1223\n"
          ]
        },
        {
          "output_type": "stream",
          "name": "stderr",
          "text": [
            "Epoch 369/500: 100%|██████████| 81/81 [00:02<00:00, 36.57it/s, loss=0.0665]\n"
          ]
        },
        {
          "output_type": "stream",
          "name": "stdout",
          "text": [
            "Epoch [369/500], Train Loss: 0.0665\n",
            "Validation Loss: 0.1215\n"
          ]
        },
        {
          "output_type": "stream",
          "name": "stderr",
          "text": [
            "Epoch 370/500: 100%|██████████| 81/81 [00:02<00:00, 36.61it/s, loss=0.0668]\n"
          ]
        },
        {
          "output_type": "stream",
          "name": "stdout",
          "text": [
            "Epoch [370/500], Train Loss: 0.0668\n",
            "Validation Loss: 0.1221\n"
          ]
        },
        {
          "output_type": "stream",
          "name": "stderr",
          "text": [
            "Epoch 371/500: 100%|██████████| 81/81 [00:02<00:00, 36.59it/s, loss=0.0667]\n"
          ]
        },
        {
          "output_type": "stream",
          "name": "stdout",
          "text": [
            "Epoch [371/500], Train Loss: 0.0667\n",
            "Validation Loss: 0.1209\n"
          ]
        },
        {
          "output_type": "stream",
          "name": "stderr",
          "text": [
            "Epoch 372/500: 100%|██████████| 81/81 [00:02<00:00, 36.62it/s, loss=0.0655]\n"
          ]
        },
        {
          "output_type": "stream",
          "name": "stdout",
          "text": [
            "Epoch [372/500], Train Loss: 0.0655\n",
            "Validation Loss: 0.1227\n"
          ]
        },
        {
          "output_type": "stream",
          "name": "stderr",
          "text": [
            "Epoch 373/500: 100%|██████████| 81/81 [00:02<00:00, 36.63it/s, loss=0.0663]\n"
          ]
        },
        {
          "output_type": "stream",
          "name": "stdout",
          "text": [
            "Epoch [373/500], Train Loss: 0.0663\n",
            "Validation Loss: 0.1226\n"
          ]
        },
        {
          "output_type": "stream",
          "name": "stderr",
          "text": [
            "Epoch 374/500: 100%|██████████| 81/81 [00:02<00:00, 36.56it/s, loss=0.0657]\n"
          ]
        },
        {
          "output_type": "stream",
          "name": "stdout",
          "text": [
            "Epoch [374/500], Train Loss: 0.0657\n",
            "Validation Loss: 0.1209\n"
          ]
        },
        {
          "output_type": "stream",
          "name": "stderr",
          "text": [
            "Epoch 375/500: 100%|██████████| 81/81 [00:02<00:00, 36.37it/s, loss=0.0663]\n"
          ]
        },
        {
          "output_type": "stream",
          "name": "stdout",
          "text": [
            "Epoch [375/500], Train Loss: 0.0663\n",
            "Validation Loss: 0.1244\n"
          ]
        },
        {
          "output_type": "stream",
          "name": "stderr",
          "text": [
            "Epoch 376/500: 100%|██████████| 81/81 [00:02<00:00, 36.65it/s, loss=0.0658]\n"
          ]
        },
        {
          "output_type": "stream",
          "name": "stdout",
          "text": [
            "Epoch [376/500], Train Loss: 0.0658\n",
            "Validation Loss: 0.1209\n"
          ]
        },
        {
          "output_type": "stream",
          "name": "stderr",
          "text": [
            "Epoch 377/500: 100%|██████████| 81/81 [00:02<00:00, 36.74it/s, loss=0.0662]\n"
          ]
        },
        {
          "output_type": "stream",
          "name": "stdout",
          "text": [
            "Epoch [377/500], Train Loss: 0.0662\n",
            "Validation Loss: 0.1207\n"
          ]
        },
        {
          "output_type": "stream",
          "name": "stderr",
          "text": [
            "Epoch 378/500: 100%|██████████| 81/81 [00:02<00:00, 36.74it/s, loss=0.0658]\n"
          ]
        },
        {
          "output_type": "stream",
          "name": "stdout",
          "text": [
            "Epoch [378/500], Train Loss: 0.0658\n",
            "Validation Loss: 0.1233\n"
          ]
        },
        {
          "output_type": "stream",
          "name": "stderr",
          "text": [
            "Epoch 379/500: 100%|██████████| 81/81 [00:02<00:00, 36.17it/s, loss=0.066]\n"
          ]
        },
        {
          "output_type": "stream",
          "name": "stdout",
          "text": [
            "Epoch [379/500], Train Loss: 0.0660\n",
            "Validation Loss: 0.1215\n"
          ]
        },
        {
          "output_type": "stream",
          "name": "stderr",
          "text": [
            "Epoch 380/500: 100%|██████████| 81/81 [00:02<00:00, 36.59it/s, loss=0.0656]\n"
          ]
        },
        {
          "output_type": "stream",
          "name": "stdout",
          "text": [
            "Epoch [380/500], Train Loss: 0.0656\n",
            "Validation Loss: 0.1218\n"
          ]
        },
        {
          "output_type": "stream",
          "name": "stderr",
          "text": [
            "Epoch 381/500: 100%|██████████| 81/81 [00:02<00:00, 36.06it/s, loss=0.0655]\n"
          ]
        },
        {
          "output_type": "stream",
          "name": "stdout",
          "text": [
            "Epoch [381/500], Train Loss: 0.0655\n",
            "Validation Loss: 0.1233\n"
          ]
        },
        {
          "output_type": "stream",
          "name": "stderr",
          "text": [
            "Epoch 382/500: 100%|██████████| 81/81 [00:02<00:00, 36.58it/s, loss=0.0655]\n"
          ]
        },
        {
          "output_type": "stream",
          "name": "stdout",
          "text": [
            "Epoch [382/500], Train Loss: 0.0655\n",
            "Validation Loss: 0.1228\n"
          ]
        },
        {
          "output_type": "stream",
          "name": "stderr",
          "text": [
            "Epoch 383/500: 100%|██████████| 81/81 [00:02<00:00, 36.31it/s, loss=0.066]\n"
          ]
        },
        {
          "output_type": "stream",
          "name": "stdout",
          "text": [
            "Epoch [383/500], Train Loss: 0.0660\n",
            "Validation Loss: 0.1225\n"
          ]
        },
        {
          "output_type": "stream",
          "name": "stderr",
          "text": [
            "Epoch 384/500: 100%|██████████| 81/81 [00:02<00:00, 36.47it/s, loss=0.0661]\n"
          ]
        },
        {
          "output_type": "stream",
          "name": "stdout",
          "text": [
            "Epoch [384/500], Train Loss: 0.0661\n",
            "Validation Loss: 0.1202\n"
          ]
        },
        {
          "output_type": "stream",
          "name": "stderr",
          "text": [
            "Epoch 385/500: 100%|██████████| 81/81 [00:02<00:00, 36.49it/s, loss=0.0653]\n"
          ]
        },
        {
          "output_type": "stream",
          "name": "stdout",
          "text": [
            "Epoch [385/500], Train Loss: 0.0653\n",
            "Validation Loss: 0.1215\n"
          ]
        },
        {
          "output_type": "stream",
          "name": "stderr",
          "text": [
            "Epoch 386/500: 100%|██████████| 81/81 [00:02<00:00, 36.46it/s, loss=0.0649]\n"
          ]
        },
        {
          "output_type": "stream",
          "name": "stdout",
          "text": [
            "Epoch [386/500], Train Loss: 0.0649\n",
            "Validation Loss: 0.1240\n"
          ]
        },
        {
          "output_type": "stream",
          "name": "stderr",
          "text": [
            "Epoch 387/500: 100%|██████████| 81/81 [00:02<00:00, 36.12it/s, loss=0.0647]\n"
          ]
        },
        {
          "output_type": "stream",
          "name": "stdout",
          "text": [
            "Epoch [387/500], Train Loss: 0.0647\n",
            "Validation Loss: 0.1237\n"
          ]
        },
        {
          "output_type": "stream",
          "name": "stderr",
          "text": [
            "Epoch 388/500: 100%|██████████| 81/81 [00:02<00:00, 36.12it/s, loss=0.065]\n"
          ]
        },
        {
          "output_type": "stream",
          "name": "stdout",
          "text": [
            "Epoch [388/500], Train Loss: 0.0650\n",
            "Validation Loss: 0.1226\n"
          ]
        },
        {
          "output_type": "stream",
          "name": "stderr",
          "text": [
            "Epoch 389/500: 100%|██████████| 81/81 [00:02<00:00, 36.10it/s, loss=0.0667]\n"
          ]
        },
        {
          "output_type": "stream",
          "name": "stdout",
          "text": [
            "Epoch [389/500], Train Loss: 0.0667\n",
            "Validation Loss: 0.1224\n"
          ]
        },
        {
          "output_type": "stream",
          "name": "stderr",
          "text": [
            "Epoch 390/500: 100%|██████████| 81/81 [00:02<00:00, 36.17it/s, loss=0.0665]\n"
          ]
        },
        {
          "output_type": "stream",
          "name": "stdout",
          "text": [
            "Epoch [390/500], Train Loss: 0.0665\n",
            "Validation Loss: 0.1228\n"
          ]
        },
        {
          "output_type": "stream",
          "name": "stderr",
          "text": [
            "Epoch 391/500: 100%|██████████| 81/81 [00:02<00:00, 36.38it/s, loss=0.0664]\n"
          ]
        },
        {
          "output_type": "stream",
          "name": "stdout",
          "text": [
            "Epoch [391/500], Train Loss: 0.0664\n",
            "Validation Loss: 0.1237\n"
          ]
        },
        {
          "output_type": "stream",
          "name": "stderr",
          "text": [
            "Epoch 392/500: 100%|██████████| 81/81 [00:02<00:00, 36.20it/s, loss=0.066]\n"
          ]
        },
        {
          "output_type": "stream",
          "name": "stdout",
          "text": [
            "Epoch [392/500], Train Loss: 0.0660\n",
            "Validation Loss: 0.1221\n"
          ]
        },
        {
          "output_type": "stream",
          "name": "stderr",
          "text": [
            "Epoch 393/500: 100%|██████████| 81/81 [00:02<00:00, 36.26it/s, loss=0.0669]\n"
          ]
        },
        {
          "output_type": "stream",
          "name": "stdout",
          "text": [
            "Epoch [393/500], Train Loss: 0.0669\n",
            "Validation Loss: 0.1226\n"
          ]
        },
        {
          "output_type": "stream",
          "name": "stderr",
          "text": [
            "Epoch 394/500: 100%|██████████| 81/81 [00:02<00:00, 36.06it/s, loss=0.066]\n"
          ]
        },
        {
          "output_type": "stream",
          "name": "stdout",
          "text": [
            "Epoch [394/500], Train Loss: 0.0660\n",
            "Validation Loss: 0.1225\n"
          ]
        },
        {
          "output_type": "stream",
          "name": "stderr",
          "text": [
            "Epoch 395/500: 100%|██████████| 81/81 [00:02<00:00, 36.44it/s, loss=0.0661]\n"
          ]
        },
        {
          "output_type": "stream",
          "name": "stdout",
          "text": [
            "Epoch [395/500], Train Loss: 0.0661\n",
            "Validation Loss: 0.1273\n"
          ]
        },
        {
          "output_type": "stream",
          "name": "stderr",
          "text": [
            "Epoch 396/500: 100%|██████████| 81/81 [00:02<00:00, 36.28it/s, loss=0.0656]\n"
          ]
        },
        {
          "output_type": "stream",
          "name": "stdout",
          "text": [
            "Epoch [396/500], Train Loss: 0.0656\n",
            "Validation Loss: 0.1224\n"
          ]
        },
        {
          "output_type": "stream",
          "name": "stderr",
          "text": [
            "Epoch 397/500: 100%|██████████| 81/81 [00:02<00:00, 36.46it/s, loss=0.0659]\n"
          ]
        },
        {
          "output_type": "stream",
          "name": "stdout",
          "text": [
            "Epoch [397/500], Train Loss: 0.0659\n",
            "Validation Loss: 0.1213\n"
          ]
        },
        {
          "output_type": "stream",
          "name": "stderr",
          "text": [
            "Epoch 398/500: 100%|██████████| 81/81 [00:02<00:00, 36.28it/s, loss=0.0649]\n"
          ]
        },
        {
          "output_type": "stream",
          "name": "stdout",
          "text": [
            "Epoch [398/500], Train Loss: 0.0649\n",
            "Validation Loss: 0.1222\n"
          ]
        },
        {
          "output_type": "stream",
          "name": "stderr",
          "text": [
            "Epoch 399/500: 100%|██████████| 81/81 [00:02<00:00, 36.52it/s, loss=0.0651]\n"
          ]
        },
        {
          "output_type": "stream",
          "name": "stdout",
          "text": [
            "Epoch [399/500], Train Loss: 0.0651\n",
            "Validation Loss: 0.1255\n"
          ]
        },
        {
          "output_type": "stream",
          "name": "stderr",
          "text": [
            "Epoch 400/500: 100%|██████████| 81/81 [00:02<00:00, 36.57it/s, loss=0.0654]\n"
          ]
        },
        {
          "output_type": "stream",
          "name": "stdout",
          "text": [
            "Epoch [400/500], Train Loss: 0.0654\n",
            "Validation Loss: 0.1262\n"
          ]
        },
        {
          "output_type": "stream",
          "name": "stderr",
          "text": [
            "Epoch 401/500: 100%|██████████| 81/81 [00:02<00:00, 36.34it/s, loss=0.0661]\n"
          ]
        },
        {
          "output_type": "stream",
          "name": "stdout",
          "text": [
            "Epoch [401/500], Train Loss: 0.0661\n",
            "Validation Loss: 0.1245\n"
          ]
        },
        {
          "output_type": "stream",
          "name": "stderr",
          "text": [
            "Epoch 402/500: 100%|██████████| 81/81 [00:02<00:00, 36.71it/s, loss=0.0651]\n"
          ]
        },
        {
          "output_type": "stream",
          "name": "stdout",
          "text": [
            "Epoch [402/500], Train Loss: 0.0651\n",
            "Validation Loss: 0.1255\n"
          ]
        },
        {
          "output_type": "stream",
          "name": "stderr",
          "text": [
            "Epoch 403/500: 100%|██████████| 81/81 [00:02<00:00, 36.35it/s, loss=0.0675]\n"
          ]
        },
        {
          "output_type": "stream",
          "name": "stdout",
          "text": [
            "Epoch [403/500], Train Loss: 0.0675\n",
            "Validation Loss: 0.1213\n"
          ]
        },
        {
          "output_type": "stream",
          "name": "stderr",
          "text": [
            "Epoch 404/500: 100%|██████████| 81/81 [00:02<00:00, 36.70it/s, loss=0.0675]\n"
          ]
        },
        {
          "output_type": "stream",
          "name": "stdout",
          "text": [
            "Epoch [404/500], Train Loss: 0.0675\n",
            "Validation Loss: 0.1228\n"
          ]
        },
        {
          "output_type": "stream",
          "name": "stderr",
          "text": [
            "Epoch 405/500: 100%|██████████| 81/81 [00:02<00:00, 36.64it/s, loss=0.0666]\n"
          ]
        },
        {
          "output_type": "stream",
          "name": "stdout",
          "text": [
            "Epoch [405/500], Train Loss: 0.0666\n",
            "Validation Loss: 0.1241\n"
          ]
        },
        {
          "output_type": "stream",
          "name": "stderr",
          "text": [
            "Epoch 406/500: 100%|██████████| 81/81 [00:02<00:00, 36.71it/s, loss=0.0656]\n"
          ]
        },
        {
          "output_type": "stream",
          "name": "stdout",
          "text": [
            "Epoch [406/500], Train Loss: 0.0656\n",
            "Validation Loss: 0.1248\n"
          ]
        },
        {
          "output_type": "stream",
          "name": "stderr",
          "text": [
            "Epoch 407/500: 100%|██████████| 81/81 [00:02<00:00, 36.58it/s, loss=0.0662]\n"
          ]
        },
        {
          "output_type": "stream",
          "name": "stdout",
          "text": [
            "Epoch [407/500], Train Loss: 0.0662\n",
            "Validation Loss: 0.1232\n"
          ]
        },
        {
          "output_type": "stream",
          "name": "stderr",
          "text": [
            "Epoch 408/500: 100%|██████████| 81/81 [00:02<00:00, 36.40it/s, loss=0.0654]\n"
          ]
        },
        {
          "output_type": "stream",
          "name": "stdout",
          "text": [
            "Epoch [408/500], Train Loss: 0.0654\n",
            "Validation Loss: 0.1251\n"
          ]
        },
        {
          "output_type": "stream",
          "name": "stderr",
          "text": [
            "Epoch 409/500: 100%|██████████| 81/81 [00:02<00:00, 36.44it/s, loss=0.0654]\n"
          ]
        },
        {
          "output_type": "stream",
          "name": "stdout",
          "text": [
            "Epoch [409/500], Train Loss: 0.0654\n",
            "Validation Loss: 0.1287\n"
          ]
        },
        {
          "output_type": "stream",
          "name": "stderr",
          "text": [
            "Epoch 410/500: 100%|██████████| 81/81 [00:02<00:00, 36.46it/s, loss=0.0647]\n"
          ]
        },
        {
          "output_type": "stream",
          "name": "stdout",
          "text": [
            "Epoch [410/500], Train Loss: 0.0647\n",
            "Validation Loss: 0.1235\n"
          ]
        },
        {
          "output_type": "stream",
          "name": "stderr",
          "text": [
            "Epoch 411/500: 100%|██████████| 81/81 [00:02<00:00, 36.70it/s, loss=0.0652]\n"
          ]
        },
        {
          "output_type": "stream",
          "name": "stdout",
          "text": [
            "Epoch [411/500], Train Loss: 0.0652\n",
            "Validation Loss: 0.1243\n"
          ]
        },
        {
          "output_type": "stream",
          "name": "stderr",
          "text": [
            "Epoch 412/500: 100%|██████████| 81/81 [00:02<00:00, 36.53it/s, loss=0.0654]\n"
          ]
        },
        {
          "output_type": "stream",
          "name": "stdout",
          "text": [
            "Epoch [412/500], Train Loss: 0.0654\n",
            "Validation Loss: 0.1244\n"
          ]
        },
        {
          "output_type": "stream",
          "name": "stderr",
          "text": [
            "Epoch 413/500: 100%|██████████| 81/81 [00:02<00:00, 36.58it/s, loss=0.0654]\n"
          ]
        },
        {
          "output_type": "stream",
          "name": "stdout",
          "text": [
            "Epoch [413/500], Train Loss: 0.0654\n",
            "Validation Loss: 0.1245\n"
          ]
        },
        {
          "output_type": "stream",
          "name": "stderr",
          "text": [
            "Epoch 414/500: 100%|██████████| 81/81 [00:02<00:00, 36.52it/s, loss=0.0656]\n"
          ]
        },
        {
          "output_type": "stream",
          "name": "stdout",
          "text": [
            "Epoch [414/500], Train Loss: 0.0656\n",
            "Validation Loss: 0.1244\n"
          ]
        },
        {
          "output_type": "stream",
          "name": "stderr",
          "text": [
            "Epoch 415/500: 100%|██████████| 81/81 [00:02<00:00, 36.75it/s, loss=0.0663]\n"
          ]
        },
        {
          "output_type": "stream",
          "name": "stdout",
          "text": [
            "Epoch [415/500], Train Loss: 0.0663\n",
            "Validation Loss: 0.1256\n"
          ]
        },
        {
          "output_type": "stream",
          "name": "stderr",
          "text": [
            "Epoch 416/500: 100%|██████████| 81/81 [00:02<00:00, 36.82it/s, loss=0.0656]\n"
          ]
        },
        {
          "output_type": "stream",
          "name": "stdout",
          "text": [
            "Epoch [416/500], Train Loss: 0.0656\n",
            "Validation Loss: 0.1238\n"
          ]
        },
        {
          "output_type": "stream",
          "name": "stderr",
          "text": [
            "Epoch 417/500: 100%|██████████| 81/81 [00:02<00:00, 36.59it/s, loss=0.0653]\n"
          ]
        },
        {
          "output_type": "stream",
          "name": "stdout",
          "text": [
            "Epoch [417/500], Train Loss: 0.0653\n",
            "Validation Loss: 0.1255\n"
          ]
        },
        {
          "output_type": "stream",
          "name": "stderr",
          "text": [
            "Epoch 418/500: 100%|██████████| 81/81 [00:02<00:00, 36.47it/s, loss=0.0656]\n"
          ]
        },
        {
          "output_type": "stream",
          "name": "stdout",
          "text": [
            "Epoch [418/500], Train Loss: 0.0656\n",
            "Validation Loss: 0.1263\n"
          ]
        },
        {
          "output_type": "stream",
          "name": "stderr",
          "text": [
            "Epoch 419/500: 100%|██████████| 81/81 [00:02<00:00, 36.48it/s, loss=0.0651]\n"
          ]
        },
        {
          "output_type": "stream",
          "name": "stdout",
          "text": [
            "Epoch [419/500], Train Loss: 0.0651\n",
            "Validation Loss: 0.1252\n"
          ]
        },
        {
          "output_type": "stream",
          "name": "stderr",
          "text": [
            "Epoch 420/500: 100%|██████████| 81/81 [00:02<00:00, 36.72it/s, loss=0.0644]\n"
          ]
        },
        {
          "output_type": "stream",
          "name": "stdout",
          "text": [
            "Epoch [420/500], Train Loss: 0.0644\n",
            "Validation Loss: 0.1255\n"
          ]
        },
        {
          "output_type": "stream",
          "name": "stderr",
          "text": [
            "Epoch 421/500: 100%|██████████| 81/81 [00:02<00:00, 36.70it/s, loss=0.0651]\n"
          ]
        },
        {
          "output_type": "stream",
          "name": "stdout",
          "text": [
            "Epoch [421/500], Train Loss: 0.0651\n",
            "Validation Loss: 0.1256\n"
          ]
        },
        {
          "output_type": "stream",
          "name": "stderr",
          "text": [
            "Epoch 422/500: 100%|██████████| 81/81 [00:02<00:00, 36.55it/s, loss=0.065]\n"
          ]
        },
        {
          "output_type": "stream",
          "name": "stdout",
          "text": [
            "Epoch [422/500], Train Loss: 0.0650\n",
            "Validation Loss: 0.1250\n"
          ]
        },
        {
          "output_type": "stream",
          "name": "stderr",
          "text": [
            "Epoch 423/500: 100%|██████████| 81/81 [00:02<00:00, 36.55it/s, loss=0.0652]\n"
          ]
        },
        {
          "output_type": "stream",
          "name": "stdout",
          "text": [
            "Epoch [423/500], Train Loss: 0.0652\n",
            "Validation Loss: 0.1268\n"
          ]
        },
        {
          "output_type": "stream",
          "name": "stderr",
          "text": [
            "Epoch 424/500: 100%|██████████| 81/81 [00:02<00:00, 36.42it/s, loss=0.0657]\n"
          ]
        },
        {
          "output_type": "stream",
          "name": "stdout",
          "text": [
            "Epoch [424/500], Train Loss: 0.0657\n",
            "Validation Loss: 0.1265\n"
          ]
        },
        {
          "output_type": "stream",
          "name": "stderr",
          "text": [
            "Epoch 425/500: 100%|██████████| 81/81 [00:02<00:00, 36.65it/s, loss=0.0656]\n"
          ]
        },
        {
          "output_type": "stream",
          "name": "stdout",
          "text": [
            "Epoch [425/500], Train Loss: 0.0656\n",
            "Validation Loss: 0.1257\n"
          ]
        },
        {
          "output_type": "stream",
          "name": "stderr",
          "text": [
            "Epoch 426/500: 100%|██████████| 81/81 [00:02<00:00, 36.61it/s, loss=0.0643]\n"
          ]
        },
        {
          "output_type": "stream",
          "name": "stdout",
          "text": [
            "Epoch [426/500], Train Loss: 0.0643\n",
            "Validation Loss: 0.1251\n"
          ]
        },
        {
          "output_type": "stream",
          "name": "stderr",
          "text": [
            "Epoch 427/500: 100%|██████████| 81/81 [00:02<00:00, 36.58it/s, loss=0.0661]\n"
          ]
        },
        {
          "output_type": "stream",
          "name": "stdout",
          "text": [
            "Epoch [427/500], Train Loss: 0.0661\n",
            "Validation Loss: 0.1261\n"
          ]
        },
        {
          "output_type": "stream",
          "name": "stderr",
          "text": [
            "Epoch 428/500: 100%|██████████| 81/81 [00:02<00:00, 36.34it/s, loss=0.0651]\n"
          ]
        },
        {
          "output_type": "stream",
          "name": "stdout",
          "text": [
            "Epoch [428/500], Train Loss: 0.0651\n",
            "Validation Loss: 0.1244\n"
          ]
        },
        {
          "output_type": "stream",
          "name": "stderr",
          "text": [
            "Epoch 429/500: 100%|██████████| 81/81 [00:02<00:00, 36.56it/s, loss=0.0647]\n"
          ]
        },
        {
          "output_type": "stream",
          "name": "stdout",
          "text": [
            "Epoch [429/500], Train Loss: 0.0647\n",
            "Validation Loss: 0.1258\n"
          ]
        },
        {
          "output_type": "stream",
          "name": "stderr",
          "text": [
            "Epoch 430/500: 100%|██████████| 81/81 [00:02<00:00, 36.65it/s, loss=0.065]\n"
          ]
        },
        {
          "output_type": "stream",
          "name": "stdout",
          "text": [
            "Epoch [430/500], Train Loss: 0.0650\n",
            "Validation Loss: 0.1241\n"
          ]
        },
        {
          "output_type": "stream",
          "name": "stderr",
          "text": [
            "Epoch 431/500: 100%|██████████| 81/81 [00:02<00:00, 36.83it/s, loss=0.0659]\n"
          ]
        },
        {
          "output_type": "stream",
          "name": "stdout",
          "text": [
            "Epoch [431/500], Train Loss: 0.0659\n",
            "Validation Loss: 0.1265\n"
          ]
        },
        {
          "output_type": "stream",
          "name": "stderr",
          "text": [
            "Epoch 432/500: 100%|██████████| 81/81 [00:02<00:00, 36.64it/s, loss=0.0648]\n"
          ]
        },
        {
          "output_type": "stream",
          "name": "stdout",
          "text": [
            "Epoch [432/500], Train Loss: 0.0648\n",
            "Validation Loss: 0.1259\n"
          ]
        },
        {
          "output_type": "stream",
          "name": "stderr",
          "text": [
            "Epoch 433/500: 100%|██████████| 81/81 [00:02<00:00, 36.51it/s, loss=0.0656]\n"
          ]
        },
        {
          "output_type": "stream",
          "name": "stdout",
          "text": [
            "Epoch [433/500], Train Loss: 0.0656\n",
            "Validation Loss: 0.1241\n"
          ]
        },
        {
          "output_type": "stream",
          "name": "stderr",
          "text": [
            "Epoch 434/500: 100%|██████████| 81/81 [00:02<00:00, 36.64it/s, loss=0.0656]\n"
          ]
        },
        {
          "output_type": "stream",
          "name": "stdout",
          "text": [
            "Epoch [434/500], Train Loss: 0.0656\n",
            "Validation Loss: 0.1245\n"
          ]
        },
        {
          "output_type": "stream",
          "name": "stderr",
          "text": [
            "Epoch 435/500: 100%|██████████| 81/81 [00:02<00:00, 36.62it/s, loss=0.0653]\n"
          ]
        },
        {
          "output_type": "stream",
          "name": "stdout",
          "text": [
            "Epoch [435/500], Train Loss: 0.0653\n",
            "Validation Loss: 0.1245\n"
          ]
        },
        {
          "output_type": "stream",
          "name": "stderr",
          "text": [
            "Epoch 436/500: 100%|██████████| 81/81 [00:02<00:00, 36.62it/s, loss=0.0651]\n"
          ]
        },
        {
          "output_type": "stream",
          "name": "stdout",
          "text": [
            "Epoch [436/500], Train Loss: 0.0651\n",
            "Validation Loss: 0.1277\n"
          ]
        },
        {
          "output_type": "stream",
          "name": "stderr",
          "text": [
            "Epoch 437/500: 100%|██████████| 81/81 [00:02<00:00, 36.58it/s, loss=0.066]\n"
          ]
        },
        {
          "output_type": "stream",
          "name": "stdout",
          "text": [
            "Epoch [437/500], Train Loss: 0.0660\n",
            "Validation Loss: 0.1281\n"
          ]
        },
        {
          "output_type": "stream",
          "name": "stderr",
          "text": [
            "Epoch 438/500: 100%|██████████| 81/81 [00:02<00:00, 36.57it/s, loss=0.0654]\n"
          ]
        },
        {
          "output_type": "stream",
          "name": "stdout",
          "text": [
            "Epoch [438/500], Train Loss: 0.0654\n",
            "Validation Loss: 0.1260\n"
          ]
        },
        {
          "output_type": "stream",
          "name": "stderr",
          "text": [
            "Epoch 439/500: 100%|██████████| 81/81 [00:02<00:00, 36.57it/s, loss=0.0643]\n"
          ]
        },
        {
          "output_type": "stream",
          "name": "stdout",
          "text": [
            "Epoch [439/500], Train Loss: 0.0643\n",
            "Validation Loss: 0.1252\n"
          ]
        },
        {
          "output_type": "stream",
          "name": "stderr",
          "text": [
            "Epoch 440/500: 100%|██████████| 81/81 [00:02<00:00, 36.52it/s, loss=0.0647]\n"
          ]
        },
        {
          "output_type": "stream",
          "name": "stdout",
          "text": [
            "Epoch [440/500], Train Loss: 0.0647\n",
            "Validation Loss: 0.1249\n"
          ]
        },
        {
          "output_type": "stream",
          "name": "stderr",
          "text": [
            "Epoch 441/500: 100%|██████████| 81/81 [00:02<00:00, 36.69it/s, loss=0.0652]\n"
          ]
        },
        {
          "output_type": "stream",
          "name": "stdout",
          "text": [
            "Epoch [441/500], Train Loss: 0.0652\n",
            "Validation Loss: 0.1252\n"
          ]
        },
        {
          "output_type": "stream",
          "name": "stderr",
          "text": [
            "Epoch 442/500: 100%|██████████| 81/81 [00:02<00:00, 36.59it/s, loss=0.0639]\n"
          ]
        },
        {
          "output_type": "stream",
          "name": "stdout",
          "text": [
            "Epoch [442/500], Train Loss: 0.0639\n",
            "Validation Loss: 0.1247\n"
          ]
        },
        {
          "output_type": "stream",
          "name": "stderr",
          "text": [
            "Epoch 443/500: 100%|██████████| 81/81 [00:02<00:00, 36.68it/s, loss=0.0649]\n"
          ]
        },
        {
          "output_type": "stream",
          "name": "stdout",
          "text": [
            "Epoch [443/500], Train Loss: 0.0649\n",
            "Validation Loss: 0.1237\n"
          ]
        },
        {
          "output_type": "stream",
          "name": "stderr",
          "text": [
            "Epoch 444/500: 100%|██████████| 81/81 [00:02<00:00, 36.66it/s, loss=0.0647]\n"
          ]
        },
        {
          "output_type": "stream",
          "name": "stdout",
          "text": [
            "Epoch [444/500], Train Loss: 0.0647\n",
            "Validation Loss: 0.1258\n"
          ]
        },
        {
          "output_type": "stream",
          "name": "stderr",
          "text": [
            "Epoch 445/500: 100%|██████████| 81/81 [00:02<00:00, 36.57it/s, loss=0.0644]\n"
          ]
        },
        {
          "output_type": "stream",
          "name": "stdout",
          "text": [
            "Epoch [445/500], Train Loss: 0.0644\n",
            "Validation Loss: 0.1238\n"
          ]
        },
        {
          "output_type": "stream",
          "name": "stderr",
          "text": [
            "Epoch 446/500: 100%|██████████| 81/81 [00:02<00:00, 36.70it/s, loss=0.0639]\n"
          ]
        },
        {
          "output_type": "stream",
          "name": "stdout",
          "text": [
            "Epoch [446/500], Train Loss: 0.0639\n",
            "Validation Loss: 0.1262\n"
          ]
        },
        {
          "output_type": "stream",
          "name": "stderr",
          "text": [
            "Epoch 447/500: 100%|██████████| 81/81 [00:02<00:00, 36.62it/s, loss=0.0643]\n"
          ]
        },
        {
          "output_type": "stream",
          "name": "stdout",
          "text": [
            "Epoch [447/500], Train Loss: 0.0643\n",
            "Validation Loss: 0.1279\n"
          ]
        },
        {
          "output_type": "stream",
          "name": "stderr",
          "text": [
            "Epoch 448/500: 100%|██████████| 81/81 [00:02<00:00, 36.61it/s, loss=0.0651]\n"
          ]
        },
        {
          "output_type": "stream",
          "name": "stdout",
          "text": [
            "Epoch [448/500], Train Loss: 0.0651\n",
            "Validation Loss: 0.1248\n"
          ]
        },
        {
          "output_type": "stream",
          "name": "stderr",
          "text": [
            "Epoch 449/500: 100%|██████████| 81/81 [00:02<00:00, 36.51it/s, loss=0.0647]\n"
          ]
        },
        {
          "output_type": "stream",
          "name": "stdout",
          "text": [
            "Epoch [449/500], Train Loss: 0.0647\n",
            "Validation Loss: 0.1272\n"
          ]
        },
        {
          "output_type": "stream",
          "name": "stderr",
          "text": [
            "Epoch 450/500: 100%|██████████| 81/81 [00:02<00:00, 36.50it/s, loss=0.0645]\n"
          ]
        },
        {
          "output_type": "stream",
          "name": "stdout",
          "text": [
            "Epoch [450/500], Train Loss: 0.0645\n",
            "Validation Loss: 0.1252\n"
          ]
        },
        {
          "output_type": "stream",
          "name": "stderr",
          "text": [
            "Epoch 451/500: 100%|██████████| 81/81 [00:02<00:00, 36.68it/s, loss=0.0638]\n"
          ]
        },
        {
          "output_type": "stream",
          "name": "stdout",
          "text": [
            "Epoch [451/500], Train Loss: 0.0638\n",
            "Validation Loss: 0.1251\n"
          ]
        },
        {
          "output_type": "stream",
          "name": "stderr",
          "text": [
            "Epoch 452/500: 100%|██████████| 81/81 [00:02<00:00, 36.69it/s, loss=0.0651]\n"
          ]
        },
        {
          "output_type": "stream",
          "name": "stdout",
          "text": [
            "Epoch [452/500], Train Loss: 0.0651\n",
            "Validation Loss: 0.1246\n"
          ]
        },
        {
          "output_type": "stream",
          "name": "stderr",
          "text": [
            "Epoch 453/500: 100%|██████████| 81/81 [00:02<00:00, 36.71it/s, loss=0.0642]\n"
          ]
        },
        {
          "output_type": "stream",
          "name": "stdout",
          "text": [
            "Epoch [453/500], Train Loss: 0.0642\n",
            "Validation Loss: 0.1256\n"
          ]
        },
        {
          "output_type": "stream",
          "name": "stderr",
          "text": [
            "Epoch 454/500: 100%|██████████| 81/81 [00:02<00:00, 36.57it/s, loss=0.0641]\n"
          ]
        },
        {
          "output_type": "stream",
          "name": "stdout",
          "text": [
            "Epoch [454/500], Train Loss: 0.0641\n",
            "Validation Loss: 0.1258\n"
          ]
        },
        {
          "output_type": "stream",
          "name": "stderr",
          "text": [
            "Epoch 455/500: 100%|██████████| 81/81 [00:02<00:00, 36.67it/s, loss=0.0645]\n"
          ]
        },
        {
          "output_type": "stream",
          "name": "stdout",
          "text": [
            "Epoch [455/500], Train Loss: 0.0645\n",
            "Validation Loss: 0.1253\n"
          ]
        },
        {
          "output_type": "stream",
          "name": "stderr",
          "text": [
            "Epoch 456/500: 100%|██████████| 81/81 [00:02<00:00, 36.74it/s, loss=0.0651]\n"
          ]
        },
        {
          "output_type": "stream",
          "name": "stdout",
          "text": [
            "Epoch [456/500], Train Loss: 0.0651\n",
            "Validation Loss: 0.1269\n"
          ]
        },
        {
          "output_type": "stream",
          "name": "stderr",
          "text": [
            "Epoch 457/500: 100%|██████████| 81/81 [00:02<00:00, 36.72it/s, loss=0.0651]\n"
          ]
        },
        {
          "output_type": "stream",
          "name": "stdout",
          "text": [
            "Epoch [457/500], Train Loss: 0.0651\n",
            "Validation Loss: 0.1247\n"
          ]
        },
        {
          "output_type": "stream",
          "name": "stderr",
          "text": [
            "Epoch 458/500: 100%|██████████| 81/81 [00:02<00:00, 36.75it/s, loss=0.0636]\n"
          ]
        },
        {
          "output_type": "stream",
          "name": "stdout",
          "text": [
            "Epoch [458/500], Train Loss: 0.0636\n",
            "Validation Loss: 0.1234\n"
          ]
        },
        {
          "output_type": "stream",
          "name": "stderr",
          "text": [
            "Epoch 459/500: 100%|██████████| 81/81 [00:02<00:00, 36.61it/s, loss=0.0643]\n"
          ]
        },
        {
          "output_type": "stream",
          "name": "stdout",
          "text": [
            "Epoch [459/500], Train Loss: 0.0643\n",
            "Validation Loss: 0.1250\n"
          ]
        },
        {
          "output_type": "stream",
          "name": "stderr",
          "text": [
            "Epoch 460/500: 100%|██████████| 81/81 [00:02<00:00, 36.59it/s, loss=0.0645]\n"
          ]
        },
        {
          "output_type": "stream",
          "name": "stdout",
          "text": [
            "Epoch [460/500], Train Loss: 0.0645\n",
            "Validation Loss: 0.1248\n"
          ]
        },
        {
          "output_type": "stream",
          "name": "stderr",
          "text": [
            "Epoch 461/500: 100%|██████████| 81/81 [00:02<00:00, 36.44it/s, loss=0.0642]\n"
          ]
        },
        {
          "output_type": "stream",
          "name": "stdout",
          "text": [
            "Epoch [461/500], Train Loss: 0.0642\n",
            "Validation Loss: 0.1258\n"
          ]
        },
        {
          "output_type": "stream",
          "name": "stderr",
          "text": [
            "Epoch 462/500: 100%|██████████| 81/81 [00:02<00:00, 36.71it/s, loss=0.0636]\n"
          ]
        },
        {
          "output_type": "stream",
          "name": "stdout",
          "text": [
            "Epoch [462/500], Train Loss: 0.0636\n",
            "Validation Loss: 0.1260\n"
          ]
        },
        {
          "output_type": "stream",
          "name": "stderr",
          "text": [
            "Epoch 463/500: 100%|██████████| 81/81 [00:02<00:00, 36.56it/s, loss=0.0643]\n"
          ]
        },
        {
          "output_type": "stream",
          "name": "stdout",
          "text": [
            "Epoch [463/500], Train Loss: 0.0643\n",
            "Validation Loss: 0.1255\n"
          ]
        },
        {
          "output_type": "stream",
          "name": "stderr",
          "text": [
            "Epoch 464/500: 100%|██████████| 81/81 [00:02<00:00, 36.40it/s, loss=0.0638]\n"
          ]
        },
        {
          "output_type": "stream",
          "name": "stdout",
          "text": [
            "Epoch [464/500], Train Loss: 0.0638\n",
            "Validation Loss: 0.1262\n"
          ]
        },
        {
          "output_type": "stream",
          "name": "stderr",
          "text": [
            "Epoch 465/500: 100%|██████████| 81/81 [00:02<00:00, 36.45it/s, loss=0.0643]\n"
          ]
        },
        {
          "output_type": "stream",
          "name": "stdout",
          "text": [
            "Epoch [465/500], Train Loss: 0.0643\n",
            "Validation Loss: 0.1255\n"
          ]
        },
        {
          "output_type": "stream",
          "name": "stderr",
          "text": [
            "Epoch 466/500: 100%|██████████| 81/81 [00:02<00:00, 36.41it/s, loss=0.0641]\n"
          ]
        },
        {
          "output_type": "stream",
          "name": "stdout",
          "text": [
            "Epoch [466/500], Train Loss: 0.0641\n",
            "Validation Loss: 0.1274\n"
          ]
        },
        {
          "output_type": "stream",
          "name": "stderr",
          "text": [
            "Epoch 467/500: 100%|██████████| 81/81 [00:02<00:00, 36.71it/s, loss=0.0641]\n"
          ]
        },
        {
          "output_type": "stream",
          "name": "stdout",
          "text": [
            "Epoch [467/500], Train Loss: 0.0641\n",
            "Validation Loss: 0.1256\n"
          ]
        },
        {
          "output_type": "stream",
          "name": "stderr",
          "text": [
            "Epoch 468/500: 100%|██████████| 81/81 [00:02<00:00, 36.67it/s, loss=0.0645]\n"
          ]
        },
        {
          "output_type": "stream",
          "name": "stdout",
          "text": [
            "Epoch [468/500], Train Loss: 0.0645\n",
            "Validation Loss: 0.1237\n"
          ]
        },
        {
          "output_type": "stream",
          "name": "stderr",
          "text": [
            "Epoch 469/500: 100%|██████████| 81/81 [00:02<00:00, 36.61it/s, loss=0.0639]\n"
          ]
        },
        {
          "output_type": "stream",
          "name": "stdout",
          "text": [
            "Epoch [469/500], Train Loss: 0.0639\n",
            "Validation Loss: 0.1249\n"
          ]
        },
        {
          "output_type": "stream",
          "name": "stderr",
          "text": [
            "Epoch 470/500: 100%|██████████| 81/81 [00:02<00:00, 36.61it/s, loss=0.0638]\n"
          ]
        },
        {
          "output_type": "stream",
          "name": "stdout",
          "text": [
            "Epoch [470/500], Train Loss: 0.0638\n",
            "Validation Loss: 0.1247\n"
          ]
        },
        {
          "output_type": "stream",
          "name": "stderr",
          "text": [
            "Epoch 471/500: 100%|██████████| 81/81 [00:02<00:00, 36.50it/s, loss=0.0642]\n"
          ]
        },
        {
          "output_type": "stream",
          "name": "stdout",
          "text": [
            "Epoch [471/500], Train Loss: 0.0642\n",
            "Validation Loss: 0.1262\n"
          ]
        },
        {
          "output_type": "stream",
          "name": "stderr",
          "text": [
            "Epoch 472/500: 100%|██████████| 81/81 [00:02<00:00, 36.65it/s, loss=0.0644]\n"
          ]
        },
        {
          "output_type": "stream",
          "name": "stdout",
          "text": [
            "Epoch [472/500], Train Loss: 0.0644\n",
            "Validation Loss: 0.1237\n"
          ]
        },
        {
          "output_type": "stream",
          "name": "stderr",
          "text": [
            "Epoch 473/500: 100%|██████████| 81/81 [00:02<00:00, 36.71it/s, loss=0.0642]\n"
          ]
        },
        {
          "output_type": "stream",
          "name": "stdout",
          "text": [
            "Epoch [473/500], Train Loss: 0.0642\n",
            "Validation Loss: 0.1251\n"
          ]
        },
        {
          "output_type": "stream",
          "name": "stderr",
          "text": [
            "Epoch 474/500: 100%|██████████| 81/81 [00:02<00:00, 36.69it/s, loss=0.0637]\n"
          ]
        },
        {
          "output_type": "stream",
          "name": "stdout",
          "text": [
            "Epoch [474/500], Train Loss: 0.0637\n",
            "Validation Loss: 0.1266\n"
          ]
        },
        {
          "output_type": "stream",
          "name": "stderr",
          "text": [
            "Epoch 475/500: 100%|██████████| 81/81 [00:02<00:00, 36.46it/s, loss=0.0643]\n"
          ]
        },
        {
          "output_type": "stream",
          "name": "stdout",
          "text": [
            "Epoch [475/500], Train Loss: 0.0643\n",
            "Validation Loss: 0.1265\n"
          ]
        },
        {
          "output_type": "stream",
          "name": "stderr",
          "text": [
            "Epoch 476/500: 100%|██████████| 81/81 [00:02<00:00, 36.46it/s, loss=0.0637]\n"
          ]
        },
        {
          "output_type": "stream",
          "name": "stdout",
          "text": [
            "Epoch [476/500], Train Loss: 0.0637\n",
            "Validation Loss: 0.1278\n"
          ]
        },
        {
          "output_type": "stream",
          "name": "stderr",
          "text": [
            "Epoch 477/500: 100%|██████████| 81/81 [00:02<00:00, 36.45it/s, loss=0.0644]\n"
          ]
        },
        {
          "output_type": "stream",
          "name": "stdout",
          "text": [
            "Epoch [477/500], Train Loss: 0.0644\n",
            "Validation Loss: 0.1260\n"
          ]
        },
        {
          "output_type": "stream",
          "name": "stderr",
          "text": [
            "Epoch 478/500: 100%|██████████| 81/81 [00:02<00:00, 36.68it/s, loss=0.0639]\n"
          ]
        },
        {
          "output_type": "stream",
          "name": "stdout",
          "text": [
            "Epoch [478/500], Train Loss: 0.0639\n",
            "Validation Loss: 0.1263\n"
          ]
        },
        {
          "output_type": "stream",
          "name": "stderr",
          "text": [
            "Epoch 479/500: 100%|██████████| 81/81 [00:02<00:00, 36.53it/s, loss=0.0636]\n"
          ]
        },
        {
          "output_type": "stream",
          "name": "stdout",
          "text": [
            "Epoch [479/500], Train Loss: 0.0636\n",
            "Validation Loss: 0.1257\n"
          ]
        },
        {
          "output_type": "stream",
          "name": "stderr",
          "text": [
            "Epoch 480/500: 100%|██████████| 81/81 [00:02<00:00, 36.49it/s, loss=0.0634]\n"
          ]
        },
        {
          "output_type": "stream",
          "name": "stdout",
          "text": [
            "Epoch [480/500], Train Loss: 0.0634\n",
            "Validation Loss: 0.1258\n"
          ]
        },
        {
          "output_type": "stream",
          "name": "stderr",
          "text": [
            "Epoch 481/500: 100%|██████████| 81/81 [00:02<00:00, 36.41it/s, loss=0.0638]\n"
          ]
        },
        {
          "output_type": "stream",
          "name": "stdout",
          "text": [
            "Epoch [481/500], Train Loss: 0.0638\n",
            "Validation Loss: 0.1271\n"
          ]
        },
        {
          "output_type": "stream",
          "name": "stderr",
          "text": [
            "Epoch 482/500: 100%|██████████| 81/81 [00:02<00:00, 36.46it/s, loss=0.0645]\n"
          ]
        },
        {
          "output_type": "stream",
          "name": "stdout",
          "text": [
            "Epoch [482/500], Train Loss: 0.0645\n",
            "Validation Loss: 0.1257\n"
          ]
        },
        {
          "output_type": "stream",
          "name": "stderr",
          "text": [
            "Epoch 483/500: 100%|██████████| 81/81 [00:02<00:00, 36.67it/s, loss=0.0648]\n"
          ]
        },
        {
          "output_type": "stream",
          "name": "stdout",
          "text": [
            "Epoch [483/500], Train Loss: 0.0648\n",
            "Validation Loss: 0.1260\n"
          ]
        },
        {
          "output_type": "stream",
          "name": "stderr",
          "text": [
            "Epoch 484/500: 100%|██████████| 81/81 [00:02<00:00, 36.64it/s, loss=0.0646]\n"
          ]
        },
        {
          "output_type": "stream",
          "name": "stdout",
          "text": [
            "Epoch [484/500], Train Loss: 0.0646\n",
            "Validation Loss: 0.1260\n"
          ]
        },
        {
          "output_type": "stream",
          "name": "stderr",
          "text": [
            "Epoch 485/500: 100%|██████████| 81/81 [00:02<00:00, 36.53it/s, loss=0.0641]\n"
          ]
        },
        {
          "output_type": "stream",
          "name": "stdout",
          "text": [
            "Epoch [485/500], Train Loss: 0.0641\n",
            "Validation Loss: 0.1273\n"
          ]
        },
        {
          "output_type": "stream",
          "name": "stderr",
          "text": [
            "Epoch 486/500: 100%|██████████| 81/81 [00:02<00:00, 36.54it/s, loss=0.0635]\n"
          ]
        },
        {
          "output_type": "stream",
          "name": "stdout",
          "text": [
            "Epoch [486/500], Train Loss: 0.0635\n",
            "Validation Loss: 0.1271\n"
          ]
        },
        {
          "output_type": "stream",
          "name": "stderr",
          "text": [
            "Epoch 487/500: 100%|██████████| 81/81 [00:02<00:00, 36.59it/s, loss=0.0632]\n"
          ]
        },
        {
          "output_type": "stream",
          "name": "stdout",
          "text": [
            "Epoch [487/500], Train Loss: 0.0632\n",
            "Validation Loss: 0.1261\n"
          ]
        },
        {
          "output_type": "stream",
          "name": "stderr",
          "text": [
            "Epoch 488/500: 100%|██████████| 81/81 [00:02<00:00, 36.60it/s, loss=0.0637]\n"
          ]
        },
        {
          "output_type": "stream",
          "name": "stdout",
          "text": [
            "Epoch [488/500], Train Loss: 0.0637\n",
            "Validation Loss: 0.1260\n"
          ]
        },
        {
          "output_type": "stream",
          "name": "stderr",
          "text": [
            "Epoch 489/500: 100%|██████████| 81/81 [00:02<00:00, 36.68it/s, loss=0.0637]\n"
          ]
        },
        {
          "output_type": "stream",
          "name": "stdout",
          "text": [
            "Epoch [489/500], Train Loss: 0.0637\n",
            "Validation Loss: 0.1254\n"
          ]
        },
        {
          "output_type": "stream",
          "name": "stderr",
          "text": [
            "Epoch 490/500: 100%|██████████| 81/81 [00:02<00:00, 36.48it/s, loss=0.0635]\n"
          ]
        },
        {
          "output_type": "stream",
          "name": "stdout",
          "text": [
            "Epoch [490/500], Train Loss: 0.0635\n",
            "Validation Loss: 0.1278\n"
          ]
        },
        {
          "output_type": "stream",
          "name": "stderr",
          "text": [
            "Epoch 491/500: 100%|██████████| 81/81 [00:02<00:00, 36.59it/s, loss=0.0638]\n"
          ]
        },
        {
          "output_type": "stream",
          "name": "stdout",
          "text": [
            "Epoch [491/500], Train Loss: 0.0638\n",
            "Validation Loss: 0.1257\n"
          ]
        },
        {
          "output_type": "stream",
          "name": "stderr",
          "text": [
            "Epoch 492/500: 100%|██████████| 81/81 [00:02<00:00, 36.51it/s, loss=0.0652]\n"
          ]
        },
        {
          "output_type": "stream",
          "name": "stdout",
          "text": [
            "Epoch [492/500], Train Loss: 0.0652\n",
            "Validation Loss: 0.1264\n"
          ]
        },
        {
          "output_type": "stream",
          "name": "stderr",
          "text": [
            "Epoch 493/500: 100%|██████████| 81/81 [00:02<00:00, 36.67it/s, loss=0.0642]\n"
          ]
        },
        {
          "output_type": "stream",
          "name": "stdout",
          "text": [
            "Epoch [493/500], Train Loss: 0.0642\n",
            "Validation Loss: 0.1260\n"
          ]
        },
        {
          "output_type": "stream",
          "name": "stderr",
          "text": [
            "Epoch 494/500: 100%|██████████| 81/81 [00:02<00:00, 36.55it/s, loss=0.064]\n"
          ]
        },
        {
          "output_type": "stream",
          "name": "stdout",
          "text": [
            "Epoch [494/500], Train Loss: 0.0640\n",
            "Validation Loss: 0.1267\n"
          ]
        },
        {
          "output_type": "stream",
          "name": "stderr",
          "text": [
            "Epoch 495/500: 100%|██████████| 81/81 [00:02<00:00, 36.57it/s, loss=0.0643]\n"
          ]
        },
        {
          "output_type": "stream",
          "name": "stdout",
          "text": [
            "Epoch [495/500], Train Loss: 0.0643\n",
            "Validation Loss: 0.1275\n"
          ]
        },
        {
          "output_type": "stream",
          "name": "stderr",
          "text": [
            "Epoch 496/500: 100%|██████████| 81/81 [00:02<00:00, 36.62it/s, loss=0.0635]\n"
          ]
        },
        {
          "output_type": "stream",
          "name": "stdout",
          "text": [
            "Epoch [496/500], Train Loss: 0.0635\n",
            "Validation Loss: 0.1250\n"
          ]
        },
        {
          "output_type": "stream",
          "name": "stderr",
          "text": [
            "Epoch 497/500: 100%|██████████| 81/81 [00:02<00:00, 36.40it/s, loss=0.0633]\n"
          ]
        },
        {
          "output_type": "stream",
          "name": "stdout",
          "text": [
            "Epoch [497/500], Train Loss: 0.0633\n",
            "Validation Loss: 0.1265\n"
          ]
        },
        {
          "output_type": "stream",
          "name": "stderr",
          "text": [
            "Epoch 498/500: 100%|██████████| 81/81 [00:02<00:00, 36.67it/s, loss=0.0637]\n"
          ]
        },
        {
          "output_type": "stream",
          "name": "stdout",
          "text": [
            "Epoch [498/500], Train Loss: 0.0637\n",
            "Validation Loss: 0.1263\n"
          ]
        },
        {
          "output_type": "stream",
          "name": "stderr",
          "text": [
            "Epoch 499/500: 100%|██████████| 81/81 [00:02<00:00, 36.70it/s, loss=0.0635]\n"
          ]
        },
        {
          "output_type": "stream",
          "name": "stdout",
          "text": [
            "Epoch [499/500], Train Loss: 0.0635\n",
            "Validation Loss: 0.1280\n"
          ]
        },
        {
          "output_type": "stream",
          "name": "stderr",
          "text": [
            "Epoch 500/500: 100%|██████████| 81/81 [00:02<00:00, 36.67it/s, loss=0.0643]\n"
          ]
        },
        {
          "output_type": "stream",
          "name": "stdout",
          "text": [
            "Epoch [500/500], Train Loss: 0.0643\n",
            "Validation Loss: 0.1252\n"
          ]
        }
      ],
      "source": [
        "loss_fn = nn.MSELoss()\n",
        "model = ShallowCNN(num_neuron=168)\n",
        "model.apply(ShallowCNN.init_weights)\n",
        "model.to(device)\n",
        "\n",
        "optimizer = AdamW(model.parameters(), lr=0.005, weight_decay=1e-5)\n",
        "train_model(model, ITdataloader_train, ITdataloader_val, loss_fn, optimizer, num_epochs=500)\n",
        "\n",
        "save_path = '/content/drive/MyDrive/nx414/shallow_cnn.pth'\n",
        "torch.save(model.state_dict(), save_path)"
      ]
    },
    {
      "cell_type": "code",
      "source": [
        "load_path = '/content/drive/MyDrive/nx414/shallow_cnn.pth'\n",
        "model = ShallowCNN(num_neuron=168)\n",
        "model.to(device)\n",
        "model.load_state_dict(torch.load(load_path))"
      ],
      "metadata": {
        "colab": {
          "base_uri": "https://localhost:8080/"
        },
        "id": "98xyevTkTNPu",
        "outputId": "20dcedb1-ca08-4aa0-bb23-29079fb26f06"
      },
      "id": "98xyevTkTNPu",
      "execution_count": null,
      "outputs": [
        {
          "output_type": "execute_result",
          "data": {
            "text/plain": [
              "<All keys matched successfully>"
            ]
          },
          "metadata": {},
          "execution_count": 10
        }
      ]
    },
    {
      "cell_type": "code",
      "source": [
        "model.eval()\n",
        "\n",
        "prediction_train = []\n",
        "\n",
        "with torch.no_grad():\n",
        "    for stimulus, _ in ITdataloader_train:\n",
        "        inputs = stimulus.to(device)\n",
        "        outputs = model(inputs)\n",
        "        prediction_train.append(outputs.cpu())\n",
        "\n",
        "prediction_train = torch.cat(prediction_train, dim=0)\n",
        "prediction_train.shape"
      ],
      "metadata": {
        "colab": {
          "base_uri": "https://localhost:8080/"
        },
        "id": "aA3MWg8u5rJo",
        "outputId": "d4913a2c-addf-45dc-90b8-13b2f55771db"
      },
      "id": "aA3MWg8u5rJo",
      "execution_count": 21,
      "outputs": [
        {
          "output_type": "execute_result",
          "data": {
            "text/plain": [
              "torch.Size([2592, 168])"
            ]
          },
          "metadata": {},
          "execution_count": 21
        }
      ]
    },
    {
      "cell_type": "code",
      "source": [
        "model.eval()\n",
        "\n",
        "prediction_val = []\n",
        "\n",
        "with torch.no_grad():\n",
        "    for stimulus, _ in ITdataloader_val:\n",
        "        inputs = stimulus.to(device)\n",
        "        outputs = model(inputs)\n",
        "        prediction_val.append(outputs.cpu())\n",
        "\n",
        "prediction_val = torch.cat(prediction_val, dim=0)\n",
        "prediction_val.shape"
      ],
      "metadata": {
        "colab": {
          "base_uri": "https://localhost:8080/"
        },
        "id": "DWpjZaEJ6i7N",
        "outputId": "5f2f10c7-72ca-4309-aacf-0345c1682e4b"
      },
      "id": "DWpjZaEJ6i7N",
      "execution_count": 22,
      "outputs": [
        {
          "output_type": "execute_result",
          "data": {
            "text/plain": [
              "torch.Size([288, 168])"
            ]
          },
          "metadata": {},
          "execution_count": 22
        }
      ]
    },
    {
      "cell_type": "code",
      "source": [
        "import matplotlib.pyplot as plt\n",
        "\n",
        "n_neurons = spikes_train.shape[1]\n",
        "\n",
        "pearson_corr_shallowcnn = np.zeros((n_neurons,2))\n",
        "for i in range(n_neurons):\n",
        "    pearson_corr_shallowcnn[i,0] = np.corrcoef(spikes_train[:, i],prediction_train[:, i])[0, 1]\n",
        "    pearson_corr_shallowcnn[i,1] = np.corrcoef(spikes_val[:, i],prediction_val[:, i])[0, 1]\n",
        "plt.figure()\n",
        "plt.title('Pearson correlation coefficients')\n",
        "plt.plot(pearson_corr_shallowcnn[:,1], label='validation')\n",
        "plt.plot(pearson_corr_shallowcnn[:,0], label='training')\n",
        "plt.legend()\n",
        "plt.show()\n",
        "plt.figure()\n",
        "\n",
        "print(f\"Pearson correlation on training set: {np.mean(pearson_corr_shallowcnn[:,0])}\")\n",
        "print(f\"Pearson correlation on validation set: {np.mean(pearson_corr_shallowcnn[:,1])}\")"
      ],
      "metadata": {
        "colab": {
          "base_uri": "https://localhost:8080/",
          "height": 506
        },
        "id": "u7XWAhmg7g3I",
        "outputId": "4a5dacb5-6696-49ac-9ba2-54d38aa1fa75"
      },
      "id": "u7XWAhmg7g3I",
      "execution_count": 23,
      "outputs": [
        {
          "output_type": "display_data",
          "data": {
            "text/plain": [
              "<Figure size 640x480 with 1 Axes>"
            ],
            "image/png": "[encoded data removed]"
          },
          "metadata": {}
        },
        {
          "output_type": "stream",
          "name": "stdout",
          "text": [
            "Pearson correlation on training set: -0.008692902090641663\n",
            "Pearson correlation on validation set: 0.45038755819176923\n"
          ]
        },
        {
          "output_type": "display_data",
          "data": {
            "text/plain": [
              "<Figure size 640x480 with 0 Axes>"
            ]
          },
          "metadata": {}
        }
      ]
    },
    {
      "cell_type": "code",
      "source": [
        "example_id = 4\n",
        "\n",
        "plt.figure(figsize= (10,8))\n",
        "plt.title(f'Neural activity prediction of neuron {example_id}')\n",
        "plt.plot(prediction_val[:,example_id], label = \"Prediction\")\n",
        "plt.plot(spikes_val[:,example_id], label = \"True\")\n",
        "plt.legend()\n",
        "plt.show()\n",
        "plt.figure()"
      ],
      "metadata": {
        "colab": {
          "base_uri": "https://localhost:8080/",
          "height": 735
        },
        "id": "sZPXOFJX8yXO",
        "outputId": "d80718eb-0795-435d-bc2e-db484af5e43a"
      },
      "id": "sZPXOFJX8yXO",
      "execution_count": 24,
      "outputs": [
        {
          "output_type": "display_data",
          "data": {
            "text/plain": [
              "<Figure size 1000x800 with 1 Axes>"
            ],
            "image/png": "[encoded data removed]"
          },
          "metadata": {}
        },
        {
          "output_type": "execute_result",
          "data": {
            "text/plain": [
              "<Figure size 640x480 with 0 Axes>"
            ]
          },
          "metadata": {},
          "execution_count": 24
        },
        {
          "output_type": "display_data",
          "data": {
            "text/plain": [
              "<Figure size 640x480 with 0 Axes>"
            ]
          },
          "metadata": {}
        }
      ]
    }
  ],
  "metadata": {
    "kernelspec": {
      "display_name": "Python 3",
      "name": "python3"
    },
    "language_info": {
      "codemirror_mode": {
        "name": "ipython",
        "version": 3
      },
      "file_extension": ".py",
      "mimetype": "text/x-python",
      "name": "python",
      "nbconvert_exporter": "python",
      "pygments_lexer": "ipython3",
      "version": "3.11.6"
    },
    "colab": {
      "provenance": [],
      "gpuType": "L4",
      "include_colab_link": true
    },
    "accelerator": "GPU"
  },
  "nbformat": 4,
  "nbformat_minor": 5
}