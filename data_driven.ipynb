{
  "cells": [
    {
      "cell_type": "markdown",
      "metadata": {
        "id": "view-in-github",
        "colab_type": "text"
      },
      "source": [
        "<a href=\"https://colab.research.google.com/github/ZyLiao-0011/NX414/blob/main/data_driven.ipynb\" target=\"_parent\"><img src=\"https://colab.research.google.com/assets/colab-badge.svg\" alt=\"Open In Colab\"/></a>"
      ]
    },
    {
      "cell_type": "code",
      "execution_count": 1,
      "id": "f38899ec",
      "metadata": {
        "id": "f38899ec"
      },
      "outputs": [],
      "source": [
        "import torch\n",
        "import torch.nn as nn\n",
        "import torch.nn.functional as F\n",
        "from torch.nn import init\n",
        "from torch.nn import Parameter\n",
        "from torch.utils.data import DataLoader, Dataset\n",
        "from torch.optim import AdamW\n",
        "\n",
        "from tqdm import tqdm\n",
        "import numpy as np\n",
        "import pandas as pd\n",
        "import h5py\n",
        "import os\n",
        "device = torch.device(\"cuda\" if torch.cuda.is_available() else \"cpu\")"
      ]
    },
    {
      "cell_type": "code",
      "source": [
        "from google.colab import drive\n",
        "drive.mount('/content/drive')"
      ],
      "metadata": {
        "colab": {
          "base_uri": "https://localhost:8080/"
        },
        "id": "nK6EXYVg7zQ3",
        "outputId": "73f9cffa-af54-480d-b93a-9de33871f486"
      },
      "id": "nK6EXYVg7zQ3",
      "execution_count": 2,
      "outputs": [
        {
          "output_type": "stream",
          "name": "stdout",
          "text": [
            "Mounted at /content/drive\n"
          ]
        }
      ]
    },
    {
      "cell_type": "code",
      "execution_count": 3,
      "id": "f3421a7c",
      "metadata": {
        "id": "f3421a7c"
      },
      "outputs": [],
      "source": [
        "import sys\n",
        "sys.path.append('/content/drive/MyDrive/nx414')\n",
        "from utils import load_it_data, visualize_img"
      ]
    },
    {
      "cell_type": "code",
      "source": [
        "path_to_data = '/content/drive/MyDrive/nx414' ## Insert the folder where the data is, if you download in the same folder as this notebook then leave it blank\n",
        "\n",
        "stimulus_train, stimulus_val, stimulus_test, objects_train, objects_val, objects_test, spikes_train, spikes_val = load_it_data(path_to_data)"
      ],
      "metadata": {
        "id": "DtFyx_LX84i0"
      },
      "id": "DtFyx_LX84i0",
      "execution_count": 4,
      "outputs": []
    },
    {
      "cell_type": "code",
      "execution_count": 19,
      "id": "562024cc",
      "metadata": {
        "id": "562024cc"
      },
      "outputs": [],
      "source": [
        "class SpikeData(Dataset):\n",
        "    def __init__(self,stimulus,spike = None):\n",
        "        self.stimulus = torch.tensor(stimulus)\n",
        "\n",
        "        if spike is not None:\n",
        "          self.spike = torch.tensor(spike)\n",
        "          self.num_neuron = self.spike.shape[1]\n",
        "        else:\n",
        "          self.spike = None\n",
        "          self.num_neuron = None\n",
        "\n",
        "    def __len__(self):\n",
        "        return len(self.stimulus)\n",
        "\n",
        "    def __getitem__(self, idx):\n",
        "        if self.spike is not None:\n",
        "            return self.stimulus[idx], self.spike[idx]\n",
        "        else:\n",
        "            return self.stimulus[idx]"
      ]
    },
    {
      "cell_type": "code",
      "execution_count": 20,
      "id": "7befa986",
      "metadata": {
        "id": "7befa986"
      },
      "outputs": [],
      "source": [
        "ITdataloader_train = DataLoader(SpikeData(stimulus_train, spikes_train), batch_size=64, shuffle=True)\n",
        "ITdataloader_val = DataLoader(SpikeData(stimulus_val, spikes_val), batch_size=64, shuffle=False)\n",
        "ITdataloader_test = DataLoader(SpikeData(stimulus_test,spike = None), batch_size=64, shuffle=False)"
      ]
    },
    {
      "cell_type": "code",
      "source": [
        "class ShallowCNN(nn.Module):\n",
        "    def __init__(self,num_neuron):\n",
        "        super(ShallowCNN, self).__init__()\n",
        "\n",
        "        # Conv block 1\n",
        "        self.convblock1 = nn.Sequential(nn.Conv2d(3, 16, kernel_size=3, stride=1, padding=1),\n",
        "                                        nn.BatchNorm2d(16),\n",
        "                                        nn.ReLU6(),\n",
        "                                        nn.MaxPool2d(kernel_size=2))\n",
        "\n",
        "        # Conv block 2\n",
        "        self.convblock2 = nn.Sequential(nn.Conv2d(16, 32, kernel_size=3, stride=1, padding=1),\n",
        "                                        nn.BatchNorm2d(32),\n",
        "                                        nn.ReLU6(),\n",
        "                                        nn.MaxPool2d(kernel_size=2))\n",
        "\n",
        "        # Conv block 3\n",
        "        self.convblock3 = nn.Sequential(nn.Conv2d(32, 64, kernel_size=3, stride=1, padding=1),\n",
        "                                        nn.BatchNorm2d(64),\n",
        "                                        nn.ReLU6(),\n",
        "                                        nn.MaxPool2d(kernel_size=2))\n",
        "\n",
        "        # Adaptive flatten to work for 224x224 input images\n",
        "        self.flatten = nn.Flatten()\n",
        "\n",
        "        # Calculate the size of the feature map after conv blocks\n",
        "        # For 224x224 input -> 112 -> 56 -> 28 after 3 maxpools\n",
        "        conv_output_size = 64 * (224 // 8) * (224 // 8)  # 64 channels, 28x28 feature map\n",
        "\n",
        "        self.fc1 = nn.Linear(conv_output_size, 64)\n",
        "        self.dropout = nn.Dropout(0.5)\n",
        "        self.fc2 = nn.Linear(64, num_neuron)  # Output = num_neuron = 168\n",
        "\n",
        "\n",
        "    def forward(self, x):\n",
        "        x = self.convblock1(x)\n",
        "        x = self.convblock2(x)\n",
        "        x = self.convblock3(x)\n",
        "        x = self.flatten(x)\n",
        "        x = self.fc1(x)\n",
        "        x = self.dropout(x)\n",
        "        x = self.fc2(x)\n",
        "        return x\n",
        "\n",
        "    @staticmethod # defines that the following function does not take self as input\n",
        "    @torch.no_grad() # ensures that following function runs without tracking gradients\n",
        "    # making the initialisation faster and more memory-efficient. The parameters remain trainable.\n",
        "    def init_weights(module):\n",
        "        # YOUR CODE HERE\n",
        "        # raise NotImplementedError()\n",
        "\n",
        "        # He initialization\n",
        "        # Conv2d layers\n",
        "        if isinstance(module, nn.Conv2d):\n",
        "            nn.init.kaiming_normal_(module.weight, mode='fan_out', nonlinearity='relu')\n",
        "            if module.bias is not None:\n",
        "                nn.init.zeros_(module.bias)\n",
        "        # Linear layers\n",
        "        elif isinstance(module, nn.Linear):\n",
        "            nn.init.kaiming_normal_(module.weight, mode='fan_out', nonlinearity='relu')\n",
        "            nn.init.zeros_(module.bias)\n",
        "\n",
        "        # Initialize BatchNorm weights to 1 and bias to 0\n",
        "        elif isinstance(module, nn.BatchNorm2d):\n",
        "            nn.init.ones_(module.weight)\n",
        "            nn.init.zeros_(module.bias)"
      ],
      "metadata": {
        "id": "ECrruTjkiYPT"
      },
      "id": "ECrruTjkiYPT",
      "execution_count": 7,
      "outputs": []
    },
    {
      "cell_type": "code",
      "source": [
        "import copy\n",
        "\n",
        "def train_model(model, train_loader, val_loader, criterion, optimizer, num_epochs=2, scheduler=None):\n",
        "    best_model_wts = copy.deepcopy(model.state_dict())\n",
        "    best_val_loss = float(\"inf\")\n",
        "\n",
        "    for epoch in range(num_epochs):\n",
        "        model.train()\n",
        "        running_loss = 0.0\n",
        "\n",
        "        with tqdm(total=len(train_loader), desc=f\"Epoch {epoch+1}/{num_epochs}\") as pbar:\n",
        "            for stimulus, spikes in train_loader:\n",
        "                stimulus, spikes = stimulus.to(device), spikes.to(device)\n",
        "                optimizer.zero_grad()\n",
        "\n",
        "                outputs = model(stimulus)\n",
        "                loss = criterion(outputs, spikes)\n",
        "                loss.backward()\n",
        "                optimizer.step()\n",
        "\n",
        "                running_loss += loss.item()\n",
        "                pbar.set_postfix(loss=running_loss / (pbar.n + 1))\n",
        "                pbar.update(1)\n",
        "\n",
        "        print(f\"Epoch [{epoch+1}/{num_epochs}], Train Loss: {running_loss/len(train_loader):.4f}\")\n",
        "\n",
        "        # Validation\n",
        "        model.eval()\n",
        "        val_loss = 0.0\n",
        "        with torch.no_grad():\n",
        "            for stimulus, labels in val_loader:\n",
        "                stimulus, labels = stimulus.to(device), labels.to(device)\n",
        "                outputs = model(stimulus)\n",
        "                loss = criterion(outputs, labels)\n",
        "                val_loss += loss.item()\n",
        "\n",
        "        val_loss /= len(val_loader)\n",
        "        print(f\"Validation Loss: {val_loss:.4f}\")\n",
        "\n",
        "        if val_loss < best_val_loss:\n",
        "            best_val_loss = val_loss\n",
        "            best_model_wts = copy.deepcopy(model.state_dict())\n",
        "\n",
        "        if scheduler:\n",
        "            scheduler.step(val_loss)\n",
        "\n",
        "    model.load_state_dict(best_model_wts)\n",
        "    return model"
      ],
      "metadata": {
        "id": "Au7Ki_NIACFX"
      },
      "id": "Au7Ki_NIACFX",
      "execution_count": 8,
      "outputs": []
    },
    {
      "cell_type": "code",
      "execution_count": 82,
      "id": "63c0c5ad",
      "metadata": {
        "colab": {
          "base_uri": "https://localhost:8080/"
        },
        "id": "63c0c5ad",
        "outputId": "7d789aeb-650e-4ab6-f80c-142f6f5ad588"
      },
      "outputs": [
        {
          "output_type": "stream",
          "name": "stderr",
          "text": [
            "Epoch 1/200: 100%|██████████| 41/41 [00:02<00:00, 17.90it/s, loss=1.19e+3]\n"
          ]
        },
        {
          "output_type": "stream",
          "name": "stdout",
          "text": [
            "Epoch [1/200], Train Loss: 1186.8986\n",
            "Validation Loss: 53.2870\n"
          ]
        },
        {
          "output_type": "stream",
          "name": "stderr",
          "text": [
            "Epoch 2/200: 100%|██████████| 41/41 [00:02<00:00, 17.88it/s, loss=51.7]\n"
          ]
        },
        {
          "output_type": "stream",
          "name": "stdout",
          "text": [
            "Epoch [2/200], Train Loss: 51.6516\n",
            "Validation Loss: 15.7269\n"
          ]
        },
        {
          "output_type": "stream",
          "name": "stderr",
          "text": [
            "Epoch 3/200: 100%|██████████| 41/41 [00:02<00:00, 17.94it/s, loss=28.9]\n"
          ]
        },
        {
          "output_type": "stream",
          "name": "stdout",
          "text": [
            "Epoch [3/200], Train Loss: 28.8769\n",
            "Validation Loss: 11.6456\n"
          ]
        },
        {
          "output_type": "stream",
          "name": "stderr",
          "text": [
            "Epoch 4/200: 100%|██████████| 41/41 [00:02<00:00, 17.91it/s, loss=21.6]\n"
          ]
        },
        {
          "output_type": "stream",
          "name": "stdout",
          "text": [
            "Epoch [4/200], Train Loss: 21.5626\n",
            "Validation Loss: 9.2716\n"
          ]
        },
        {
          "output_type": "stream",
          "name": "stderr",
          "text": [
            "Epoch 5/200: 100%|██████████| 41/41 [00:02<00:00, 17.87it/s, loss=16.6]\n"
          ]
        },
        {
          "output_type": "stream",
          "name": "stdout",
          "text": [
            "Epoch [5/200], Train Loss: 16.6418\n",
            "Validation Loss: 7.9406\n"
          ]
        },
        {
          "output_type": "stream",
          "name": "stderr",
          "text": [
            "Epoch 6/200: 100%|██████████| 41/41 [00:02<00:00, 17.95it/s, loss=13.7]\n"
          ]
        },
        {
          "output_type": "stream",
          "name": "stdout",
          "text": [
            "Epoch [6/200], Train Loss: 13.6786\n",
            "Validation Loss: 6.5435\n"
          ]
        },
        {
          "output_type": "stream",
          "name": "stderr",
          "text": [
            "Epoch 7/200: 100%|██████████| 41/41 [00:02<00:00, 17.95it/s, loss=11.9]\n"
          ]
        },
        {
          "output_type": "stream",
          "name": "stdout",
          "text": [
            "Epoch [7/200], Train Loss: 11.8514\n",
            "Validation Loss: 5.8823\n"
          ]
        },
        {
          "output_type": "stream",
          "name": "stderr",
          "text": [
            "Epoch 8/200: 100%|██████████| 41/41 [00:02<00:00, 17.94it/s, loss=10.3]\n"
          ]
        },
        {
          "output_type": "stream",
          "name": "stdout",
          "text": [
            "Epoch [8/200], Train Loss: 10.3499\n",
            "Validation Loss: 5.1814\n"
          ]
        },
        {
          "output_type": "stream",
          "name": "stderr",
          "text": [
            "Epoch 9/200: 100%|██████████| 41/41 [00:02<00:00, 17.87it/s, loss=8.63]\n"
          ]
        },
        {
          "output_type": "stream",
          "name": "stdout",
          "text": [
            "Epoch [9/200], Train Loss: 8.6262\n",
            "Validation Loss: 4.8200\n"
          ]
        },
        {
          "output_type": "stream",
          "name": "stderr",
          "text": [
            "Epoch 10/200: 100%|██████████| 41/41 [00:02<00:00, 17.86it/s, loss=7.86]\n"
          ]
        },
        {
          "output_type": "stream",
          "name": "stdout",
          "text": [
            "Epoch [10/200], Train Loss: 7.8556\n",
            "Validation Loss: 4.5379\n"
          ]
        },
        {
          "output_type": "stream",
          "name": "stderr",
          "text": [
            "Epoch 11/200: 100%|██████████| 41/41 [00:02<00:00, 17.93it/s, loss=7.28]\n"
          ]
        },
        {
          "output_type": "stream",
          "name": "stdout",
          "text": [
            "Epoch [11/200], Train Loss: 7.2773\n",
            "Validation Loss: 4.0179\n"
          ]
        },
        {
          "output_type": "stream",
          "name": "stderr",
          "text": [
            "Epoch 12/200: 100%|██████████| 41/41 [00:02<00:00, 18.00it/s, loss=6.51]\n"
          ]
        },
        {
          "output_type": "stream",
          "name": "stdout",
          "text": [
            "Epoch [12/200], Train Loss: 6.5081\n",
            "Validation Loss: 3.6206\n"
          ]
        },
        {
          "output_type": "stream",
          "name": "stderr",
          "text": [
            "Epoch 13/200: 100%|██████████| 41/41 [00:02<00:00, 17.93it/s, loss=5.87]\n"
          ]
        },
        {
          "output_type": "stream",
          "name": "stdout",
          "text": [
            "Epoch [13/200], Train Loss: 5.8708\n",
            "Validation Loss: 3.5659\n"
          ]
        },
        {
          "output_type": "stream",
          "name": "stderr",
          "text": [
            "Epoch 14/200: 100%|██████████| 41/41 [00:02<00:00, 17.88it/s, loss=5.59]\n"
          ]
        },
        {
          "output_type": "stream",
          "name": "stdout",
          "text": [
            "Epoch [14/200], Train Loss: 5.5912\n",
            "Validation Loss: 3.1243\n"
          ]
        },
        {
          "output_type": "stream",
          "name": "stderr",
          "text": [
            "Epoch 15/200: 100%|██████████| 41/41 [00:02<00:00, 17.82it/s, loss=5.14]\n"
          ]
        },
        {
          "output_type": "stream",
          "name": "stdout",
          "text": [
            "Epoch [15/200], Train Loss: 5.1352\n",
            "Validation Loss: 3.1694\n"
          ]
        },
        {
          "output_type": "stream",
          "name": "stderr",
          "text": [
            "Epoch 16/200: 100%|██████████| 41/41 [00:02<00:00, 17.91it/s, loss=4.89]\n"
          ]
        },
        {
          "output_type": "stream",
          "name": "stdout",
          "text": [
            "Epoch [16/200], Train Loss: 4.8859\n",
            "Validation Loss: 3.0005\n"
          ]
        },
        {
          "output_type": "stream",
          "name": "stderr",
          "text": [
            "Epoch 17/200: 100%|██████████| 41/41 [00:02<00:00, 17.87it/s, loss=4.56]\n"
          ]
        },
        {
          "output_type": "stream",
          "name": "stdout",
          "text": [
            "Epoch [17/200], Train Loss: 4.5575\n",
            "Validation Loss: 2.7466\n"
          ]
        },
        {
          "output_type": "stream",
          "name": "stderr",
          "text": [
            "Epoch 18/200: 100%|██████████| 41/41 [00:02<00:00, 17.94it/s, loss=4.25]\n"
          ]
        },
        {
          "output_type": "stream",
          "name": "stdout",
          "text": [
            "Epoch [18/200], Train Loss: 4.2531\n",
            "Validation Loss: 2.6010\n"
          ]
        },
        {
          "output_type": "stream",
          "name": "stderr",
          "text": [
            "Epoch 19/200: 100%|██████████| 41/41 [00:02<00:00, 17.96it/s, loss=4.03]\n"
          ]
        },
        {
          "output_type": "stream",
          "name": "stdout",
          "text": [
            "Epoch [19/200], Train Loss: 4.0304\n",
            "Validation Loss: 2.5610\n"
          ]
        },
        {
          "output_type": "stream",
          "name": "stderr",
          "text": [
            "Epoch 20/200: 100%|██████████| 41/41 [00:02<00:00, 17.86it/s, loss=3.82]\n"
          ]
        },
        {
          "output_type": "stream",
          "name": "stdout",
          "text": [
            "Epoch [20/200], Train Loss: 3.8220\n",
            "Validation Loss: 2.5832\n"
          ]
        },
        {
          "output_type": "stream",
          "name": "stderr",
          "text": [
            "Epoch 21/200: 100%|██████████| 41/41 [00:02<00:00, 17.98it/s, loss=3.69]\n"
          ]
        },
        {
          "output_type": "stream",
          "name": "stdout",
          "text": [
            "Epoch [21/200], Train Loss: 3.6907\n",
            "Validation Loss: 2.5071\n"
          ]
        },
        {
          "output_type": "stream",
          "name": "stderr",
          "text": [
            "Epoch 22/200: 100%|██████████| 41/41 [00:02<00:00, 17.95it/s, loss=3.47]\n"
          ]
        },
        {
          "output_type": "stream",
          "name": "stdout",
          "text": [
            "Epoch [22/200], Train Loss: 3.4727\n",
            "Validation Loss: 2.3434\n"
          ]
        },
        {
          "output_type": "stream",
          "name": "stderr",
          "text": [
            "Epoch 23/200: 100%|██████████| 41/41 [00:02<00:00, 17.98it/s, loss=3.29]\n"
          ]
        },
        {
          "output_type": "stream",
          "name": "stdout",
          "text": [
            "Epoch [23/200], Train Loss: 3.2939\n",
            "Validation Loss: 2.3051\n"
          ]
        },
        {
          "output_type": "stream",
          "name": "stderr",
          "text": [
            "Epoch 24/200: 100%|██████████| 41/41 [00:02<00:00, 17.95it/s, loss=3.16]\n"
          ]
        },
        {
          "output_type": "stream",
          "name": "stdout",
          "text": [
            "Epoch [24/200], Train Loss: 3.1630\n",
            "Validation Loss: 2.2873\n"
          ]
        },
        {
          "output_type": "stream",
          "name": "stderr",
          "text": [
            "Epoch 25/200: 100%|██████████| 41/41 [00:02<00:00, 17.87it/s, loss=3.13]\n"
          ]
        },
        {
          "output_type": "stream",
          "name": "stdout",
          "text": [
            "Epoch [25/200], Train Loss: 3.1323\n",
            "Validation Loss: 2.2370\n"
          ]
        },
        {
          "output_type": "stream",
          "name": "stderr",
          "text": [
            "Epoch 26/200: 100%|██████████| 41/41 [00:02<00:00, 18.01it/s, loss=2.94]\n"
          ]
        },
        {
          "output_type": "stream",
          "name": "stdout",
          "text": [
            "Epoch [26/200], Train Loss: 2.9362\n",
            "Validation Loss: 2.1287\n"
          ]
        },
        {
          "output_type": "stream",
          "name": "stderr",
          "text": [
            "Epoch 27/200: 100%|██████████| 41/41 [00:02<00:00, 18.03it/s, loss=2.91]\n"
          ]
        },
        {
          "output_type": "stream",
          "name": "stdout",
          "text": [
            "Epoch [27/200], Train Loss: 2.9142\n",
            "Validation Loss: 2.1204\n"
          ]
        },
        {
          "output_type": "stream",
          "name": "stderr",
          "text": [
            "Epoch 28/200: 100%|██████████| 41/41 [00:02<00:00, 17.96it/s, loss=2.82]\n"
          ]
        },
        {
          "output_type": "stream",
          "name": "stdout",
          "text": [
            "Epoch [28/200], Train Loss: 2.8198\n",
            "Validation Loss: 2.0372\n"
          ]
        },
        {
          "output_type": "stream",
          "name": "stderr",
          "text": [
            "Epoch 29/200: 100%|██████████| 41/41 [00:02<00:00, 17.96it/s, loss=2.76]\n"
          ]
        },
        {
          "output_type": "stream",
          "name": "stdout",
          "text": [
            "Epoch [29/200], Train Loss: 2.7643\n",
            "Validation Loss: 2.0184\n"
          ]
        },
        {
          "output_type": "stream",
          "name": "stderr",
          "text": [
            "Epoch 30/200: 100%|██████████| 41/41 [00:02<00:00, 17.89it/s, loss=2.67]\n"
          ]
        },
        {
          "output_type": "stream",
          "name": "stdout",
          "text": [
            "Epoch [30/200], Train Loss: 2.6687\n",
            "Validation Loss: 2.0621\n"
          ]
        },
        {
          "output_type": "stream",
          "name": "stderr",
          "text": [
            "Epoch 31/200: 100%|██████████| 41/41 [00:02<00:00, 18.07it/s, loss=2.53]\n"
          ]
        },
        {
          "output_type": "stream",
          "name": "stdout",
          "text": [
            "Epoch [31/200], Train Loss: 2.5265\n",
            "Validation Loss: 1.8857\n"
          ]
        },
        {
          "output_type": "stream",
          "name": "stderr",
          "text": [
            "Epoch 32/200: 100%|██████████| 41/41 [00:02<00:00, 17.98it/s, loss=2.41]\n"
          ]
        },
        {
          "output_type": "stream",
          "name": "stdout",
          "text": [
            "Epoch [32/200], Train Loss: 2.4137\n",
            "Validation Loss: 1.8599\n"
          ]
        },
        {
          "output_type": "stream",
          "name": "stderr",
          "text": [
            "Epoch 33/200: 100%|██████████| 41/41 [00:02<00:00, 17.93it/s, loss=2.38]\n"
          ]
        },
        {
          "output_type": "stream",
          "name": "stdout",
          "text": [
            "Epoch [33/200], Train Loss: 2.3758\n",
            "Validation Loss: 1.8315\n"
          ]
        },
        {
          "output_type": "stream",
          "name": "stderr",
          "text": [
            "Epoch 34/200: 100%|██████████| 41/41 [00:02<00:00, 17.88it/s, loss=2.33]\n"
          ]
        },
        {
          "output_type": "stream",
          "name": "stdout",
          "text": [
            "Epoch [34/200], Train Loss: 2.3251\n",
            "Validation Loss: 1.7887\n"
          ]
        },
        {
          "output_type": "stream",
          "name": "stderr",
          "text": [
            "Epoch 35/200: 100%|██████████| 41/41 [00:02<00:00, 17.99it/s, loss=2.27]\n"
          ]
        },
        {
          "output_type": "stream",
          "name": "stdout",
          "text": [
            "Epoch [35/200], Train Loss: 2.2678\n",
            "Validation Loss: 1.8514\n"
          ]
        },
        {
          "output_type": "stream",
          "name": "stderr",
          "text": [
            "Epoch 36/200: 100%|██████████| 41/41 [00:02<00:00, 18.07it/s, loss=2.29]\n"
          ]
        },
        {
          "output_type": "stream",
          "name": "stdout",
          "text": [
            "Epoch [36/200], Train Loss: 2.2876\n",
            "Validation Loss: 1.7391\n"
          ]
        },
        {
          "output_type": "stream",
          "name": "stderr",
          "text": [
            "Epoch 37/200: 100%|██████████| 41/41 [00:02<00:00, 18.01it/s, loss=2.11]\n"
          ]
        },
        {
          "output_type": "stream",
          "name": "stdout",
          "text": [
            "Epoch [37/200], Train Loss: 2.1118\n",
            "Validation Loss: 1.7067\n"
          ]
        },
        {
          "output_type": "stream",
          "name": "stderr",
          "text": [
            "Epoch 38/200: 100%|██████████| 41/41 [00:02<00:00, 17.95it/s, loss=2.26]\n"
          ]
        },
        {
          "output_type": "stream",
          "name": "stdout",
          "text": [
            "Epoch [38/200], Train Loss: 2.2644\n",
            "Validation Loss: 1.7549\n"
          ]
        },
        {
          "output_type": "stream",
          "name": "stderr",
          "text": [
            "Epoch 39/200: 100%|██████████| 41/41 [00:02<00:00, 17.94it/s, loss=2.15]\n"
          ]
        },
        {
          "output_type": "stream",
          "name": "stdout",
          "text": [
            "Epoch [39/200], Train Loss: 2.1465\n",
            "Validation Loss: 1.7372\n"
          ]
        },
        {
          "output_type": "stream",
          "name": "stderr",
          "text": [
            "Epoch 40/200: 100%|██████████| 41/41 [00:02<00:00, 17.93it/s, loss=2.04]\n"
          ]
        },
        {
          "output_type": "stream",
          "name": "stdout",
          "text": [
            "Epoch [40/200], Train Loss: 2.0367\n",
            "Validation Loss: 1.6669\n"
          ]
        },
        {
          "output_type": "stream",
          "name": "stderr",
          "text": [
            "Epoch 41/200: 100%|██████████| 41/41 [00:02<00:00, 17.98it/s, loss=2]\n"
          ]
        },
        {
          "output_type": "stream",
          "name": "stdout",
          "text": [
            "Epoch [41/200], Train Loss: 2.0035\n",
            "Validation Loss: 1.6472\n"
          ]
        },
        {
          "output_type": "stream",
          "name": "stderr",
          "text": [
            "Epoch 42/200: 100%|██████████| 41/41 [00:02<00:00, 17.99it/s, loss=1.97]\n"
          ]
        },
        {
          "output_type": "stream",
          "name": "stdout",
          "text": [
            "Epoch [42/200], Train Loss: 1.9732\n",
            "Validation Loss: 1.6790\n"
          ]
        },
        {
          "output_type": "stream",
          "name": "stderr",
          "text": [
            "Epoch 43/200: 100%|██████████| 41/41 [00:02<00:00, 18.04it/s, loss=1.98]\n"
          ]
        },
        {
          "output_type": "stream",
          "name": "stdout",
          "text": [
            "Epoch [43/200], Train Loss: 1.9769\n",
            "Validation Loss: 1.5634\n"
          ]
        },
        {
          "output_type": "stream",
          "name": "stderr",
          "text": [
            "Epoch 44/200: 100%|██████████| 41/41 [00:02<00:00, 17.94it/s, loss=1.88]\n"
          ]
        },
        {
          "output_type": "stream",
          "name": "stdout",
          "text": [
            "Epoch [44/200], Train Loss: 1.8770\n",
            "Validation Loss: 1.5006\n"
          ]
        },
        {
          "output_type": "stream",
          "name": "stderr",
          "text": [
            "Epoch 45/200: 100%|██████████| 41/41 [00:02<00:00, 17.89it/s, loss=1.95]\n"
          ]
        },
        {
          "output_type": "stream",
          "name": "stdout",
          "text": [
            "Epoch [45/200], Train Loss: 1.9503\n",
            "Validation Loss: 1.5011\n"
          ]
        },
        {
          "output_type": "stream",
          "name": "stderr",
          "text": [
            "Epoch 46/200: 100%|██████████| 41/41 [00:02<00:00, 18.01it/s, loss=1.81]\n"
          ]
        },
        {
          "output_type": "stream",
          "name": "stdout",
          "text": [
            "Epoch [46/200], Train Loss: 1.8065\n",
            "Validation Loss: 1.4677\n"
          ]
        },
        {
          "output_type": "stream",
          "name": "stderr",
          "text": [
            "Epoch 47/200: 100%|██████████| 41/41 [00:02<00:00, 17.96it/s, loss=1.78]\n"
          ]
        },
        {
          "output_type": "stream",
          "name": "stdout",
          "text": [
            "Epoch [47/200], Train Loss: 1.7794\n",
            "Validation Loss: 1.5023\n"
          ]
        },
        {
          "output_type": "stream",
          "name": "stderr",
          "text": [
            "Epoch 48/200: 100%|██████████| 41/41 [00:02<00:00, 17.92it/s, loss=1.77]\n"
          ]
        },
        {
          "output_type": "stream",
          "name": "stdout",
          "text": [
            "Epoch [48/200], Train Loss: 1.7740\n",
            "Validation Loss: 1.5295\n"
          ]
        },
        {
          "output_type": "stream",
          "name": "stderr",
          "text": [
            "Epoch 49/200: 100%|██████████| 41/41 [00:02<00:00, 17.92it/s, loss=1.72]\n"
          ]
        },
        {
          "output_type": "stream",
          "name": "stdout",
          "text": [
            "Epoch [49/200], Train Loss: 1.7168\n",
            "Validation Loss: 1.4448\n"
          ]
        },
        {
          "output_type": "stream",
          "name": "stderr",
          "text": [
            "Epoch 50/200: 100%|██████████| 41/41 [00:02<00:00, 17.89it/s, loss=1.69]\n"
          ]
        },
        {
          "output_type": "stream",
          "name": "stdout",
          "text": [
            "Epoch [50/200], Train Loss: 1.6878\n",
            "Validation Loss: 1.4068\n"
          ]
        },
        {
          "output_type": "stream",
          "name": "stderr",
          "text": [
            "Epoch 51/200: 100%|██████████| 41/41 [00:02<00:00, 18.02it/s, loss=1.73]\n"
          ]
        },
        {
          "output_type": "stream",
          "name": "stdout",
          "text": [
            "Epoch [51/200], Train Loss: 1.7262\n",
            "Validation Loss: 1.4173\n"
          ]
        },
        {
          "output_type": "stream",
          "name": "stderr",
          "text": [
            "Epoch 52/200: 100%|██████████| 41/41 [00:02<00:00, 18.01it/s, loss=1.65]\n"
          ]
        },
        {
          "output_type": "stream",
          "name": "stdout",
          "text": [
            "Epoch [52/200], Train Loss: 1.6492\n",
            "Validation Loss: 1.3745\n"
          ]
        },
        {
          "output_type": "stream",
          "name": "stderr",
          "text": [
            "Epoch 53/200: 100%|██████████| 41/41 [00:02<00:00, 18.00it/s, loss=1.6]\n"
          ]
        },
        {
          "output_type": "stream",
          "name": "stdout",
          "text": [
            "Epoch [53/200], Train Loss: 1.6037\n",
            "Validation Loss: 1.3902\n"
          ]
        },
        {
          "output_type": "stream",
          "name": "stderr",
          "text": [
            "Epoch 54/200: 100%|██████████| 41/41 [00:02<00:00, 17.96it/s, loss=1.6]\n"
          ]
        },
        {
          "output_type": "stream",
          "name": "stdout",
          "text": [
            "Epoch [54/200], Train Loss: 1.6010\n",
            "Validation Loss: 1.4248\n"
          ]
        },
        {
          "output_type": "stream",
          "name": "stderr",
          "text": [
            "Epoch 55/200: 100%|██████████| 41/41 [00:02<00:00, 17.89it/s, loss=1.6]\n"
          ]
        },
        {
          "output_type": "stream",
          "name": "stdout",
          "text": [
            "Epoch [55/200], Train Loss: 1.5992\n",
            "Validation Loss: 1.4039\n"
          ]
        },
        {
          "output_type": "stream",
          "name": "stderr",
          "text": [
            "Epoch 56/200: 100%|██████████| 41/41 [00:02<00:00, 17.97it/s, loss=1.53]\n"
          ]
        },
        {
          "output_type": "stream",
          "name": "stdout",
          "text": [
            "Epoch [56/200], Train Loss: 1.5323\n",
            "Validation Loss: 1.3427\n"
          ]
        },
        {
          "output_type": "stream",
          "name": "stderr",
          "text": [
            "Epoch 57/200: 100%|██████████| 41/41 [00:02<00:00, 18.00it/s, loss=1.59]\n"
          ]
        },
        {
          "output_type": "stream",
          "name": "stdout",
          "text": [
            "Epoch [57/200], Train Loss: 1.5910\n",
            "Validation Loss: 1.3789\n"
          ]
        },
        {
          "output_type": "stream",
          "name": "stderr",
          "text": [
            "Epoch 58/200: 100%|██████████| 41/41 [00:02<00:00, 17.94it/s, loss=1.56]\n"
          ]
        },
        {
          "output_type": "stream",
          "name": "stdout",
          "text": [
            "Epoch [58/200], Train Loss: 1.5631\n",
            "Validation Loss: 1.3327\n"
          ]
        },
        {
          "output_type": "stream",
          "name": "stderr",
          "text": [
            "Epoch 59/200: 100%|██████████| 41/41 [00:02<00:00, 17.99it/s, loss=1.47]\n"
          ]
        },
        {
          "output_type": "stream",
          "name": "stdout",
          "text": [
            "Epoch [59/200], Train Loss: 1.4745\n",
            "Validation Loss: 1.3371\n"
          ]
        },
        {
          "output_type": "stream",
          "name": "stderr",
          "text": [
            "Epoch 60/200: 100%|██████████| 41/41 [00:02<00:00, 17.92it/s, loss=1.44]\n"
          ]
        },
        {
          "output_type": "stream",
          "name": "stdout",
          "text": [
            "Epoch [60/200], Train Loss: 1.4430\n",
            "Validation Loss: 1.2629\n"
          ]
        },
        {
          "output_type": "stream",
          "name": "stderr",
          "text": [
            "Epoch 61/200: 100%|██████████| 41/41 [00:02<00:00, 17.97it/s, loss=1.52]\n"
          ]
        },
        {
          "output_type": "stream",
          "name": "stdout",
          "text": [
            "Epoch [61/200], Train Loss: 1.5208\n",
            "Validation Loss: 1.3169\n"
          ]
        },
        {
          "output_type": "stream",
          "name": "stderr",
          "text": [
            "Epoch 62/200: 100%|██████████| 41/41 [00:02<00:00, 18.01it/s, loss=1.48]\n"
          ]
        },
        {
          "output_type": "stream",
          "name": "stdout",
          "text": [
            "Epoch [62/200], Train Loss: 1.4808\n",
            "Validation Loss: 1.3032\n"
          ]
        },
        {
          "output_type": "stream",
          "name": "stderr",
          "text": [
            "Epoch 63/200: 100%|██████████| 41/41 [00:02<00:00, 17.97it/s, loss=1.48]\n"
          ]
        },
        {
          "output_type": "stream",
          "name": "stdout",
          "text": [
            "Epoch [63/200], Train Loss: 1.4827\n",
            "Validation Loss: 1.2763\n"
          ]
        },
        {
          "output_type": "stream",
          "name": "stderr",
          "text": [
            "Epoch 64/200: 100%|██████████| 41/41 [00:02<00:00, 17.97it/s, loss=1.51]\n"
          ]
        },
        {
          "output_type": "stream",
          "name": "stdout",
          "text": [
            "Epoch [64/200], Train Loss: 1.5052\n",
            "Validation Loss: 1.2980\n"
          ]
        },
        {
          "output_type": "stream",
          "name": "stderr",
          "text": [
            "Epoch 65/200: 100%|██████████| 41/41 [00:02<00:00, 17.89it/s, loss=1.43]\n"
          ]
        },
        {
          "output_type": "stream",
          "name": "stdout",
          "text": [
            "Epoch [65/200], Train Loss: 1.4269\n",
            "Validation Loss: 1.2434\n"
          ]
        },
        {
          "output_type": "stream",
          "name": "stderr",
          "text": [
            "Epoch 66/200: 100%|██████████| 41/41 [00:02<00:00, 18.06it/s, loss=1.42]\n"
          ]
        },
        {
          "output_type": "stream",
          "name": "stdout",
          "text": [
            "Epoch [66/200], Train Loss: 1.4196\n",
            "Validation Loss: 1.3898\n"
          ]
        },
        {
          "output_type": "stream",
          "name": "stderr",
          "text": [
            "Epoch 67/200: 100%|██████████| 41/41 [00:02<00:00, 18.01it/s, loss=1.45]\n"
          ]
        },
        {
          "output_type": "stream",
          "name": "stdout",
          "text": [
            "Epoch [67/200], Train Loss: 1.4523\n",
            "Validation Loss: 1.2631\n"
          ]
        },
        {
          "output_type": "stream",
          "name": "stderr",
          "text": [
            "Epoch 68/200: 100%|██████████| 41/41 [00:02<00:00, 17.92it/s, loss=1.35]\n"
          ]
        },
        {
          "output_type": "stream",
          "name": "stdout",
          "text": [
            "Epoch [68/200], Train Loss: 1.3550\n",
            "Validation Loss: 1.2051\n"
          ]
        },
        {
          "output_type": "stream",
          "name": "stderr",
          "text": [
            "Epoch 69/200: 100%|██████████| 41/41 [00:02<00:00, 18.03it/s, loss=1.31]\n"
          ]
        },
        {
          "output_type": "stream",
          "name": "stdout",
          "text": [
            "Epoch [69/200], Train Loss: 1.3063\n",
            "Validation Loss: 1.2101\n"
          ]
        },
        {
          "output_type": "stream",
          "name": "stderr",
          "text": [
            "Epoch 70/200: 100%|██████████| 41/41 [00:02<00:00, 17.89it/s, loss=1.31]\n"
          ]
        },
        {
          "output_type": "stream",
          "name": "stdout",
          "text": [
            "Epoch [70/200], Train Loss: 1.3100\n",
            "Validation Loss: 1.2044\n"
          ]
        },
        {
          "output_type": "stream",
          "name": "stderr",
          "text": [
            "Epoch 71/200: 100%|██████████| 41/41 [00:02<00:00, 18.00it/s, loss=1.31]\n"
          ]
        },
        {
          "output_type": "stream",
          "name": "stdout",
          "text": [
            "Epoch [71/200], Train Loss: 1.3136\n",
            "Validation Loss: 1.2147\n"
          ]
        },
        {
          "output_type": "stream",
          "name": "stderr",
          "text": [
            "Epoch 72/200: 100%|██████████| 41/41 [00:02<00:00, 17.98it/s, loss=1.29]\n"
          ]
        },
        {
          "output_type": "stream",
          "name": "stdout",
          "text": [
            "Epoch [72/200], Train Loss: 1.2937\n",
            "Validation Loss: 1.2049\n"
          ]
        },
        {
          "output_type": "stream",
          "name": "stderr",
          "text": [
            "Epoch 73/200: 100%|██████████| 41/41 [00:02<00:00, 17.99it/s, loss=1.27]\n"
          ]
        },
        {
          "output_type": "stream",
          "name": "stdout",
          "text": [
            "Epoch [73/200], Train Loss: 1.2709\n",
            "Validation Loss: 1.2031\n"
          ]
        },
        {
          "output_type": "stream",
          "name": "stderr",
          "text": [
            "Epoch 74/200: 100%|██████████| 41/41 [00:02<00:00, 18.00it/s, loss=1.27]\n"
          ]
        },
        {
          "output_type": "stream",
          "name": "stdout",
          "text": [
            "Epoch [74/200], Train Loss: 1.2712\n",
            "Validation Loss: 1.1760\n"
          ]
        },
        {
          "output_type": "stream",
          "name": "stderr",
          "text": [
            "Epoch 75/200: 100%|██████████| 41/41 [00:02<00:00, 17.93it/s, loss=1.23]\n"
          ]
        },
        {
          "output_type": "stream",
          "name": "stdout",
          "text": [
            "Epoch [75/200], Train Loss: 1.2334\n",
            "Validation Loss: 1.1605\n"
          ]
        },
        {
          "output_type": "stream",
          "name": "stderr",
          "text": [
            "Epoch 76/200: 100%|██████████| 41/41 [00:02<00:00, 18.01it/s, loss=1.26]\n"
          ]
        },
        {
          "output_type": "stream",
          "name": "stdout",
          "text": [
            "Epoch [76/200], Train Loss: 1.2649\n",
            "Validation Loss: 1.2267\n"
          ]
        },
        {
          "output_type": "stream",
          "name": "stderr",
          "text": [
            "Epoch 77/200: 100%|██████████| 41/41 [00:02<00:00, 17.95it/s, loss=1.25]\n"
          ]
        },
        {
          "output_type": "stream",
          "name": "stdout",
          "text": [
            "Epoch [77/200], Train Loss: 1.2528\n",
            "Validation Loss: 1.1623\n"
          ]
        },
        {
          "output_type": "stream",
          "name": "stderr",
          "text": [
            "Epoch 78/200: 100%|██████████| 41/41 [00:02<00:00, 18.02it/s, loss=1.25]\n"
          ]
        },
        {
          "output_type": "stream",
          "name": "stdout",
          "text": [
            "Epoch [78/200], Train Loss: 1.2511\n",
            "Validation Loss: 1.1706\n"
          ]
        },
        {
          "output_type": "stream",
          "name": "stderr",
          "text": [
            "Epoch 79/200: 100%|██████████| 41/41 [00:02<00:00, 17.96it/s, loss=1.21]\n"
          ]
        },
        {
          "output_type": "stream",
          "name": "stdout",
          "text": [
            "Epoch [79/200], Train Loss: 1.2099\n",
            "Validation Loss: 1.1363\n"
          ]
        },
        {
          "output_type": "stream",
          "name": "stderr",
          "text": [
            "Epoch 80/200: 100%|██████████| 41/41 [00:02<00:00, 17.92it/s, loss=1.22]\n"
          ]
        },
        {
          "output_type": "stream",
          "name": "stdout",
          "text": [
            "Epoch [80/200], Train Loss: 1.2219\n",
            "Validation Loss: 1.1325\n"
          ]
        },
        {
          "output_type": "stream",
          "name": "stderr",
          "text": [
            "Epoch 81/200: 100%|██████████| 41/41 [00:02<00:00, 17.98it/s, loss=1.21]\n"
          ]
        },
        {
          "output_type": "stream",
          "name": "stdout",
          "text": [
            "Epoch [81/200], Train Loss: 1.2136\n",
            "Validation Loss: 1.1370\n"
          ]
        },
        {
          "output_type": "stream",
          "name": "stderr",
          "text": [
            "Epoch 82/200: 100%|██████████| 41/41 [00:02<00:00, 17.96it/s, loss=1.19]\n"
          ]
        },
        {
          "output_type": "stream",
          "name": "stdout",
          "text": [
            "Epoch [82/200], Train Loss: 1.1860\n",
            "Validation Loss: 1.1245\n"
          ]
        },
        {
          "output_type": "stream",
          "name": "stderr",
          "text": [
            "Epoch 83/200: 100%|██████████| 41/41 [00:02<00:00, 17.99it/s, loss=1.17]\n"
          ]
        },
        {
          "output_type": "stream",
          "name": "stdout",
          "text": [
            "Epoch [83/200], Train Loss: 1.1744\n",
            "Validation Loss: 1.1226\n"
          ]
        },
        {
          "output_type": "stream",
          "name": "stderr",
          "text": [
            "Epoch 84/200: 100%|██████████| 41/41 [00:02<00:00, 17.97it/s, loss=1.16]\n"
          ]
        },
        {
          "output_type": "stream",
          "name": "stdout",
          "text": [
            "Epoch [84/200], Train Loss: 1.1590\n",
            "Validation Loss: 1.1425\n"
          ]
        },
        {
          "output_type": "stream",
          "name": "stderr",
          "text": [
            "Epoch 85/200: 100%|██████████| 41/41 [00:02<00:00, 17.94it/s, loss=1.19]\n"
          ]
        },
        {
          "output_type": "stream",
          "name": "stdout",
          "text": [
            "Epoch [85/200], Train Loss: 1.1950\n",
            "Validation Loss: 1.1142\n"
          ]
        },
        {
          "output_type": "stream",
          "name": "stderr",
          "text": [
            "Epoch 86/200: 100%|██████████| 41/41 [00:02<00:00, 17.97it/s, loss=1.18]\n"
          ]
        },
        {
          "output_type": "stream",
          "name": "stdout",
          "text": [
            "Epoch [86/200], Train Loss: 1.1757\n",
            "Validation Loss: 1.0952\n"
          ]
        },
        {
          "output_type": "stream",
          "name": "stderr",
          "text": [
            "Epoch 87/200: 100%|██████████| 41/41 [00:02<00:00, 17.97it/s, loss=1.17]\n"
          ]
        },
        {
          "output_type": "stream",
          "name": "stdout",
          "text": [
            "Epoch [87/200], Train Loss: 1.1662\n",
            "Validation Loss: 1.1018\n"
          ]
        },
        {
          "output_type": "stream",
          "name": "stderr",
          "text": [
            "Epoch 88/200: 100%|██████████| 41/41 [00:02<00:00, 18.01it/s, loss=1.18]\n"
          ]
        },
        {
          "output_type": "stream",
          "name": "stdout",
          "text": [
            "Epoch [88/200], Train Loss: 1.1762\n",
            "Validation Loss: 1.1220\n"
          ]
        },
        {
          "output_type": "stream",
          "name": "stderr",
          "text": [
            "Epoch 89/200: 100%|██████████| 41/41 [00:02<00:00, 18.06it/s, loss=1.15]\n"
          ]
        },
        {
          "output_type": "stream",
          "name": "stdout",
          "text": [
            "Epoch [89/200], Train Loss: 1.1498\n",
            "Validation Loss: 1.0909\n"
          ]
        },
        {
          "output_type": "stream",
          "name": "stderr",
          "text": [
            "Epoch 90/200: 100%|██████████| 41/41 [00:02<00:00, 17.90it/s, loss=1.13]\n"
          ]
        },
        {
          "output_type": "stream",
          "name": "stdout",
          "text": [
            "Epoch [90/200], Train Loss: 1.1282\n",
            "Validation Loss: 1.1189\n"
          ]
        },
        {
          "output_type": "stream",
          "name": "stderr",
          "text": [
            "Epoch 91/200: 100%|██████████| 41/41 [00:02<00:00, 17.96it/s, loss=1.14]\n"
          ]
        },
        {
          "output_type": "stream",
          "name": "stdout",
          "text": [
            "Epoch [91/200], Train Loss: 1.1382\n",
            "Validation Loss: 1.0689\n"
          ]
        },
        {
          "output_type": "stream",
          "name": "stderr",
          "text": [
            "Epoch 92/200: 100%|██████████| 41/41 [00:02<00:00, 18.03it/s, loss=1.12]\n"
          ]
        },
        {
          "output_type": "stream",
          "name": "stdout",
          "text": [
            "Epoch [92/200], Train Loss: 1.1238\n",
            "Validation Loss: 1.0845\n"
          ]
        },
        {
          "output_type": "stream",
          "name": "stderr",
          "text": [
            "Epoch 93/200: 100%|██████████| 41/41 [00:02<00:00, 17.99it/s, loss=1.11]\n"
          ]
        },
        {
          "output_type": "stream",
          "name": "stdout",
          "text": [
            "Epoch [93/200], Train Loss: 1.1141\n",
            "Validation Loss: 1.0848\n"
          ]
        },
        {
          "output_type": "stream",
          "name": "stderr",
          "text": [
            "Epoch 94/200: 100%|██████████| 41/41 [00:02<00:00, 18.00it/s, loss=1.13]\n"
          ]
        },
        {
          "output_type": "stream",
          "name": "stdout",
          "text": [
            "Epoch [94/200], Train Loss: 1.1290\n",
            "Validation Loss: 1.0715\n"
          ]
        },
        {
          "output_type": "stream",
          "name": "stderr",
          "text": [
            "Epoch 95/200: 100%|██████████| 41/41 [00:02<00:00, 17.96it/s, loss=1.12]\n"
          ]
        },
        {
          "output_type": "stream",
          "name": "stdout",
          "text": [
            "Epoch [95/200], Train Loss: 1.1196\n",
            "Validation Loss: 1.1249\n"
          ]
        },
        {
          "output_type": "stream",
          "name": "stderr",
          "text": [
            "Epoch 96/200: 100%|██████████| 41/41 [00:02<00:00, 17.87it/s, loss=1.11]\n"
          ]
        },
        {
          "output_type": "stream",
          "name": "stdout",
          "text": [
            "Epoch [96/200], Train Loss: 1.1123\n",
            "Validation Loss: 1.0643\n"
          ]
        },
        {
          "output_type": "stream",
          "name": "stderr",
          "text": [
            "Epoch 97/200: 100%|██████████| 41/41 [00:02<00:00, 18.00it/s, loss=1.07]\n"
          ]
        },
        {
          "output_type": "stream",
          "name": "stdout",
          "text": [
            "Epoch [97/200], Train Loss: 1.0744\n",
            "Validation Loss: 1.0576\n"
          ]
        },
        {
          "output_type": "stream",
          "name": "stderr",
          "text": [
            "Epoch 98/200: 100%|██████████| 41/41 [00:02<00:00, 18.03it/s, loss=1.09]\n"
          ]
        },
        {
          "output_type": "stream",
          "name": "stdout",
          "text": [
            "Epoch [98/200], Train Loss: 1.0857\n",
            "Validation Loss: 1.0718\n"
          ]
        },
        {
          "output_type": "stream",
          "name": "stderr",
          "text": [
            "Epoch 99/200: 100%|██████████| 41/41 [00:02<00:00, 17.96it/s, loss=1.08]\n"
          ]
        },
        {
          "output_type": "stream",
          "name": "stdout",
          "text": [
            "Epoch [99/200], Train Loss: 1.0802\n",
            "Validation Loss: 1.0423\n"
          ]
        },
        {
          "output_type": "stream",
          "name": "stderr",
          "text": [
            "Epoch 100/200: 100%|██████████| 41/41 [00:02<00:00, 17.95it/s, loss=1.06]\n"
          ]
        },
        {
          "output_type": "stream",
          "name": "stdout",
          "text": [
            "Epoch [100/200], Train Loss: 1.0585\n",
            "Validation Loss: 1.0377\n"
          ]
        },
        {
          "output_type": "stream",
          "name": "stderr",
          "text": [
            "Epoch 101/200: 100%|██████████| 41/41 [00:02<00:00, 17.91it/s, loss=1.06]\n"
          ]
        },
        {
          "output_type": "stream",
          "name": "stdout",
          "text": [
            "Epoch [101/200], Train Loss: 1.0605\n",
            "Validation Loss: 1.0319\n"
          ]
        },
        {
          "output_type": "stream",
          "name": "stderr",
          "text": [
            "Epoch 102/200: 100%|██████████| 41/41 [00:02<00:00, 18.02it/s, loss=1.07]\n"
          ]
        },
        {
          "output_type": "stream",
          "name": "stdout",
          "text": [
            "Epoch [102/200], Train Loss: 1.0650\n",
            "Validation Loss: 1.0302\n"
          ]
        },
        {
          "output_type": "stream",
          "name": "stderr",
          "text": [
            "Epoch 103/200: 100%|██████████| 41/41 [00:02<00:00, 17.99it/s, loss=1.05]\n"
          ]
        },
        {
          "output_type": "stream",
          "name": "stdout",
          "text": [
            "Epoch [103/200], Train Loss: 1.0476\n",
            "Validation Loss: 1.0329\n"
          ]
        },
        {
          "output_type": "stream",
          "name": "stderr",
          "text": [
            "Epoch 104/200: 100%|██████████| 41/41 [00:02<00:00, 18.01it/s, loss=1.05]\n"
          ]
        },
        {
          "output_type": "stream",
          "name": "stdout",
          "text": [
            "Epoch [104/200], Train Loss: 1.0479\n",
            "Validation Loss: 1.0255\n"
          ]
        },
        {
          "output_type": "stream",
          "name": "stderr",
          "text": [
            "Epoch 105/200: 100%|██████████| 41/41 [00:02<00:00, 17.91it/s, loss=1.05]\n"
          ]
        },
        {
          "output_type": "stream",
          "name": "stdout",
          "text": [
            "Epoch [105/200], Train Loss: 1.0474\n",
            "Validation Loss: 1.0280\n"
          ]
        },
        {
          "output_type": "stream",
          "name": "stderr",
          "text": [
            "Epoch 106/200: 100%|██████████| 41/41 [00:02<00:00, 17.92it/s, loss=1.05]\n"
          ]
        },
        {
          "output_type": "stream",
          "name": "stdout",
          "text": [
            "Epoch [106/200], Train Loss: 1.0547\n",
            "Validation Loss: 1.0364\n"
          ]
        },
        {
          "output_type": "stream",
          "name": "stderr",
          "text": [
            "Epoch 107/200: 100%|██████████| 41/41 [00:02<00:00, 18.04it/s, loss=1.04]\n"
          ]
        },
        {
          "output_type": "stream",
          "name": "stdout",
          "text": [
            "Epoch [107/200], Train Loss: 1.0390\n",
            "Validation Loss: 1.0351\n"
          ]
        },
        {
          "output_type": "stream",
          "name": "stderr",
          "text": [
            "Epoch 108/200: 100%|██████████| 41/41 [00:02<00:00, 17.99it/s, loss=1.05]\n"
          ]
        },
        {
          "output_type": "stream",
          "name": "stdout",
          "text": [
            "Epoch [108/200], Train Loss: 1.0475\n",
            "Validation Loss: 1.0219\n"
          ]
        },
        {
          "output_type": "stream",
          "name": "stderr",
          "text": [
            "Epoch 109/200: 100%|██████████| 41/41 [00:02<00:00, 17.97it/s, loss=1.03]\n"
          ]
        },
        {
          "output_type": "stream",
          "name": "stdout",
          "text": [
            "Epoch [109/200], Train Loss: 1.0301\n",
            "Validation Loss: 1.0274\n"
          ]
        },
        {
          "output_type": "stream",
          "name": "stderr",
          "text": [
            "Epoch 110/200: 100%|██████████| 41/41 [00:02<00:00, 17.93it/s, loss=1.01]\n"
          ]
        },
        {
          "output_type": "stream",
          "name": "stdout",
          "text": [
            "Epoch [110/200], Train Loss: 1.0146\n",
            "Validation Loss: 1.0179\n"
          ]
        },
        {
          "output_type": "stream",
          "name": "stderr",
          "text": [
            "Epoch 111/200: 100%|██████████| 41/41 [00:02<00:00, 17.95it/s, loss=1.02]\n"
          ]
        },
        {
          "output_type": "stream",
          "name": "stdout",
          "text": [
            "Epoch [111/200], Train Loss: 1.0194\n",
            "Validation Loss: 1.0043\n"
          ]
        },
        {
          "output_type": "stream",
          "name": "stderr",
          "text": [
            "Epoch 112/200: 100%|██████████| 41/41 [00:02<00:00, 18.01it/s, loss=1.03]\n"
          ]
        },
        {
          "output_type": "stream",
          "name": "stdout",
          "text": [
            "Epoch [112/200], Train Loss: 1.0265\n",
            "Validation Loss: 1.0196\n"
          ]
        },
        {
          "output_type": "stream",
          "name": "stderr",
          "text": [
            "Epoch 113/200: 100%|██████████| 41/41 [00:02<00:00, 17.95it/s, loss=1.03]\n"
          ]
        },
        {
          "output_type": "stream",
          "name": "stdout",
          "text": [
            "Epoch [113/200], Train Loss: 1.0265\n",
            "Validation Loss: 1.0181\n"
          ]
        },
        {
          "output_type": "stream",
          "name": "stderr",
          "text": [
            "Epoch 114/200: 100%|██████████| 41/41 [00:02<00:00, 17.99it/s, loss=1.01]\n"
          ]
        },
        {
          "output_type": "stream",
          "name": "stdout",
          "text": [
            "Epoch [114/200], Train Loss: 1.0086\n",
            "Validation Loss: 0.9971\n"
          ]
        },
        {
          "output_type": "stream",
          "name": "stderr",
          "text": [
            "Epoch 115/200: 100%|██████████| 41/41 [00:02<00:00, 17.89it/s, loss=1.02]\n"
          ]
        },
        {
          "output_type": "stream",
          "name": "stdout",
          "text": [
            "Epoch [115/200], Train Loss: 1.0183\n",
            "Validation Loss: 0.9896\n"
          ]
        },
        {
          "output_type": "stream",
          "name": "stderr",
          "text": [
            "Epoch 116/200: 100%|██████████| 41/41 [00:02<00:00, 18.03it/s, loss=0.997]\n"
          ]
        },
        {
          "output_type": "stream",
          "name": "stdout",
          "text": [
            "Epoch [116/200], Train Loss: 0.9965\n",
            "Validation Loss: 0.9925\n"
          ]
        },
        {
          "output_type": "stream",
          "name": "stderr",
          "text": [
            "Epoch 117/200: 100%|██████████| 41/41 [00:02<00:00, 17.97it/s, loss=0.998]\n"
          ]
        },
        {
          "output_type": "stream",
          "name": "stdout",
          "text": [
            "Epoch [117/200], Train Loss: 0.9983\n",
            "Validation Loss: 1.0020\n"
          ]
        },
        {
          "output_type": "stream",
          "name": "stderr",
          "text": [
            "Epoch 118/200: 100%|██████████| 41/41 [00:02<00:00, 18.04it/s, loss=1.01]\n"
          ]
        },
        {
          "output_type": "stream",
          "name": "stdout",
          "text": [
            "Epoch [118/200], Train Loss: 1.0077\n",
            "Validation Loss: 1.0263\n"
          ]
        },
        {
          "output_type": "stream",
          "name": "stderr",
          "text": [
            "Epoch 119/200: 100%|██████████| 41/41 [00:02<00:00, 17.99it/s, loss=1.01]\n"
          ]
        },
        {
          "output_type": "stream",
          "name": "stdout",
          "text": [
            "Epoch [119/200], Train Loss: 1.0095\n",
            "Validation Loss: 0.9906\n"
          ]
        },
        {
          "output_type": "stream",
          "name": "stderr",
          "text": [
            "Epoch 120/200: 100%|██████████| 41/41 [00:02<00:00, 17.97it/s, loss=0.985]\n"
          ]
        },
        {
          "output_type": "stream",
          "name": "stdout",
          "text": [
            "Epoch [120/200], Train Loss: 0.9854\n",
            "Validation Loss: 0.9747\n"
          ]
        },
        {
          "output_type": "stream",
          "name": "stderr",
          "text": [
            "Epoch 121/200: 100%|██████████| 41/41 [00:02<00:00, 17.94it/s, loss=0.975]\n"
          ]
        },
        {
          "output_type": "stream",
          "name": "stdout",
          "text": [
            "Epoch [121/200], Train Loss: 0.9751\n",
            "Validation Loss: 0.9742\n"
          ]
        },
        {
          "output_type": "stream",
          "name": "stderr",
          "text": [
            "Epoch 122/200: 100%|██████████| 41/41 [00:02<00:00, 17.97it/s, loss=0.976]\n"
          ]
        },
        {
          "output_type": "stream",
          "name": "stdout",
          "text": [
            "Epoch [122/200], Train Loss: 0.9756\n",
            "Validation Loss: 1.0241\n"
          ]
        },
        {
          "output_type": "stream",
          "name": "stderr",
          "text": [
            "Epoch 123/200: 100%|██████████| 41/41 [00:02<00:00, 17.95it/s, loss=0.985]\n"
          ]
        },
        {
          "output_type": "stream",
          "name": "stdout",
          "text": [
            "Epoch [123/200], Train Loss: 0.9849\n",
            "Validation Loss: 0.9866\n"
          ]
        },
        {
          "output_type": "stream",
          "name": "stderr",
          "text": [
            "Epoch 124/200: 100%|██████████| 41/41 [00:02<00:00, 17.95it/s, loss=0.972]\n"
          ]
        },
        {
          "output_type": "stream",
          "name": "stdout",
          "text": [
            "Epoch [124/200], Train Loss: 0.9721\n",
            "Validation Loss: 0.9727\n"
          ]
        },
        {
          "output_type": "stream",
          "name": "stderr",
          "text": [
            "Epoch 125/200: 100%|██████████| 41/41 [00:02<00:00, 17.94it/s, loss=0.974]\n"
          ]
        },
        {
          "output_type": "stream",
          "name": "stdout",
          "text": [
            "Epoch [125/200], Train Loss: 0.9738\n",
            "Validation Loss: 0.9671\n"
          ]
        },
        {
          "output_type": "stream",
          "name": "stderr",
          "text": [
            "Epoch 126/200: 100%|██████████| 41/41 [00:02<00:00, 17.97it/s, loss=0.96]\n"
          ]
        },
        {
          "output_type": "stream",
          "name": "stdout",
          "text": [
            "Epoch [126/200], Train Loss: 0.9602\n",
            "Validation Loss: 0.9794\n"
          ]
        },
        {
          "output_type": "stream",
          "name": "stderr",
          "text": [
            "Epoch 127/200: 100%|██████████| 41/41 [00:02<00:00, 18.02it/s, loss=0.977]\n"
          ]
        },
        {
          "output_type": "stream",
          "name": "stdout",
          "text": [
            "Epoch [127/200], Train Loss: 0.9768\n",
            "Validation Loss: 0.9795\n"
          ]
        },
        {
          "output_type": "stream",
          "name": "stderr",
          "text": [
            "Epoch 128/200: 100%|██████████| 41/41 [00:02<00:00, 17.98it/s, loss=0.979]\n"
          ]
        },
        {
          "output_type": "stream",
          "name": "stdout",
          "text": [
            "Epoch [128/200], Train Loss: 0.9786\n",
            "Validation Loss: 0.9776\n"
          ]
        },
        {
          "output_type": "stream",
          "name": "stderr",
          "text": [
            "Epoch 129/200: 100%|██████████| 41/41 [00:02<00:00, 17.96it/s, loss=0.982]\n"
          ]
        },
        {
          "output_type": "stream",
          "name": "stdout",
          "text": [
            "Epoch [129/200], Train Loss: 0.9816\n",
            "Validation Loss: 0.9654\n"
          ]
        },
        {
          "output_type": "stream",
          "name": "stderr",
          "text": [
            "Epoch 130/200: 100%|██████████| 41/41 [00:02<00:00, 17.95it/s, loss=0.955]\n"
          ]
        },
        {
          "output_type": "stream",
          "name": "stdout",
          "text": [
            "Epoch [130/200], Train Loss: 0.9550\n",
            "Validation Loss: 0.9582\n"
          ]
        },
        {
          "output_type": "stream",
          "name": "stderr",
          "text": [
            "Epoch 131/200: 100%|██████████| 41/41 [00:02<00:00, 18.06it/s, loss=0.952]\n"
          ]
        },
        {
          "output_type": "stream",
          "name": "stdout",
          "text": [
            "Epoch [131/200], Train Loss: 0.9519\n",
            "Validation Loss: 0.9476\n"
          ]
        },
        {
          "output_type": "stream",
          "name": "stderr",
          "text": [
            "Epoch 132/200: 100%|██████████| 41/41 [00:02<00:00, 18.04it/s, loss=0.946]\n"
          ]
        },
        {
          "output_type": "stream",
          "name": "stdout",
          "text": [
            "Epoch [132/200], Train Loss: 0.9457\n",
            "Validation Loss: 0.9505\n"
          ]
        },
        {
          "output_type": "stream",
          "name": "stderr",
          "text": [
            "Epoch 133/200: 100%|██████████| 41/41 [00:02<00:00, 17.95it/s, loss=0.956]\n"
          ]
        },
        {
          "output_type": "stream",
          "name": "stdout",
          "text": [
            "Epoch [133/200], Train Loss: 0.9561\n",
            "Validation Loss: 1.0300\n"
          ]
        },
        {
          "output_type": "stream",
          "name": "stderr",
          "text": [
            "Epoch 134/200: 100%|██████████| 41/41 [00:02<00:00, 17.97it/s, loss=0.952]\n"
          ]
        },
        {
          "output_type": "stream",
          "name": "stdout",
          "text": [
            "Epoch [134/200], Train Loss: 0.9521\n",
            "Validation Loss: 0.9439\n"
          ]
        },
        {
          "output_type": "stream",
          "name": "stderr",
          "text": [
            "Epoch 135/200: 100%|██████████| 41/41 [00:02<00:00, 17.90it/s, loss=0.935]\n"
          ]
        },
        {
          "output_type": "stream",
          "name": "stdout",
          "text": [
            "Epoch [135/200], Train Loss: 0.9354\n",
            "Validation Loss: 0.9384\n"
          ]
        },
        {
          "output_type": "stream",
          "name": "stderr",
          "text": [
            "Epoch 136/200: 100%|██████████| 41/41 [00:02<00:00, 17.99it/s, loss=0.952]\n"
          ]
        },
        {
          "output_type": "stream",
          "name": "stdout",
          "text": [
            "Epoch [136/200], Train Loss: 0.9520\n",
            "Validation Loss: 0.9722\n"
          ]
        },
        {
          "output_type": "stream",
          "name": "stderr",
          "text": [
            "Epoch 137/200: 100%|██████████| 41/41 [00:02<00:00, 17.98it/s, loss=0.963]\n"
          ]
        },
        {
          "output_type": "stream",
          "name": "stdout",
          "text": [
            "Epoch [137/200], Train Loss: 0.9633\n",
            "Validation Loss: 0.9450\n"
          ]
        },
        {
          "output_type": "stream",
          "name": "stderr",
          "text": [
            "Epoch 138/200: 100%|██████████| 41/41 [00:02<00:00, 18.02it/s, loss=0.93]\n"
          ]
        },
        {
          "output_type": "stream",
          "name": "stdout",
          "text": [
            "Epoch [138/200], Train Loss: 0.9297\n",
            "Validation Loss: 0.9566\n"
          ]
        },
        {
          "output_type": "stream",
          "name": "stderr",
          "text": [
            "Epoch 139/200: 100%|██████████| 41/41 [00:02<00:00, 18.00it/s, loss=0.933]\n"
          ]
        },
        {
          "output_type": "stream",
          "name": "stdout",
          "text": [
            "Epoch [139/200], Train Loss: 0.9329\n",
            "Validation Loss: 0.9285\n"
          ]
        },
        {
          "output_type": "stream",
          "name": "stderr",
          "text": [
            "Epoch 140/200: 100%|██████████| 41/41 [00:02<00:00, 17.96it/s, loss=0.932]\n"
          ]
        },
        {
          "output_type": "stream",
          "name": "stdout",
          "text": [
            "Epoch [140/200], Train Loss: 0.9320\n",
            "Validation Loss: 0.9305\n"
          ]
        },
        {
          "output_type": "stream",
          "name": "stderr",
          "text": [
            "Epoch 141/200: 100%|██████████| 41/41 [00:02<00:00, 17.96it/s, loss=0.924]\n"
          ]
        },
        {
          "output_type": "stream",
          "name": "stdout",
          "text": [
            "Epoch [141/200], Train Loss: 0.9242\n",
            "Validation Loss: 0.9340\n"
          ]
        },
        {
          "output_type": "stream",
          "name": "stderr",
          "text": [
            "Epoch 142/200: 100%|██████████| 41/41 [00:02<00:00, 17.97it/s, loss=0.926]\n"
          ]
        },
        {
          "output_type": "stream",
          "name": "stdout",
          "text": [
            "Epoch [142/200], Train Loss: 0.9263\n",
            "Validation Loss: 0.9272\n"
          ]
        },
        {
          "output_type": "stream",
          "name": "stderr",
          "text": [
            "Epoch 143/200: 100%|██████████| 41/41 [00:02<00:00, 17.94it/s, loss=0.917]\n"
          ]
        },
        {
          "output_type": "stream",
          "name": "stdout",
          "text": [
            "Epoch [143/200], Train Loss: 0.9173\n",
            "Validation Loss: 0.9174\n"
          ]
        },
        {
          "output_type": "stream",
          "name": "stderr",
          "text": [
            "Epoch 144/200: 100%|██████████| 41/41 [00:02<00:00, 17.96it/s, loss=0.923]\n"
          ]
        },
        {
          "output_type": "stream",
          "name": "stdout",
          "text": [
            "Epoch [144/200], Train Loss: 0.9226\n",
            "Validation Loss: 0.9337\n"
          ]
        },
        {
          "output_type": "stream",
          "name": "stderr",
          "text": [
            "Epoch 145/200: 100%|██████████| 41/41 [00:02<00:00, 17.97it/s, loss=0.925]\n"
          ]
        },
        {
          "output_type": "stream",
          "name": "stdout",
          "text": [
            "Epoch [145/200], Train Loss: 0.9248\n",
            "Validation Loss: 0.9386\n"
          ]
        },
        {
          "output_type": "stream",
          "name": "stderr",
          "text": [
            "Epoch 146/200: 100%|██████████| 41/41 [00:02<00:00, 17.95it/s, loss=0.91]\n"
          ]
        },
        {
          "output_type": "stream",
          "name": "stdout",
          "text": [
            "Epoch [146/200], Train Loss: 0.9095\n",
            "Validation Loss: 0.9241\n"
          ]
        },
        {
          "output_type": "stream",
          "name": "stderr",
          "text": [
            "Epoch 147/200: 100%|██████████| 41/41 [00:02<00:00, 17.98it/s, loss=0.912]\n"
          ]
        },
        {
          "output_type": "stream",
          "name": "stdout",
          "text": [
            "Epoch [147/200], Train Loss: 0.9118\n",
            "Validation Loss: 0.9175\n"
          ]
        },
        {
          "output_type": "stream",
          "name": "stderr",
          "text": [
            "Epoch 148/200: 100%|██████████| 41/41 [00:02<00:00, 17.92it/s, loss=0.917]\n"
          ]
        },
        {
          "output_type": "stream",
          "name": "stdout",
          "text": [
            "Epoch [148/200], Train Loss: 0.9170\n",
            "Validation Loss: 0.9462\n"
          ]
        },
        {
          "output_type": "stream",
          "name": "stderr",
          "text": [
            "Epoch 149/200: 100%|██████████| 41/41 [00:02<00:00, 18.01it/s, loss=0.908]\n"
          ]
        },
        {
          "output_type": "stream",
          "name": "stdout",
          "text": [
            "Epoch [149/200], Train Loss: 0.9085\n",
            "Validation Loss: 0.9168\n"
          ]
        },
        {
          "output_type": "stream",
          "name": "stderr",
          "text": [
            "Epoch 150/200: 100%|██████████| 41/41 [00:02<00:00, 17.98it/s, loss=0.902]\n"
          ]
        },
        {
          "output_type": "stream",
          "name": "stdout",
          "text": [
            "Epoch [150/200], Train Loss: 0.9018\n",
            "Validation Loss: 0.9100\n"
          ]
        },
        {
          "output_type": "stream",
          "name": "stderr",
          "text": [
            "Epoch 151/200: 100%|██████████| 41/41 [00:02<00:00, 18.00it/s, loss=0.904]\n"
          ]
        },
        {
          "output_type": "stream",
          "name": "stdout",
          "text": [
            "Epoch [151/200], Train Loss: 0.9045\n",
            "Validation Loss: 0.9176\n"
          ]
        },
        {
          "output_type": "stream",
          "name": "stderr",
          "text": [
            "Epoch 152/200: 100%|██████████| 41/41 [00:02<00:00, 17.98it/s, loss=0.9]\n"
          ]
        },
        {
          "output_type": "stream",
          "name": "stdout",
          "text": [
            "Epoch [152/200], Train Loss: 0.9003\n",
            "Validation Loss: 0.9281\n"
          ]
        },
        {
          "output_type": "stream",
          "name": "stderr",
          "text": [
            "Epoch 153/200: 100%|██████████| 41/41 [00:02<00:00, 17.98it/s, loss=0.894]\n"
          ]
        },
        {
          "output_type": "stream",
          "name": "stdout",
          "text": [
            "Epoch [153/200], Train Loss: 0.8935\n",
            "Validation Loss: 0.9017\n"
          ]
        },
        {
          "output_type": "stream",
          "name": "stderr",
          "text": [
            "Epoch 154/200: 100%|██████████| 41/41 [00:02<00:00, 17.94it/s, loss=0.89]\n"
          ]
        },
        {
          "output_type": "stream",
          "name": "stdout",
          "text": [
            "Epoch [154/200], Train Loss: 0.8898\n",
            "Validation Loss: 0.9053\n"
          ]
        },
        {
          "output_type": "stream",
          "name": "stderr",
          "text": [
            "Epoch 155/200: 100%|██████████| 41/41 [00:02<00:00, 17.97it/s, loss=0.887]\n"
          ]
        },
        {
          "output_type": "stream",
          "name": "stdout",
          "text": [
            "Epoch [155/200], Train Loss: 0.8869\n",
            "Validation Loss: 0.9021\n"
          ]
        },
        {
          "output_type": "stream",
          "name": "stderr",
          "text": [
            "Epoch 156/200: 100%|██████████| 41/41 [00:02<00:00, 17.99it/s, loss=0.889]\n"
          ]
        },
        {
          "output_type": "stream",
          "name": "stdout",
          "text": [
            "Epoch [156/200], Train Loss: 0.8893\n",
            "Validation Loss: 0.8904\n"
          ]
        },
        {
          "output_type": "stream",
          "name": "stderr",
          "text": [
            "Epoch 157/200: 100%|██████████| 41/41 [00:02<00:00, 17.96it/s, loss=0.887]\n"
          ]
        },
        {
          "output_type": "stream",
          "name": "stdout",
          "text": [
            "Epoch [157/200], Train Loss: 0.8874\n",
            "Validation Loss: 0.8911\n"
          ]
        },
        {
          "output_type": "stream",
          "name": "stderr",
          "text": [
            "Epoch 158/200: 100%|██████████| 41/41 [00:02<00:00, 17.96it/s, loss=0.88]\n"
          ]
        },
        {
          "output_type": "stream",
          "name": "stdout",
          "text": [
            "Epoch [158/200], Train Loss: 0.8799\n",
            "Validation Loss: 0.8932\n"
          ]
        },
        {
          "output_type": "stream",
          "name": "stderr",
          "text": [
            "Epoch 159/200: 100%|██████████| 41/41 [00:02<00:00, 17.95it/s, loss=0.89]\n"
          ]
        },
        {
          "output_type": "stream",
          "name": "stdout",
          "text": [
            "Epoch [159/200], Train Loss: 0.8899\n",
            "Validation Loss: 0.9423\n"
          ]
        },
        {
          "output_type": "stream",
          "name": "stderr",
          "text": [
            "Epoch 160/200: 100%|██████████| 41/41 [00:02<00:00, 17.90it/s, loss=0.887]\n"
          ]
        },
        {
          "output_type": "stream",
          "name": "stdout",
          "text": [
            "Epoch [160/200], Train Loss: 0.8871\n",
            "Validation Loss: 0.8929\n"
          ]
        },
        {
          "output_type": "stream",
          "name": "stderr",
          "text": [
            "Epoch 161/200: 100%|██████████| 41/41 [00:02<00:00, 17.88it/s, loss=0.886]\n"
          ]
        },
        {
          "output_type": "stream",
          "name": "stdout",
          "text": [
            "Epoch [161/200], Train Loss: 0.8859\n",
            "Validation Loss: 0.8798\n"
          ]
        },
        {
          "output_type": "stream",
          "name": "stderr",
          "text": [
            "Epoch 162/200: 100%|██████████| 41/41 [00:02<00:00, 17.93it/s, loss=0.87]\n"
          ]
        },
        {
          "output_type": "stream",
          "name": "stdout",
          "text": [
            "Epoch [162/200], Train Loss: 0.8697\n",
            "Validation Loss: 0.8831\n"
          ]
        },
        {
          "output_type": "stream",
          "name": "stderr",
          "text": [
            "Epoch 163/200: 100%|██████████| 41/41 [00:02<00:00, 17.99it/s, loss=0.874]\n"
          ]
        },
        {
          "output_type": "stream",
          "name": "stdout",
          "text": [
            "Epoch [163/200], Train Loss: 0.8744\n",
            "Validation Loss: 0.8832\n"
          ]
        },
        {
          "output_type": "stream",
          "name": "stderr",
          "text": [
            "Epoch 164/200: 100%|██████████| 41/41 [00:02<00:00, 17.96it/s, loss=0.869]\n"
          ]
        },
        {
          "output_type": "stream",
          "name": "stdout",
          "text": [
            "Epoch [164/200], Train Loss: 0.8694\n",
            "Validation Loss: 0.8791\n"
          ]
        },
        {
          "output_type": "stream",
          "name": "stderr",
          "text": [
            "Epoch 165/200: 100%|██████████| 41/41 [00:02<00:00, 17.99it/s, loss=0.869]\n"
          ]
        },
        {
          "output_type": "stream",
          "name": "stdout",
          "text": [
            "Epoch [165/200], Train Loss: 0.8694\n",
            "Validation Loss: 0.8774\n"
          ]
        },
        {
          "output_type": "stream",
          "name": "stderr",
          "text": [
            "Epoch 166/200: 100%|██████████| 41/41 [00:02<00:00, 17.96it/s, loss=0.859]\n"
          ]
        },
        {
          "output_type": "stream",
          "name": "stdout",
          "text": [
            "Epoch [166/200], Train Loss: 0.8591\n",
            "Validation Loss: 0.8751\n"
          ]
        },
        {
          "output_type": "stream",
          "name": "stderr",
          "text": [
            "Epoch 167/200: 100%|██████████| 41/41 [00:02<00:00, 17.97it/s, loss=0.855]\n"
          ]
        },
        {
          "output_type": "stream",
          "name": "stdout",
          "text": [
            "Epoch [167/200], Train Loss: 0.8551\n",
            "Validation Loss: 0.8752\n"
          ]
        },
        {
          "output_type": "stream",
          "name": "stderr",
          "text": [
            "Epoch 168/200: 100%|██████████| 41/41 [00:02<00:00, 18.00it/s, loss=0.862]\n"
          ]
        },
        {
          "output_type": "stream",
          "name": "stdout",
          "text": [
            "Epoch [168/200], Train Loss: 0.8622\n",
            "Validation Loss: 0.8839\n"
          ]
        },
        {
          "output_type": "stream",
          "name": "stderr",
          "text": [
            "Epoch 169/200: 100%|██████████| 41/41 [00:02<00:00, 17.97it/s, loss=0.86]\n"
          ]
        },
        {
          "output_type": "stream",
          "name": "stdout",
          "text": [
            "Epoch [169/200], Train Loss: 0.8601\n",
            "Validation Loss: 0.9085\n"
          ]
        },
        {
          "output_type": "stream",
          "name": "stderr",
          "text": [
            "Epoch 170/200: 100%|██████████| 41/41 [00:02<00:00, 17.91it/s, loss=0.854]\n"
          ]
        },
        {
          "output_type": "stream",
          "name": "stdout",
          "text": [
            "Epoch [170/200], Train Loss: 0.8542\n",
            "Validation Loss: 0.8759\n"
          ]
        },
        {
          "output_type": "stream",
          "name": "stderr",
          "text": [
            "Epoch 171/200: 100%|██████████| 41/41 [00:02<00:00, 17.91it/s, loss=0.857]\n"
          ]
        },
        {
          "output_type": "stream",
          "name": "stdout",
          "text": [
            "Epoch [171/200], Train Loss: 0.8566\n",
            "Validation Loss: 0.8567\n"
          ]
        },
        {
          "output_type": "stream",
          "name": "stderr",
          "text": [
            "Epoch 172/200: 100%|██████████| 41/41 [00:02<00:00, 17.98it/s, loss=0.843]\n"
          ]
        },
        {
          "output_type": "stream",
          "name": "stdout",
          "text": [
            "Epoch [172/200], Train Loss: 0.8433\n",
            "Validation Loss: 0.8674\n"
          ]
        },
        {
          "output_type": "stream",
          "name": "stderr",
          "text": [
            "Epoch 173/200: 100%|██████████| 41/41 [00:02<00:00, 18.02it/s, loss=0.836]\n"
          ]
        },
        {
          "output_type": "stream",
          "name": "stdout",
          "text": [
            "Epoch [173/200], Train Loss: 0.8365\n",
            "Validation Loss: 0.9243\n"
          ]
        },
        {
          "output_type": "stream",
          "name": "stderr",
          "text": [
            "Epoch 174/200: 100%|██████████| 41/41 [00:02<00:00, 18.02it/s, loss=0.854]\n"
          ]
        },
        {
          "output_type": "stream",
          "name": "stdout",
          "text": [
            "Epoch [174/200], Train Loss: 0.8542\n",
            "Validation Loss: 0.8977\n"
          ]
        },
        {
          "output_type": "stream",
          "name": "stderr",
          "text": [
            "Epoch 175/200: 100%|██████████| 41/41 [00:02<00:00, 18.00it/s, loss=0.843]\n"
          ]
        },
        {
          "output_type": "stream",
          "name": "stdout",
          "text": [
            "Epoch [175/200], Train Loss: 0.8432\n",
            "Validation Loss: 0.8699\n"
          ]
        },
        {
          "output_type": "stream",
          "name": "stderr",
          "text": [
            "Epoch 176/200: 100%|██████████| 41/41 [00:02<00:00, 17.97it/s, loss=0.831]\n"
          ]
        },
        {
          "output_type": "stream",
          "name": "stdout",
          "text": [
            "Epoch [176/200], Train Loss: 0.8309\n",
            "Validation Loss: 0.8465\n"
          ]
        },
        {
          "output_type": "stream",
          "name": "stderr",
          "text": [
            "Epoch 177/200: 100%|██████████| 41/41 [00:02<00:00, 18.00it/s, loss=0.836]\n"
          ]
        },
        {
          "output_type": "stream",
          "name": "stdout",
          "text": [
            "Epoch [177/200], Train Loss: 0.8363\n",
            "Validation Loss: 0.8586\n"
          ]
        },
        {
          "output_type": "stream",
          "name": "stderr",
          "text": [
            "Epoch 178/200: 100%|██████████| 41/41 [00:02<00:00, 17.93it/s, loss=0.83]\n"
          ]
        },
        {
          "output_type": "stream",
          "name": "stdout",
          "text": [
            "Epoch [178/200], Train Loss: 0.8305\n",
            "Validation Loss: 0.8544\n"
          ]
        },
        {
          "output_type": "stream",
          "name": "stderr",
          "text": [
            "Epoch 179/200: 100%|██████████| 41/41 [00:02<00:00, 17.97it/s, loss=0.833]\n"
          ]
        },
        {
          "output_type": "stream",
          "name": "stdout",
          "text": [
            "Epoch [179/200], Train Loss: 0.8327\n",
            "Validation Loss: 0.8871\n"
          ]
        },
        {
          "output_type": "stream",
          "name": "stderr",
          "text": [
            "Epoch 180/200: 100%|██████████| 41/41 [00:02<00:00, 17.95it/s, loss=0.824]\n"
          ]
        },
        {
          "output_type": "stream",
          "name": "stdout",
          "text": [
            "Epoch [180/200], Train Loss: 0.8244\n",
            "Validation Loss: 0.8593\n"
          ]
        },
        {
          "output_type": "stream",
          "name": "stderr",
          "text": [
            "Epoch 181/200: 100%|██████████| 41/41 [00:02<00:00, 17.91it/s, loss=0.826]\n"
          ]
        },
        {
          "output_type": "stream",
          "name": "stdout",
          "text": [
            "Epoch [181/200], Train Loss: 0.8264\n",
            "Validation Loss: 0.8526\n"
          ]
        },
        {
          "output_type": "stream",
          "name": "stderr",
          "text": [
            "Epoch 182/200: 100%|██████████| 41/41 [00:02<00:00, 17.96it/s, loss=0.827]\n"
          ]
        },
        {
          "output_type": "stream",
          "name": "stdout",
          "text": [
            "Epoch [182/200], Train Loss: 0.8274\n",
            "Validation Loss: 0.8311\n"
          ]
        },
        {
          "output_type": "stream",
          "name": "stderr",
          "text": [
            "Epoch 183/200: 100%|██████████| 41/41 [00:02<00:00, 18.03it/s, loss=0.825]\n"
          ]
        },
        {
          "output_type": "stream",
          "name": "stdout",
          "text": [
            "Epoch [183/200], Train Loss: 0.8246\n",
            "Validation Loss: 0.9163\n"
          ]
        },
        {
          "output_type": "stream",
          "name": "stderr",
          "text": [
            "Epoch 184/200: 100%|██████████| 41/41 [00:02<00:00, 18.01it/s, loss=0.817]\n"
          ]
        },
        {
          "output_type": "stream",
          "name": "stdout",
          "text": [
            "Epoch [184/200], Train Loss: 0.8175\n",
            "Validation Loss: 0.9022\n"
          ]
        },
        {
          "output_type": "stream",
          "name": "stderr",
          "text": [
            "Epoch 185/200: 100%|██████████| 41/41 [00:02<00:00, 17.95it/s, loss=0.818]\n"
          ]
        },
        {
          "output_type": "stream",
          "name": "stdout",
          "text": [
            "Epoch [185/200], Train Loss: 0.8178\n",
            "Validation Loss: 0.8332\n"
          ]
        },
        {
          "output_type": "stream",
          "name": "stderr",
          "text": [
            "Epoch 186/200: 100%|██████████| 41/41 [00:02<00:00, 17.85it/s, loss=0.808]\n"
          ]
        },
        {
          "output_type": "stream",
          "name": "stdout",
          "text": [
            "Epoch [186/200], Train Loss: 0.8078\n",
            "Validation Loss: 0.8436\n"
          ]
        },
        {
          "output_type": "stream",
          "name": "stderr",
          "text": [
            "Epoch 187/200: 100%|██████████| 41/41 [00:02<00:00, 17.98it/s, loss=0.811]\n"
          ]
        },
        {
          "output_type": "stream",
          "name": "stdout",
          "text": [
            "Epoch [187/200], Train Loss: 0.8109\n",
            "Validation Loss: 0.8223\n"
          ]
        },
        {
          "output_type": "stream",
          "name": "stderr",
          "text": [
            "Epoch 188/200: 100%|██████████| 41/41 [00:02<00:00, 17.99it/s, loss=0.808]\n"
          ]
        },
        {
          "output_type": "stream",
          "name": "stdout",
          "text": [
            "Epoch [188/200], Train Loss: 0.8083\n",
            "Validation Loss: 0.8125\n"
          ]
        },
        {
          "output_type": "stream",
          "name": "stderr",
          "text": [
            "Epoch 189/200: 100%|██████████| 41/41 [00:02<00:00, 18.02it/s, loss=0.809]\n"
          ]
        },
        {
          "output_type": "stream",
          "name": "stdout",
          "text": [
            "Epoch [189/200], Train Loss: 0.8089\n",
            "Validation Loss: 0.8362\n"
          ]
        },
        {
          "output_type": "stream",
          "name": "stderr",
          "text": [
            "Epoch 190/200: 100%|██████████| 41/41 [00:02<00:00, 17.98it/s, loss=0.812]\n"
          ]
        },
        {
          "output_type": "stream",
          "name": "stdout",
          "text": [
            "Epoch [190/200], Train Loss: 0.8117\n",
            "Validation Loss: 0.8216\n"
          ]
        },
        {
          "output_type": "stream",
          "name": "stderr",
          "text": [
            "Epoch 191/200: 100%|██████████| 41/41 [00:02<00:00, 17.89it/s, loss=0.806]\n"
          ]
        },
        {
          "output_type": "stream",
          "name": "stdout",
          "text": [
            "Epoch [191/200], Train Loss: 0.8064\n",
            "Validation Loss: 0.8252\n"
          ]
        },
        {
          "output_type": "stream",
          "name": "stderr",
          "text": [
            "Epoch 192/200: 100%|██████████| 41/41 [00:02<00:00, 18.04it/s, loss=0.801]\n"
          ]
        },
        {
          "output_type": "stream",
          "name": "stdout",
          "text": [
            "Epoch [192/200], Train Loss: 0.8013\n",
            "Validation Loss: 0.8917\n"
          ]
        },
        {
          "output_type": "stream",
          "name": "stderr",
          "text": [
            "Epoch 193/200: 100%|██████████| 41/41 [00:02<00:00, 18.01it/s, loss=0.791]\n"
          ]
        },
        {
          "output_type": "stream",
          "name": "stdout",
          "text": [
            "Epoch [193/200], Train Loss: 0.7913\n",
            "Validation Loss: 0.8167\n"
          ]
        },
        {
          "output_type": "stream",
          "name": "stderr",
          "text": [
            "Epoch 194/200: 100%|██████████| 41/41 [00:02<00:00, 18.02it/s, loss=0.794]\n"
          ]
        },
        {
          "output_type": "stream",
          "name": "stdout",
          "text": [
            "Epoch [194/200], Train Loss: 0.7936\n",
            "Validation Loss: 0.8889\n"
          ]
        },
        {
          "output_type": "stream",
          "name": "stderr",
          "text": [
            "Epoch 195/200: 100%|██████████| 41/41 [00:02<00:00, 17.94it/s, loss=0.796]\n"
          ]
        },
        {
          "output_type": "stream",
          "name": "stdout",
          "text": [
            "Epoch [195/200], Train Loss: 0.7960\n",
            "Validation Loss: 0.8115\n"
          ]
        },
        {
          "output_type": "stream",
          "name": "stderr",
          "text": [
            "Epoch 196/200: 100%|██████████| 41/41 [00:02<00:00, 17.94it/s, loss=0.794]\n"
          ]
        },
        {
          "output_type": "stream",
          "name": "stdout",
          "text": [
            "Epoch [196/200], Train Loss: 0.7940\n",
            "Validation Loss: 0.8530\n"
          ]
        },
        {
          "output_type": "stream",
          "name": "stderr",
          "text": [
            "Epoch 197/200: 100%|██████████| 41/41 [00:02<00:00, 18.06it/s, loss=0.795]\n"
          ]
        },
        {
          "output_type": "stream",
          "name": "stdout",
          "text": [
            "Epoch [197/200], Train Loss: 0.7948\n",
            "Validation Loss: 0.9301\n"
          ]
        },
        {
          "output_type": "stream",
          "name": "stderr",
          "text": [
            "Epoch 198/200: 100%|██████████| 41/41 [00:02<00:00, 17.97it/s, loss=0.795]\n"
          ]
        },
        {
          "output_type": "stream",
          "name": "stdout",
          "text": [
            "Epoch [198/200], Train Loss: 0.7954\n",
            "Validation Loss: 1.0634\n"
          ]
        },
        {
          "output_type": "stream",
          "name": "stderr",
          "text": [
            "Epoch 199/200: 100%|██████████| 41/41 [00:02<00:00, 17.98it/s, loss=0.788]\n"
          ]
        },
        {
          "output_type": "stream",
          "name": "stdout",
          "text": [
            "Epoch [199/200], Train Loss: 0.7881\n",
            "Validation Loss: 0.9263\n"
          ]
        },
        {
          "output_type": "stream",
          "name": "stderr",
          "text": [
            "Epoch 200/200: 100%|██████████| 41/41 [00:02<00:00, 17.94it/s, loss=0.791]\n"
          ]
        },
        {
          "output_type": "stream",
          "name": "stdout",
          "text": [
            "Epoch [200/200], Train Loss: 0.7912\n",
            "Validation Loss: 0.8422\n"
          ]
        }
      ],
      "source": [
        "from torch.optim.lr_scheduler import ReduceLROnPlateau\n",
        "loss_fn = nn.MSELoss()\n",
        "model = ShallowCNN(num_neuron=168)\n",
        "model.apply(ShallowCNN.init_weights)\n",
        "model.to(device)\n",
        "\n",
        "optimizer = AdamW(model.parameters(), lr=0.005, weight_decay=1e-5)\n",
        "#scheduler = ReduceLROnPlateau(optimizer=optimizer, mode='min', factor=0.1, patience=5)\n",
        "train_model(model, ITdataloader_train, ITdataloader_val, loss_fn, optimizer, num_epochs=200, scheduler=None)\n",
        "\n",
        "save_path = '/content/drive/MyDrive/nx414/shallow_cnn.pth'\n",
        "torch.save(model.state_dict(), save_path)"
      ]
    },
    {
      "cell_type": "code",
      "source": [
        "load_path = '/content/drive/MyDrive/nx414/shallow_cnn.pth'\n",
        "model = ShallowCNN(num_neuron=168)\n",
        "model.to(device)\n",
        "model.load_state_dict(torch.load(load_path))"
      ],
      "metadata": {
        "colab": {
          "base_uri": "https://localhost:8080/"
        },
        "id": "98xyevTkTNPu",
        "outputId": "7e2dd8f7-fefa-4bf8-e967-83f5401df958"
      },
      "id": "98xyevTkTNPu",
      "execution_count": 9,
      "outputs": [
        {
          "output_type": "execute_result",
          "data": {
            "text/plain": [
              "<All keys matched successfully>"
            ]
          },
          "metadata": {},
          "execution_count": 9
        }
      ]
    },
    {
      "cell_type": "code",
      "source": [
        "model.eval()\n",
        "\n",
        "prediction_train = []\n",
        "\n",
        "ITdataloader_train2 = DataLoader(SpikeData(stimulus_train, spikes_train), batch_size=64, shuffle=False)\n",
        "\n",
        "with torch.no_grad():\n",
        "    for stimulus, _ in ITdataloader_train2:\n",
        "        inputs = stimulus.to(device)\n",
        "        outputs = model(inputs)\n",
        "        prediction_train.append(outputs.cpu())\n",
        "\n",
        "prediction_train = torch.cat(prediction_train, dim=0)\n",
        "prediction_train.shape"
      ],
      "metadata": {
        "colab": {
          "base_uri": "https://localhost:8080/"
        },
        "id": "aA3MWg8u5rJo",
        "outputId": "a408a82d-7c02-4d8f-955a-4f734257794d"
      },
      "id": "aA3MWg8u5rJo",
      "execution_count": 10,
      "outputs": [
        {
          "output_type": "execute_result",
          "data": {
            "text/plain": [
              "torch.Size([2592, 168])"
            ]
          },
          "metadata": {},
          "execution_count": 10
        }
      ]
    },
    {
      "cell_type": "code",
      "source": [
        "model.eval()\n",
        "\n",
        "prediction_val = []\n",
        "\n",
        "with torch.no_grad():\n",
        "    for stimulus, _ in ITdataloader_val:\n",
        "        inputs = stimulus.to(device)\n",
        "        outputs = model(inputs)\n",
        "        prediction_val.append(outputs.cpu())\n",
        "\n",
        "prediction_val = torch.cat(prediction_val, dim=0)\n",
        "prediction_val.shape"
      ],
      "metadata": {
        "colab": {
          "base_uri": "https://localhost:8080/"
        },
        "id": "DWpjZaEJ6i7N",
        "outputId": "5cd273bf-b222-4684-971a-1e92da9b2d88"
      },
      "id": "DWpjZaEJ6i7N",
      "execution_count": 11,
      "outputs": [
        {
          "output_type": "execute_result",
          "data": {
            "text/plain": [
              "torch.Size([288, 168])"
            ]
          },
          "metadata": {},
          "execution_count": 11
        }
      ]
    },
    {
      "cell_type": "code",
      "source": [
        "import matplotlib.pyplot as plt\n",
        "\n",
        "n_neurons = spikes_train.shape[1]\n",
        "\n",
        "pearson_corr_shallowcnn = np.zeros((n_neurons,2))\n",
        "for i in range(n_neurons):\n",
        "    pearson_corr_shallowcnn[i,0] = np.corrcoef(spikes_train[:, i],prediction_train[:, i])[0, 1]\n",
        "    pearson_corr_shallowcnn[i,1] = np.corrcoef(spikes_val[:, i],prediction_val[:, i])[0, 1]\n",
        "plt.figure()\n",
        "plt.title('Pearson correlation coefficients')\n",
        "plt.plot(pearson_corr_shallowcnn[:,1], label='validation')\n",
        "plt.plot(pearson_corr_shallowcnn[:,0], label='training')\n",
        "plt.legend()\n",
        "plt.show()\n",
        "plt.figure()\n",
        "\n",
        "print(f\"Pearson correlation on training set: {np.mean(pearson_corr_shallowcnn[:,0])}\")\n",
        "print(f\"Pearson correlation on validation set: {np.mean(pearson_corr_shallowcnn[:,1])}\")"
      ],
      "metadata": {
        "colab": {
          "base_uri": "https://localhost:8080/",
          "height": 506
        },
        "id": "u7XWAhmg7g3I",
        "outputId": "a90251c1-c780-44f6-883c-9a8606b78402"
      },
      "id": "u7XWAhmg7g3I",
      "execution_count": 12,
      "outputs": [
        {
          "output_type": "display_data",
          "data": {
            "text/plain": [
              "<Figure size 640x480 with 1 Axes>"
            ],
            "image/png": "[encoded data removed]"
          },
          "metadata": {}
        },
        {
          "output_type": "stream",
          "name": "stdout",
          "text": [
            "Pearson correlation on training set: 0.6529552393890089\n",
            "Pearson correlation on validation set: 0.4503878191236212\n"
          ]
        },
        {
          "output_type": "display_data",
          "data": {
            "text/plain": [
              "<Figure size 640x480 with 0 Axes>"
            ]
          },
          "metadata": {}
        }
      ]
    },
    {
      "cell_type": "code",
      "source": [
        "from sklearn.metrics import r2_score\n",
        "\n",
        "r2_train = [r2_score(spikes_train[:, i], prediction_train[:, i]) for i in range(spikes_train.shape[1])]\n",
        "r2_val = [r2_score(spikes_val[:, i], prediction_val[:, i]) for i in range(spikes_val.shape[1])]\n",
        "\n",
        "plt.figure(figsize=(12, 5))\n",
        "plt.bar(range(len(r2_train)), r2_train)\n",
        "plt.bar(range(len(r2_val)), r2_val)\n",
        "plt.xlabel('Neuron Index')\n",
        "plt.ylabel('R² Score')\n",
        "plt.title('R² Score per Neuron')\n",
        "plt.grid(True)\n",
        "plt.show()"
      ],
      "metadata": {
        "colab": {
          "base_uri": "https://localhost:8080/",
          "height": 487
        },
        "id": "D1a5IjvBkEP_",
        "outputId": "ae164f90-51d3-4997-9233-4a12d22912d8"
      },
      "id": "D1a5IjvBkEP_",
      "execution_count": 13,
      "outputs": [
        {
          "output_type": "display_data",
          "data": {
            "text/plain": [
              "<Figure size 1200x500 with 1 Axes>"
            ],
            "image/png": "[encoded data removed]"
          },
          "metadata": {}
        }
      ]
    },
    {
      "cell_type": "code",
      "source": [
        "example_id = 4\n",
        "\n",
        "plt.figure(figsize= (10,8))\n",
        "plt.title(f'Neural activity prediction of neuron {example_id} in validation set')\n",
        "plt.plot(spikes_val[:,example_id], label = \"True\")\n",
        "plt.plot(prediction_val[:,example_id], label = \"Prediction\")\n",
        "plt.legend()\n",
        "plt.show()\n",
        "plt.figure()"
      ],
      "metadata": {
        "colab": {
          "base_uri": "https://localhost:8080/",
          "height": 735
        },
        "id": "sZPXOFJX8yXO",
        "outputId": "8cce1ed1-6ad9-4d97-eff4-7be23c0b46b2"
      },
      "id": "sZPXOFJX8yXO",
      "execution_count": 14,
      "outputs": [
        {
          "output_type": "display_data",
          "data": {
            "text/plain": [
              "<Figure size 1000x800 with 1 Axes>"
            ],
            "image/png": "[encoded data removed]"
          },
          "metadata": {}
        },
        {
          "output_type": "execute_result",
          "data": {
            "text/plain": [
              "<Figure size 640x480 with 0 Axes>"
            ]
          },
          "metadata": {},
          "execution_count": 14
        },
        {
          "output_type": "display_data",
          "data": {
            "text/plain": [
              "<Figure size 640x480 with 0 Axes>"
            ]
          },
          "metadata": {}
        }
      ]
    },
    {
      "cell_type": "code",
      "source": [
        "ITdataloader_test.dataset.stimulus"
      ],
      "metadata": {
        "id": "ksSP63p8soIW",
        "outputId": "14c3576c-48fc-4ba3-9886-5a994c32fd4b",
        "colab": {
          "base_uri": "https://localhost:8080/"
        }
      },
      "id": "ksSP63p8soIW",
      "execution_count": 18,
      "outputs": [
        {
          "output_type": "execute_result",
          "data": {
            "text/plain": [
              "tensor([[[[0.0741, 0.0741, 0.0741,  ..., 0.0741, 0.0741, 0.0741],\n",
              "          [0.0741, 0.0741, 0.0741,  ..., 0.0741, 0.0741, 0.0741],\n",
              "          [0.0741, 0.0741, 0.0741,  ..., 0.0741, 0.0741, 0.0741],\n",
              "          ...,\n",
              "          [0.0741, 0.0741, 0.0741,  ..., 0.0741, 0.0741, 0.0741],\n",
              "          [0.0741, 0.0741, 0.0741,  ..., 0.0741, 0.0741, 0.0741],\n",
              "          [0.0741, 0.0741, 0.0741,  ..., 0.0741, 0.0741, 0.0741]],\n",
              "\n",
              "         [[0.2052, 0.2052, 0.2052,  ..., 0.2052, 0.2052, 0.2052],\n",
              "          [0.2052, 0.2052, 0.2052,  ..., 0.2052, 0.2052, 0.2052],\n",
              "          [0.2052, 0.2052, 0.2052,  ..., 0.2052, 0.2052, 0.2052],\n",
              "          ...,\n",
              "          [0.2052, 0.2052, 0.2052,  ..., 0.2052, 0.2052, 0.2052],\n",
              "          [0.2052, 0.2052, 0.2052,  ..., 0.2052, 0.2052, 0.2052],\n",
              "          [0.2052, 0.2052, 0.2052,  ..., 0.2052, 0.2052, 0.2052]],\n",
              "\n",
              "         [[0.4265, 0.4265, 0.4265,  ..., 0.4265, 0.4265, 0.4265],\n",
              "          [0.4265, 0.4265, 0.4265,  ..., 0.4265, 0.4265, 0.4265],\n",
              "          [0.4265, 0.4265, 0.4265,  ..., 0.4265, 0.4265, 0.4265],\n",
              "          ...,\n",
              "          [0.4265, 0.4265, 0.4265,  ..., 0.4265, 0.4265, 0.4265],\n",
              "          [0.4265, 0.4265, 0.4265,  ..., 0.4265, 0.4265, 0.4265],\n",
              "          [0.4265, 0.4265, 0.4265,  ..., 0.4265, 0.4265, 0.4265]]],\n",
              "\n",
              "\n",
              "        [[[0.0741, 0.0741, 0.0741,  ..., 0.0741, 0.0741, 0.0741],\n",
              "          [0.0741, 0.0741, 0.0741,  ..., 0.0741, 0.0741, 0.0741],\n",
              "          [0.0741, 0.0741, 0.0741,  ..., 0.0741, 0.0741, 0.0741],\n",
              "          ...,\n",
              "          [0.0741, 0.0741, 0.0741,  ..., 0.0741, 0.0741, 0.0741],\n",
              "          [0.0741, 0.0741, 0.0741,  ..., 0.0741, 0.0741, 0.0741],\n",
              "          [0.0741, 0.0741, 0.0741,  ..., 0.0741, 0.0741, 0.0741]],\n",
              "\n",
              "         [[0.2052, 0.2052, 0.2052,  ..., 0.2052, 0.2052, 0.2052],\n",
              "          [0.2052, 0.2052, 0.2052,  ..., 0.2052, 0.2052, 0.2052],\n",
              "          [0.2052, 0.2052, 0.2052,  ..., 0.2052, 0.2052, 0.2052],\n",
              "          ...,\n",
              "          [0.2052, 0.2052, 0.2052,  ..., 0.2052, 0.2052, 0.2052],\n",
              "          [0.2052, 0.2052, 0.2052,  ..., 0.2052, 0.2052, 0.2052],\n",
              "          [0.2052, 0.2052, 0.2052,  ..., 0.2052, 0.2052, 0.2052]],\n",
              "\n",
              "         [[0.4265, 0.4265, 0.4265,  ..., 0.4265, 0.4265, 0.4265],\n",
              "          [0.4265, 0.4265, 0.4265,  ..., 0.4265, 0.4265, 0.4265],\n",
              "          [0.4265, 0.4265, 0.4265,  ..., 0.4265, 0.4265, 0.4265],\n",
              "          ...,\n",
              "          [0.4265, 0.4265, 0.4265,  ..., 0.4265, 0.4265, 0.4265],\n",
              "          [0.4265, 0.4265, 0.4265,  ..., 0.4265, 0.4265, 0.4265],\n",
              "          [0.4265, 0.4265, 0.4265,  ..., 0.4265, 0.4265, 0.4265]]],\n",
              "\n",
              "\n",
              "        [[[0.0741, 0.0741, 0.0741,  ..., 0.0741, 0.0741, 0.0741],\n",
              "          [0.0741, 0.0741, 0.0741,  ..., 0.0741, 0.0741, 0.0741],\n",
              "          [0.0741, 0.0741, 0.0741,  ..., 0.0741, 0.0741, 0.0741],\n",
              "          ...,\n",
              "          [0.0741, 0.0741, 0.0741,  ..., 0.0741, 0.0741, 0.0741],\n",
              "          [0.0741, 0.0741, 0.0741,  ..., 0.0741, 0.0741, 0.0741],\n",
              "          [0.0741, 0.0741, 0.0741,  ..., 0.0741, 0.0741, 0.0741]],\n",
              "\n",
              "         [[0.2052, 0.2052, 0.2052,  ..., 0.2052, 0.2052, 0.2052],\n",
              "          [0.2052, 0.2052, 0.2052,  ..., 0.2052, 0.2052, 0.2052],\n",
              "          [0.2052, 0.2052, 0.2052,  ..., 0.2052, 0.2052, 0.2052],\n",
              "          ...,\n",
              "          [0.2052, 0.2052, 0.2052,  ..., 0.2052, 0.2052, 0.2052],\n",
              "          [0.2052, 0.2052, 0.2052,  ..., 0.2052, 0.2052, 0.2052],\n",
              "          [0.2052, 0.2052, 0.2052,  ..., 0.2052, 0.2052, 0.2052]],\n",
              "\n",
              "         [[0.4265, 0.4265, 0.4265,  ..., 0.4265, 0.4265, 0.4265],\n",
              "          [0.4265, 0.4265, 0.4265,  ..., 0.4265, 0.4265, 0.4265],\n",
              "          [0.4265, 0.4265, 0.4265,  ..., 0.4265, 0.4265, 0.4265],\n",
              "          ...,\n",
              "          [0.4265, 0.4265, 0.4265,  ..., 0.4265, 0.4265, 0.4265],\n",
              "          [0.4265, 0.4265, 0.4265,  ..., 0.4265, 0.4265, 0.4265],\n",
              "          [0.4265, 0.4265, 0.4265,  ..., 0.4265, 0.4265, 0.4265]]],\n",
              "\n",
              "\n",
              "        ...,\n",
              "\n",
              "\n",
              "        [[[0.0741, 0.0741, 0.0741,  ..., 0.0741, 0.0741, 0.0741],\n",
              "          [0.0741, 0.0741, 0.0741,  ..., 0.0741, 0.0741, 0.0741],\n",
              "          [0.0741, 0.0741, 0.0741,  ..., 0.0741, 0.0741, 0.0741],\n",
              "          ...,\n",
              "          [0.0741, 0.0741, 0.0741,  ..., 0.0741, 0.0741, 0.0741],\n",
              "          [0.0741, 0.0741, 0.0741,  ..., 0.0741, 0.0741, 0.0741],\n",
              "          [0.0741, 0.0741, 0.0741,  ..., 0.0741, 0.0741, 0.0741]],\n",
              "\n",
              "         [[0.2052, 0.2052, 0.2052,  ..., 0.2052, 0.2052, 0.2052],\n",
              "          [0.2052, 0.2052, 0.2052,  ..., 0.2052, 0.2052, 0.2052],\n",
              "          [0.2052, 0.2052, 0.2052,  ..., 0.2052, 0.2052, 0.2052],\n",
              "          ...,\n",
              "          [0.2052, 0.2052, 0.2052,  ..., 0.2052, 0.2052, 0.2052],\n",
              "          [0.2052, 0.2052, 0.2052,  ..., 0.2052, 0.2052, 0.2052],\n",
              "          [0.2052, 0.2052, 0.2052,  ..., 0.2052, 0.2052, 0.2052]],\n",
              "\n",
              "         [[0.4265, 0.4265, 0.4265,  ..., 0.4265, 0.4265, 0.4265],\n",
              "          [0.4265, 0.4265, 0.4265,  ..., 0.4265, 0.4265, 0.4265],\n",
              "          [0.4265, 0.4265, 0.4265,  ..., 0.4265, 0.4265, 0.4265],\n",
              "          ...,\n",
              "          [0.4265, 0.4265, 0.4265,  ..., 0.4265, 0.4265, 0.4265],\n",
              "          [0.4265, 0.4265, 0.4265,  ..., 0.4265, 0.4265, 0.4265],\n",
              "          [0.4265, 0.4265, 0.4265,  ..., 0.4265, 0.4265, 0.4265]]],\n",
              "\n",
              "\n",
              "        [[[0.0741, 0.0741, 0.0741,  ..., 0.0741, 0.0741, 0.0741],\n",
              "          [0.0741, 0.0741, 0.0741,  ..., 0.0741, 0.0741, 0.0741],\n",
              "          [0.0741, 0.0741, 0.0741,  ..., 0.0741, 0.0741, 0.0741],\n",
              "          ...,\n",
              "          [0.0741, 0.0741, 0.0741,  ..., 0.0741, 0.0741, 0.0741],\n",
              "          [0.0741, 0.0741, 0.0741,  ..., 0.0741, 0.0741, 0.0741],\n",
              "          [0.0741, 0.0741, 0.0741,  ..., 0.0741, 0.0741, 0.0741]],\n",
              "\n",
              "         [[0.2052, 0.2052, 0.2052,  ..., 0.2052, 0.2052, 0.2052],\n",
              "          [0.2052, 0.2052, 0.2052,  ..., 0.2052, 0.2052, 0.2052],\n",
              "          [0.2052, 0.2052, 0.2052,  ..., 0.2052, 0.2052, 0.2052],\n",
              "          ...,\n",
              "          [0.2052, 0.2052, 0.2052,  ..., 0.2052, 0.2052, 0.2052],\n",
              "          [0.2052, 0.2052, 0.2052,  ..., 0.2052, 0.2052, 0.2052],\n",
              "          [0.2052, 0.2052, 0.2052,  ..., 0.2052, 0.2052, 0.2052]],\n",
              "\n",
              "         [[0.4265, 0.4265, 0.4265,  ..., 0.4265, 0.4265, 0.4265],\n",
              "          [0.4265, 0.4265, 0.4265,  ..., 0.4265, 0.4265, 0.4265],\n",
              "          [0.4265, 0.4265, 0.4265,  ..., 0.4265, 0.4265, 0.4265],\n",
              "          ...,\n",
              "          [0.4265, 0.4265, 0.4265,  ..., 0.4265, 0.4265, 0.4265],\n",
              "          [0.4265, 0.4265, 0.4265,  ..., 0.4265, 0.4265, 0.4265],\n",
              "          [0.4265, 0.4265, 0.4265,  ..., 0.4265, 0.4265, 0.4265]]],\n",
              "\n",
              "\n",
              "        [[[0.0741, 0.0741, 0.0741,  ..., 0.0741, 0.0741, 0.0741],\n",
              "          [0.0741, 0.0741, 0.0741,  ..., 0.0741, 0.0741, 0.0741],\n",
              "          [0.0741, 0.0741, 0.0741,  ..., 0.0741, 0.0741, 0.0741],\n",
              "          ...,\n",
              "          [0.0741, 0.0741, 0.0741,  ..., 0.0741, 0.0741, 0.0741],\n",
              "          [0.0741, 0.0741, 0.0741,  ..., 0.0741, 0.0741, 0.0741],\n",
              "          [0.0741, 0.0741, 0.0741,  ..., 0.0741, 0.0741, 0.0741]],\n",
              "\n",
              "         [[0.2052, 0.2052, 0.2052,  ..., 0.2052, 0.2052, 0.2052],\n",
              "          [0.2052, 0.2052, 0.2052,  ..., 0.2052, 0.2052, 0.2052],\n",
              "          [0.2052, 0.2052, 0.2052,  ..., 0.2052, 0.2052, 0.2052],\n",
              "          ...,\n",
              "          [0.2052, 0.2052, 0.2052,  ..., 0.2052, 0.2052, 0.2052],\n",
              "          [0.2052, 0.2052, 0.2052,  ..., 0.2052, 0.2052, 0.2052],\n",
              "          [0.2052, 0.2052, 0.2052,  ..., 0.2052, 0.2052, 0.2052]],\n",
              "\n",
              "         [[0.4265, 0.4265, 0.4265,  ..., 0.4265, 0.4265, 0.4265],\n",
              "          [0.4265, 0.4265, 0.4265,  ..., 0.4265, 0.4265, 0.4265],\n",
              "          [0.4265, 0.4265, 0.4265,  ..., 0.4265, 0.4265, 0.4265],\n",
              "          ...,\n",
              "          [0.4265, 0.4265, 0.4265,  ..., 0.4265, 0.4265, 0.4265],\n",
              "          [0.4265, 0.4265, 0.4265,  ..., 0.4265, 0.4265, 0.4265],\n",
              "          [0.4265, 0.4265, 0.4265,  ..., 0.4265, 0.4265, 0.4265]]]])"
            ]
          },
          "metadata": {},
          "execution_count": 18
        }
      ]
    },
    {
      "cell_type": "code",
      "source": [
        "model.eval()\n",
        "\n",
        "prediction_test = []\n",
        "\n",
        "with torch.no_grad():\n",
        "    for stimulus in ITdataloader_test:\n",
        "        inputs = stimulus.to(device)\n",
        "        outputs = model(inputs)\n",
        "        prediction_test.append(outputs.cpu())\n",
        "\n",
        "prediction_test = torch.cat(prediction_test, dim=0)\n",
        "prediction_test.shape"
      ],
      "metadata": {
        "id": "SoAkfooRsVuS",
        "outputId": "d82779ab-4611-4f81-eca2-2f1aa2c2baca",
        "colab": {
          "base_uri": "https://localhost:8080/"
        }
      },
      "id": "SoAkfooRsVuS",
      "execution_count": 23,
      "outputs": [
        {
          "output_type": "execute_result",
          "data": {
            "text/plain": [
              "torch.Size([320, 168])"
            ]
          },
          "metadata": {},
          "execution_count": 23
        }
      ]
    },
    {
      "cell_type": "code",
      "source": [
        "example_id = 4\n",
        "\n",
        "plt.figure(figsize= (10,8))\n",
        "plt.title(f'Neural activity prediction of neuron {example_id} in test set')\n",
        "plt.plot(prediction_test[:,example_id], label = \"Prediction\")\n",
        "plt.legend()\n",
        "plt.show()\n",
        "plt.figure()"
      ],
      "metadata": {
        "id": "DtvBmPJntKYy",
        "outputId": "a7933581-b780-4d95-a37d-b1808f762a44",
        "colab": {
          "base_uri": "https://localhost:8080/",
          "height": 735
        }
      },
      "id": "DtvBmPJntKYy",
      "execution_count": 24,
      "outputs": [
        {
          "output_type": "display_data",
          "data": {
            "text/plain": [
              "<Figure size 1000x800 with 1 Axes>"
            ],
            "image/png": "[encoded data removed]"
          },
          "metadata": {}
        },
        {
          "output_type": "execute_result",
          "data": {
            "text/plain": [
              "<Figure size 640x480 with 0 Axes>"
            ]
          },
          "metadata": {},
          "execution_count": 24
        },
        {
          "output_type": "display_data",
          "data": {
            "text/plain": [
              "<Figure size 640x480 with 0 Axes>"
            ]
          },
          "metadata": {}
        }
      ]
    }
  ],
  "metadata": {
    "kernelspec": {
      "display_name": "Python 3",
      "name": "python3"
    },
    "language_info": {
      "codemirror_mode": {
        "name": "ipython",
        "version": 3
      },
      "file_extension": ".py",
      "mimetype": "text/x-python",
      "name": "python",
      "nbconvert_exporter": "python",
      "pygments_lexer": "ipython3",
      "version": "3.11.6"
    },
    "colab": {
      "provenance": [],
      "gpuType": "L4",
      "include_colab_link": true
    },
    "accelerator": "GPU"
  },
  "nbformat": 4,
  "nbformat_minor": 5
}